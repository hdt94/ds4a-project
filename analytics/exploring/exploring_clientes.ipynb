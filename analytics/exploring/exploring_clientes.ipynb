{
 "cells": [
  {
   "cell_type": "code",
   "execution_count": 3,
   "metadata": {},
   "outputs": [],
   "source": [
    "import os\n",
    "\n",
    "import pandas as pd\n",
    "import numpy as np\n",
    "\n",
    "from dotenv import load_dotenv\n",
    "\n",
    "from core_ds4a_project import cleaning, columns as project_columns, datasets\n",
    "\n",
    "%load_ext autoreload\n",
    "%autoreload 1\n",
    "%aimport core_ds4a_project, core_ds4a_project.cleaning, core_ds4a_project.columns, core_ds4a_project.datasets\n",
    "\n",
    "pd.set_option(\"display.max_columns\", None)"
   ]
  },
  {
   "cell_type": "markdown",
   "metadata": {},
   "source": [
    "Environment variables:"
   ]
  },
  {
   "cell_type": "code",
   "execution_count": 4,
   "metadata": {},
   "outputs": [],
   "source": [
    "load_dotenv('envvars')\n",
    "\n",
    "ROOT_DATA_PATH = os.environ.get('ROOT_DATA_PATH')\n",
    "RAW_DATA_PATH = os.environ.get('RAW_DATA_PATH') or f'{ROOT_DATA_PATH}/raw'"
   ]
  },
  {
   "cell_type": "markdown",
   "metadata": {},
   "source": [
    "Reading data:"
   ]
  },
  {
   "cell_type": "code",
   "execution_count": 5,
   "metadata": {},
   "outputs": [],
   "source": [
    "(cartera_df, clientes_df, colocacion_df) = datasets.read_joining_datasets(dir_path=RAW_DATA_PATH)"
   ]
  },
  {
   "cell_type": "markdown",
   "metadata": {},
   "source": [
    "Draft:"
   ]
  },
  {
   "cell_type": "code",
   "execution_count": 6,
   "metadata": {},
   "outputs": [
    {
     "data": {
      "text/html": [
       "<div>\n",
       "<style scoped>\n",
       "    .dataframe tbody tr th:only-of-type {\n",
       "        vertical-align: middle;\n",
       "    }\n",
       "\n",
       "    .dataframe tbody tr th {\n",
       "        vertical-align: top;\n",
       "    }\n",
       "\n",
       "    .dataframe thead th {\n",
       "        text-align: right;\n",
       "    }\n",
       "</style>\n",
       "<table border=\"1\" class=\"dataframe\">\n",
       "  <thead>\n",
       "    <tr style=\"text-align: right;\">\n",
       "      <th></th>\n",
       "      <th>ACTIVIDAD</th>\n",
       "      <th>OCUPACION</th>\n",
       "      <th>OFICIO</th>\n",
       "      <th>PROFESION</th>\n",
       "      <th>ACTIVIDAD_CIIU_PRIMARIA</th>\n",
       "      <th>ACTIVIDAD_ECONOMICA</th>\n",
       "    </tr>\n",
       "  </thead>\n",
       "  <tbody>\n",
       "    <tr>\n",
       "      <th>0</th>\n",
       "      <td>Comercio |C</td>\n",
       "      <td>Independiente |2</td>\n",
       "      <td>NaN</td>\n",
       "      <td>NaN</td>\n",
       "      <td>NaN</td>\n",
       "      <td>Negocio o Microempresa |NM</td>\n",
       "    </tr>\n",
       "    <tr>\n",
       "      <th>1</th>\n",
       "      <td>Produccion |P</td>\n",
       "      <td>Independiente |2</td>\n",
       "      <td>GANADERIA</td>\n",
       "      <td>GANADERIA</td>\n",
       "      <td>NaN</td>\n",
       "      <td>Negocio o Microempresa |NM</td>\n",
       "    </tr>\n",
       "    <tr>\n",
       "      <th>2</th>\n",
       "      <td>Comercio |C</td>\n",
       "      <td>Independiente |2</td>\n",
       "      <td>NaN</td>\n",
       "      <td>ADMON DE NEGOCIOS</td>\n",
       "      <td>NaN</td>\n",
       "      <td>Negocio o Microempresa |NM</td>\n",
       "    </tr>\n",
       "    <tr>\n",
       "      <th>3</th>\n",
       "      <td>Produccion |P</td>\n",
       "      <td>Independiente |2</td>\n",
       "      <td>GANADERIA</td>\n",
       "      <td>GANADERIA</td>\n",
       "      <td>CRÍA DE GANADO BOVINO Y BUFALINO |141|A</td>\n",
       "      <td>Negocio o Microempresa |NM</td>\n",
       "    </tr>\n",
       "    <tr>\n",
       "      <th>4</th>\n",
       "      <td>Comercio |C</td>\n",
       "      <td>Independiente |2</td>\n",
       "      <td>ALMACEN Y TALLER DE MOTOS</td>\n",
       "      <td>ADMON DE EMPRESAS</td>\n",
       "      <td>NaN</td>\n",
       "      <td>Negocio o Microempresa |NM</td>\n",
       "    </tr>\n",
       "    <tr>\n",
       "      <th>...</th>\n",
       "      <td>...</td>\n",
       "      <td>...</td>\n",
       "      <td>...</td>\n",
       "      <td>...</td>\n",
       "      <td>...</td>\n",
       "      <td>...</td>\n",
       "    </tr>\n",
       "    <tr>\n",
       "      <th>22960</th>\n",
       "      <td>Servicios |S</td>\n",
       "      <td>Independiente |2</td>\n",
       "      <td>ARRENDAMIENTOS</td>\n",
       "      <td>ADMON DE NEGOCIOS</td>\n",
       "      <td>ALQUILER Y ARRENDAMIENTO DE OTROS EFECTOS PERS...</td>\n",
       "      <td>Negocio o Microempresa |NM</td>\n",
       "    </tr>\n",
       "    <tr>\n",
       "      <th>22961</th>\n",
       "      <td>Produccion |P</td>\n",
       "      <td>Independiente |2</td>\n",
       "      <td>GANADERIA CRIA Y CEBA Y CULTIV</td>\n",
       "      <td>AGRICULTURA</td>\n",
       "      <td>NaN</td>\n",
       "      <td>Negocio o Microempresa |NM</td>\n",
       "    </tr>\n",
       "    <tr>\n",
       "      <th>22962</th>\n",
       "      <td>Servicios |S</td>\n",
       "      <td>Independiente |2</td>\n",
       "      <td>TAXISTA</td>\n",
       "      <td>NaN</td>\n",
       "      <td>TRANSPORTE DE CARGA POR CARRETERA |4923|H</td>\n",
       "      <td>Negocio o Microempresa |NM</td>\n",
       "    </tr>\n",
       "    <tr>\n",
       "      <th>22963</th>\n",
       "      <td>Servicios |S</td>\n",
       "      <td>Independiente |2</td>\n",
       "      <td>SALON DE BELLEZA</td>\n",
       "      <td>NaN</td>\n",
       "      <td>PELUQUERÍA Y OTROS TRATAMIENTOS DE BELLEZA |96...</td>\n",
       "      <td>Negocio o Microempresa |NM</td>\n",
       "    </tr>\n",
       "    <tr>\n",
       "      <th>22964</th>\n",
       "      <td>Comercio |C</td>\n",
       "      <td>Independiente |2</td>\n",
       "      <td>CHATARRERIA</td>\n",
       "      <td>NaN</td>\n",
       "      <td>TRANSPORTE MIXTO |4922|H</td>\n",
       "      <td>Negocio o Microempresa |NM</td>\n",
       "    </tr>\n",
       "  </tbody>\n",
       "</table>\n",
       "<p>22965 rows × 6 columns</p>\n",
       "</div>"
      ],
      "text/plain": [
       "           ACTIVIDAD         OCUPACION                          OFICIO  \\\n",
       "0        Comercio |C  Independiente |2                             NaN   \n",
       "1      Produccion |P  Independiente |2                       GANADERIA   \n",
       "2        Comercio |C  Independiente |2                             NaN   \n",
       "3      Produccion |P  Independiente |2                       GANADERIA   \n",
       "4        Comercio |C  Independiente |2       ALMACEN Y TALLER DE MOTOS   \n",
       "...              ...               ...                             ...   \n",
       "22960   Servicios |S  Independiente |2                  ARRENDAMIENTOS   \n",
       "22961  Produccion |P  Independiente |2  GANADERIA CRIA Y CEBA Y CULTIV   \n",
       "22962   Servicios |S  Independiente |2                         TAXISTA   \n",
       "22963   Servicios |S  Independiente |2                SALON DE BELLEZA   \n",
       "22964    Comercio |C  Independiente |2                     CHATARRERIA   \n",
       "\n",
       "               PROFESION                            ACTIVIDAD_CIIU_PRIMARIA  \\\n",
       "0                    NaN                                                NaN   \n",
       "1              GANADERIA                                                NaN   \n",
       "2      ADMON DE NEGOCIOS                                                NaN   \n",
       "3              GANADERIA            CRÍA DE GANADO BOVINO Y BUFALINO |141|A   \n",
       "4      ADMON DE EMPRESAS                                                NaN   \n",
       "...                  ...                                                ...   \n",
       "22960  ADMON DE NEGOCIOS  ALQUILER Y ARRENDAMIENTO DE OTROS EFECTOS PERS...   \n",
       "22961        AGRICULTURA                                                NaN   \n",
       "22962                NaN          TRANSPORTE DE CARGA POR CARRETERA |4923|H   \n",
       "22963                NaN  PELUQUERÍA Y OTROS TRATAMIENTOS DE BELLEZA |96...   \n",
       "22964                NaN                           TRANSPORTE MIXTO |4922|H   \n",
       "\n",
       "              ACTIVIDAD_ECONOMICA  \n",
       "0      Negocio o Microempresa |NM  \n",
       "1      Negocio o Microempresa |NM  \n",
       "2      Negocio o Microempresa |NM  \n",
       "3      Negocio o Microempresa |NM  \n",
       "4      Negocio o Microempresa |NM  \n",
       "...                           ...  \n",
       "22960  Negocio o Microempresa |NM  \n",
       "22961  Negocio o Microempresa |NM  \n",
       "22962  Negocio o Microempresa |NM  \n",
       "22963  Negocio o Microempresa |NM  \n",
       "22964  Negocio o Microempresa |NM  \n",
       "\n",
       "[22965 rows x 6 columns]"
      ]
     },
     "execution_count": 6,
     "metadata": {},
     "output_type": "execute_result"
    }
   ],
   "source": [
    "clientes_df[['ACTIVIDAD', 'OCUPACION', 'OFICIO', 'PROFESION', 'ACTIVIDAD_CIIU_PRIMARIA', 'ACTIVIDAD_ECONOMICA']]"
   ]
  },
  {
   "cell_type": "code",
   "execution_count": 7,
   "metadata": {},
   "outputs": [
    {
     "data": {
      "text/plain": [
       "Produccion |P    10133\n",
       "Comercio |C       7762\n",
       "Servicios |S      5070\n",
       "Name: ACTIVIDAD, dtype: int64"
      ]
     },
     "execution_count": 7,
     "metadata": {},
     "output_type": "execute_result"
    }
   ],
   "source": [
    "clientes_df['ACTIVIDAD'].value_counts(dropna=False)"
   ]
  },
  {
   "cell_type": "code",
   "execution_count": 8,
   "metadata": {},
   "outputs": [],
   "source": [
    "ss = clientes_df['OFICIO'].value_counts()"
   ]
  },
  {
   "cell_type": "code",
   "execution_count": 9,
   "metadata": {},
   "outputs": [
    {
     "data": {
      "text/plain": [
       "GANADERIA                     1874\n",
       "AGRICULTOR                     979\n",
       "COMERCIANTE                    706\n",
       "AGRICULTURA                    654\n",
       "TIENDA                         582\n",
       "ARRENDADOR                     357\n",
       "ARRIENDOS                      241\n",
       "AVICOLA                        223\n",
       "VENTA POR CATALOGO             213\n",
       "PORCICULTURA                   190\n",
       "VENTA DE MERCANCIA             189\n",
       "014 Ganadería.                 179\n",
       "INDEPENDIENTE                  157\n",
       "VENTA DE BEBIDAS               154\n",
       "RESTAURANTE                    144\n",
       "AGROPECUARIO                   143\n",
       "TRANSPORTES                    140\n",
       "SALON DE BELLEZA               137\n",
       "0113 Cultivo de hortalizas     137\n",
       "VENTA DE COMIDAS RAPIDAS       120\n",
       "AVICULTURA                     117\n",
       "GANADERO                       114\n",
       "ARRENDAMIENTOS                 101\n",
       "Name: OFICIO, dtype: int64"
      ]
     },
     "execution_count": 9,
     "metadata": {},
     "output_type": "execute_result"
    }
   ],
   "source": [
    "ss[ss > 100]"
   ]
  },
  {
   "cell_type": "markdown",
   "metadata": {},
   "source": [
    "Adding worst and last calification:"
   ]
  },
  {
   "cell_type": "code",
   "execution_count": 10,
   "metadata": {},
   "outputs": [
    {
     "data": {
      "text/html": [
       "<div>\n",
       "<style scoped>\n",
       "    .dataframe tbody tr th:only-of-type {\n",
       "        vertical-align: middle;\n",
       "    }\n",
       "\n",
       "    .dataframe tbody tr th {\n",
       "        vertical-align: top;\n",
       "    }\n",
       "\n",
       "    .dataframe thead th {\n",
       "        text-align: right;\n",
       "    }\n",
       "</style>\n",
       "<table border=\"1\" class=\"dataframe\">\n",
       "  <thead>\n",
       "    <tr style=\"text-align: right;\">\n",
       "      <th></th>\n",
       "      <th>CLIENTE</th>\n",
       "      <th>CALIFICACION_PEOR</th>\n",
       "      <th>CALIFICACION_ULTIMA</th>\n",
       "    </tr>\n",
       "  </thead>\n",
       "  <tbody>\n",
       "    <tr>\n",
       "      <th>0</th>\n",
       "      <td>FA4940</td>\n",
       "      <td>A</td>\n",
       "      <td>A</td>\n",
       "    </tr>\n",
       "    <tr>\n",
       "      <th>1</th>\n",
       "      <td>FA1852</td>\n",
       "      <td>A</td>\n",
       "      <td>A</td>\n",
       "    </tr>\n",
       "    <tr>\n",
       "      <th>2</th>\n",
       "      <td>FA2274</td>\n",
       "      <td>A</td>\n",
       "      <td>A</td>\n",
       "    </tr>\n",
       "    <tr>\n",
       "      <th>3</th>\n",
       "      <td>FA22995</td>\n",
       "      <td>A</td>\n",
       "      <td>A</td>\n",
       "    </tr>\n",
       "    <tr>\n",
       "      <th>4</th>\n",
       "      <td>FA15635</td>\n",
       "      <td>A</td>\n",
       "      <td>A</td>\n",
       "    </tr>\n",
       "  </tbody>\n",
       "</table>\n",
       "</div>"
      ],
      "text/plain": [
       "   CLIENTE CALIFICACION_PEOR CALIFICACION_ULTIMA\n",
       "0   FA4940                 A                   A\n",
       "1   FA1852                 A                   A\n",
       "2   FA2274                 A                   A\n",
       "3  FA22995                 A                   A\n",
       "4  FA15635                 A                   A"
      ]
     },
     "execution_count": 10,
     "metadata": {},
     "output_type": "execute_result"
    }
   ],
   "source": [
    "calificacion_by_obligacion = cartera_df.groupby(by=['CLIENTE'])['CALIFICACION_CIERRE']\n",
    "\n",
    "calificacion_worst = calificacion_by_obligacion.max().rename('CALIFICACION_PEOR').reset_index()\n",
    "calificacion_best = calificacion_by_obligacion.min()\n",
    "\n",
    "cartera_df = cartera_df.sort_values(by='FECHA_CIERRE')\n",
    "calificacion_last = (\n",
    "    cartera_df[['CLIENTE', 'FECHA_CIERRE', 'CALIFICACION_CIERRE']]\n",
    "    .drop_duplicates(keep='last', subset=['CLIENTE'])\n",
    "    .drop(columns=['FECHA_CIERRE'])\n",
    "    .rename(columns={'CALIFICACION_CIERRE': 'CALIFICACION_ULTIMA'})\n",
    ")\n",
    "\n",
    "clientes_df = (\n",
    "    clientes_df\n",
    "    .merge(calificacion_worst, on='CLIENTE')\n",
    "    .merge(calificacion_last, on='CLIENTE')\n",
    ")\n",
    "\n",
    "clientes_df[['CLIENTE', 'CALIFICACION_PEOR', 'CALIFICACION_ULTIMA']].head()"
   ]
  },
  {
   "cell_type": "code",
   "execution_count": 11,
   "metadata": {},
   "outputs": [
    {
     "data": {
      "text/plain": [
       "(21364, 1601)"
      ]
     },
     "execution_count": 11,
     "metadata": {},
     "output_type": "execute_result"
    }
   ],
   "source": [
    "ind = (clientes_df['CALIFICACION_PEOR'] == clientes_df['CALIFICACION_ULTIMA'])\n",
    "\n",
    "ind.sum(), (~ind).sum()"
   ]
  },
  {
   "cell_type": "code",
   "execution_count": 12,
   "metadata": {},
   "outputs": [
    {
     "data": {
      "text/html": [
       "<div>\n",
       "<style scoped>\n",
       "    .dataframe tbody tr th:only-of-type {\n",
       "        vertical-align: middle;\n",
       "    }\n",
       "\n",
       "    .dataframe tbody tr th {\n",
       "        vertical-align: top;\n",
       "    }\n",
       "\n",
       "    .dataframe thead th {\n",
       "        text-align: right;\n",
       "    }\n",
       "</style>\n",
       "<table border=\"1\" class=\"dataframe\">\n",
       "  <thead>\n",
       "    <tr style=\"text-align: right;\">\n",
       "      <th></th>\n",
       "      <th>CLIENTE</th>\n",
       "      <th>CALIFICACION_PEOR</th>\n",
       "      <th>CALIFICACION_ULTIMA</th>\n",
       "    </tr>\n",
       "  </thead>\n",
       "  <tbody>\n",
       "    <tr>\n",
       "      <th>16</th>\n",
       "      <td>FA4476</td>\n",
       "      <td>E</td>\n",
       "      <td>A</td>\n",
       "    </tr>\n",
       "    <tr>\n",
       "      <th>38</th>\n",
       "      <td>FA11312</td>\n",
       "      <td>D</td>\n",
       "      <td>C</td>\n",
       "    </tr>\n",
       "    <tr>\n",
       "      <th>52</th>\n",
       "      <td>FA23510</td>\n",
       "      <td>C</td>\n",
       "      <td>B</td>\n",
       "    </tr>\n",
       "    <tr>\n",
       "      <th>63</th>\n",
       "      <td>FA5451</td>\n",
       "      <td>B</td>\n",
       "      <td>A</td>\n",
       "    </tr>\n",
       "    <tr>\n",
       "      <th>64</th>\n",
       "      <td>FA10073</td>\n",
       "      <td>C</td>\n",
       "      <td>B</td>\n",
       "    </tr>\n",
       "    <tr>\n",
       "      <th>...</th>\n",
       "      <td>...</td>\n",
       "      <td>...</td>\n",
       "      <td>...</td>\n",
       "    </tr>\n",
       "    <tr>\n",
       "      <th>20789</th>\n",
       "      <td>FA5686</td>\n",
       "      <td>B</td>\n",
       "      <td>A</td>\n",
       "    </tr>\n",
       "    <tr>\n",
       "      <th>20793</th>\n",
       "      <td>FA5662</td>\n",
       "      <td>B</td>\n",
       "      <td>A</td>\n",
       "    </tr>\n",
       "    <tr>\n",
       "      <th>20942</th>\n",
       "      <td>FA7654</td>\n",
       "      <td>B</td>\n",
       "      <td>A</td>\n",
       "    </tr>\n",
       "    <tr>\n",
       "      <th>20977</th>\n",
       "      <td>FA4879</td>\n",
       "      <td>B</td>\n",
       "      <td>A</td>\n",
       "    </tr>\n",
       "    <tr>\n",
       "      <th>21103</th>\n",
       "      <td>FA4225</td>\n",
       "      <td>B</td>\n",
       "      <td>A</td>\n",
       "    </tr>\n",
       "  </tbody>\n",
       "</table>\n",
       "<p>1601 rows × 3 columns</p>\n",
       "</div>"
      ],
      "text/plain": [
       "       CLIENTE CALIFICACION_PEOR CALIFICACION_ULTIMA\n",
       "16      FA4476                 E                   A\n",
       "38     FA11312                 D                   C\n",
       "52     FA23510                 C                   B\n",
       "63      FA5451                 B                   A\n",
       "64     FA10073                 C                   B\n",
       "...        ...               ...                 ...\n",
       "20789   FA5686                 B                   A\n",
       "20793   FA5662                 B                   A\n",
       "20942   FA7654                 B                   A\n",
       "20977   FA4879                 B                   A\n",
       "21103   FA4225                 B                   A\n",
       "\n",
       "[1601 rows x 3 columns]"
      ]
     },
     "execution_count": 12,
     "metadata": {},
     "output_type": "execute_result"
    }
   ],
   "source": [
    "clientes_df.loc[~ind, ['CLIENTE', 'CALIFICACION_PEOR', 'CALIFICACION_ULTIMA']]"
   ]
  },
  {
   "cell_type": "markdown",
   "metadata": {},
   "source": [
    "## Draft"
   ]
  },
  {
   "cell_type": "code",
   "execution_count": 13,
   "metadata": {},
   "outputs": [],
   "source": [
    "cliente_obligacion_df = (\n",
    "    cartera_df\n",
    "    [['CLIENTE', 'OBLIGACION']]\n",
    "    .drop_duplicates()\n",
    ")"
   ]
  },
  {
   "cell_type": "code",
   "execution_count": 14,
   "metadata": {},
   "outputs": [
    {
     "data": {
      "text/plain": [
       "CLIENTE\n",
       "FA1         1\n",
       "FA23412     1\n",
       "FA23414     1\n",
       "FA23415     1\n",
       "FA23416     1\n",
       "           ..\n",
       "FA18127    10\n",
       "FA11827    10\n",
       "FA19705    10\n",
       "FA21616    11\n",
       "FA767      11\n",
       "Length: 22965, dtype: int64"
      ]
     },
     "execution_count": 14,
     "metadata": {},
     "output_type": "execute_result"
    }
   ],
   "source": [
    "indices = cliente_obligacion_df.groupby('CLIENTE').size().sort_values()\n",
    "indices"
   ]
  },
  {
   "cell_type": "markdown",
   "metadata": {},
   "source": [
    "### CLIENTE == \"FA10006\""
   ]
  },
  {
   "cell_type": "code",
   "execution_count": 15,
   "metadata": {},
   "outputs": [
    {
     "data": {
      "text/html": [
       "<div>\n",
       "<style scoped>\n",
       "    .dataframe tbody tr th:only-of-type {\n",
       "        vertical-align: middle;\n",
       "    }\n",
       "\n",
       "    .dataframe tbody tr th {\n",
       "        vertical-align: top;\n",
       "    }\n",
       "\n",
       "    .dataframe thead th {\n",
       "        text-align: right;\n",
       "    }\n",
       "</style>\n",
       "<table border=\"1\" class=\"dataframe\">\n",
       "  <thead>\n",
       "    <tr style=\"text-align: right;\">\n",
       "      <th></th>\n",
       "      <th>CLIENTE</th>\n",
       "      <th>OBLIGACION</th>\n",
       "    </tr>\n",
       "  </thead>\n",
       "  <tbody>\n",
       "    <tr>\n",
       "      <th>353597</th>\n",
       "      <td>FA10006</td>\n",
       "      <td>172000536</td>\n",
       "    </tr>\n",
       "  </tbody>\n",
       "</table>\n",
       "</div>"
      ],
      "text/plain": [
       "        CLIENTE  OBLIGACION\n",
       "353597  FA10006   172000536"
      ]
     },
     "execution_count": 15,
     "metadata": {},
     "output_type": "execute_result"
    }
   ],
   "source": [
    "cliente_obligacion_df.query('CLIENTE == \"FA10006\"')"
   ]
  },
  {
   "cell_type": "code",
   "execution_count": 17,
   "metadata": {},
   "outputs": [],
   "source": [
    "# colocacion_df.query('OBLIGACION == 172000536')"
   ]
  },
  {
   "cell_type": "code",
   "execution_count": 20,
   "metadata": {},
   "outputs": [
    {
     "data": {
      "text/plain": [
       "'CLIENTE ANTIGUO. CON HISTORIAL DE CRÉDITO ENDEUDAMIENTO POR $11.000.000, COMPORTAMIENTO NORMAL, SE DEDICA A PRESTAR SUS SERVICIOS PROFESIONALES DE FOTOGRAFIA Y GRABACIÓN.SOLICITA FINANCIACIÓN PARA COM'"
      ]
     },
     "execution_count": 20,
     "metadata": {},
     "output_type": "execute_result"
    }
   ],
   "source": [
    "colocacion_df.query('OBLIGACION == 172000536')['OBSERVACIONES'].iloc[0]"
   ]
  },
  {
   "cell_type": "code",
   "execution_count": 21,
   "metadata": {},
   "outputs": [],
   "source": [
    "# cartera_df.query('OBLIGACION == 172000536').sort_values('FECHA_CIERRE')"
   ]
  },
  {
   "cell_type": "code",
   "execution_count": null,
   "metadata": {},
   "outputs": [],
   "source": []
  },
  {
   "cell_type": "markdown",
   "metadata": {},
   "source": [
    "### CLIENTE == \"FA21616\""
   ]
  },
  {
   "cell_type": "code",
   "execution_count": 22,
   "metadata": {},
   "outputs": [],
   "source": [
    "# clientes_df.query('CLIENTE == \"FA21616\"')"
   ]
  },
  {
   "cell_type": "code",
   "execution_count": 23,
   "metadata": {},
   "outputs": [
    {
     "data": {
      "text/plain": [
       "725       179000113\n",
       "155453    179000562\n",
       "754064    179001193\n",
       "650614    179001411\n",
       "514685    199001682\n",
       "657591    199002524\n",
       "465214    209003025\n",
       "779099    209003225\n",
       "191733    209003512\n",
       "539457    219000162\n",
       "478629    219000396\n",
       "Name: OBLIGACION, dtype: int64"
      ]
     },
     "execution_count": 23,
     "metadata": {},
     "output_type": "execute_result"
    }
   ],
   "source": [
    "obligaciones = cliente_obligacion_df.query('CLIENTE == \"FA21616\"')['OBLIGACION']\n",
    "obligaciones"
   ]
  },
  {
   "cell_type": "code",
   "execution_count": 24,
   "metadata": {},
   "outputs": [],
   "source": [
    "# colocacion_df.query('OBLIGACION.isin(@obligaciones)').sort_values(by='FECHA_SOLICITUD')"
   ]
  }
 ],
 "metadata": {
  "interpreter": {
   "hash": "e62fc67dd637b4c7ff00db15fa2b1157ee656ecdddc53845561c284caf069ea7"
  },
  "kernelspec": {
   "display_name": "Python 3.8.13 ('ds4a')",
   "language": "python",
   "name": "python3"
  },
  "language_info": {
   "codemirror_mode": {
    "name": "ipython",
    "version": 3
   },
   "file_extension": ".py",
   "mimetype": "text/x-python",
   "name": "python",
   "nbconvert_exporter": "python",
   "pygments_lexer": "ipython3",
   "version": "3.8.13"
  }
 },
 "nbformat": 4,
 "nbformat_minor": 4
}
