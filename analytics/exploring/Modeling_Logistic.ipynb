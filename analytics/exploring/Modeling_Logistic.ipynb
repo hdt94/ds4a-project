{
 "cells": [
  {
   "cell_type": "code",
   "execution_count": 1,
   "id": "9aabc507-6047-4714-bdd7-8275869d4c70",
   "metadata": {},
   "outputs": [],
   "source": [
    "# Importing required libraries.\n",
    "import pandas as pd\n",
    "import numpy as np\n",
    "import seaborn as sns             #visualisation\n",
    "import matplotlib.pyplot as plt   #visualisation\n",
    "import os\n",
    "\n",
    "%matplotlib inline \n",
    "sns.set(color_codes=True)\n",
    "\n",
    "from dotenv import load_dotenv\n",
    "from core_ds4a_project import cleaning, columns as project_columns, datasets\n",
    "\n",
    "%load_ext autoreload\n",
    "%autoreload 1\n",
    "%aimport core_ds4a_project, core_ds4a_project.cleaning, core_ds4a_project.columns, core_ds4a_project.datasets\n",
    "\n",
    "pd.set_option(\"display.max_columns\", None)"
   ]
  },
  {
   "cell_type": "code",
   "execution_count": 2,
   "id": "e95545db-2e63-4eef-bf66-714d30c462d1",
   "metadata": {},
   "outputs": [],
   "source": [
    "import folium\n",
    "import pingouin as pg\n",
    "from folium.plugins import HeatMap\n",
    "\n",
    "# ignore log(0) and divide by 0 warning\n",
    "np.seterr(divide='ignore');"
   ]
  },
  {
   "cell_type": "code",
   "execution_count": 3,
   "id": "1c6d52a0-4d63-442b-a17c-1759f10ce982",
   "metadata": {},
   "outputs": [],
   "source": [
    "import statsmodels.formula.api as sm"
   ]
  },
  {
   "cell_type": "markdown",
   "id": "d453a567-733a-4e45-9348-f6b5cf6f4307",
   "metadata": {},
   "source": [
    "Environment variables:"
   ]
  },
  {
   "cell_type": "code",
   "execution_count": 4,
   "id": "448633da-665f-4c7e-aa4f-bd27b717f075",
   "metadata": {},
   "outputs": [],
   "source": [
    "load_dotenv('envvars')\n",
    "\n",
    "ROOT_DATA_PATH = os.environ.get('ROOT_DATA_PATH')\n",
    "RAW_DATA_PATH = os.environ.get('RAW_DATA_PATH') or f'{ROOT_DATA_PATH}/raw'"
   ]
  },
  {
   "cell_type": "markdown",
   "id": "2b6a0cd2-9e0e-49c4-8112-3fe2542b3397",
   "metadata": {},
   "source": [
    "Reading data:"
   ]
  },
  {
   "cell_type": "code",
   "execution_count": 5,
   "id": "6b673e64-e559-47bf-98cd-b939a3bc72fc",
   "metadata": {},
   "outputs": [],
   "source": [
    "(cartera_df, clientes_df, colocacion_df) = datasets.read_joining_datasets(dir_path=RAW_DATA_PATH)"
   ]
  },
  {
   "cell_type": "markdown",
   "id": "5d3b9533-f8e5-4f10-bc9d-af180fec2157",
   "metadata": {},
   "source": [
    "Sorting CARTERA:"
   ]
  },
  {
   "cell_type": "code",
   "execution_count": 6,
   "id": "d24e0aa3-12bf-44ce-af18-19acc42db936",
   "metadata": {},
   "outputs": [],
   "source": [
    "cartera_df = cartera_df.sort_values(['FECHA_CIERRE', 'OBLIGACION'], ascending=True)\n",
    "ind_first = ~(cartera_df.duplicated(keep='first', subset='OBLIGACION'))\n",
    "ind_last = ~(cartera_df.duplicated(keep='last', subset='OBLIGACION'))"
   ]
  },
  {
   "cell_type": "markdown",
   "id": "462b9c9f-56f6-4a80-b7a9-f8a4e6de8b38",
   "metadata": {},
   "source": [
    "<H2>Data for Modeling:</H2>"
   ]
  },
  {
   "cell_type": "markdown",
   "id": "fd1cfb7b-bf2b-455e-be3f-8a72b10aee90",
   "metadata": {},
   "source": [
    "Lasts records by client:"
   ]
  },
  {
   "cell_type": "code",
   "execution_count": 7,
   "id": "da3ecda7-d190-4b72-b9ed-31ca0912203a",
   "metadata": {},
   "outputs": [
    {
     "data": {
      "text/plain": [
       "(38641, 32)"
      ]
     },
     "execution_count": 7,
     "metadata": {},
     "output_type": "execute_result"
    }
   ],
   "source": [
    "lasts_records_cartera_df = cartera_df[ind_last].copy()\n",
    "lasts_records_cartera_df.shape"
   ]
  },
  {
   "cell_type": "code",
   "execution_count": 8,
   "id": "e7031ba7-99ec-46e9-be89-b1a49092d1ca",
   "metadata": {},
   "outputs": [
    {
     "data": {
      "text/html": [
       "<div>\n",
       "<style scoped>\n",
       "    .dataframe tbody tr th:only-of-type {\n",
       "        vertical-align: middle;\n",
       "    }\n",
       "\n",
       "    .dataframe tbody tr th {\n",
       "        vertical-align: top;\n",
       "    }\n",
       "\n",
       "    .dataframe thead th {\n",
       "        text-align: right;\n",
       "    }\n",
       "</style>\n",
       "<table border=\"1\" class=\"dataframe\">\n",
       "  <thead>\n",
       "    <tr style=\"text-align: right;\">\n",
       "      <th></th>\n",
       "      <th>OBLIGACION</th>\n",
       "      <th>CLIENTE</th>\n",
       "      <th>TIPO_CLIENTE_COD</th>\n",
       "      <th>TIPO_CLIENTE</th>\n",
       "      <th>REGION</th>\n",
       "      <th>MUNICIPIO_CLIENTE</th>\n",
       "      <th>VALOR_CUOTA</th>\n",
       "      <th>CUOTAS_PACTADAS</th>\n",
       "      <th>CUOTAS_PENDIENTES</th>\n",
       "      <th>TASA_PERIODICA</th>\n",
       "      <th>PERIODICIDAD_PAGO</th>\n",
       "      <th>CALIFICACION_CIERRE</th>\n",
       "      <th>MODALIDAD</th>\n",
       "      <th>SALDO</th>\n",
       "      <th>VENCIDA</th>\n",
       "      <th>DIAS_VENCIDO</th>\n",
       "      <th>CAPITAL_VEN</th>\n",
       "      <th>INTERES_VEN</th>\n",
       "      <th>MORA</th>\n",
       "      <th>SEGURO_VIDA</th>\n",
       "      <th>COMISION</th>\n",
       "      <th>OTROS</th>\n",
       "      <th>FECHA_ULT_PAGO</th>\n",
       "      <th>FECHA_PROXIMO_PAGO</th>\n",
       "      <th>FECHA_VENCIMIENTO_FINAL</th>\n",
       "      <th>PORCENTAJE_PAGO</th>\n",
       "      <th>TIPO_CREDITO</th>\n",
       "      <th>SUCURSAL_COD</th>\n",
       "      <th>FECHA_CIERRE</th>\n",
       "      <th>SUCURSAL_REAL</th>\n",
       "      <th>MUNICIPIO_LAT</th>\n",
       "      <th>MUNICIPIO_LON</th>\n",
       "    </tr>\n",
       "  </thead>\n",
       "  <tbody>\n",
       "    <tr>\n",
       "      <th>210924</th>\n",
       "      <td>171000008</td>\n",
       "      <td>FA12448</td>\n",
       "      <td>1.0</td>\n",
       "      <td>Microfinanciero</td>\n",
       "      <td>REGION SUR</td>\n",
       "      <td>SABANALARGA</td>\n",
       "      <td>197638</td>\n",
       "      <td>12</td>\n",
       "      <td>12</td>\n",
       "      <td>2.64</td>\n",
       "      <td>Mensual</td>\n",
       "      <td>A</td>\n",
       "      <td>CREDITO RURAL INDIVIDUAL - GERMINA</td>\n",
       "      <td>2000000</td>\n",
       "      <td>-</td>\n",
       "      <td>0</td>\n",
       "      <td>-</td>\n",
       "      <td>-</td>\n",
       "      <td>-</td>\n",
       "      <td>-</td>\n",
       "      <td>0</td>\n",
       "      <td>0</td>\n",
       "      <td>2017-01-20</td>\n",
       "      <td>2017-02-19</td>\n",
       "      <td>2018-01-19</td>\n",
       "      <td>100.0</td>\n",
       "      <td>NUEVO</td>\n",
       "      <td>NaN</td>\n",
       "      <td>2017-01-31</td>\n",
       "      <td>MONTERREY</td>\n",
       "      <td>4.85430</td>\n",
       "      <td>-73.04003</td>\n",
       "    </tr>\n",
       "    <tr>\n",
       "      <th>210739</th>\n",
       "      <td>172000006</td>\n",
       "      <td>FA25175</td>\n",
       "      <td>1.0</td>\n",
       "      <td>Microfinanciero</td>\n",
       "      <td>REGION VILLAVICENCIO</td>\n",
       "      <td>VILLAVICENCIO</td>\n",
       "      <td>293974</td>\n",
       "      <td>36</td>\n",
       "      <td>36</td>\n",
       "      <td>2.94</td>\n",
       "      <td>Mensual</td>\n",
       "      <td>A</td>\n",
       "      <td>DESARROLLO EMPRESARIAL CRECER (PYME)</td>\n",
       "      <td>6000000</td>\n",
       "      <td>-</td>\n",
       "      <td>0</td>\n",
       "      <td>-</td>\n",
       "      <td>-</td>\n",
       "      <td>-</td>\n",
       "      <td>-</td>\n",
       "      <td>0</td>\n",
       "      <td>0</td>\n",
       "      <td>NaT</td>\n",
       "      <td>2017-02-19</td>\n",
       "      <td>2020-01-19</td>\n",
       "      <td>100.0</td>\n",
       "      <td>RETANQUEADO</td>\n",
       "      <td>NaN</td>\n",
       "      <td>2017-01-31</td>\n",
       "      <td>VILLAVICENCIO</td>\n",
       "      <td>4.14200</td>\n",
       "      <td>-73.62664</td>\n",
       "    </tr>\n",
       "    <tr>\n",
       "      <th>210815</th>\n",
       "      <td>173000013</td>\n",
       "      <td>FA23399</td>\n",
       "      <td>1.0</td>\n",
       "      <td>Microfinanciero</td>\n",
       "      <td>REGION META</td>\n",
       "      <td>ACACIAS</td>\n",
       "      <td>183032</td>\n",
       "      <td>24</td>\n",
       "      <td>24</td>\n",
       "      <td>2.94</td>\n",
       "      <td>Mensual</td>\n",
       "      <td>A</td>\n",
       "      <td>DESARROLLO EMPRESARIAL CRECER (PYME)</td>\n",
       "      <td>2950000</td>\n",
       "      <td>-</td>\n",
       "      <td>0</td>\n",
       "      <td>-</td>\n",
       "      <td>-</td>\n",
       "      <td>-</td>\n",
       "      <td>-</td>\n",
       "      <td>0</td>\n",
       "      <td>0</td>\n",
       "      <td>NaT</td>\n",
       "      <td>2017-02-27</td>\n",
       "      <td>2019-01-27</td>\n",
       "      <td>100.0</td>\n",
       "      <td>NUEVO</td>\n",
       "      <td>NaN</td>\n",
       "      <td>2017-01-31</td>\n",
       "      <td>ACACIAS</td>\n",
       "      <td>3.98695</td>\n",
       "      <td>-73.75797</td>\n",
       "    </tr>\n",
       "    <tr>\n",
       "      <th>210887</th>\n",
       "      <td>176000015</td>\n",
       "      <td>FA19928</td>\n",
       "      <td>1.0</td>\n",
       "      <td>Microfinanciero</td>\n",
       "      <td>REGION META</td>\n",
       "      <td>GRANADA</td>\n",
       "      <td>179930</td>\n",
       "      <td>24</td>\n",
       "      <td>24</td>\n",
       "      <td>2.94</td>\n",
       "      <td>Mensual</td>\n",
       "      <td>A</td>\n",
       "      <td>DESARROLLO EMPRESARIAL CRECER (PYME)</td>\n",
       "      <td>2900000</td>\n",
       "      <td>-</td>\n",
       "      <td>0</td>\n",
       "      <td>-</td>\n",
       "      <td>-</td>\n",
       "      <td>-</td>\n",
       "      <td>-</td>\n",
       "      <td>0</td>\n",
       "      <td>0</td>\n",
       "      <td>NaT</td>\n",
       "      <td>2017-02-28</td>\n",
       "      <td>2019-01-31</td>\n",
       "      <td>100.0</td>\n",
       "      <td>NUEVO</td>\n",
       "      <td>NaN</td>\n",
       "      <td>2017-01-31</td>\n",
       "      <td>GRANADA</td>\n",
       "      <td>3.54625</td>\n",
       "      <td>-73.70687</td>\n",
       "    </tr>\n",
       "    <tr>\n",
       "      <th>210843</th>\n",
       "      <td>177000008</td>\n",
       "      <td>FA227</td>\n",
       "      <td>1.0</td>\n",
       "      <td>Microfinanciero</td>\n",
       "      <td>REGION SUR</td>\n",
       "      <td>MONTERREY</td>\n",
       "      <td>103305</td>\n",
       "      <td>12</td>\n",
       "      <td>12</td>\n",
       "      <td>2.94</td>\n",
       "      <td>Mensual</td>\n",
       "      <td>A</td>\n",
       "      <td>DESARROLLO EMPRESARIAL CRECER (PYME)</td>\n",
       "      <td>1000000</td>\n",
       "      <td>-</td>\n",
       "      <td>0</td>\n",
       "      <td>-</td>\n",
       "      <td>-</td>\n",
       "      <td>-</td>\n",
       "      <td>-</td>\n",
       "      <td>0</td>\n",
       "      <td>0</td>\n",
       "      <td>NaT</td>\n",
       "      <td>2017-02-28</td>\n",
       "      <td>2018-01-31</td>\n",
       "      <td>100.0</td>\n",
       "      <td>NUEVO</td>\n",
       "      <td>NaN</td>\n",
       "      <td>2017-01-31</td>\n",
       "      <td>MONTERREY</td>\n",
       "      <td>4.87802</td>\n",
       "      <td>-72.89575</td>\n",
       "    </tr>\n",
       "  </tbody>\n",
       "</table>\n",
       "</div>"
      ],
      "text/plain": [
       "        OBLIGACION  CLIENTE  TIPO_CLIENTE_COD     TIPO_CLIENTE  \\\n",
       "210924   171000008  FA12448               1.0  Microfinanciero   \n",
       "210739   172000006  FA25175               1.0  Microfinanciero   \n",
       "210815   173000013  FA23399               1.0  Microfinanciero   \n",
       "210887   176000015  FA19928               1.0  Microfinanciero   \n",
       "210843   177000008    FA227               1.0  Microfinanciero   \n",
       "\n",
       "                      REGION MUNICIPIO_CLIENTE VALOR_CUOTA  CUOTAS_PACTADAS  \\\n",
       "210924            REGION SUR       SABANALARGA      197638               12   \n",
       "210739  REGION VILLAVICENCIO     VILLAVICENCIO      293974               36   \n",
       "210815           REGION META           ACACIAS      183032               24   \n",
       "210887           REGION META           GRANADA      179930               24   \n",
       "210843            REGION SUR         MONTERREY      103305               12   \n",
       "\n",
       "        CUOTAS_PENDIENTES  TASA_PERIODICA PERIODICIDAD_PAGO  \\\n",
       "210924                 12            2.64           Mensual   \n",
       "210739                 36            2.94           Mensual   \n",
       "210815                 24            2.94           Mensual   \n",
       "210887                 24            2.94           Mensual   \n",
       "210843                 12            2.94           Mensual   \n",
       "\n",
       "       CALIFICACION_CIERRE                             MODALIDAD    SALDO  \\\n",
       "210924                   A    CREDITO RURAL INDIVIDUAL - GERMINA  2000000   \n",
       "210739                   A  DESARROLLO EMPRESARIAL CRECER (PYME)  6000000   \n",
       "210815                   A  DESARROLLO EMPRESARIAL CRECER (PYME)  2950000   \n",
       "210887                   A  DESARROLLO EMPRESARIAL CRECER (PYME)  2900000   \n",
       "210843                   A  DESARROLLO EMPRESARIAL CRECER (PYME)  1000000   \n",
       "\n",
       "       VENCIDA  DIAS_VENCIDO CAPITAL_VEN INTERES_VEN   MORA SEGURO_VIDA  \\\n",
       "210924    -                0        -           -      -           -      \n",
       "210739    -                0        -           -      -           -      \n",
       "210815    -                0        -           -      -           -      \n",
       "210887    -                0        -           -      -           -      \n",
       "210843    -                0        -           -      -           -      \n",
       "\n",
       "       COMISION OTROS FECHA_ULT_PAGO FECHA_PROXIMO_PAGO  \\\n",
       "210924        0     0     2017-01-20         2017-02-19   \n",
       "210739        0     0            NaT         2017-02-19   \n",
       "210815        0     0            NaT         2017-02-27   \n",
       "210887        0     0            NaT         2017-02-28   \n",
       "210843        0     0            NaT         2017-02-28   \n",
       "\n",
       "       FECHA_VENCIMIENTO_FINAL  PORCENTAJE_PAGO TIPO_CREDITO SUCURSAL_COD  \\\n",
       "210924              2018-01-19            100.0        NUEVO          NaN   \n",
       "210739              2020-01-19            100.0  RETANQUEADO          NaN   \n",
       "210815              2019-01-27            100.0        NUEVO          NaN   \n",
       "210887              2019-01-31            100.0        NUEVO          NaN   \n",
       "210843              2018-01-31            100.0        NUEVO          NaN   \n",
       "\n",
       "       FECHA_CIERRE  SUCURSAL_REAL  MUNICIPIO_LAT  MUNICIPIO_LON  \n",
       "210924   2017-01-31      MONTERREY        4.85430      -73.04003  \n",
       "210739   2017-01-31  VILLAVICENCIO        4.14200      -73.62664  \n",
       "210815   2017-01-31        ACACIAS        3.98695      -73.75797  \n",
       "210887   2017-01-31        GRANADA        3.54625      -73.70687  \n",
       "210843   2017-01-31      MONTERREY        4.87802      -72.89575  "
      ]
     },
     "execution_count": 8,
     "metadata": {},
     "output_type": "execute_result"
    }
   ],
   "source": [
    "lasts_records_cartera_df.head(5)"
   ]
  },
  {
   "cell_type": "markdown",
   "id": "d64e9528-62fb-4e75-acff-6e862b49bc76",
   "metadata": {},
   "source": [
    "Creditos y Clientes con calificacion 'A'"
   ]
  },
  {
   "cell_type": "code",
   "execution_count": 9,
   "id": "a6b51ec8-3b84-4723-9458-54a1c339872a",
   "metadata": {},
   "outputs": [
    {
     "data": {
      "text/plain": [
       "(33021, 19070)"
      ]
     },
     "execution_count": 9,
     "metadata": {},
     "output_type": "execute_result"
    }
   ],
   "source": [
    "idx = lasts_records_cartera_df['CALIFICACION_CIERRE'] == 'A'\n",
    "len(lasts_records_cartera_df[idx]), len(lasts_records_cartera_df[idx]['CLIENTE'].unique())"
   ]
  },
  {
   "cell_type": "markdown",
   "id": "65ed3cb6-a56e-4033-968b-4e6fdb9853ee",
   "metadata": {},
   "source": [
    "Creditos y Clientes con calificacion diferente de 'A'"
   ]
  },
  {
   "cell_type": "code",
   "execution_count": 10,
   "id": "e534c387-1090-4a1c-a3c2-729070a494d6",
   "metadata": {},
   "outputs": [
    {
     "data": {
      "text/plain": [
       "(5620, 5487)"
      ]
     },
     "execution_count": 10,
     "metadata": {},
     "output_type": "execute_result"
    }
   ],
   "source": [
    "idx = lasts_records_cartera_df['CALIFICACION_CIERRE'] != 'A'\n",
    "len(lasts_records_cartera_df[idx]), len(lasts_records_cartera_df[idx]['CLIENTE'].unique())"
   ]
  },
  {
   "cell_type": "markdown",
   "id": "4e99e8d9-d4f7-473c-87e6-f2d6249f0fab",
   "metadata": {},
   "source": [
    "Creditos con variable indicando la peor calificación durante la vigencia del mismo: "
   ]
  },
  {
   "cell_type": "code",
   "execution_count": 11,
   "id": "cb7bf392-578f-4081-b1c8-d7c0c198615a",
   "metadata": {},
   "outputs": [],
   "source": [
    "calificacion_by_obligacion = cartera_df.groupby(by=['OBLIGACION'])['CALIFICACION_CIERRE']\n",
    "calificacion_worst = calificacion_by_obligacion.max().rename('CALIFICACION_PEOR')\n",
    "colocacion_df = colocacion_df.merge(\n",
    "  calificacion_worst.reset_index(),\n",
    "  on=\"OBLIGACION\"\n",
    ")"
   ]
  },
  {
   "cell_type": "code",
   "execution_count": 12,
   "id": "a055e8d8-c10b-4d78-8807-ac118a3be390",
   "metadata": {},
   "outputs": [],
   "source": [
    "colocacion_df['IDEAL'] = colocacion_df['CALIFICACION_PEOR'] == 'A'"
   ]
  },
  {
   "cell_type": "code",
   "execution_count": 13,
   "id": "f22b709f-df9c-41f4-9b9e-e348a078e025",
   "metadata": {},
   "outputs": [
    {
     "data": {
      "text/html": [
       "<div>\n",
       "<style scoped>\n",
       "    .dataframe tbody tr th:only-of-type {\n",
       "        vertical-align: middle;\n",
       "    }\n",
       "\n",
       "    .dataframe tbody tr th {\n",
       "        vertical-align: top;\n",
       "    }\n",
       "\n",
       "    .dataframe thead th {\n",
       "        text-align: right;\n",
       "    }\n",
       "</style>\n",
       "<table border=\"1\" class=\"dataframe\">\n",
       "  <thead>\n",
       "    <tr style=\"text-align: right;\">\n",
       "      <th></th>\n",
       "      <th>OBLIGACION</th>\n",
       "      <th>CALIFICACION_PEOR</th>\n",
       "      <th>IDEAL</th>\n",
       "    </tr>\n",
       "  </thead>\n",
       "  <tbody>\n",
       "    <tr>\n",
       "      <th>0</th>\n",
       "      <td>219000654</td>\n",
       "      <td>A</td>\n",
       "      <td>True</td>\n",
       "    </tr>\n",
       "    <tr>\n",
       "      <th>1</th>\n",
       "      <td>197002188</td>\n",
       "      <td>A</td>\n",
       "      <td>True</td>\n",
       "    </tr>\n",
       "    <tr>\n",
       "      <th>2</th>\n",
       "      <td>218000181</td>\n",
       "      <td>A</td>\n",
       "      <td>True</td>\n",
       "    </tr>\n",
       "    <tr>\n",
       "      <th>3</th>\n",
       "      <td>218000180</td>\n",
       "      <td>A</td>\n",
       "      <td>True</td>\n",
       "    </tr>\n",
       "    <tr>\n",
       "      <th>4</th>\n",
       "      <td>2112000110</td>\n",
       "      <td>A</td>\n",
       "      <td>True</td>\n",
       "    </tr>\n",
       "    <tr>\n",
       "      <th>...</th>\n",
       "      <td>...</td>\n",
       "      <td>...</td>\n",
       "      <td>...</td>\n",
       "    </tr>\n",
       "    <tr>\n",
       "      <th>38636</th>\n",
       "      <td>178000003</td>\n",
       "      <td>B</td>\n",
       "      <td>False</td>\n",
       "    </tr>\n",
       "    <tr>\n",
       "      <th>38637</th>\n",
       "      <td>1710000001</td>\n",
       "      <td>C</td>\n",
       "      <td>False</td>\n",
       "    </tr>\n",
       "    <tr>\n",
       "      <th>38638</th>\n",
       "      <td>178000001</td>\n",
       "      <td>A</td>\n",
       "      <td>True</td>\n",
       "    </tr>\n",
       "    <tr>\n",
       "      <th>38639</th>\n",
       "      <td>171000001</td>\n",
       "      <td>A</td>\n",
       "      <td>True</td>\n",
       "    </tr>\n",
       "    <tr>\n",
       "      <th>38640</th>\n",
       "      <td>171000002</td>\n",
       "      <td>A</td>\n",
       "      <td>True</td>\n",
       "    </tr>\n",
       "  </tbody>\n",
       "</table>\n",
       "<p>38641 rows × 3 columns</p>\n",
       "</div>"
      ],
      "text/plain": [
       "       OBLIGACION CALIFICACION_PEOR  IDEAL\n",
       "0       219000654                 A   True\n",
       "1       197002188                 A   True\n",
       "2       218000181                 A   True\n",
       "3       218000180                 A   True\n",
       "4      2112000110                 A   True\n",
       "...           ...               ...    ...\n",
       "38636   178000003                 B  False\n",
       "38637  1710000001                 C  False\n",
       "38638   178000001                 A   True\n",
       "38639   171000001                 A   True\n",
       "38640   171000002                 A   True\n",
       "\n",
       "[38641 rows x 3 columns]"
      ]
     },
     "execution_count": 13,
     "metadata": {},
     "output_type": "execute_result"
    }
   ],
   "source": [
    "colocacion_df[['OBLIGACION', 'CALIFICACION_PEOR', 'IDEAL']]"
   ]
  },
  {
   "cell_type": "code",
   "execution_count": 14,
   "id": "80e441fe-3d56-40fb-877b-29f9fec90c65",
   "metadata": {},
   "outputs": [
    {
     "data": {
      "text/plain": [
       "(38641, 59)"
      ]
     },
     "execution_count": 14,
     "metadata": {},
     "output_type": "execute_result"
    }
   ],
   "source": [
    "model1_df = pd.merge(lasts_records_cartera_df, colocacion_df, how='left', on=\"OBLIGACION\", suffixes=('_left', '_right'))\n",
    "model1_df.shape"
   ]
  },
  {
   "cell_type": "code",
   "execution_count": 15,
   "id": "3fe53fb2-bf98-4599-ad19-1388f617cd87",
   "metadata": {},
   "outputs": [],
   "source": [
    "model1_df = model1_df.rename(columns={'CLIENTE_left':'CLIENTE',\n",
    "                                      'VALOR_CUOTA_left':'VALOR_CUOTA'\n",
    "                                     })"
   ]
  },
  {
   "cell_type": "code",
   "execution_count": 16,
   "id": "a0d7f487-c867-4ba0-8a85-53e1ee383e23",
   "metadata": {},
   "outputs": [
    {
     "data": {
      "text/plain": [
       "(38641, 85)"
      ]
     },
     "execution_count": 16,
     "metadata": {},
     "output_type": "execute_result"
    }
   ],
   "source": [
    "model_df = pd.merge(model1_df, clientes_df, how='left', on=\"CLIENTE\", suffixes=('_left_model', '_right_client'))\n",
    "model_df.shape"
   ]
  },
  {
   "cell_type": "markdown",
   "id": "451bbc76-8591-4019-a28f-2b7bfe014c9a",
   "metadata": {},
   "source": [
    "<H2>Feature Engineer</H2>"
   ]
  },
  {
   "cell_type": "code",
   "execution_count": 17,
   "id": "973de191-bb61-46d0-88e3-dba2c0ba2718",
   "metadata": {},
   "outputs": [
    {
     "data": {
      "text/plain": [
       "array([nan, True], dtype=object)"
      ]
     },
     "execution_count": 17,
     "metadata": {},
     "output_type": "execute_result"
    }
   ],
   "source": [
    "model_df['DEFAULT'].unique()"
   ]
  },
  {
   "cell_type": "code",
   "execution_count": 18,
   "id": "14bf4399-4d68-4cf3-b96d-84f5be3b2cd3",
   "metadata": {},
   "outputs": [
    {
     "data": {
      "text/plain": [
       "array([0, 1], dtype=int64)"
      ]
     },
     "execution_count": 18,
     "metadata": {},
     "output_type": "execute_result"
    }
   ],
   "source": [
    "idx = model_df[\"DEFAULT\"] != True\n",
    "model_df.loc[idx,'DEFAULT'] = 0\n",
    "\n",
    "idx = model_df[\"DEFAULT\"] == True\n",
    "model_df.loc[idx,'DEFAULT'] = 1\n",
    "\n",
    "model_df['DEFAULT'] = model_df['DEFAULT'].astype('int64')\n",
    "\n",
    "model_df['DEFAULT'].unique()"
   ]
  },
  {
   "cell_type": "code",
   "execution_count": 19,
   "id": "209896d9-2ae5-443c-95d3-486d619c909d",
   "metadata": {},
   "outputs": [
    {
     "data": {
      "text/plain": [
       "array([1, 0], dtype=int64)"
      ]
     },
     "execution_count": 19,
     "metadata": {},
     "output_type": "execute_result"
    }
   ],
   "source": [
    "idx = model_df[\"IDEAL\"] != True\n",
    "model_df.loc[idx,'IDEAL'] = 0\n",
    "\n",
    "idx = model_df[\"IDEAL\"] == True\n",
    "model_df.loc[idx,'IDEAL'] = 1\n",
    "\n",
    "model_df['IDEAL'] = model_df['IDEAL'].astype('int64')\n",
    "\n",
    "model_df['IDEAL'].unique()"
   ]
  },
  {
   "cell_type": "code",
   "execution_count": 20,
   "id": "b725ab5f-2242-4a9b-bbfb-ce4b190647dc",
   "metadata": {},
   "outputs": [
    {
     "name": "stdout",
     "output_type": "stream",
     "text": [
      "<class 'pandas.core.frame.DataFrame'>\n",
      "Int64Index: 38641 entries, 0 to 38640\n",
      "Data columns (total 85 columns):\n",
      " #   Column                   Non-Null Count  Dtype         \n",
      "---  ------                   --------------  -----         \n",
      " 0   OBLIGACION               38641 non-null  int32         \n",
      " 1   CLIENTE                  38641 non-null  object        \n",
      " 2   TIPO_CLIENTE_COD         38641 non-null  float64       \n",
      " 3   TIPO_CLIENTE             38641 non-null  object        \n",
      " 4   REGION                   38641 non-null  object        \n",
      " 5   MUNICIPIO_CLIENTE        38641 non-null  object        \n",
      " 6   VALOR_CUOTA              38641 non-null  object        \n",
      " 7   CUOTAS_PACTADAS          38641 non-null  int32         \n",
      " 8   CUOTAS_PENDIENTES        38641 non-null  int32         \n",
      " 9   TASA_PERIODICA           38641 non-null  float64       \n",
      " 10  PERIODICIDAD_PAGO_left   38641 non-null  category      \n",
      " 11  CALIFICACION_CIERRE      38641 non-null  object        \n",
      " 12  MODALIDAD_left           38641 non-null  object        \n",
      " 13  SALDO                    38641 non-null  int64         \n",
      " 14  VENCIDA                  38641 non-null  object        \n",
      " 15  DIAS_VENCIDO             38641 non-null  int32         \n",
      " 16  CAPITAL_VEN              38641 non-null  object        \n",
      " 17  INTERES_VEN              38641 non-null  object        \n",
      " 18  MORA                     38641 non-null  object        \n",
      " 19  SEGURO_VIDA              38641 non-null  object        \n",
      " 20  COMISION                 38641 non-null  object        \n",
      " 21  OTROS                    38641 non-null  object        \n",
      " 22  FECHA_ULT_PAGO           35607 non-null  datetime64[ns]\n",
      " 23  FECHA_PROXIMO_PAGO       38641 non-null  datetime64[ns]\n",
      " 24  FECHA_VENCIMIENTO_FINAL  38641 non-null  datetime64[ns]\n",
      " 25  PORCENTAJE_PAGO          38641 non-null  float64       \n",
      " 26  TIPO_CREDITO_left        38641 non-null  object        \n",
      " 27  SUCURSAL_COD             38633 non-null  category      \n",
      " 28  FECHA_CIERRE             38641 non-null  datetime64[ns]\n",
      " 29  SUCURSAL_REAL            38629 non-null  object        \n",
      " 30  MUNICIPIO_LAT            38553 non-null  float64       \n",
      " 31  MUNICIPIO_LON            38553 non-null  float64       \n",
      " 32  TASA_ANUAL               38641 non-null  float64       \n",
      " 33  MONTO                    38641 non-null  int64         \n",
      " 34  VALOR_REFINANCIADO       38641 non-null  int64         \n",
      " 35  VALOR_DESEMBOLSADO       38641 non-null  int64         \n",
      " 36  FECHA_SOLICITUD          38641 non-null  datetime64[ns]\n",
      " 37  FECHA_APROBA             38641 non-null  datetime64[ns]\n",
      " 38  FECHA_DESEMBOLSO         38641 non-null  datetime64[ns]\n",
      " 39  COD_LINEA                38641 non-null  object        \n",
      " 40  LINEA                    38641 non-null  object        \n",
      " 41  COD_DESTINACION          38641 non-null  object        \n",
      " 42  DESTINACION              38641 non-null  object        \n",
      " 43  OBSERVACIONES            37997 non-null  object        \n",
      " 44  VALOR_CUOTA_right        38641 non-null  object        \n",
      " 45  NRO_CUOTAS               38641 non-null  int64         \n",
      " 46  FECHA_PAGO               38641 non-null  datetime64[ns]\n",
      " 47  PERIODICIDAD_PAGO_right  38641 non-null  object        \n",
      " 48  COD_MODALIDAD            38641 non-null  object        \n",
      " 49  MODALIDAD_right          38641 non-null  object        \n",
      " 50  ANO_CONTABILIZA          38641 non-null  object        \n",
      " 51  CODEUDOR                 38641 non-null  object        \n",
      " 52  DIAS_CICLO_CREDITO       38641 non-null  object        \n",
      " 53  CREDITOS_VIGENTES        18754 non-null  float64       \n",
      " 54  TIPO_CREDITO_right       38641 non-null  object        \n",
      " 55  CLIENTE_right            38641 non-null  object        \n",
      " 56  DEFAULT                  38641 non-null  int64         \n",
      " 57  CALIFICACION_PEOR        38641 non-null  object        \n",
      " 58  IDEAL                    38641 non-null  int64         \n",
      " 59  EDAD                     38641 non-null  int32         \n",
      " 60  ESTRATO                  38587 non-null  float64       \n",
      " 61  SUCURSAL                 38640 non-null  object        \n",
      " 62  TIPO_DE_CLIENTE          38641 non-null  category      \n",
      " 63  SUELDO_BASICO            38641 non-null  float64       \n",
      " 64  ACTIVIDAD_ECONOMICA      38390 non-null  object        \n",
      " 65  TIPO_DE_IDENTIFICACION   38641 non-null  object        \n",
      " 66  OFICIO                   34617 non-null  object        \n",
      " 67  MUJER_CABEZA             38641 non-null  category      \n",
      " 68  RESPONSABLE_DE_HOGAR     38151 non-null  category      \n",
      " 69  OCUPACION                38417 non-null  object        \n",
      " 70  ACTIVIDAD_CIIU_PRIMARIA  19662 non-null  object        \n",
      " 71  ESTADO_CIVIL_COD         38543 non-null  category      \n",
      " 72  GENERO_COD               38641 non-null  category      \n",
      " 73  NIVEL_ESTUDIOS_COD       38629 non-null  category      \n",
      " 74  PROFESION_COD            25918 non-null  category      \n",
      " 75  TIPO_UBICACION_COD       38641 non-null  category      \n",
      " 76  TIPO_VIVIENDA_COD        38525 non-null  category      \n",
      " 77  PROFESION                15534 non-null  object        \n",
      " 78  TIPO_UBICACION           38480 non-null  object        \n",
      " 79  FECHA_NACIMIENTO         38610 non-null  datetime64[ns]\n",
      " 80  GENERO                   38610 non-null  object        \n",
      " 81  NIVEL_ESTUDIOS           38138 non-null  object        \n",
      " 82  ESTADO_CIVIL             37765 non-null  object        \n",
      " 83  TIPO_VIVIENDA            37181 non-null  category      \n",
      " 84  ACTIVIDAD                38641 non-null  object        \n",
      "dtypes: category(12), datetime64[ns](9), float64(9), int32(5), int64(7), object(43)\n",
      "memory usage: 21.5+ MB\n"
     ]
    }
   ],
   "source": [
    "model_df.info()"
   ]
  },
  {
   "cell_type": "code",
   "execution_count": 21,
   "id": "75b2b90b-949d-4d86-837e-7fe5cbfa221f",
   "metadata": {},
   "outputs": [
    {
     "data": {
      "text/html": [
       "<div>\n",
       "<style scoped>\n",
       "    .dataframe tbody tr th:only-of-type {\n",
       "        vertical-align: middle;\n",
       "    }\n",
       "\n",
       "    .dataframe tbody tr th {\n",
       "        vertical-align: top;\n",
       "    }\n",
       "\n",
       "    .dataframe thead th {\n",
       "        text-align: right;\n",
       "    }\n",
       "</style>\n",
       "<table border=\"1\" class=\"dataframe\">\n",
       "  <thead>\n",
       "    <tr style=\"text-align: right;\">\n",
       "      <th></th>\n",
       "      <th>index</th>\n",
       "      <th>Nulos</th>\n",
       "    </tr>\n",
       "  </thead>\n",
       "  <tbody>\n",
       "    <tr>\n",
       "      <th>22</th>\n",
       "      <td>FECHA_ULT_PAGO</td>\n",
       "      <td>3034</td>\n",
       "    </tr>\n",
       "    <tr>\n",
       "      <th>27</th>\n",
       "      <td>SUCURSAL_COD</td>\n",
       "      <td>8</td>\n",
       "    </tr>\n",
       "    <tr>\n",
       "      <th>29</th>\n",
       "      <td>SUCURSAL_REAL</td>\n",
       "      <td>12</td>\n",
       "    </tr>\n",
       "    <tr>\n",
       "      <th>30</th>\n",
       "      <td>MUNICIPIO_LAT</td>\n",
       "      <td>88</td>\n",
       "    </tr>\n",
       "    <tr>\n",
       "      <th>31</th>\n",
       "      <td>MUNICIPIO_LON</td>\n",
       "      <td>88</td>\n",
       "    </tr>\n",
       "    <tr>\n",
       "      <th>43</th>\n",
       "      <td>OBSERVACIONES</td>\n",
       "      <td>644</td>\n",
       "    </tr>\n",
       "    <tr>\n",
       "      <th>53</th>\n",
       "      <td>CREDITOS_VIGENTES</td>\n",
       "      <td>19887</td>\n",
       "    </tr>\n",
       "    <tr>\n",
       "      <th>60</th>\n",
       "      <td>ESTRATO</td>\n",
       "      <td>54</td>\n",
       "    </tr>\n",
       "    <tr>\n",
       "      <th>61</th>\n",
       "      <td>SUCURSAL</td>\n",
       "      <td>1</td>\n",
       "    </tr>\n",
       "    <tr>\n",
       "      <th>64</th>\n",
       "      <td>ACTIVIDAD_ECONOMICA</td>\n",
       "      <td>251</td>\n",
       "    </tr>\n",
       "    <tr>\n",
       "      <th>66</th>\n",
       "      <td>OFICIO</td>\n",
       "      <td>4024</td>\n",
       "    </tr>\n",
       "    <tr>\n",
       "      <th>68</th>\n",
       "      <td>RESPONSABLE_DE_HOGAR</td>\n",
       "      <td>490</td>\n",
       "    </tr>\n",
       "    <tr>\n",
       "      <th>69</th>\n",
       "      <td>OCUPACION</td>\n",
       "      <td>224</td>\n",
       "    </tr>\n",
       "    <tr>\n",
       "      <th>70</th>\n",
       "      <td>ACTIVIDAD_CIIU_PRIMARIA</td>\n",
       "      <td>18979</td>\n",
       "    </tr>\n",
       "    <tr>\n",
       "      <th>71</th>\n",
       "      <td>ESTADO_CIVIL_COD</td>\n",
       "      <td>98</td>\n",
       "    </tr>\n",
       "    <tr>\n",
       "      <th>73</th>\n",
       "      <td>NIVEL_ESTUDIOS_COD</td>\n",
       "      <td>12</td>\n",
       "    </tr>\n",
       "    <tr>\n",
       "      <th>74</th>\n",
       "      <td>PROFESION_COD</td>\n",
       "      <td>12723</td>\n",
       "    </tr>\n",
       "    <tr>\n",
       "      <th>76</th>\n",
       "      <td>TIPO_VIVIENDA_COD</td>\n",
       "      <td>116</td>\n",
       "    </tr>\n",
       "    <tr>\n",
       "      <th>77</th>\n",
       "      <td>PROFESION</td>\n",
       "      <td>23107</td>\n",
       "    </tr>\n",
       "    <tr>\n",
       "      <th>78</th>\n",
       "      <td>TIPO_UBICACION</td>\n",
       "      <td>161</td>\n",
       "    </tr>\n",
       "    <tr>\n",
       "      <th>79</th>\n",
       "      <td>FECHA_NACIMIENTO</td>\n",
       "      <td>31</td>\n",
       "    </tr>\n",
       "    <tr>\n",
       "      <th>80</th>\n",
       "      <td>GENERO</td>\n",
       "      <td>31</td>\n",
       "    </tr>\n",
       "    <tr>\n",
       "      <th>81</th>\n",
       "      <td>NIVEL_ESTUDIOS</td>\n",
       "      <td>503</td>\n",
       "    </tr>\n",
       "    <tr>\n",
       "      <th>82</th>\n",
       "      <td>ESTADO_CIVIL</td>\n",
       "      <td>876</td>\n",
       "    </tr>\n",
       "    <tr>\n",
       "      <th>83</th>\n",
       "      <td>TIPO_VIVIENDA</td>\n",
       "      <td>1460</td>\n",
       "    </tr>\n",
       "  </tbody>\n",
       "</table>\n",
       "</div>"
      ],
      "text/plain": [
       "                      index  Nulos\n",
       "22           FECHA_ULT_PAGO   3034\n",
       "27             SUCURSAL_COD      8\n",
       "29            SUCURSAL_REAL     12\n",
       "30            MUNICIPIO_LAT     88\n",
       "31            MUNICIPIO_LON     88\n",
       "43            OBSERVACIONES    644\n",
       "53        CREDITOS_VIGENTES  19887\n",
       "60                  ESTRATO     54\n",
       "61                 SUCURSAL      1\n",
       "64      ACTIVIDAD_ECONOMICA    251\n",
       "66                   OFICIO   4024\n",
       "68     RESPONSABLE_DE_HOGAR    490\n",
       "69                OCUPACION    224\n",
       "70  ACTIVIDAD_CIIU_PRIMARIA  18979\n",
       "71         ESTADO_CIVIL_COD     98\n",
       "73       NIVEL_ESTUDIOS_COD     12\n",
       "74            PROFESION_COD  12723\n",
       "76        TIPO_VIVIENDA_COD    116\n",
       "77                PROFESION  23107\n",
       "78           TIPO_UBICACION    161\n",
       "79         FECHA_NACIMIENTO     31\n",
       "80                   GENERO     31\n",
       "81           NIVEL_ESTUDIOS    503\n",
       "82             ESTADO_CIVIL    876\n",
       "83            TIPO_VIVIENDA   1460"
      ]
     },
     "execution_count": 21,
     "metadata": {},
     "output_type": "execute_result"
    }
   ],
   "source": [
    "null_eda = model_df.isnull().sum().to_frame(name='Nulos').reset_index()\n",
    "null_eda[null_eda['Nulos'] > 0]"
   ]
  },
  {
   "cell_type": "code",
   "execution_count": 22,
   "id": "322f7de9-93ba-4171-8f83-675138509c69",
   "metadata": {},
   "outputs": [
    {
     "data": {
      "text/plain": [
       "963"
      ]
     },
     "execution_count": 22,
     "metadata": {},
     "output_type": "execute_result"
    }
   ],
   "source": [
    "len(model_df.loc[model_df['DEFAULT'] == 1])"
   ]
  },
  {
   "cell_type": "code",
   "execution_count": 23,
   "id": "46b2234f-62b5-432a-86db-c3626cca7542",
   "metadata": {},
   "outputs": [
    {
     "data": {
      "text/plain": [
       "37678"
      ]
     },
     "execution_count": 23,
     "metadata": {},
     "output_type": "execute_result"
    }
   ],
   "source": [
    "len(model_df.loc[model_df['DEFAULT'] == 0])"
   ]
  },
  {
   "cell_type": "markdown",
   "id": "125a651b-76ff-4922-b4c9-de3e62aabb75",
   "metadata": {},
   "source": [
    "Looking at correlations:"
   ]
  },
  {
   "cell_type": "code",
   "execution_count": 24,
   "id": "a572eef8-5860-41d7-95a5-e13c661785bc",
   "metadata": {},
   "outputs": [
    {
     "data": {
      "image/png": "[encoded data removed]",
      "text/plain": [
       "<Figure size 1440x1440 with 2 Axes>"
      ]
     },
     "metadata": {},
     "output_type": "display_data"
    }
   ],
   "source": [
    "#compute correlation matrix\n",
    "df_correlations = model_df.corr()\n",
    "\n",
    "#mask the upper half for visualization purposes\n",
    "mask = np.zeros_like(df_correlations, dtype=np.bool_)\n",
    "mask[np.triu_indices_from(mask)] = True\n",
    "\n",
    "# Draw the heatmap with the mask and correct aspect ratio\n",
    "plt.figure(figsize= (20,20))\n",
    "\n",
    "cmap = sns.diverging_palette(220, 10, as_cmap=True)\n",
    "sns.heatmap(df_correlations,\n",
    "            mask=mask,  \n",
    "            vmax=1, \n",
    "            vmin=-1, \n",
    "            cmap=cmap, \n",
    "            center=0,\n",
    "            annot=True,\n",
    "            square=True, linewidths=.5, cbar_kws={\"shrink\": .5});"
   ]
  },
  {
   "cell_type": "markdown",
   "id": "5d9c697e-025a-43c1-86c4-3382c900bf2c",
   "metadata": {},
   "source": [
    "Split our data into training and testing sets (an 80-20 split is a good starting point):"
   ]
  },
  {
   "cell_type": "code",
   "execution_count": 25,
   "id": "ab04ea26-b172-44e9-a7f1-288309003a1d",
   "metadata": {},
   "outputs": [
    {
     "name": "stdout",
     "output_type": "stream",
     "text": [
      "(27048, 85)\n",
      "(11593, 85)\n"
     ]
    }
   ],
   "source": [
    "np.random.seed(1234) # a seed makes the analysis reproducible\n",
    "                     # so everyone will get the same results\n",
    "\n",
    "n_data = len(model_df)\n",
    "\n",
    "# Randomly choose 0.8n indices between 1 and n\n",
    "idx_train = np.random.choice(range(n_data), int(0.7*n_data), replace=False)\n",
    "\n",
    "# The test set is comprised from all the indices that were\n",
    "# not selected in the training set:\n",
    "idx_test  = np.asarray(list(set(range(n_data)) - set(idx_train)))\n",
    "\n",
    "df_train     = model_df.iloc[idx_train] # the training data set\n",
    "df_test      = model_df.iloc[idx_test]  # the test data set\n",
    "\n",
    "print(df_train.shape) \n",
    "print(df_test.shape)  "
   ]
  },
  {
   "cell_type": "code",
   "execution_count": 26,
   "id": "a4af0411-bae3-48f5-8964-9a701608ddfa",
   "metadata": {},
   "outputs": [
    {
     "data": {
      "text/plain": [
       "679"
      ]
     },
     "execution_count": 26,
     "metadata": {},
     "output_type": "execute_result"
    }
   ],
   "source": [
    "len(df_train.loc[df_train['DEFAULT'] == 1])"
   ]
  },
  {
   "cell_type": "code",
   "execution_count": 27,
   "id": "44140b15-28dd-4d93-a011-571d5d78d25d",
   "metadata": {},
   "outputs": [
    {
     "data": {
      "text/plain": [
       "26369"
      ]
     },
     "execution_count": 27,
     "metadata": {},
     "output_type": "execute_result"
    }
   ],
   "source": [
    "len(df_train.loc[df_train['DEFAULT'] == 0])"
   ]
  },
  {
   "cell_type": "code",
   "execution_count": 28,
   "id": "bc378b8d-4efa-438a-92f3-a7ccd0c0bb00",
   "metadata": {},
   "outputs": [
    {
     "data": {
      "text/plain": [
       "(27048, 85)"
      ]
     },
     "execution_count": 28,
     "metadata": {},
     "output_type": "execute_result"
    }
   ],
   "source": [
    "df_train.shape"
   ]
  },
  {
   "cell_type": "code",
   "execution_count": 29,
   "id": "91b2d354-880e-4118-bdd4-14e1fbc8824d",
   "metadata": {},
   "outputs": [
    {
     "data": {
      "text/plain": [
       "(2956, 85)"
      ]
     },
     "execution_count": 29,
     "metadata": {},
     "output_type": "execute_result"
    }
   ],
   "source": [
    "df_train.dropna().shape"
   ]
  },
  {
   "cell_type": "code",
   "execution_count": 30,
   "id": "c3d2fcc1-5b31-45db-ad8a-5ddbda05ede5",
   "metadata": {},
   "outputs": [
    {
     "data": {
      "text/plain": [
       "22262"
      ]
     },
     "execution_count": 30,
     "metadata": {},
     "output_type": "execute_result"
    }
   ],
   "source": [
    "len(df_train.loc[df_train['IDEAL'] == 1])"
   ]
  },
  {
   "cell_type": "code",
   "execution_count": 31,
   "id": "cd53c5a3-499c-4993-950b-b96b63a79364",
   "metadata": {},
   "outputs": [
    {
     "data": {
      "text/plain": [
       "4786"
      ]
     },
     "execution_count": 31,
     "metadata": {},
     "output_type": "execute_result"
    }
   ],
   "source": [
    "len(df_train.loc[df_train['IDEAL'] == 0])"
   ]
  },
  {
   "cell_type": "code",
   "execution_count": 32,
   "id": "d6d5d7cf-87d1-4080-bc51-cc33991e267d",
   "metadata": {},
   "outputs": [
    {
     "data": {
      "text/plain": [
       "9446"
      ]
     },
     "execution_count": 32,
     "metadata": {},
     "output_type": "execute_result"
    }
   ],
   "source": [
    "len(df_test.loc[df_test['IDEAL'] == 1])"
   ]
  },
  {
   "cell_type": "code",
   "execution_count": 33,
   "id": "65e3f051-0a4c-4f9e-9acc-c56db22b27ac",
   "metadata": {},
   "outputs": [
    {
     "data": {
      "text/plain": [
       "2147"
      ]
     },
     "execution_count": 33,
     "metadata": {},
     "output_type": "execute_result"
    }
   ],
   "source": [
    "len(df_test.loc[df_test['IDEAL'] == 0])"
   ]
  },
  {
   "cell_type": "markdown",
   "id": "4b127838-729a-4780-8890-7c53fb442c66",
   "metadata": {},
   "source": [
    "<H2> MODEL 2: Logistic Regression </H2>"
   ]
  },
  {
   "cell_type": "markdown",
   "id": "3fef5da2-de2d-4456-8bc7-15d818714e35",
   "metadata": {},
   "source": [
    "Classification model for predicting if a client is going to be in default as a binary or binomial classification:\n",
    "\n",
    "See: https://realpython.com/logistic-regression-python/"
   ]
  },
  {
   "cell_type": "markdown",
   "id": "77c12159-65e0-49be-8f63-c57943a8bca3",
   "metadata": {},
   "source": [
    "Week 7 - case.cross_validation_fellow"
   ]
  },
  {
   "cell_type": "code",
   "execution_count": null,
   "id": "b4de62cb-cccc-40b5-ad7f-9f8e88ed12ce",
   "metadata": {},
   "outputs": [],
   "source": [
    "import matplotlib.pyplot as plt\n",
    "import numpy as np\n",
    "from sklearn.linear_model import LogisticRegression\n",
    "from sklearn.metrics import classification_report, confusion_matrix\n",
    "from sklearn.metrics import roc_curve, auc\n",
    "from sklearn.model_selection import StratifiedKFold"
   ]
  },
  {
   "cell_type": "code",
   "execution_count": null,
   "id": "88e4fa6e-2d87-4c15-b0d5-2baafa9a386e",
   "metadata": {},
   "outputs": [],
   "source": [
    "def fit_logistic_regression(X,y):\n",
    "    \"\"\"\n",
    "    fit a logistic regression with feature matrix X and binary output y\n",
    "    \"\"\"\n",
    "    # Create model and fit (or train) model\n",
    "    clf = LogisticRegression(solver='saga',                             \n",
    "                             tol=10**-4,\n",
    "                             max_iter = 4000,\n",
    "                             fit_intercept=True,\n",
    "                             multi_class='multinomial'\n",
    "                            ).fit(X,y)\n",
    "    return clf"
   ]
  },
  {
   "cell_type": "code",
   "execution_count": null,
   "id": "18b89efa-a418-4e7c-b915-d381b81983b4",
   "metadata": {},
   "outputs": [],
   "source": [
    "# we will use a 70%/30% split for training/validation\n",
    "n_total = len(model_df)\n",
    "n_train = int(0.7*n_total)\n",
    "\n",
    "X, y = model_df[['EDAD']], model_df.IDEAL\n",
    "X_train, y_train = X[:n_train], y[:n_train]\n",
    "X_test, y_test = X[n_train:], y[n_train:]"
   ]
  },
  {
   "cell_type": "code",
   "execution_count": 67,
   "id": "5144f460-13c0-4287-8adf-d9266c1b2224",
   "metadata": {},
   "outputs": [
    {
     "data": {
      "text/plain": [
       "False"
      ]
     },
     "execution_count": 67,
     "metadata": {},
     "output_type": "execute_result"
    }
   ],
   "source": [
    "X_train.shape[0] != y_train.shape[0]"
   ]
  },
  {
   "cell_type": "code",
   "execution_count": 68,
   "id": "6355edd2-fffc-4891-90c5-91fd59c22404",
   "metadata": {},
   "outputs": [
    {
     "data": {
      "text/plain": [
       "((27048, 1), (27048,))"
      ]
     },
     "execution_count": 68,
     "metadata": {},
     "output_type": "execute_result"
    }
   ],
   "source": [
    "X_train.shape , y_train.shape"
   ]
  },
  {
   "cell_type": "code",
   "execution_count": 69,
   "id": "048424d4-0bac-4ec6-8192-a52b3fc95088",
   "metadata": {},
   "outputs": [],
   "source": [
    "model_reg = fit_logistic_regression(X_train, y_train)  # fit a logistic regression"
   ]
  },
  {
   "cell_type": "markdown",
   "id": "d2046d18-ec62-443e-a15c-aff604b55a61",
   "metadata": {},
   "source": [
    "Check model's performance with .predict_proba(), which returns the matrix of probabilities that the predicted output is equal to zero or one:"
   ]
  },
  {
   "cell_type": "code",
   "execution_count": 70,
   "id": "3be3ea10-5a75-4ece-95f0-653de5f9ae4b",
   "metadata": {},
   "outputs": [
    {
     "data": {
      "text/plain": [
       "array([0.81306194, 0.81164491, 0.80589436, ..., 0.83073955, 0.80001149,\n",
       "       0.80589436])"
      ]
     },
     "execution_count": 70,
     "metadata": {},
     "output_type": "execute_result"
    }
   ],
   "source": [
    "y_test_pred = model_reg.predict_proba(X_test)[:,1]     # make probabilistic predictions on test set\n",
    "y_test_pred"
   ]
  },
  {
   "cell_type": "markdown",
   "id": "0c67895a-10a0-4d2f-a945-a6403833db1b",
   "metadata": {},
   "source": [
    "ROC curve of model_reg and find the area under the curve:"
   ]
  },
  {
   "cell_type": "code",
   "execution_count": 71,
   "id": "b4e67d78-5e1e-4948-b153-dcda60cc82de",
   "metadata": {},
   "outputs": [
    {
     "data": {
      "image/png": "[encoded data removed]",
      "text/plain": [
       "<Figure size 432x288 with 1 Axes>"
      ]
     },
     "metadata": {},
     "output_type": "display_data"
    }
   ],
   "source": [
    "fpr, tpr, _ = roc_curve(y_test, y_test_pred)  #compute FPR/TPR\n",
    "auc_baseline = auc(fpr, tpr) # compute AUC\n",
    "\n",
    "plt.plot(fpr, tpr, \"b-\", label=\"AUC(baseline)={:2.2f}\".format(auc_baseline))\n",
    "plt.xlabel(\"False Positive Rate\")\n",
    "plt.ylabel(\"True Positive Rate\")\n",
    "plt.legend(fontsize=15)\n",
    "plt.plot([0,1], [0,1], \"r--\")\n",
    "plt.title(\"ROC curve -- Baseline Model\", fontsize=20);"
   ]
  },
  {
   "cell_type": "markdown",
   "id": "8bb7dad3-5577-4bed-8aa5-3791e4c9a055",
   "metadata": {},
   "source": [
    "The attribute .classes_ represents the array of distinct values that y takes:"
   ]
  },
  {
   "cell_type": "code",
   "execution_count": 72,
   "id": "d4d7b360-4194-4120-accb-897bb23e8b92",
   "metadata": {},
   "outputs": [
    {
     "data": {
      "text/plain": [
       "array([0, 1], dtype=int64)"
      ]
     },
     "execution_count": 72,
     "metadata": {},
     "output_type": "execute_result"
    }
   ],
   "source": [
    "model_reg.classes_"
   ]
  },
  {
   "cell_type": "markdown",
   "id": "1f0cc551-3ff0-408d-944f-44d6a156369c",
   "metadata": {},
   "source": [
    "Get the value of the slope 𝑏₁ and the intercept 𝑏₀ of the linear function 𝑓 like so:"
   ]
  },
  {
   "cell_type": "code",
   "execution_count": 73,
   "id": "a2047c0b-8f7b-4bd5-a6a4-4ed7acb2a95c",
   "metadata": {},
   "outputs": [
    {
     "data": {
      "text/plain": [
       "array([0.56303943])"
      ]
     },
     "execution_count": 73,
     "metadata": {},
     "output_type": "execute_result"
    }
   ],
   "source": [
    "model_reg.intercept_"
   ]
  },
  {
   "cell_type": "code",
   "execution_count": 74,
   "id": "eb4ff3ec-79af-4e34-be96-b78959f4d9f9",
   "metadata": {},
   "outputs": [
    {
     "data": {
      "text/plain": [
       "array([[0.00464799]])"
      ]
     },
     "execution_count": 74,
     "metadata": {},
     "output_type": "execute_result"
    }
   ],
   "source": [
    "model_reg.coef_"
   ]
  },
  {
   "cell_type": "code",
   "execution_count": 75,
   "id": "c5170229-df45-4bc7-afe1-5b99d0065788",
   "metadata": {},
   "outputs": [
    {
     "data": {
      "text/plain": [
       "array([1, 1, 1, ..., 1, 1, 1], dtype=int64)"
      ]
     },
     "execution_count": 75,
     "metadata": {},
     "output_type": "execute_result"
    }
   ],
   "source": [
    "model_reg.predict(X)"
   ]
  },
  {
   "cell_type": "code",
   "execution_count": 76,
   "id": "6363274e-2fe6-475e-8faf-1fa1bbd6aada",
   "metadata": {},
   "outputs": [
    {
     "data": {
      "text/plain": [
       "0.8205791775575166"
      ]
     },
     "execution_count": 76,
     "metadata": {},
     "output_type": "execute_result"
    }
   ],
   "source": [
    "model_reg.score(X, y)"
   ]
  },
  {
   "cell_type": "markdown",
   "id": "08319fe0-055e-4003-87a5-f66cf37ddc03",
   "metadata": {},
   "source": [
    "We can get information on the accuracy of the model with a confusion matrix. In the case of binary classification, the confusion matrix shows the numbers of the following:\n",
    "\n",
    "- True negatives in the upper-left position\n",
    "- False negatives in the lower-left position\n",
    "- False positives in the upper-right position\n",
    "- True positives in the lower-right position"
   ]
  },
  {
   "cell_type": "code",
   "execution_count": 77,
   "id": "506ec653-0b21-4486-899b-3b42bae37f21",
   "metadata": {},
   "outputs": [
    {
     "data": {
      "text/plain": [
       "array([[    0,  6933],\n",
       "       [    0, 31708]], dtype=int64)"
      ]
     },
     "execution_count": 77,
     "metadata": {},
     "output_type": "execute_result"
    }
   ],
   "source": [
    "confusion_matrix(y, model_reg.predict(X))"
   ]
  },
  {
   "cell_type": "markdown",
   "id": "a1b6bee5-e9c6-4850-9b42-19159d90d505",
   "metadata": {},
   "source": [
    "The obtained matrix shows the following:\n",
    "\n",
    "37678 true negative predictions: The first 37678 observations are zeros predicted correctly.\n",
    "963 false negative predictions: These are the ones wrongly predicted as zeros.\n",
    "0 false positive prediction: The 0 observation is a zero that was wrongly predicted as one.\n",
    "0 true positive predictions: The last 0 observations are ones predicted correctly."
   ]
  },
  {
   "cell_type": "code",
   "execution_count": 102,
   "id": "8831a184-8c74-4061-9c4a-6946c34b49df",
   "metadata": {},
   "outputs": [
    {
     "data": {
      "image/png": "[encoded data removed]",
      "text/plain": [
       "<Figure size 288x288 with 1 Axes>"
      ]
     },
     "metadata": {},
     "output_type": "display_data"
    }
   ],
   "source": [
    "cm = confusion_matrix(y, model_reg.predict(X))\n",
    "\n",
    "fig, ax = plt.subplots(figsize=(4, 4))\n",
    "ax.imshow(cm)\n",
    "ax.grid(False)\n",
    "ax.xaxis.set(ticks=(0, 1), ticklabels=('Predicted 0s', 'Predicted 1s'))\n",
    "ax.yaxis.set(ticks=(0, 1), ticklabels=('Actual 0s', 'Actual 1s'))\n",
    "ax.set_ylim(1.5, -0.5)\n",
    "for i in range(2):\n",
    "    for j in range(2):\n",
    "        ax.text(j, i, cm[i, j], ha='center', va='center', color='Gray')\n",
    "plt.show()"
   ]
  },
  {
   "cell_type": "code",
   "execution_count": 79,
   "id": "56c04eaf-765f-4722-a07c-09bd8a693880",
   "metadata": {},
   "outputs": [
    {
     "name": "stdout",
     "output_type": "stream",
     "text": [
      "              precision    recall  f1-score   support\n",
      "\n",
      "           0       0.00      0.00      0.00      6933\n",
      "           1       0.82      1.00      0.90     31708\n",
      "\n",
      "    accuracy                           0.82     38641\n",
      "   macro avg       0.41      0.50      0.45     38641\n",
      "weighted avg       0.67      0.82      0.74     38641\n",
      "\n"
     ]
    },
    {
     "name": "stderr",
     "output_type": "stream",
     "text": [
      "C:\\Anaconda\\envs\\ds4a\\lib\\site-packages\\sklearn\\metrics\\_classification.py:1318: UndefinedMetricWarning: Precision and F-score are ill-defined and being set to 0.0 in labels with no predicted samples. Use `zero_division` parameter to control this behavior.\n",
      "  _warn_prf(average, modifier, msg_start, len(result))\n",
      "C:\\Anaconda\\envs\\ds4a\\lib\\site-packages\\sklearn\\metrics\\_classification.py:1318: UndefinedMetricWarning: Precision and F-score are ill-defined and being set to 0.0 in labels with no predicted samples. Use `zero_division` parameter to control this behavior.\n",
      "  _warn_prf(average, modifier, msg_start, len(result))\n",
      "C:\\Anaconda\\envs\\ds4a\\lib\\site-packages\\sklearn\\metrics\\_classification.py:1318: UndefinedMetricWarning: Precision and F-score are ill-defined and being set to 0.0 in labels with no predicted samples. Use `zero_division` parameter to control this behavior.\n",
      "  _warn_prf(average, modifier, msg_start, len(result))\n"
     ]
    }
   ],
   "source": [
    "print(classification_report(y, model_reg.predict(X)))"
   ]
  },
  {
   "cell_type": "markdown",
   "id": "37952f62-2f7b-42e7-afdd-b2b0a6cb709a",
   "metadata": {},
   "source": [
    "## Cross-validation"
   ]
  },
  {
   "cell_type": "markdown",
   "id": "14e8aa50-dec4-4684-ae2e-5cd216eed51b",
   "metadata": {},
   "source": [
    "skf = StratifiedKFold(n_splits=10)\n",
    "for k, (train_index, test_index) in enumerate( skf.split(X, y) ):\n",
    "    plt.plot(train_index, [k+1 for _ in train_index], \".\")\n",
    "plt.ylim(0,12)\n",
    "plt.ylabel(\"FOLD\")\n",
    "plt.title(\"CROSS VALIDATION FOLDS\")"
   ]
  },
  {
   "cell_type": "code",
   "execution_count": 80,
   "id": "412f53ef-539c-432a-bc70-52c2fa7e4397",
   "metadata": {},
   "outputs": [],
   "source": [
    "def fit_logistic_regression(X, y):\n",
    "    \"\"\"\n",
    "    fit a logistic regression with feature matrix X and binary output y\n",
    "    \"\"\"\n",
    "    # Create model and fit (or train) model\n",
    "    clf = LogisticRegression(solver='saga',                             \n",
    "                             tol=10**-4,\n",
    "                             max_iter = 1000,\n",
    "                             fit_intercept=True,\n",
    "                             multi_class='multinomial'\n",
    "                            ).fit(X,y)\n",
    "    return clf"
   ]
  },
  {
   "cell_type": "code",
   "execution_count": 81,
   "id": "16ef1cb8-43e4-4b61-931c-455cb4c37c3b",
   "metadata": {},
   "outputs": [],
   "source": [
    "def compute_AUC(X, y, train_index, test_index):\n",
    "    \"\"\"\n",
    "    feature/output: X, y\n",
    "    dataset split: train_index, test_index\n",
    "    \"\"\"\n",
    "    X_train, y_train = X.iloc[train_index], y.iloc[train_index]\n",
    "    X_test, y_test = X.iloc[test_index], y.iloc[test_index]\n",
    "\n",
    "    clf = fit_logistic_regression(X_train, y_train)\n",
    "    default_proba_test = clf.predict_proba(X_test)[:,1]  \n",
    "    fpr, tpr, _ = roc_curve(y_test, default_proba_test)\n",
    "    auc_score = auc(fpr, tpr)\n",
    "    return auc_score, fpr, tpr"
   ]
  },
  {
   "cell_type": "code",
   "execution_count": 82,
   "id": "3955dd82-5081-43a6-8cd7-145c3d1f85f1",
   "metadata": {},
   "outputs": [],
   "source": [
    "def cross_validation_AUC(X,y, nfold=5):\n",
    "    \"\"\"\n",
    "    use a n-fold cross-validation for computing AUC estimates\n",
    "    \"\"\"\n",
    "    skf = StratifiedKFold(n_splits=nfold)  #create a cross-validation splitting\n",
    "    auc_list = [] #this list will contain the AUC estimates associated with each fold\n",
    "    for k, (train_index, test_index) in enumerate( skf.split(X, y) ):\n",
    "        auc_score, _, _ = compute_AUC(X, y, train_index, test_index)\n",
    "        auc_list.append(auc_score)\n",
    "    return auc_list"
   ]
  },
  {
   "cell_type": "markdown",
   "id": "a3e32c12-d5f7-4502-9bd7-4890431ba166",
   "metadata": {},
   "source": [
    "We will now estimate and compare, through cross-validation analysis, the performance of all the \"simple models\" that only use one numerical feature as input. We will use the logarithmic transform for the loan_amount variable:"
   ]
  },
  {
   "cell_type": "code",
   "execution_count": 103,
   "id": "ed11504c-6e40-42e5-98c1-eed7b15bc153",
   "metadata": {},
   "outputs": [
    {
     "data": {
      "text/html": [
       "<div>\n",
       "<style scoped>\n",
       "    .dataframe tbody tr th:only-of-type {\n",
       "        vertical-align: middle;\n",
       "    }\n",
       "\n",
       "    .dataframe tbody tr th {\n",
       "        vertical-align: top;\n",
       "    }\n",
       "\n",
       "    .dataframe thead th {\n",
       "        text-align: right;\n",
       "    }\n",
       "</style>\n",
       "<table border=\"1\" class=\"dataframe\">\n",
       "  <thead>\n",
       "    <tr style=\"text-align: right;\">\n",
       "      <th></th>\n",
       "      <th>CUOTAS_PACTADAS</th>\n",
       "      <th>TASA_PERIODICA</th>\n",
       "      <th>MUNICIPIO_LAT</th>\n",
       "      <th>MUNICIPIO_LON</th>\n",
       "      <th>TASA_ANUAL</th>\n",
       "      <th>MONTO</th>\n",
       "      <th>IDEAL</th>\n",
       "      <th>EDAD</th>\n",
       "      <th>ESTRATO</th>\n",
       "      <th>SUELDO_BASICO</th>\n",
       "    </tr>\n",
       "  </thead>\n",
       "  <tbody>\n",
       "    <tr>\n",
       "      <th>0</th>\n",
       "      <td>12</td>\n",
       "      <td>2.64</td>\n",
       "      <td>4.85430</td>\n",
       "      <td>-73.04003</td>\n",
       "      <td>31.67</td>\n",
       "      <td>2000000</td>\n",
       "      <td>1</td>\n",
       "      <td>51</td>\n",
       "      <td>1.0</td>\n",
       "      <td>0.0</td>\n",
       "    </tr>\n",
       "    <tr>\n",
       "      <th>1</th>\n",
       "      <td>36</td>\n",
       "      <td>2.94</td>\n",
       "      <td>4.14200</td>\n",
       "      <td>-73.62664</td>\n",
       "      <td>35.29</td>\n",
       "      <td>6000000</td>\n",
       "      <td>1</td>\n",
       "      <td>48</td>\n",
       "      <td>2.0</td>\n",
       "      <td>0.0</td>\n",
       "    </tr>\n",
       "    <tr>\n",
       "      <th>2</th>\n",
       "      <td>24</td>\n",
       "      <td>2.94</td>\n",
       "      <td>3.98695</td>\n",
       "      <td>-73.75797</td>\n",
       "      <td>35.29</td>\n",
       "      <td>2950000</td>\n",
       "      <td>1</td>\n",
       "      <td>53</td>\n",
       "      <td>2.0</td>\n",
       "      <td>0.0</td>\n",
       "    </tr>\n",
       "    <tr>\n",
       "      <th>3</th>\n",
       "      <td>24</td>\n",
       "      <td>2.94</td>\n",
       "      <td>3.54625</td>\n",
       "      <td>-73.70687</td>\n",
       "      <td>35.29</td>\n",
       "      <td>2900000</td>\n",
       "      <td>1</td>\n",
       "      <td>50</td>\n",
       "      <td>2.0</td>\n",
       "      <td>1400000.0</td>\n",
       "    </tr>\n",
       "    <tr>\n",
       "      <th>4</th>\n",
       "      <td>12</td>\n",
       "      <td>2.94</td>\n",
       "      <td>4.87802</td>\n",
       "      <td>-72.89575</td>\n",
       "      <td>35.29</td>\n",
       "      <td>1000000</td>\n",
       "      <td>1</td>\n",
       "      <td>73</td>\n",
       "      <td>1.0</td>\n",
       "      <td>0.0</td>\n",
       "    </tr>\n",
       "    <tr>\n",
       "      <th>...</th>\n",
       "      <td>...</td>\n",
       "      <td>...</td>\n",
       "      <td>...</td>\n",
       "      <td>...</td>\n",
       "      <td>...</td>\n",
       "      <td>...</td>\n",
       "      <td>...</td>\n",
       "      <td>...</td>\n",
       "      <td>...</td>\n",
       "      <td>...</td>\n",
       "    </tr>\n",
       "    <tr>\n",
       "      <th>38636</th>\n",
       "      <td>1</td>\n",
       "      <td>9.08</td>\n",
       "      <td>6.46065</td>\n",
       "      <td>-71.73618</td>\n",
       "      <td>35.28</td>\n",
       "      <td>1000000</td>\n",
       "      <td>1</td>\n",
       "      <td>54</td>\n",
       "      <td>1.0</td>\n",
       "      <td>0.0</td>\n",
       "    </tr>\n",
       "    <tr>\n",
       "      <th>38637</th>\n",
       "      <td>24</td>\n",
       "      <td>3.20</td>\n",
       "      <td>6.46065</td>\n",
       "      <td>-71.73618</td>\n",
       "      <td>38.40</td>\n",
       "      <td>6000000</td>\n",
       "      <td>1</td>\n",
       "      <td>34</td>\n",
       "      <td>1.0</td>\n",
       "      <td>0.0</td>\n",
       "    </tr>\n",
       "    <tr>\n",
       "      <th>38638</th>\n",
       "      <td>1</td>\n",
       "      <td>9.08</td>\n",
       "      <td>6.46065</td>\n",
       "      <td>-71.73618</td>\n",
       "      <td>35.28</td>\n",
       "      <td>1000000</td>\n",
       "      <td>1</td>\n",
       "      <td>50</td>\n",
       "      <td>1.0</td>\n",
       "      <td>3000000.0</td>\n",
       "    </tr>\n",
       "    <tr>\n",
       "      <th>38639</th>\n",
       "      <td>6</td>\n",
       "      <td>8.13</td>\n",
       "      <td>6.46065</td>\n",
       "      <td>-71.73618</td>\n",
       "      <td>31.68</td>\n",
       "      <td>4000000</td>\n",
       "      <td>1</td>\n",
       "      <td>28</td>\n",
       "      <td>1.0</td>\n",
       "      <td>0.0</td>\n",
       "    </tr>\n",
       "    <tr>\n",
       "      <th>38640</th>\n",
       "      <td>18</td>\n",
       "      <td>3.30</td>\n",
       "      <td>6.46065</td>\n",
       "      <td>-71.73618</td>\n",
       "      <td>39.60</td>\n",
       "      <td>2000000</td>\n",
       "      <td>1</td>\n",
       "      <td>32</td>\n",
       "      <td>1.0</td>\n",
       "      <td>0.0</td>\n",
       "    </tr>\n",
       "  </tbody>\n",
       "</table>\n",
       "<p>38641 rows × 10 columns</p>\n",
       "</div>"
      ],
      "text/plain": [
       "       CUOTAS_PACTADAS  TASA_PERIODICA  MUNICIPIO_LAT  MUNICIPIO_LON  \\\n",
       "0                   12            2.64        4.85430      -73.04003   \n",
       "1                   36            2.94        4.14200      -73.62664   \n",
       "2                   24            2.94        3.98695      -73.75797   \n",
       "3                   24            2.94        3.54625      -73.70687   \n",
       "4                   12            2.94        4.87802      -72.89575   \n",
       "...                ...             ...            ...            ...   \n",
       "38636                1            9.08        6.46065      -71.73618   \n",
       "38637               24            3.20        6.46065      -71.73618   \n",
       "38638                1            9.08        6.46065      -71.73618   \n",
       "38639                6            8.13        6.46065      -71.73618   \n",
       "38640               18            3.30        6.46065      -71.73618   \n",
       "\n",
       "       TASA_ANUAL    MONTO  IDEAL  EDAD  ESTRATO  SUELDO_BASICO  \n",
       "0           31.67  2000000      1    51      1.0            0.0  \n",
       "1           35.29  6000000      1    48      2.0            0.0  \n",
       "2           35.29  2950000      1    53      2.0            0.0  \n",
       "3           35.29  2900000      1    50      2.0      1400000.0  \n",
       "4           35.29  1000000      1    73      1.0            0.0  \n",
       "...           ...      ...    ...   ...      ...            ...  \n",
       "38636       35.28  1000000      1    54      1.0            0.0  \n",
       "38637       38.40  6000000      1    34      1.0            0.0  \n",
       "38638       35.28  1000000      1    50      1.0      3000000.0  \n",
       "38639       31.68  4000000      1    28      1.0            0.0  \n",
       "38640       39.60  2000000      1    32      1.0            0.0  \n",
       "\n",
       "[38641 rows x 10 columns]"
      ]
     },
     "execution_count": 103,
     "metadata": {},
     "output_type": "execute_result"
    }
   ],
   "source": [
    "# let us extract only the numerical (i.e non-categorical) features\n",
    "numerics = ['int16', 'int32', 'int64', 'float16', 'float32', 'float64']\n",
    "Data_numerics = model_df.select_dtypes(include=numerics)\n",
    "Data_numerics = Data_numerics.drop([\"OBLIGACION\", \"TIPO_CLIENTE_COD\", \n",
    "                                    \"CUOTAS_PENDIENTES\", \"DIAS_VENCIDO\", \n",
    "                                    \"PORCENTAJE_PAGO\", \"VALOR_REFINANCIADO\",\n",
    "                                    \"VALOR_DESEMBOLSADO\", \"NRO_CUOTAS\",\n",
    "                                    \"SALDO\", \"CREDITOS_VIGENTES\", \"DEFAULT\"\n",
    "                                   ], axis=1)\n",
    "Data_numerics"
   ]
  },
  {
   "cell_type": "code",
   "execution_count": 104,
   "id": "7fa5b42e-8eed-4207-bb4b-9ace49ae79be",
   "metadata": {},
   "outputs": [
    {
     "data": {
      "text/plain": [
       "(38641, 10)"
      ]
     },
     "execution_count": 104,
     "metadata": {},
     "output_type": "execute_result"
    }
   ],
   "source": [
    "Data_numerics.shape"
   ]
  },
  {
   "cell_type": "code",
   "execution_count": 105,
   "id": "7e794e4b-b639-42bc-add4-b89f030f652d",
   "metadata": {},
   "outputs": [
    {
     "data": {
      "text/html": [
       "<div>\n",
       "<style scoped>\n",
       "    .dataframe tbody tr th:only-of-type {\n",
       "        vertical-align: middle;\n",
       "    }\n",
       "\n",
       "    .dataframe tbody tr th {\n",
       "        vertical-align: top;\n",
       "    }\n",
       "\n",
       "    .dataframe thead th {\n",
       "        text-align: right;\n",
       "    }\n",
       "</style>\n",
       "<table border=\"1\" class=\"dataframe\">\n",
       "  <thead>\n",
       "    <tr style=\"text-align: right;\">\n",
       "      <th></th>\n",
       "      <th>index</th>\n",
       "      <th>Nulos</th>\n",
       "    </tr>\n",
       "  </thead>\n",
       "  <tbody>\n",
       "  </tbody>\n",
       "</table>\n",
       "</div>"
      ],
      "text/plain": [
       "Empty DataFrame\n",
       "Columns: [index, Nulos]\n",
       "Index: []"
      ]
     },
     "execution_count": 105,
     "metadata": {},
     "output_type": "execute_result"
    }
   ],
   "source": [
    "Data_numerics = Data_numerics.dropna()\n",
    "null_eda = Data_numerics.isnull().sum().to_frame(name='Nulos').reset_index()\n",
    "null_eda[null_eda['Nulos'] > 0]"
   ]
  },
  {
   "cell_type": "code",
   "execution_count": 106,
   "id": "7f7113f9-c529-4d59-8675-29dc3e3477f5",
   "metadata": {},
   "outputs": [
    {
     "name": "stderr",
     "output_type": "stream",
     "text": [
      "C:\\Users\\mchah\\AppData\\Local\\Temp\\ipykernel_26884\\863937088.py:4: SettingWithCopyWarning: \n",
      "A value is trying to be set on a copy of a slice from a DataFrame.\n",
      "Try using .loc[row_indexer,col_indexer] = value instead\n",
      "\n",
      "See the caveats in the documentation: https://pandas.pydata.org/pandas-docs/stable/user_guide/indexing.html#returning-a-view-versus-a-copy\n",
      "  Data_numerics.loc[idx,\"MONTO\"] = np.log10(Data_numerics[\"MONTO\"])\n"
     ]
    },
    {
     "data": {
      "text/html": [
       "<div>\n",
       "<style scoped>\n",
       "    .dataframe tbody tr th:only-of-type {\n",
       "        vertical-align: middle;\n",
       "    }\n",
       "\n",
       "    .dataframe tbody tr th {\n",
       "        vertical-align: top;\n",
       "    }\n",
       "\n",
       "    .dataframe thead th {\n",
       "        text-align: right;\n",
       "    }\n",
       "</style>\n",
       "<table border=\"1\" class=\"dataframe\">\n",
       "  <thead>\n",
       "    <tr style=\"text-align: right;\">\n",
       "      <th></th>\n",
       "      <th>CUOTAS_PACTADAS</th>\n",
       "      <th>TASA_PERIODICA</th>\n",
       "      <th>MUNICIPIO_LAT</th>\n",
       "      <th>MUNICIPIO_LON</th>\n",
       "      <th>TASA_ANUAL</th>\n",
       "      <th>MONTO</th>\n",
       "      <th>IDEAL</th>\n",
       "      <th>EDAD</th>\n",
       "      <th>ESTRATO</th>\n",
       "      <th>SUELDO_BASICO</th>\n",
       "    </tr>\n",
       "  </thead>\n",
       "  <tbody>\n",
       "    <tr>\n",
       "      <th>0</th>\n",
       "      <td>12</td>\n",
       "      <td>2.64</td>\n",
       "      <td>4.85430</td>\n",
       "      <td>-73.04003</td>\n",
       "      <td>31.67</td>\n",
       "      <td>6.301030</td>\n",
       "      <td>1</td>\n",
       "      <td>51</td>\n",
       "      <td>1.0</td>\n",
       "      <td>0.0</td>\n",
       "    </tr>\n",
       "    <tr>\n",
       "      <th>1</th>\n",
       "      <td>36</td>\n",
       "      <td>2.94</td>\n",
       "      <td>4.14200</td>\n",
       "      <td>-73.62664</td>\n",
       "      <td>35.29</td>\n",
       "      <td>6.778151</td>\n",
       "      <td>1</td>\n",
       "      <td>48</td>\n",
       "      <td>2.0</td>\n",
       "      <td>0.0</td>\n",
       "    </tr>\n",
       "    <tr>\n",
       "      <th>2</th>\n",
       "      <td>24</td>\n",
       "      <td>2.94</td>\n",
       "      <td>3.98695</td>\n",
       "      <td>-73.75797</td>\n",
       "      <td>35.29</td>\n",
       "      <td>6.469822</td>\n",
       "      <td>1</td>\n",
       "      <td>53</td>\n",
       "      <td>2.0</td>\n",
       "      <td>0.0</td>\n",
       "    </tr>\n",
       "    <tr>\n",
       "      <th>3</th>\n",
       "      <td>24</td>\n",
       "      <td>2.94</td>\n",
       "      <td>3.54625</td>\n",
       "      <td>-73.70687</td>\n",
       "      <td>35.29</td>\n",
       "      <td>6.462398</td>\n",
       "      <td>1</td>\n",
       "      <td>50</td>\n",
       "      <td>2.0</td>\n",
       "      <td>1400000.0</td>\n",
       "    </tr>\n",
       "    <tr>\n",
       "      <th>4</th>\n",
       "      <td>12</td>\n",
       "      <td>2.94</td>\n",
       "      <td>4.87802</td>\n",
       "      <td>-72.89575</td>\n",
       "      <td>35.29</td>\n",
       "      <td>6.000000</td>\n",
       "      <td>1</td>\n",
       "      <td>73</td>\n",
       "      <td>1.0</td>\n",
       "      <td>0.0</td>\n",
       "    </tr>\n",
       "    <tr>\n",
       "      <th>...</th>\n",
       "      <td>...</td>\n",
       "      <td>...</td>\n",
       "      <td>...</td>\n",
       "      <td>...</td>\n",
       "      <td>...</td>\n",
       "      <td>...</td>\n",
       "      <td>...</td>\n",
       "      <td>...</td>\n",
       "      <td>...</td>\n",
       "      <td>...</td>\n",
       "    </tr>\n",
       "    <tr>\n",
       "      <th>38636</th>\n",
       "      <td>1</td>\n",
       "      <td>9.08</td>\n",
       "      <td>6.46065</td>\n",
       "      <td>-71.73618</td>\n",
       "      <td>35.28</td>\n",
       "      <td>6.000000</td>\n",
       "      <td>1</td>\n",
       "      <td>54</td>\n",
       "      <td>1.0</td>\n",
       "      <td>0.0</td>\n",
       "    </tr>\n",
       "    <tr>\n",
       "      <th>38637</th>\n",
       "      <td>24</td>\n",
       "      <td>3.20</td>\n",
       "      <td>6.46065</td>\n",
       "      <td>-71.73618</td>\n",
       "      <td>38.40</td>\n",
       "      <td>6.778151</td>\n",
       "      <td>1</td>\n",
       "      <td>34</td>\n",
       "      <td>1.0</td>\n",
       "      <td>0.0</td>\n",
       "    </tr>\n",
       "    <tr>\n",
       "      <th>38638</th>\n",
       "      <td>1</td>\n",
       "      <td>9.08</td>\n",
       "      <td>6.46065</td>\n",
       "      <td>-71.73618</td>\n",
       "      <td>35.28</td>\n",
       "      <td>6.000000</td>\n",
       "      <td>1</td>\n",
       "      <td>50</td>\n",
       "      <td>1.0</td>\n",
       "      <td>3000000.0</td>\n",
       "    </tr>\n",
       "    <tr>\n",
       "      <th>38639</th>\n",
       "      <td>6</td>\n",
       "      <td>8.13</td>\n",
       "      <td>6.46065</td>\n",
       "      <td>-71.73618</td>\n",
       "      <td>31.68</td>\n",
       "      <td>6.602060</td>\n",
       "      <td>1</td>\n",
       "      <td>28</td>\n",
       "      <td>1.0</td>\n",
       "      <td>0.0</td>\n",
       "    </tr>\n",
       "    <tr>\n",
       "      <th>38640</th>\n",
       "      <td>18</td>\n",
       "      <td>3.30</td>\n",
       "      <td>6.46065</td>\n",
       "      <td>-71.73618</td>\n",
       "      <td>39.60</td>\n",
       "      <td>6.301030</td>\n",
       "      <td>1</td>\n",
       "      <td>32</td>\n",
       "      <td>1.0</td>\n",
       "      <td>0.0</td>\n",
       "    </tr>\n",
       "  </tbody>\n",
       "</table>\n",
       "<p>38502 rows × 10 columns</p>\n",
       "</div>"
      ],
      "text/plain": [
       "       CUOTAS_PACTADAS  TASA_PERIODICA  MUNICIPIO_LAT  MUNICIPIO_LON  \\\n",
       "0                   12            2.64        4.85430      -73.04003   \n",
       "1                   36            2.94        4.14200      -73.62664   \n",
       "2                   24            2.94        3.98695      -73.75797   \n",
       "3                   24            2.94        3.54625      -73.70687   \n",
       "4                   12            2.94        4.87802      -72.89575   \n",
       "...                ...             ...            ...            ...   \n",
       "38636                1            9.08        6.46065      -71.73618   \n",
       "38637               24            3.20        6.46065      -71.73618   \n",
       "38638                1            9.08        6.46065      -71.73618   \n",
       "38639                6            8.13        6.46065      -71.73618   \n",
       "38640               18            3.30        6.46065      -71.73618   \n",
       "\n",
       "       TASA_ANUAL     MONTO  IDEAL  EDAD  ESTRATO  SUELDO_BASICO  \n",
       "0           31.67  6.301030      1    51      1.0            0.0  \n",
       "1           35.29  6.778151      1    48      2.0            0.0  \n",
       "2           35.29  6.469822      1    53      2.0            0.0  \n",
       "3           35.29  6.462398      1    50      2.0      1400000.0  \n",
       "4           35.29  6.000000      1    73      1.0            0.0  \n",
       "...           ...       ...    ...   ...      ...            ...  \n",
       "38636       35.28  6.000000      1    54      1.0            0.0  \n",
       "38637       38.40  6.778151      1    34      1.0            0.0  \n",
       "38638       35.28  6.000000      1    50      1.0      3000000.0  \n",
       "38639       31.68  6.602060      1    28      1.0            0.0  \n",
       "38640       39.60  6.301030      1    32      1.0            0.0  \n",
       "\n",
       "[38502 rows x 10 columns]"
      ]
     },
     "execution_count": 106,
     "metadata": {},
     "output_type": "execute_result"
    }
   ],
   "source": [
    "# Using a log scale when appropriate\n",
    "#Data_numerics[\"SUELDO_BASICO\"] = np.log10(Data_numerics[\"SUELDO_BASICO\"])\n",
    "idx = Data_numerics[\"MONTO\"] >= 0\n",
    "Data_numerics.loc[idx,\"MONTO\"] = np.log10(Data_numerics[\"MONTO\"])\n",
    "#Data_numerics[\"avg_cur_bal\"] = np.log10(1.+Data_numerics[\"avg_cur_bal\"])\n",
    "Data_numerics"
   ]
  },
  {
   "cell_type": "markdown",
   "id": "9c702259-acaa-493f-9cca-65c2d3878bb0",
   "metadata": {},
   "source": [
    "Let's compute cross-validation estimates of the AUC for each single-feature model:"
   ]
  },
  {
   "cell_type": "code",
   "execution_count": 107,
   "id": "c84ea70a-6021-4e76-872f-03b62e318703",
   "metadata": {},
   "outputs": [
    {
     "name": "stdout",
     "output_type": "stream",
     "text": [
      "CUOTAS_PACTADAS\n",
      "TASA_PERIODICA\n",
      "MUNICIPIO_LAT\n",
      "MUNICIPIO_LON\n"
     ]
    },
    {
     "name": "stderr",
     "output_type": "stream",
     "text": [
      "C:\\Anaconda\\envs\\ds4a\\lib\\site-packages\\sklearn\\linear_model\\_sag.py:352: ConvergenceWarning: The max_iter was reached which means the coef_ did not converge\n",
      "  warnings.warn(\n",
      "C:\\Anaconda\\envs\\ds4a\\lib\\site-packages\\sklearn\\linear_model\\_sag.py:352: ConvergenceWarning: The max_iter was reached which means the coef_ did not converge\n",
      "  warnings.warn(\n",
      "C:\\Anaconda\\envs\\ds4a\\lib\\site-packages\\sklearn\\linear_model\\_sag.py:352: ConvergenceWarning: The max_iter was reached which means the coef_ did not converge\n",
      "  warnings.warn(\n",
      "C:\\Anaconda\\envs\\ds4a\\lib\\site-packages\\sklearn\\linear_model\\_sag.py:352: ConvergenceWarning: The max_iter was reached which means the coef_ did not converge\n",
      "  warnings.warn(\n"
     ]
    },
    {
     "name": "stdout",
     "output_type": "stream",
     "text": [
      "TASA_ANUAL\n",
      "MONTO\n",
      "EDAD\n",
      "ESTRATO\n",
      "SUELDO_BASICO\n"
     ]
    }
   ],
   "source": [
    "model_perf = pd.DataFrame({}) #this data-frame will contain the AUC estimates\n",
    "for key in Data_numerics.keys():\n",
    "    #if key == \"DEFAULT\": continue\n",
    "    if key == \"IDEAL\": continue\n",
    "    print(key)\n",
    "    #X_full, y_full = Data_numerics[[key]], Data_numerics.DEFAULT\n",
    "    X_full, y_full = Data_numerics[[key]], Data_numerics.IDEAL\n",
    "    auc_list = cross_validation_AUC(X_full, y_full, nfold=5)\n",
    "    model_perf[\"SIMPLE:\" + key] = auc_list"
   ]
  },
  {
   "cell_type": "markdown",
   "id": "24c896e4-f3d1-489b-b4dd-5f001a3d4cb7",
   "metadata": {},
   "source": [
    "Show the distribution of cross-validation scores of each variable (each variable has 10 total scores). Which feature has the highest/lowest predictive power?"
   ]
  },
  {
   "cell_type": "code",
   "execution_count": 98,
   "id": "a4a8f060-334a-4368-96e4-ad45be891363",
   "metadata": {},
   "outputs": [],
   "source": [
    "def plot_boxplot_ordered(df_model):\n",
    "    \"\"\"\n",
    "    display a list of boxplot, ordered by the media values\n",
    "    \"\"\"\n",
    "    df = df_model[df_model.median().sort_values().index]\n",
    "    sns.boxplot(x=\"variable\", y=\"value\", data=pd.melt(df), showfliers=False)\n",
    "    plt.xticks(rotation=90)"
   ]
  },
  {
   "cell_type": "code",
   "execution_count": 99,
   "id": "0db55abc-5c66-43f8-b3e8-af422b3a2273",
   "metadata": {},
   "outputs": [
    {
     "data": {
      "image/png": "[encoded data removed]",
      "text/plain": [
       "<Figure size 720x360 with 1 Axes>"
      ]
     },
     "metadata": {},
     "output_type": "display_data"
    }
   ],
   "source": [
    "plt.figure(figsize= (10,5))\n",
    "plot_boxplot_ordered(model_perf)\n",
    "plt.xlabel(\"Predictive Model with a Single Predictive Feature\")\n",
    "plt.ylabel(\"AUC\");"
   ]
  },
  {
   "cell_type": "markdown",
   "id": "6316c5d9-3bb7-4a42-b822-ecc406a4b2da",
   "metadata": {},
   "source": [
    "____"
   ]
  },
  {
   "cell_type": "code",
   "execution_count": 118,
   "id": "a43b4fa0-fc2d-4481-ba62-ed4c2f66d2c7",
   "metadata": {},
   "outputs": [
    {
     "name": "stderr",
     "output_type": "stream",
     "text": [
      "C:\\Anaconda\\envs\\ds4a\\lib\\site-packages\\sklearn\\linear_model\\_sag.py:352: ConvergenceWarning: The max_iter was reached which means the coef_ did not converge\n",
      "  warnings.warn(\n",
      "C:\\Anaconda\\envs\\ds4a\\lib\\site-packages\\sklearn\\linear_model\\_sag.py:352: ConvergenceWarning: The max_iter was reached which means the coef_ did not converge\n",
      "  warnings.warn(\n",
      "C:\\Anaconda\\envs\\ds4a\\lib\\site-packages\\sklearn\\linear_model\\_sag.py:352: ConvergenceWarning: The max_iter was reached which means the coef_ did not converge\n",
      "  warnings.warn(\n",
      "C:\\Anaconda\\envs\\ds4a\\lib\\site-packages\\sklearn\\linear_model\\_sag.py:352: ConvergenceWarning: The max_iter was reached which means the coef_ did not converge\n",
      "  warnings.warn(\n",
      "C:\\Anaconda\\envs\\ds4a\\lib\\site-packages\\sklearn\\linear_model\\_sag.py:352: ConvergenceWarning: The max_iter was reached which means the coef_ did not converge\n",
      "  warnings.warn(\n"
     ]
    },
    {
     "data": {
      "text/html": [
       "<div>\n",
       "<style scoped>\n",
       "    .dataframe tbody tr th:only-of-type {\n",
       "        vertical-align: middle;\n",
       "    }\n",
       "\n",
       "    .dataframe tbody tr th {\n",
       "        vertical-align: top;\n",
       "    }\n",
       "\n",
       "    .dataframe thead th {\n",
       "        text-align: right;\n",
       "    }\n",
       "</style>\n",
       "<table border=\"1\" class=\"dataframe\">\n",
       "  <thead>\n",
       "    <tr style=\"text-align: right;\">\n",
       "      <th></th>\n",
       "      <th>SIMPLE:CUOTAS_PACTADAS</th>\n",
       "      <th>SIMPLE:TASA_PERIODICA</th>\n",
       "      <th>SIMPLE:MUNICIPIO_LAT</th>\n",
       "      <th>SIMPLE:MUNICIPIO_LON</th>\n",
       "      <th>SIMPLE:TASA_ANUAL</th>\n",
       "      <th>SIMPLE:MONTO</th>\n",
       "      <th>SIMPLE:EDAD</th>\n",
       "      <th>SIMPLE:ESTRATO</th>\n",
       "      <th>SIMPLE:SUELDO_BASICO</th>\n",
       "      <th>ALL_NUMERICAL</th>\n",
       "    </tr>\n",
       "  </thead>\n",
       "  <tbody>\n",
       "    <tr>\n",
       "      <th>0</th>\n",
       "      <td>0.585461</td>\n",
       "      <td>0.488802</td>\n",
       "      <td>0.523319</td>\n",
       "      <td>0.473622</td>\n",
       "      <td>0.532708</td>\n",
       "      <td>0.547632</td>\n",
       "      <td>0.564541</td>\n",
       "      <td>0.531161</td>\n",
       "      <td>0.525931</td>\n",
       "      <td>0.561454</td>\n",
       "    </tr>\n",
       "    <tr>\n",
       "      <th>1</th>\n",
       "      <td>0.542304</td>\n",
       "      <td>0.505986</td>\n",
       "      <td>0.506296</td>\n",
       "      <td>0.501100</td>\n",
       "      <td>0.455237</td>\n",
       "      <td>0.543825</td>\n",
       "      <td>0.547828</td>\n",
       "      <td>0.517327</td>\n",
       "      <td>0.507676</td>\n",
       "      <td>0.545109</td>\n",
       "    </tr>\n",
       "    <tr>\n",
       "      <th>2</th>\n",
       "      <td>0.585763</td>\n",
       "      <td>0.539341</td>\n",
       "      <td>0.536056</td>\n",
       "      <td>0.524434</td>\n",
       "      <td>0.563828</td>\n",
       "      <td>0.606139</td>\n",
       "      <td>0.520570</td>\n",
       "      <td>0.525619</td>\n",
       "      <td>0.509324</td>\n",
       "      <td>0.498560</td>\n",
       "    </tr>\n",
       "    <tr>\n",
       "      <th>3</th>\n",
       "      <td>0.549027</td>\n",
       "      <td>0.543712</td>\n",
       "      <td>0.538502</td>\n",
       "      <td>0.537673</td>\n",
       "      <td>0.527876</td>\n",
       "      <td>0.581613</td>\n",
       "      <td>0.515170</td>\n",
       "      <td>0.558094</td>\n",
       "      <td>0.495023</td>\n",
       "      <td>0.489678</td>\n",
       "    </tr>\n",
       "    <tr>\n",
       "      <th>4</th>\n",
       "      <td>0.514466</td>\n",
       "      <td>0.533145</td>\n",
       "      <td>0.569077</td>\n",
       "      <td>0.585131</td>\n",
       "      <td>0.541077</td>\n",
       "      <td>0.479288</td>\n",
       "      <td>0.551011</td>\n",
       "      <td>0.549208</td>\n",
       "      <td>0.504916</td>\n",
       "      <td>0.529625</td>\n",
       "    </tr>\n",
       "  </tbody>\n",
       "</table>\n",
       "</div>"
      ],
      "text/plain": [
       "   SIMPLE:CUOTAS_PACTADAS  SIMPLE:TASA_PERIODICA  SIMPLE:MUNICIPIO_LAT  \\\n",
       "0                0.585461               0.488802              0.523319   \n",
       "1                0.542304               0.505986              0.506296   \n",
       "2                0.585763               0.539341              0.536056   \n",
       "3                0.549027               0.543712              0.538502   \n",
       "4                0.514466               0.533145              0.569077   \n",
       "\n",
       "   SIMPLE:MUNICIPIO_LON  SIMPLE:TASA_ANUAL  SIMPLE:MONTO  SIMPLE:EDAD  \\\n",
       "0              0.473622           0.532708      0.547632     0.564541   \n",
       "1              0.501100           0.455237      0.543825     0.547828   \n",
       "2              0.524434           0.563828      0.606139     0.520570   \n",
       "3              0.537673           0.527876      0.581613     0.515170   \n",
       "4              0.585131           0.541077      0.479288     0.551011   \n",
       "\n",
       "   SIMPLE:ESTRATO  SIMPLE:SUELDO_BASICO  ALL_NUMERICAL  \n",
       "0        0.531161              0.525931       0.561454  \n",
       "1        0.517327              0.507676       0.545109  \n",
       "2        0.525619              0.509324       0.498560  \n",
       "3        0.558094              0.495023       0.489678  \n",
       "4        0.549208              0.504916       0.529625  "
      ]
     },
     "execution_count": 118,
     "metadata": {},
     "output_type": "execute_result"
    }
   ],
   "source": [
    "#X_full, y_full = Data_numerics.drop([\"DEFAULT\"], axis=1), Data_numerics.DEFAULT\n",
    "X_full, y_full = Data_numerics.drop([\"IDEAL\"], axis=1), Data_numerics.IDEAL\n",
    "auc_list = cross_validation_AUC(X_full, y_full)\n",
    "model_perf[\"ALL_NUMERICAL\"] = auc_list\n",
    "model_perf"
   ]
  },
  {
   "cell_type": "code",
   "execution_count": 119,
   "id": "4561b22d-aca7-461e-a488-5d5ad2f22f15",
   "metadata": {},
   "outputs": [
    {
     "data": {
      "image/png": "[encoded data removed]",
      "text/plain": [
       "<Figure size 720x360 with 1 Axes>"
      ]
     },
     "metadata": {},
     "output_type": "display_data"
    }
   ],
   "source": [
    "plt.figure(figsize= (10,5))\n",
    "plot_boxplot_ordered(model_perf)\n",
    "plt.xlabel(\"Predictive Model with a Single Predictive Feature\")\n",
    "plt.ylabel(\"AUC\");"
   ]
  },
  {
   "cell_type": "markdown",
   "id": "1b75c0d4-c16a-46c5-91a1-d4d8166e960c",
   "metadata": {},
   "source": [
    "## Incorporating categorical variables"
   ]
  },
  {
   "cell_type": "markdown",
   "id": "b0838767-970c-4b5f-9bd5-2a1ca6851398",
   "metadata": {},
   "source": [
    "Calificación Peor:"
   ]
  },
  {
   "cell_type": "code",
   "execution_count": 60,
   "id": "f3774b8c-52a9-4cd5-ae6a-5d51bb39993c",
   "metadata": {},
   "outputs": [
    {
     "data": {
      "image/png": "[encoded data removed]",
      "text/plain": [
       "<Figure size 432x288 with 1 Axes>"
      ]
     },
     "metadata": {},
     "output_type": "display_data"
    }
   ],
   "source": [
    "sns.countplot(x='CALIFICACION_PEOR', data = model_df);"
   ]
  },
  {
   "cell_type": "code",
   "execution_count": 61,
   "id": "cb84f6dd-2feb-4b50-8537-090a222079ae",
   "metadata": {},
   "outputs": [
    {
     "data": {
      "text/html": [
       "<div>\n",
       "<style scoped>\n",
       "    .dataframe tbody tr th:only-of-type {\n",
       "        vertical-align: middle;\n",
       "    }\n",
       "\n",
       "    .dataframe tbody tr th {\n",
       "        vertical-align: top;\n",
       "    }\n",
       "\n",
       "    .dataframe thead th {\n",
       "        text-align: right;\n",
       "    }\n",
       "</style>\n",
       "<table border=\"1\" class=\"dataframe\">\n",
       "  <thead>\n",
       "    <tr style=\"text-align: right;\">\n",
       "      <th></th>\n",
       "      <th>worse_B</th>\n",
       "      <th>worse_C</th>\n",
       "      <th>worse_D</th>\n",
       "      <th>worse_E</th>\n",
       "    </tr>\n",
       "  </thead>\n",
       "  <tbody>\n",
       "    <tr>\n",
       "      <th>0</th>\n",
       "      <td>0</td>\n",
       "      <td>0</td>\n",
       "      <td>0</td>\n",
       "      <td>0</td>\n",
       "    </tr>\n",
       "    <tr>\n",
       "      <th>1</th>\n",
       "      <td>0</td>\n",
       "      <td>0</td>\n",
       "      <td>0</td>\n",
       "      <td>0</td>\n",
       "    </tr>\n",
       "    <tr>\n",
       "      <th>2</th>\n",
       "      <td>0</td>\n",
       "      <td>0</td>\n",
       "      <td>0</td>\n",
       "      <td>0</td>\n",
       "    </tr>\n",
       "    <tr>\n",
       "      <th>3</th>\n",
       "      <td>0</td>\n",
       "      <td>0</td>\n",
       "      <td>0</td>\n",
       "      <td>0</td>\n",
       "    </tr>\n",
       "    <tr>\n",
       "      <th>4</th>\n",
       "      <td>0</td>\n",
       "      <td>0</td>\n",
       "      <td>0</td>\n",
       "      <td>0</td>\n",
       "    </tr>\n",
       "  </tbody>\n",
       "</table>\n",
       "</div>"
      ],
      "text/plain": [
       "   worse_B  worse_C  worse_D  worse_E\n",
       "0        0        0        0        0\n",
       "1        0        0        0        0\n",
       "2        0        0        0        0\n",
       "3        0        0        0        0\n",
       "4        0        0        0        0"
      ]
     },
     "execution_count": 61,
     "metadata": {},
     "output_type": "execute_result"
    }
   ],
   "source": [
    "#use a one-hot-encoding approach for incorporating the \"grade\" categorical variable\n",
    "grade_worse = pd.get_dummies(model_df['CALIFICACION_PEOR'], prefix = \"worse\", drop_first=True)\n",
    "grade_worse.head()"
   ]
  },
  {
   "cell_type": "code",
   "execution_count": 62,
   "id": "02fa47b9-4bcf-4b56-9fb3-b085d40e262b",
   "metadata": {},
   "outputs": [
    {
     "data": {
      "text/html": [
       "<div>\n",
       "<style scoped>\n",
       "    .dataframe tbody tr th:only-of-type {\n",
       "        vertical-align: middle;\n",
       "    }\n",
       "\n",
       "    .dataframe tbody tr th {\n",
       "        vertical-align: top;\n",
       "    }\n",
       "\n",
       "    .dataframe thead th {\n",
       "        text-align: right;\n",
       "    }\n",
       "</style>\n",
       "<table border=\"1\" class=\"dataframe\">\n",
       "  <thead>\n",
       "    <tr style=\"text-align: right;\">\n",
       "      <th></th>\n",
       "      <th>CUOTAS_PACTADAS</th>\n",
       "      <th>TASA_PERIODICA</th>\n",
       "      <th>MUNICIPIO_LAT</th>\n",
       "      <th>MUNICIPIO_LON</th>\n",
       "      <th>TASA_ANUAL</th>\n",
       "      <th>MONTO</th>\n",
       "      <th>EDAD</th>\n",
       "      <th>ESTRATO</th>\n",
       "      <th>SUELDO_BASICO</th>\n",
       "      <th>worse_B</th>\n",
       "      <th>worse_C</th>\n",
       "      <th>worse_D</th>\n",
       "      <th>worse_E</th>\n",
       "    </tr>\n",
       "  </thead>\n",
       "  <tbody>\n",
       "    <tr>\n",
       "      <th>0</th>\n",
       "      <td>12.0</td>\n",
       "      <td>2.64</td>\n",
       "      <td>4.85430</td>\n",
       "      <td>-73.04003</td>\n",
       "      <td>31.67</td>\n",
       "      <td>6.301030</td>\n",
       "      <td>51.0</td>\n",
       "      <td>1.0</td>\n",
       "      <td>0.0</td>\n",
       "      <td>0</td>\n",
       "      <td>0</td>\n",
       "      <td>0</td>\n",
       "      <td>0</td>\n",
       "    </tr>\n",
       "    <tr>\n",
       "      <th>1</th>\n",
       "      <td>36.0</td>\n",
       "      <td>2.94</td>\n",
       "      <td>4.14200</td>\n",
       "      <td>-73.62664</td>\n",
       "      <td>35.29</td>\n",
       "      <td>6.778151</td>\n",
       "      <td>48.0</td>\n",
       "      <td>2.0</td>\n",
       "      <td>0.0</td>\n",
       "      <td>0</td>\n",
       "      <td>0</td>\n",
       "      <td>0</td>\n",
       "      <td>0</td>\n",
       "    </tr>\n",
       "    <tr>\n",
       "      <th>2</th>\n",
       "      <td>24.0</td>\n",
       "      <td>2.94</td>\n",
       "      <td>3.98695</td>\n",
       "      <td>-73.75797</td>\n",
       "      <td>35.29</td>\n",
       "      <td>6.469822</td>\n",
       "      <td>53.0</td>\n",
       "      <td>2.0</td>\n",
       "      <td>0.0</td>\n",
       "      <td>0</td>\n",
       "      <td>0</td>\n",
       "      <td>0</td>\n",
       "      <td>0</td>\n",
       "    </tr>\n",
       "    <tr>\n",
       "      <th>3</th>\n",
       "      <td>24.0</td>\n",
       "      <td>2.94</td>\n",
       "      <td>3.54625</td>\n",
       "      <td>-73.70687</td>\n",
       "      <td>35.29</td>\n",
       "      <td>6.462398</td>\n",
       "      <td>50.0</td>\n",
       "      <td>2.0</td>\n",
       "      <td>1400000.0</td>\n",
       "      <td>0</td>\n",
       "      <td>0</td>\n",
       "      <td>0</td>\n",
       "      <td>0</td>\n",
       "    </tr>\n",
       "    <tr>\n",
       "      <th>4</th>\n",
       "      <td>12.0</td>\n",
       "      <td>2.94</td>\n",
       "      <td>4.87802</td>\n",
       "      <td>-72.89575</td>\n",
       "      <td>35.29</td>\n",
       "      <td>6.000000</td>\n",
       "      <td>73.0</td>\n",
       "      <td>1.0</td>\n",
       "      <td>0.0</td>\n",
       "      <td>0</td>\n",
       "      <td>0</td>\n",
       "      <td>0</td>\n",
       "      <td>0</td>\n",
       "    </tr>\n",
       "  </tbody>\n",
       "</table>\n",
       "</div>"
      ],
      "text/plain": [
       "   CUOTAS_PACTADAS  TASA_PERIODICA  MUNICIPIO_LAT  MUNICIPIO_LON  TASA_ANUAL  \\\n",
       "0             12.0            2.64        4.85430      -73.04003       31.67   \n",
       "1             36.0            2.94        4.14200      -73.62664       35.29   \n",
       "2             24.0            2.94        3.98695      -73.75797       35.29   \n",
       "3             24.0            2.94        3.54625      -73.70687       35.29   \n",
       "4             12.0            2.94        4.87802      -72.89575       35.29   \n",
       "\n",
       "      MONTO  EDAD  ESTRATO  SUELDO_BASICO  worse_B  worse_C  worse_D  worse_E  \n",
       "0  6.301030  51.0      1.0            0.0        0        0        0        0  \n",
       "1  6.778151  48.0      2.0            0.0        0        0        0        0  \n",
       "2  6.469822  53.0      2.0            0.0        0        0        0        0  \n",
       "3  6.462398  50.0      2.0      1400000.0        0        0        0        0  \n",
       "4  6.000000  73.0      1.0            0.0        0        0        0        0  "
      ]
     },
     "execution_count": 62,
     "metadata": {},
     "output_type": "execute_result"
    }
   ],
   "source": [
    "X_worse = pd.concat([X_full, grade_worse],axis=1) \n",
    "X_worse.head()"
   ]
  },
  {
   "cell_type": "code",
   "execution_count": 63,
   "id": "cd2e1f06-671b-430e-9c33-8af2c10760cc",
   "metadata": {},
   "outputs": [
    {
     "data": {
      "text/html": [
       "<div>\n",
       "<style scoped>\n",
       "    .dataframe tbody tr th:only-of-type {\n",
       "        vertical-align: middle;\n",
       "    }\n",
       "\n",
       "    .dataframe tbody tr th {\n",
       "        vertical-align: top;\n",
       "    }\n",
       "\n",
       "    .dataframe thead th {\n",
       "        text-align: right;\n",
       "    }\n",
       "</style>\n",
       "<table border=\"1\" class=\"dataframe\">\n",
       "  <thead>\n",
       "    <tr style=\"text-align: right;\">\n",
       "      <th></th>\n",
       "      <th>index</th>\n",
       "      <th>Nulos</th>\n",
       "    </tr>\n",
       "  </thead>\n",
       "  <tbody>\n",
       "  </tbody>\n",
       "</table>\n",
       "</div>"
      ],
      "text/plain": [
       "Empty DataFrame\n",
       "Columns: [index, Nulos]\n",
       "Index: []"
      ]
     },
     "execution_count": 63,
     "metadata": {},
     "output_type": "execute_result"
    }
   ],
   "source": [
    "X_worse = X_worse.dropna()\n",
    "null_eda = X_worse.isnull().sum().to_frame(name='Nulos').reset_index()\n",
    "null_eda[null_eda['Nulos'] > 0]\n",
    "X_worse.shape"
   ]
  },
  {
   "cell_type": "code",
   "execution_count": 67,
   "id": "6bbcd185-6505-4e36-8384-084b94509b24",
   "metadata": {},
   "outputs": [
    {
     "name": "stderr",
     "output_type": "stream",
     "text": [
      "C:\\Anaconda\\envs\\ds4a\\lib\\site-packages\\sklearn\\linear_model\\_sag.py:352: ConvergenceWarning: The max_iter was reached which means the coef_ did not converge\n",
      "  warnings.warn(\n",
      "C:\\Anaconda\\envs\\ds4a\\lib\\site-packages\\sklearn\\linear_model\\_sag.py:352: ConvergenceWarning: The max_iter was reached which means the coef_ did not converge\n",
      "  warnings.warn(\n",
      "C:\\Anaconda\\envs\\ds4a\\lib\\site-packages\\sklearn\\linear_model\\_sag.py:352: ConvergenceWarning: The max_iter was reached which means the coef_ did not converge\n",
      "  warnings.warn(\n",
      "C:\\Anaconda\\envs\\ds4a\\lib\\site-packages\\sklearn\\linear_model\\_sag.py:352: ConvergenceWarning: The max_iter was reached which means the coef_ did not converge\n",
      "  warnings.warn(\n",
      "C:\\Anaconda\\envs\\ds4a\\lib\\site-packages\\sklearn\\linear_model\\_sag.py:352: ConvergenceWarning: The max_iter was reached which means the coef_ did not converge\n",
      "  warnings.warn(\n",
      "C:\\Anaconda\\envs\\ds4a\\lib\\site-packages\\sklearn\\linear_model\\_sag.py:352: ConvergenceWarning: The max_iter was reached which means the coef_ did not converge\n",
      "  warnings.warn(\n",
      "C:\\Anaconda\\envs\\ds4a\\lib\\site-packages\\sklearn\\linear_model\\_sag.py:352: ConvergenceWarning: The max_iter was reached which means the coef_ did not converge\n",
      "  warnings.warn(\n",
      "C:\\Anaconda\\envs\\ds4a\\lib\\site-packages\\sklearn\\linear_model\\_sag.py:352: ConvergenceWarning: The max_iter was reached which means the coef_ did not converge\n",
      "  warnings.warn(\n",
      "C:\\Anaconda\\envs\\ds4a\\lib\\site-packages\\sklearn\\linear_model\\_sag.py:352: ConvergenceWarning: The max_iter was reached which means the coef_ did not converge\n",
      "  warnings.warn(\n",
      "C:\\Anaconda\\envs\\ds4a\\lib\\site-packages\\sklearn\\linear_model\\_sag.py:352: ConvergenceWarning: The max_iter was reached which means the coef_ did not converge\n",
      "  warnings.warn(\n"
     ]
    }
   ],
   "source": [
    "auc_list = cross_validation_AUC(X_worse, y_full)\n",
    "model_perf[\"ALL_NUMERICAL_WITH_WORSE_GRADE\"] = auc_list"
   ]
  },
  {
   "cell_type": "code",
   "execution_count": 68,
   "id": "d0560b98-7e7d-4cd1-9567-7a35be4e93fc",
   "metadata": {},
   "outputs": [
    {
     "data": {
      "image/png": "[encoded data removed]",
      "text/plain": [
       "<Figure size 720x360 with 1 Axes>"
      ]
     },
     "metadata": {},
     "output_type": "display_data"
    }
   ],
   "source": [
    "plt.figure(figsize= (10,5))\n",
    "plot_boxplot_ordered(model_perf)\n",
    "plt.xlabel(\"Predictive Model with a Single Predictive Feature\")\n",
    "plt.ylabel(\"AUC\");"
   ]
  },
  {
   "cell_type": "markdown",
   "id": "4b305b2b-b997-4852-82de-dca222040fa9",
   "metadata": {},
   "source": [
    "_________________"
   ]
  },
  {
   "cell_type": "markdown",
   "id": "7a178f0b-8a0d-4d92-8c36-93c19a92498f",
   "metadata": {},
   "source": [
    "Calificación de Cierre"
   ]
  },
  {
   "cell_type": "markdown",
   "id": "2181e8c4-fba9-4dc8-b9c9-011ba43009ec",
   "metadata": {},
   "source": [
    "The grade of a loan (i.e. the LC-assigned loan grade feature) has not been used so far. The following is the distribution of the categorical grade feature:"
   ]
  },
  {
   "cell_type": "code",
   "execution_count": 120,
   "id": "8dddbe6c-5131-41fb-a5fd-565ca01cc5d1",
   "metadata": {},
   "outputs": [
    {
     "data": {
      "image/png": "[encoded data removed]",
      "text/plain": [
       "<Figure size 432x288 with 1 Axes>"
      ]
     },
     "metadata": {},
     "output_type": "display_data"
    }
   ],
   "source": [
    "sns.countplot(x='CALIFICACION_CIERRE', data = model_df);"
   ]
  },
  {
   "cell_type": "code",
   "execution_count": 121,
   "id": "86f37f4c-cc7a-4706-84d7-12c43f967060",
   "metadata": {},
   "outputs": [
    {
     "data": {
      "text/html": [
       "<div>\n",
       "<style scoped>\n",
       "    .dataframe tbody tr th:only-of-type {\n",
       "        vertical-align: middle;\n",
       "    }\n",
       "\n",
       "    .dataframe tbody tr th {\n",
       "        vertical-align: top;\n",
       "    }\n",
       "\n",
       "    .dataframe thead th {\n",
       "        text-align: right;\n",
       "    }\n",
       "</style>\n",
       "<table border=\"1\" class=\"dataframe\">\n",
       "  <thead>\n",
       "    <tr style=\"text-align: right;\">\n",
       "      <th></th>\n",
       "      <th>grade_B</th>\n",
       "      <th>grade_C</th>\n",
       "      <th>grade_D</th>\n",
       "      <th>grade_E</th>\n",
       "    </tr>\n",
       "  </thead>\n",
       "  <tbody>\n",
       "    <tr>\n",
       "      <th>0</th>\n",
       "      <td>0</td>\n",
       "      <td>0</td>\n",
       "      <td>0</td>\n",
       "      <td>0</td>\n",
       "    </tr>\n",
       "    <tr>\n",
       "      <th>1</th>\n",
       "      <td>0</td>\n",
       "      <td>0</td>\n",
       "      <td>0</td>\n",
       "      <td>0</td>\n",
       "    </tr>\n",
       "    <tr>\n",
       "      <th>2</th>\n",
       "      <td>0</td>\n",
       "      <td>0</td>\n",
       "      <td>0</td>\n",
       "      <td>0</td>\n",
       "    </tr>\n",
       "    <tr>\n",
       "      <th>3</th>\n",
       "      <td>0</td>\n",
       "      <td>0</td>\n",
       "      <td>0</td>\n",
       "      <td>0</td>\n",
       "    </tr>\n",
       "    <tr>\n",
       "      <th>4</th>\n",
       "      <td>0</td>\n",
       "      <td>0</td>\n",
       "      <td>0</td>\n",
       "      <td>0</td>\n",
       "    </tr>\n",
       "  </tbody>\n",
       "</table>\n",
       "</div>"
      ],
      "text/plain": [
       "   grade_B  grade_C  grade_D  grade_E\n",
       "0        0        0        0        0\n",
       "1        0        0        0        0\n",
       "2        0        0        0        0\n",
       "3        0        0        0        0\n",
       "4        0        0        0        0"
      ]
     },
     "execution_count": 121,
     "metadata": {},
     "output_type": "execute_result"
    }
   ],
   "source": [
    "#use a one-hot-encoding approach for incorporating the \"grade\" categorical variable\n",
    "grade_categ = pd.get_dummies(model_df['CALIFICACION_CIERRE'], prefix = \"grade\", drop_first=True)\n",
    "grade_categ.head()"
   ]
  },
  {
   "cell_type": "code",
   "execution_count": 122,
   "id": "4924c285-2e23-4f67-b5d2-cb44923c8db9",
   "metadata": {},
   "outputs": [
    {
     "data": {
      "text/html": [
       "<div>\n",
       "<style scoped>\n",
       "    .dataframe tbody tr th:only-of-type {\n",
       "        vertical-align: middle;\n",
       "    }\n",
       "\n",
       "    .dataframe tbody tr th {\n",
       "        vertical-align: top;\n",
       "    }\n",
       "\n",
       "    .dataframe thead th {\n",
       "        text-align: right;\n",
       "    }\n",
       "</style>\n",
       "<table border=\"1\" class=\"dataframe\">\n",
       "  <thead>\n",
       "    <tr style=\"text-align: right;\">\n",
       "      <th></th>\n",
       "      <th>CUOTAS_PACTADAS</th>\n",
       "      <th>TASA_PERIODICA</th>\n",
       "      <th>MUNICIPIO_LAT</th>\n",
       "      <th>MUNICIPIO_LON</th>\n",
       "      <th>TASA_ANUAL</th>\n",
       "      <th>MONTO</th>\n",
       "      <th>EDAD</th>\n",
       "      <th>ESTRATO</th>\n",
       "      <th>SUELDO_BASICO</th>\n",
       "      <th>grade_B</th>\n",
       "      <th>grade_C</th>\n",
       "      <th>grade_D</th>\n",
       "      <th>grade_E</th>\n",
       "    </tr>\n",
       "  </thead>\n",
       "  <tbody>\n",
       "    <tr>\n",
       "      <th>0</th>\n",
       "      <td>12.0</td>\n",
       "      <td>2.64</td>\n",
       "      <td>4.85430</td>\n",
       "      <td>-73.04003</td>\n",
       "      <td>31.67</td>\n",
       "      <td>6.301030</td>\n",
       "      <td>51.0</td>\n",
       "      <td>1.0</td>\n",
       "      <td>0.0</td>\n",
       "      <td>0</td>\n",
       "      <td>0</td>\n",
       "      <td>0</td>\n",
       "      <td>0</td>\n",
       "    </tr>\n",
       "    <tr>\n",
       "      <th>1</th>\n",
       "      <td>36.0</td>\n",
       "      <td>2.94</td>\n",
       "      <td>4.14200</td>\n",
       "      <td>-73.62664</td>\n",
       "      <td>35.29</td>\n",
       "      <td>6.778151</td>\n",
       "      <td>48.0</td>\n",
       "      <td>2.0</td>\n",
       "      <td>0.0</td>\n",
       "      <td>0</td>\n",
       "      <td>0</td>\n",
       "      <td>0</td>\n",
       "      <td>0</td>\n",
       "    </tr>\n",
       "    <tr>\n",
       "      <th>2</th>\n",
       "      <td>24.0</td>\n",
       "      <td>2.94</td>\n",
       "      <td>3.98695</td>\n",
       "      <td>-73.75797</td>\n",
       "      <td>35.29</td>\n",
       "      <td>6.469822</td>\n",
       "      <td>53.0</td>\n",
       "      <td>2.0</td>\n",
       "      <td>0.0</td>\n",
       "      <td>0</td>\n",
       "      <td>0</td>\n",
       "      <td>0</td>\n",
       "      <td>0</td>\n",
       "    </tr>\n",
       "    <tr>\n",
       "      <th>3</th>\n",
       "      <td>24.0</td>\n",
       "      <td>2.94</td>\n",
       "      <td>3.54625</td>\n",
       "      <td>-73.70687</td>\n",
       "      <td>35.29</td>\n",
       "      <td>6.462398</td>\n",
       "      <td>50.0</td>\n",
       "      <td>2.0</td>\n",
       "      <td>1400000.0</td>\n",
       "      <td>0</td>\n",
       "      <td>0</td>\n",
       "      <td>0</td>\n",
       "      <td>0</td>\n",
       "    </tr>\n",
       "    <tr>\n",
       "      <th>4</th>\n",
       "      <td>12.0</td>\n",
       "      <td>2.94</td>\n",
       "      <td>4.87802</td>\n",
       "      <td>-72.89575</td>\n",
       "      <td>35.29</td>\n",
       "      <td>6.000000</td>\n",
       "      <td>73.0</td>\n",
       "      <td>1.0</td>\n",
       "      <td>0.0</td>\n",
       "      <td>0</td>\n",
       "      <td>0</td>\n",
       "      <td>0</td>\n",
       "      <td>0</td>\n",
       "    </tr>\n",
       "  </tbody>\n",
       "</table>\n",
       "</div>"
      ],
      "text/plain": [
       "   CUOTAS_PACTADAS  TASA_PERIODICA  MUNICIPIO_LAT  MUNICIPIO_LON  TASA_ANUAL  \\\n",
       "0             12.0            2.64        4.85430      -73.04003       31.67   \n",
       "1             36.0            2.94        4.14200      -73.62664       35.29   \n",
       "2             24.0            2.94        3.98695      -73.75797       35.29   \n",
       "3             24.0            2.94        3.54625      -73.70687       35.29   \n",
       "4             12.0            2.94        4.87802      -72.89575       35.29   \n",
       "\n",
       "      MONTO  EDAD  ESTRATO  SUELDO_BASICO  grade_B  grade_C  grade_D  grade_E  \n",
       "0  6.301030  51.0      1.0            0.0        0        0        0        0  \n",
       "1  6.778151  48.0      2.0            0.0        0        0        0        0  \n",
       "2  6.469822  53.0      2.0            0.0        0        0        0        0  \n",
       "3  6.462398  50.0      2.0      1400000.0        0        0        0        0  \n",
       "4  6.000000  73.0      1.0            0.0        0        0        0        0  "
      ]
     },
     "execution_count": 122,
     "metadata": {},
     "output_type": "execute_result"
    }
   ],
   "source": [
    "X_grade = pd.concat([X_full, grade_categ],axis=1) \n",
    "X_grade.head()"
   ]
  },
  {
   "cell_type": "code",
   "execution_count": 123,
   "id": "7a6a327a-587b-4ecb-b36d-d692fef7df6b",
   "metadata": {},
   "outputs": [
    {
     "data": {
      "text/html": [
       "<div>\n",
       "<style scoped>\n",
       "    .dataframe tbody tr th:only-of-type {\n",
       "        vertical-align: middle;\n",
       "    }\n",
       "\n",
       "    .dataframe tbody tr th {\n",
       "        vertical-align: top;\n",
       "    }\n",
       "\n",
       "    .dataframe thead th {\n",
       "        text-align: right;\n",
       "    }\n",
       "</style>\n",
       "<table border=\"1\" class=\"dataframe\">\n",
       "  <thead>\n",
       "    <tr style=\"text-align: right;\">\n",
       "      <th></th>\n",
       "      <th>index</th>\n",
       "      <th>Nulos</th>\n",
       "    </tr>\n",
       "  </thead>\n",
       "  <tbody>\n",
       "  </tbody>\n",
       "</table>\n",
       "</div>"
      ],
      "text/plain": [
       "Empty DataFrame\n",
       "Columns: [index, Nulos]\n",
       "Index: []"
      ]
     },
     "execution_count": 123,
     "metadata": {},
     "output_type": "execute_result"
    }
   ],
   "source": [
    "X_grade = X_grade.dropna()\n",
    "null_eda = X_grade.isnull().sum().to_frame(name='Nulos').reset_index()\n",
    "null_eda[null_eda['Nulos'] > 0]"
   ]
  },
  {
   "cell_type": "code",
   "execution_count": 124,
   "id": "6b507b07-dee9-44f6-89c2-516004e1b148",
   "metadata": {},
   "outputs": [
    {
     "name": "stderr",
     "output_type": "stream",
     "text": [
      "C:\\Anaconda\\envs\\ds4a\\lib\\site-packages\\sklearn\\linear_model\\_sag.py:352: ConvergenceWarning: The max_iter was reached which means the coef_ did not converge\n",
      "  warnings.warn(\n",
      "C:\\Anaconda\\envs\\ds4a\\lib\\site-packages\\sklearn\\linear_model\\_sag.py:352: ConvergenceWarning: The max_iter was reached which means the coef_ did not converge\n",
      "  warnings.warn(\n",
      "C:\\Anaconda\\envs\\ds4a\\lib\\site-packages\\sklearn\\linear_model\\_sag.py:352: ConvergenceWarning: The max_iter was reached which means the coef_ did not converge\n",
      "  warnings.warn(\n",
      "C:\\Anaconda\\envs\\ds4a\\lib\\site-packages\\sklearn\\linear_model\\_sag.py:352: ConvergenceWarning: The max_iter was reached which means the coef_ did not converge\n",
      "  warnings.warn(\n",
      "C:\\Anaconda\\envs\\ds4a\\lib\\site-packages\\sklearn\\linear_model\\_sag.py:352: ConvergenceWarning: The max_iter was reached which means the coef_ did not converge\n",
      "  warnings.warn(\n"
     ]
    }
   ],
   "source": [
    "auc_list = cross_validation_AUC(X_grade, y_full)\n",
    "model_perf[\"ALL_NUMERICAL_WITH_GRADE\"] = auc_list"
   ]
  },
  {
   "cell_type": "code",
   "execution_count": 125,
   "id": "de7ac7d2-3352-4766-ab9b-5afa2e43aa48",
   "metadata": {},
   "outputs": [
    {
     "data": {
      "image/png": "[encoded data removed]",
      "text/plain": [
       "<Figure size 720x360 with 1 Axes>"
      ]
     },
     "metadata": {},
     "output_type": "display_data"
    }
   ],
   "source": [
    "plt.figure(figsize= (10,5))\n",
    "plot_boxplot_ordered(model_perf)\n",
    "plt.xlabel(\"Predictive Model with a Single Predictive Feature\")\n",
    "plt.ylabel(\"AUC\");"
   ]
  },
  {
   "cell_type": "markdown",
   "id": "df91596d-9447-4ebb-a461-baf7bca15d1e",
   "metadata": {},
   "source": [
    "______"
   ]
  },
  {
   "cell_type": "markdown",
   "id": "d84f7c7d-4adc-42da-8132-afe1dd05236d",
   "metadata": {},
   "source": [
    "Homeownership:"
   ]
  },
  {
   "cell_type": "code",
   "execution_count": 126,
   "id": "51e141f8-ce03-4450-9565-4cb1f6f09d2d",
   "metadata": {},
   "outputs": [
    {
     "data": {
      "text/html": [
       "<div>\n",
       "<style scoped>\n",
       "    .dataframe tbody tr th:only-of-type {\n",
       "        vertical-align: middle;\n",
       "    }\n",
       "\n",
       "    .dataframe tbody tr th {\n",
       "        vertical-align: top;\n",
       "    }\n",
       "\n",
       "    .dataframe thead th {\n",
       "        text-align: right;\n",
       "    }\n",
       "</style>\n",
       "<table border=\"1\" class=\"dataframe\">\n",
       "  <thead>\n",
       "    <tr style=\"text-align: right;\">\n",
       "      <th></th>\n",
       "      <th>homeownership_FAMILIAR</th>\n",
       "      <th>homeownership_HIPOTECA</th>\n",
       "      <th>homeownership_OTRA</th>\n",
       "      <th>homeownership_PROPIA</th>\n",
       "      <th>homeownership_SIN_VIVIENDA</th>\n",
       "    </tr>\n",
       "  </thead>\n",
       "  <tbody>\n",
       "    <tr>\n",
       "      <th>0</th>\n",
       "      <td>0</td>\n",
       "      <td>0</td>\n",
       "      <td>0</td>\n",
       "      <td>0</td>\n",
       "      <td>0</td>\n",
       "    </tr>\n",
       "    <tr>\n",
       "      <th>1</th>\n",
       "      <td>0</td>\n",
       "      <td>0</td>\n",
       "      <td>1</td>\n",
       "      <td>0</td>\n",
       "      <td>0</td>\n",
       "    </tr>\n",
       "    <tr>\n",
       "      <th>2</th>\n",
       "      <td>1</td>\n",
       "      <td>0</td>\n",
       "      <td>0</td>\n",
       "      <td>0</td>\n",
       "      <td>0</td>\n",
       "    </tr>\n",
       "    <tr>\n",
       "      <th>3</th>\n",
       "      <td>0</td>\n",
       "      <td>0</td>\n",
       "      <td>0</td>\n",
       "      <td>0</td>\n",
       "      <td>0</td>\n",
       "    </tr>\n",
       "    <tr>\n",
       "      <th>4</th>\n",
       "      <td>0</td>\n",
       "      <td>0</td>\n",
       "      <td>0</td>\n",
       "      <td>1</td>\n",
       "      <td>0</td>\n",
       "    </tr>\n",
       "  </tbody>\n",
       "</table>\n",
       "</div>"
      ],
      "text/plain": [
       "   homeownership_FAMILIAR  homeownership_HIPOTECA  homeownership_OTRA  \\\n",
       "0                       0                       0                   0   \n",
       "1                       0                       0                   1   \n",
       "2                       1                       0                   0   \n",
       "3                       0                       0                   0   \n",
       "4                       0                       0                   0   \n",
       "\n",
       "   homeownership_PROPIA  homeownership_SIN_VIVIENDA  \n",
       "0                     0                           0  \n",
       "1                     0                           0  \n",
       "2                     0                           0  \n",
       "3                     0                           0  \n",
       "4                     1                           0  "
      ]
     },
     "execution_count": 126,
     "metadata": {},
     "output_type": "execute_result"
    }
   ],
   "source": [
    "#use a one-hot-encoding approach for incorporating the \"TIPO_VIVIENDA\" categorical variable\n",
    "homeownership_categ = pd.get_dummies(model_df['TIPO_VIVIENDA'], prefix = \"homeownership\", drop_first=True)\n",
    "homeownership_categ.head()"
   ]
  },
  {
   "cell_type": "code",
   "execution_count": 127,
   "id": "7c84c919-57bd-44e2-b222-3d7b7bf88345",
   "metadata": {},
   "outputs": [
    {
     "data": {
      "text/html": [
       "<div>\n",
       "<style scoped>\n",
       "    .dataframe tbody tr th:only-of-type {\n",
       "        vertical-align: middle;\n",
       "    }\n",
       "\n",
       "    .dataframe tbody tr th {\n",
       "        vertical-align: top;\n",
       "    }\n",
       "\n",
       "    .dataframe thead th {\n",
       "        text-align: right;\n",
       "    }\n",
       "</style>\n",
       "<table border=\"1\" class=\"dataframe\">\n",
       "  <thead>\n",
       "    <tr style=\"text-align: right;\">\n",
       "      <th></th>\n",
       "      <th>CUOTAS_PACTADAS</th>\n",
       "      <th>TASA_PERIODICA</th>\n",
       "      <th>MUNICIPIO_LAT</th>\n",
       "      <th>MUNICIPIO_LON</th>\n",
       "      <th>TASA_ANUAL</th>\n",
       "      <th>MONTO</th>\n",
       "      <th>EDAD</th>\n",
       "      <th>ESTRATO</th>\n",
       "      <th>SUELDO_BASICO</th>\n",
       "      <th>grade_B</th>\n",
       "      <th>grade_C</th>\n",
       "      <th>grade_D</th>\n",
       "      <th>grade_E</th>\n",
       "      <th>homeownership_FAMILIAR</th>\n",
       "      <th>homeownership_HIPOTECA</th>\n",
       "      <th>homeownership_OTRA</th>\n",
       "      <th>homeownership_PROPIA</th>\n",
       "      <th>homeownership_SIN_VIVIENDA</th>\n",
       "    </tr>\n",
       "  </thead>\n",
       "  <tbody>\n",
       "    <tr>\n",
       "      <th>0</th>\n",
       "      <td>12.0</td>\n",
       "      <td>2.64</td>\n",
       "      <td>4.85430</td>\n",
       "      <td>-73.04003</td>\n",
       "      <td>31.67</td>\n",
       "      <td>6.301030</td>\n",
       "      <td>51.0</td>\n",
       "      <td>1.0</td>\n",
       "      <td>0.0</td>\n",
       "      <td>0.0</td>\n",
       "      <td>0.0</td>\n",
       "      <td>0.0</td>\n",
       "      <td>0.0</td>\n",
       "      <td>0</td>\n",
       "      <td>0</td>\n",
       "      <td>0</td>\n",
       "      <td>0</td>\n",
       "      <td>0</td>\n",
       "    </tr>\n",
       "    <tr>\n",
       "      <th>1</th>\n",
       "      <td>36.0</td>\n",
       "      <td>2.94</td>\n",
       "      <td>4.14200</td>\n",
       "      <td>-73.62664</td>\n",
       "      <td>35.29</td>\n",
       "      <td>6.778151</td>\n",
       "      <td>48.0</td>\n",
       "      <td>2.0</td>\n",
       "      <td>0.0</td>\n",
       "      <td>0.0</td>\n",
       "      <td>0.0</td>\n",
       "      <td>0.0</td>\n",
       "      <td>0.0</td>\n",
       "      <td>0</td>\n",
       "      <td>0</td>\n",
       "      <td>1</td>\n",
       "      <td>0</td>\n",
       "      <td>0</td>\n",
       "    </tr>\n",
       "    <tr>\n",
       "      <th>2</th>\n",
       "      <td>24.0</td>\n",
       "      <td>2.94</td>\n",
       "      <td>3.98695</td>\n",
       "      <td>-73.75797</td>\n",
       "      <td>35.29</td>\n",
       "      <td>6.469822</td>\n",
       "      <td>53.0</td>\n",
       "      <td>2.0</td>\n",
       "      <td>0.0</td>\n",
       "      <td>0.0</td>\n",
       "      <td>0.0</td>\n",
       "      <td>0.0</td>\n",
       "      <td>0.0</td>\n",
       "      <td>1</td>\n",
       "      <td>0</td>\n",
       "      <td>0</td>\n",
       "      <td>0</td>\n",
       "      <td>0</td>\n",
       "    </tr>\n",
       "    <tr>\n",
       "      <th>3</th>\n",
       "      <td>24.0</td>\n",
       "      <td>2.94</td>\n",
       "      <td>3.54625</td>\n",
       "      <td>-73.70687</td>\n",
       "      <td>35.29</td>\n",
       "      <td>6.462398</td>\n",
       "      <td>50.0</td>\n",
       "      <td>2.0</td>\n",
       "      <td>1400000.0</td>\n",
       "      <td>0.0</td>\n",
       "      <td>0.0</td>\n",
       "      <td>0.0</td>\n",
       "      <td>0.0</td>\n",
       "      <td>0</td>\n",
       "      <td>0</td>\n",
       "      <td>0</td>\n",
       "      <td>0</td>\n",
       "      <td>0</td>\n",
       "    </tr>\n",
       "    <tr>\n",
       "      <th>4</th>\n",
       "      <td>12.0</td>\n",
       "      <td>2.94</td>\n",
       "      <td>4.87802</td>\n",
       "      <td>-72.89575</td>\n",
       "      <td>35.29</td>\n",
       "      <td>6.000000</td>\n",
       "      <td>73.0</td>\n",
       "      <td>1.0</td>\n",
       "      <td>0.0</td>\n",
       "      <td>0.0</td>\n",
       "      <td>0.0</td>\n",
       "      <td>0.0</td>\n",
       "      <td>0.0</td>\n",
       "      <td>0</td>\n",
       "      <td>0</td>\n",
       "      <td>0</td>\n",
       "      <td>1</td>\n",
       "      <td>0</td>\n",
       "    </tr>\n",
       "  </tbody>\n",
       "</table>\n",
       "</div>"
      ],
      "text/plain": [
       "   CUOTAS_PACTADAS  TASA_PERIODICA  MUNICIPIO_LAT  MUNICIPIO_LON  TASA_ANUAL  \\\n",
       "0             12.0            2.64        4.85430      -73.04003       31.67   \n",
       "1             36.0            2.94        4.14200      -73.62664       35.29   \n",
       "2             24.0            2.94        3.98695      -73.75797       35.29   \n",
       "3             24.0            2.94        3.54625      -73.70687       35.29   \n",
       "4             12.0            2.94        4.87802      -72.89575       35.29   \n",
       "\n",
       "      MONTO  EDAD  ESTRATO  SUELDO_BASICO  grade_B  grade_C  grade_D  grade_E  \\\n",
       "0  6.301030  51.0      1.0            0.0      0.0      0.0      0.0      0.0   \n",
       "1  6.778151  48.0      2.0            0.0      0.0      0.0      0.0      0.0   \n",
       "2  6.469822  53.0      2.0            0.0      0.0      0.0      0.0      0.0   \n",
       "3  6.462398  50.0      2.0      1400000.0      0.0      0.0      0.0      0.0   \n",
       "4  6.000000  73.0      1.0            0.0      0.0      0.0      0.0      0.0   \n",
       "\n",
       "   homeownership_FAMILIAR  homeownership_HIPOTECA  homeownership_OTRA  \\\n",
       "0                       0                       0                   0   \n",
       "1                       0                       0                   1   \n",
       "2                       1                       0                   0   \n",
       "3                       0                       0                   0   \n",
       "4                       0                       0                   0   \n",
       "\n",
       "   homeownership_PROPIA  homeownership_SIN_VIVIENDA  \n",
       "0                     0                           0  \n",
       "1                     0                           0  \n",
       "2                     0                           0  \n",
       "3                     0                           0  \n",
       "4                     1                           0  "
      ]
     },
     "execution_count": 127,
     "metadata": {},
     "output_type": "execute_result"
    }
   ],
   "source": [
    "X_homeownership = pd.concat([X_grade, homeownership_categ], axis=1) \n",
    "X_homeownership.head()"
   ]
  },
  {
   "cell_type": "code",
   "execution_count": 128,
   "id": "45840aff-a64f-4311-9898-7d867250f35f",
   "metadata": {},
   "outputs": [
    {
     "data": {
      "text/plain": [
       "(38502, 18)"
      ]
     },
     "execution_count": 128,
     "metadata": {},
     "output_type": "execute_result"
    }
   ],
   "source": [
    "X_homeownership = X_homeownership.dropna()\n",
    "null_eda = X_homeownership.isnull().sum().to_frame(name='Nulos').reset_index()\n",
    "null_eda[null_eda['Nulos'] > 0]\n",
    "X_homeownership.shape"
   ]
  },
  {
   "cell_type": "code",
   "execution_count": 129,
   "id": "0ca3d27c-054e-48e0-80e4-c531806992d0",
   "metadata": {},
   "outputs": [
    {
     "name": "stderr",
     "output_type": "stream",
     "text": [
      "C:\\Anaconda\\envs\\ds4a\\lib\\site-packages\\sklearn\\linear_model\\_sag.py:352: ConvergenceWarning: The max_iter was reached which means the coef_ did not converge\n",
      "  warnings.warn(\n",
      "C:\\Anaconda\\envs\\ds4a\\lib\\site-packages\\sklearn\\linear_model\\_sag.py:352: ConvergenceWarning: The max_iter was reached which means the coef_ did not converge\n",
      "  warnings.warn(\n",
      "C:\\Anaconda\\envs\\ds4a\\lib\\site-packages\\sklearn\\linear_model\\_sag.py:352: ConvergenceWarning: The max_iter was reached which means the coef_ did not converge\n",
      "  warnings.warn(\n",
      "C:\\Anaconda\\envs\\ds4a\\lib\\site-packages\\sklearn\\linear_model\\_sag.py:352: ConvergenceWarning: The max_iter was reached which means the coef_ did not converge\n",
      "  warnings.warn(\n",
      "C:\\Anaconda\\envs\\ds4a\\lib\\site-packages\\sklearn\\linear_model\\_sag.py:352: ConvergenceWarning: The max_iter was reached which means the coef_ did not converge\n",
      "  warnings.warn(\n"
     ]
    }
   ],
   "source": [
    "auc_list = cross_validation_AUC(X_homeownership, y_full)\n",
    "model_perf[\"ALL_NUMERICAL_WITH_HOMEOWNERSHIP\"] = auc_list"
   ]
  },
  {
   "cell_type": "code",
   "execution_count": 130,
   "id": "2b888eba-ff3f-4ae5-a093-a6da1eb616cb",
   "metadata": {},
   "outputs": [
    {
     "data": {
      "image/png": "[encoded data removed]",
      "text/plain": [
       "<Figure size 720x360 with 1 Axes>"
      ]
     },
     "metadata": {},
     "output_type": "display_data"
    }
   ],
   "source": [
    "plt.figure(figsize= (10,5))\n",
    "plot_boxplot_ordered(model_perf)\n",
    "plt.xlabel(\"Predictive Model with a Single Predictive Feature\")\n",
    "plt.ylabel(\"AUC\");"
   ]
  },
  {
   "cell_type": "markdown",
   "id": "494f6000-cc5c-45c2-af5c-4af9b490b7c0",
   "metadata": {},
   "source": [
    "_____"
   ]
  },
  {
   "cell_type": "markdown",
   "id": "b132a33b-ccd3-419d-bb23-12700adbf4d9",
   "metadata": {},
   "source": [
    "Estado Civil:"
   ]
  },
  {
   "cell_type": "code",
   "execution_count": 131,
   "id": "3cf21245-b11f-4322-8785-0f1f4b477643",
   "metadata": {},
   "outputs": [
    {
     "data": {
      "text/html": [
       "<div>\n",
       "<style scoped>\n",
       "    .dataframe tbody tr th:only-of-type {\n",
       "        vertical-align: middle;\n",
       "    }\n",
       "\n",
       "    .dataframe tbody tr th {\n",
       "        vertical-align: top;\n",
       "    }\n",
       "\n",
       "    .dataframe thead th {\n",
       "        text-align: right;\n",
       "    }\n",
       "</style>\n",
       "<table border=\"1\" class=\"dataframe\">\n",
       "  <thead>\n",
       "    <tr style=\"text-align: right;\">\n",
       "      <th></th>\n",
       "      <th>marital_status_Divorciado</th>\n",
       "      <th>marital_status_Otro</th>\n",
       "      <th>marital_status_Soltero</th>\n",
       "      <th>marital_status_Union libre</th>\n",
       "      <th>marital_status_Viudo</th>\n",
       "    </tr>\n",
       "  </thead>\n",
       "  <tbody>\n",
       "    <tr>\n",
       "      <th>0</th>\n",
       "      <td>0</td>\n",
       "      <td>0</td>\n",
       "      <td>0</td>\n",
       "      <td>1</td>\n",
       "      <td>0</td>\n",
       "    </tr>\n",
       "    <tr>\n",
       "      <th>1</th>\n",
       "      <td>0</td>\n",
       "      <td>0</td>\n",
       "      <td>0</td>\n",
       "      <td>0</td>\n",
       "      <td>0</td>\n",
       "    </tr>\n",
       "    <tr>\n",
       "      <th>2</th>\n",
       "      <td>0</td>\n",
       "      <td>0</td>\n",
       "      <td>0</td>\n",
       "      <td>1</td>\n",
       "      <td>0</td>\n",
       "    </tr>\n",
       "    <tr>\n",
       "      <th>3</th>\n",
       "      <td>0</td>\n",
       "      <td>0</td>\n",
       "      <td>1</td>\n",
       "      <td>0</td>\n",
       "      <td>0</td>\n",
       "    </tr>\n",
       "    <tr>\n",
       "      <th>4</th>\n",
       "      <td>0</td>\n",
       "      <td>0</td>\n",
       "      <td>0</td>\n",
       "      <td>0</td>\n",
       "      <td>0</td>\n",
       "    </tr>\n",
       "  </tbody>\n",
       "</table>\n",
       "</div>"
      ],
      "text/plain": [
       "   marital_status_Divorciado  marital_status_Otro  marital_status_Soltero  \\\n",
       "0                          0                    0                       0   \n",
       "1                          0                    0                       0   \n",
       "2                          0                    0                       0   \n",
       "3                          0                    0                       1   \n",
       "4                          0                    0                       0   \n",
       "\n",
       "   marital_status_Union libre  marital_status_Viudo  \n",
       "0                           1                     0  \n",
       "1                           0                     0  \n",
       "2                           1                     0  \n",
       "3                           0                     0  \n",
       "4                           0                     0  "
      ]
     },
     "execution_count": 131,
     "metadata": {},
     "output_type": "execute_result"
    }
   ],
   "source": [
    "#use a one-hot-encoding approach for incorporating the \"TIPO_VIVIENDA\" categorical variable\n",
    "maritalstatus_categ = pd.get_dummies(model_df['ESTADO_CIVIL'], prefix = \"marital_status\", drop_first=True)\n",
    "maritalstatus_categ.head()"
   ]
  },
  {
   "cell_type": "code",
   "execution_count": 132,
   "id": "9557fd93-3981-4ff3-9b9f-f822fabaeeb6",
   "metadata": {},
   "outputs": [
    {
     "data": {
      "text/html": [
       "<div>\n",
       "<style scoped>\n",
       "    .dataframe tbody tr th:only-of-type {\n",
       "        vertical-align: middle;\n",
       "    }\n",
       "\n",
       "    .dataframe tbody tr th {\n",
       "        vertical-align: top;\n",
       "    }\n",
       "\n",
       "    .dataframe thead th {\n",
       "        text-align: right;\n",
       "    }\n",
       "</style>\n",
       "<table border=\"1\" class=\"dataframe\">\n",
       "  <thead>\n",
       "    <tr style=\"text-align: right;\">\n",
       "      <th></th>\n",
       "      <th>CUOTAS_PACTADAS</th>\n",
       "      <th>TASA_PERIODICA</th>\n",
       "      <th>MUNICIPIO_LAT</th>\n",
       "      <th>MUNICIPIO_LON</th>\n",
       "      <th>TASA_ANUAL</th>\n",
       "      <th>MONTO</th>\n",
       "      <th>EDAD</th>\n",
       "      <th>ESTRATO</th>\n",
       "      <th>SUELDO_BASICO</th>\n",
       "      <th>grade_B</th>\n",
       "      <th>grade_C</th>\n",
       "      <th>grade_D</th>\n",
       "      <th>grade_E</th>\n",
       "      <th>homeownership_FAMILIAR</th>\n",
       "      <th>homeownership_HIPOTECA</th>\n",
       "      <th>homeownership_OTRA</th>\n",
       "      <th>homeownership_PROPIA</th>\n",
       "      <th>homeownership_SIN_VIVIENDA</th>\n",
       "      <th>marital_status_Divorciado</th>\n",
       "      <th>marital_status_Otro</th>\n",
       "      <th>marital_status_Soltero</th>\n",
       "      <th>marital_status_Union libre</th>\n",
       "      <th>marital_status_Viudo</th>\n",
       "    </tr>\n",
       "  </thead>\n",
       "  <tbody>\n",
       "    <tr>\n",
       "      <th>0</th>\n",
       "      <td>12.0</td>\n",
       "      <td>2.64</td>\n",
       "      <td>4.85430</td>\n",
       "      <td>-73.04003</td>\n",
       "      <td>31.67</td>\n",
       "      <td>6.301030</td>\n",
       "      <td>51.0</td>\n",
       "      <td>1.0</td>\n",
       "      <td>0.0</td>\n",
       "      <td>0.0</td>\n",
       "      <td>0.0</td>\n",
       "      <td>0.0</td>\n",
       "      <td>0.0</td>\n",
       "      <td>0.0</td>\n",
       "      <td>0.0</td>\n",
       "      <td>0.0</td>\n",
       "      <td>0.0</td>\n",
       "      <td>0.0</td>\n",
       "      <td>0</td>\n",
       "      <td>0</td>\n",
       "      <td>0</td>\n",
       "      <td>1</td>\n",
       "      <td>0</td>\n",
       "    </tr>\n",
       "    <tr>\n",
       "      <th>1</th>\n",
       "      <td>36.0</td>\n",
       "      <td>2.94</td>\n",
       "      <td>4.14200</td>\n",
       "      <td>-73.62664</td>\n",
       "      <td>35.29</td>\n",
       "      <td>6.778151</td>\n",
       "      <td>48.0</td>\n",
       "      <td>2.0</td>\n",
       "      <td>0.0</td>\n",
       "      <td>0.0</td>\n",
       "      <td>0.0</td>\n",
       "      <td>0.0</td>\n",
       "      <td>0.0</td>\n",
       "      <td>0.0</td>\n",
       "      <td>0.0</td>\n",
       "      <td>1.0</td>\n",
       "      <td>0.0</td>\n",
       "      <td>0.0</td>\n",
       "      <td>0</td>\n",
       "      <td>0</td>\n",
       "      <td>0</td>\n",
       "      <td>0</td>\n",
       "      <td>0</td>\n",
       "    </tr>\n",
       "    <tr>\n",
       "      <th>2</th>\n",
       "      <td>24.0</td>\n",
       "      <td>2.94</td>\n",
       "      <td>3.98695</td>\n",
       "      <td>-73.75797</td>\n",
       "      <td>35.29</td>\n",
       "      <td>6.469822</td>\n",
       "      <td>53.0</td>\n",
       "      <td>2.0</td>\n",
       "      <td>0.0</td>\n",
       "      <td>0.0</td>\n",
       "      <td>0.0</td>\n",
       "      <td>0.0</td>\n",
       "      <td>0.0</td>\n",
       "      <td>1.0</td>\n",
       "      <td>0.0</td>\n",
       "      <td>0.0</td>\n",
       "      <td>0.0</td>\n",
       "      <td>0.0</td>\n",
       "      <td>0</td>\n",
       "      <td>0</td>\n",
       "      <td>0</td>\n",
       "      <td>1</td>\n",
       "      <td>0</td>\n",
       "    </tr>\n",
       "    <tr>\n",
       "      <th>3</th>\n",
       "      <td>24.0</td>\n",
       "      <td>2.94</td>\n",
       "      <td>3.54625</td>\n",
       "      <td>-73.70687</td>\n",
       "      <td>35.29</td>\n",
       "      <td>6.462398</td>\n",
       "      <td>50.0</td>\n",
       "      <td>2.0</td>\n",
       "      <td>1400000.0</td>\n",
       "      <td>0.0</td>\n",
       "      <td>0.0</td>\n",
       "      <td>0.0</td>\n",
       "      <td>0.0</td>\n",
       "      <td>0.0</td>\n",
       "      <td>0.0</td>\n",
       "      <td>0.0</td>\n",
       "      <td>0.0</td>\n",
       "      <td>0.0</td>\n",
       "      <td>0</td>\n",
       "      <td>0</td>\n",
       "      <td>1</td>\n",
       "      <td>0</td>\n",
       "      <td>0</td>\n",
       "    </tr>\n",
       "    <tr>\n",
       "      <th>4</th>\n",
       "      <td>12.0</td>\n",
       "      <td>2.94</td>\n",
       "      <td>4.87802</td>\n",
       "      <td>-72.89575</td>\n",
       "      <td>35.29</td>\n",
       "      <td>6.000000</td>\n",
       "      <td>73.0</td>\n",
       "      <td>1.0</td>\n",
       "      <td>0.0</td>\n",
       "      <td>0.0</td>\n",
       "      <td>0.0</td>\n",
       "      <td>0.0</td>\n",
       "      <td>0.0</td>\n",
       "      <td>0.0</td>\n",
       "      <td>0.0</td>\n",
       "      <td>0.0</td>\n",
       "      <td>1.0</td>\n",
       "      <td>0.0</td>\n",
       "      <td>0</td>\n",
       "      <td>0</td>\n",
       "      <td>0</td>\n",
       "      <td>0</td>\n",
       "      <td>0</td>\n",
       "    </tr>\n",
       "  </tbody>\n",
       "</table>\n",
       "</div>"
      ],
      "text/plain": [
       "   CUOTAS_PACTADAS  TASA_PERIODICA  MUNICIPIO_LAT  MUNICIPIO_LON  TASA_ANUAL  \\\n",
       "0             12.0            2.64        4.85430      -73.04003       31.67   \n",
       "1             36.0            2.94        4.14200      -73.62664       35.29   \n",
       "2             24.0            2.94        3.98695      -73.75797       35.29   \n",
       "3             24.0            2.94        3.54625      -73.70687       35.29   \n",
       "4             12.0            2.94        4.87802      -72.89575       35.29   \n",
       "\n",
       "      MONTO  EDAD  ESTRATO  SUELDO_BASICO  grade_B  grade_C  grade_D  grade_E  \\\n",
       "0  6.301030  51.0      1.0            0.0      0.0      0.0      0.0      0.0   \n",
       "1  6.778151  48.0      2.0            0.0      0.0      0.0      0.0      0.0   \n",
       "2  6.469822  53.0      2.0            0.0      0.0      0.0      0.0      0.0   \n",
       "3  6.462398  50.0      2.0      1400000.0      0.0      0.0      0.0      0.0   \n",
       "4  6.000000  73.0      1.0            0.0      0.0      0.0      0.0      0.0   \n",
       "\n",
       "   homeownership_FAMILIAR  homeownership_HIPOTECA  homeownership_OTRA  \\\n",
       "0                     0.0                     0.0                 0.0   \n",
       "1                     0.0                     0.0                 1.0   \n",
       "2                     1.0                     0.0                 0.0   \n",
       "3                     0.0                     0.0                 0.0   \n",
       "4                     0.0                     0.0                 0.0   \n",
       "\n",
       "   homeownership_PROPIA  homeownership_SIN_VIVIENDA  \\\n",
       "0                   0.0                         0.0   \n",
       "1                   0.0                         0.0   \n",
       "2                   0.0                         0.0   \n",
       "3                   0.0                         0.0   \n",
       "4                   1.0                         0.0   \n",
       "\n",
       "   marital_status_Divorciado  marital_status_Otro  marital_status_Soltero  \\\n",
       "0                          0                    0                       0   \n",
       "1                          0                    0                       0   \n",
       "2                          0                    0                       0   \n",
       "3                          0                    0                       1   \n",
       "4                          0                    0                       0   \n",
       "\n",
       "   marital_status_Union libre  marital_status_Viudo  \n",
       "0                           1                     0  \n",
       "1                           0                     0  \n",
       "2                           1                     0  \n",
       "3                           0                     0  \n",
       "4                           0                     0  "
      ]
     },
     "execution_count": 132,
     "metadata": {},
     "output_type": "execute_result"
    }
   ],
   "source": [
    "X_maritalstatus = pd.concat([X_homeownership, maritalstatus_categ], axis=1) \n",
    "X_maritalstatus.head()"
   ]
  },
  {
   "cell_type": "code",
   "execution_count": 133,
   "id": "069ec6b9-70ee-4b1d-a765-24881e78344e",
   "metadata": {},
   "outputs": [
    {
     "data": {
      "text/plain": [
       "(38502, 23)"
      ]
     },
     "execution_count": 133,
     "metadata": {},
     "output_type": "execute_result"
    }
   ],
   "source": [
    "X_maritalstatus = X_maritalstatus.dropna()\n",
    "null_eda = X_maritalstatus.isnull().sum().to_frame(name='Nulos').reset_index()\n",
    "null_eda[null_eda['Nulos'] > 0]\n",
    "X_maritalstatus.shape"
   ]
  },
  {
   "cell_type": "code",
   "execution_count": 134,
   "id": "fe304da6-c3a9-4013-9e00-aefdf42f75b5",
   "metadata": {},
   "outputs": [
    {
     "name": "stderr",
     "output_type": "stream",
     "text": [
      "C:\\Anaconda\\envs\\ds4a\\lib\\site-packages\\sklearn\\linear_model\\_sag.py:352: ConvergenceWarning: The max_iter was reached which means the coef_ did not converge\n",
      "  warnings.warn(\n",
      "C:\\Anaconda\\envs\\ds4a\\lib\\site-packages\\sklearn\\linear_model\\_sag.py:352: ConvergenceWarning: The max_iter was reached which means the coef_ did not converge\n",
      "  warnings.warn(\n",
      "C:\\Anaconda\\envs\\ds4a\\lib\\site-packages\\sklearn\\linear_model\\_sag.py:352: ConvergenceWarning: The max_iter was reached which means the coef_ did not converge\n",
      "  warnings.warn(\n",
      "C:\\Anaconda\\envs\\ds4a\\lib\\site-packages\\sklearn\\linear_model\\_sag.py:352: ConvergenceWarning: The max_iter was reached which means the coef_ did not converge\n",
      "  warnings.warn(\n",
      "C:\\Anaconda\\envs\\ds4a\\lib\\site-packages\\sklearn\\linear_model\\_sag.py:352: ConvergenceWarning: The max_iter was reached which means the coef_ did not converge\n",
      "  warnings.warn(\n"
     ]
    }
   ],
   "source": [
    "auc_list = cross_validation_AUC(X_maritalstatus, y_full)\n",
    "model_perf[\"ALL_NUMERICAL_WITH_MARITAL_STATUS\"] = auc_list"
   ]
  },
  {
   "cell_type": "code",
   "execution_count": 135,
   "id": "08ff62a8-5d09-41df-b950-62006434c07b",
   "metadata": {},
   "outputs": [
    {
     "data": {
      "image/png": "[encoded data removed]",
      "text/plain": [
       "<Figure size 720x360 with 1 Axes>"
      ]
     },
     "metadata": {},
     "output_type": "display_data"
    }
   ],
   "source": [
    "plt.figure(figsize= (10,5))\n",
    "plot_boxplot_ordered(model_perf)\n",
    "plt.xlabel(\"Predictive Model with a Single Predictive Feature\")\n",
    "plt.ylabel(\"AUC\");"
   ]
  },
  {
   "cell_type": "markdown",
   "id": "b7b3b82c-d4f1-456b-a38f-aad24115109d",
   "metadata": {},
   "source": [
    "_______________"
   ]
  },
  {
   "cell_type": "markdown",
   "id": "64564053-4ce1-465a-8e96-d8cd4ac5718d",
   "metadata": {},
   "source": [
    "Oficio:"
   ]
  },
  {
   "cell_type": "code",
   "execution_count": null,
   "id": "47485703-bcaf-4f98-a309-b8bb1f9ccc84",
   "metadata": {},
   "outputs": [],
   "source": [
    "X_job.keys()\n",
    "# --> n features"
   ]
  },
  {
   "cell_type": "code",
   "execution_count": null,
   "id": "2f426825-e64b-45b1-a7c7-ef2d100c59c5",
   "metadata": {},
   "outputs": [],
   "source": [
    "#use a one-hot-encoding approach for incorporating the \"OFICIO\" categorical variable\n",
    "job_categ = pd.get_dummies(model_df['OFICIO'], prefix = \"job\", drop_first=True)\n",
    "job_categ.head()"
   ]
  },
  {
   "cell_type": "markdown",
   "id": "78d69d36-461f-4d07-8b5f-34cc919dff84",
   "metadata": {},
   "source": [
    "X_job = pd.concat([X_maritalstatus, job_categ], axis=1) \n",
    "X_job.head()"
   ]
  },
  {
   "cell_type": "markdown",
   "id": "161a019d-e0e5-4f53-8bd6-82b2066b264e",
   "metadata": {},
   "source": [
    "X_job = X_job.dropna()\n",
    "null_eda = X_maritalstatus.isnull().sum().to_frame(name='Nulos').reset_index()\n",
    "null_eda[null_eda['Nulos'] > 0]\n",
    "X_job.shape"
   ]
  },
  {
   "cell_type": "markdown",
   "id": "d71a5a40-9d79-4eb6-b7b3-31505c35fbdd",
   "metadata": {},
   "source": [
    "auc_list = cross_validation_AUC(X_job, y_full)\n",
    "model_perf[\"ALL_NUMERICAL_WITH_JOB\"] = auc_list"
   ]
  },
  {
   "cell_type": "code",
   "execution_count": null,
   "id": "27a9591f-23c2-4fc3-a11a-fc79154377e0",
   "metadata": {},
   "outputs": [],
   "source": [
    "plt.figure(figsize= (10,5))\n",
    "plot_boxplot_ordered(model_perf)\n",
    "plt.xlabel(\"Predictive Model with a Single Predictive Feature\")\n",
    "plt.ylabel(\"AUC\");"
   ]
  },
  {
   "cell_type": "code",
   "execution_count": null,
   "id": "00d9bf57-c283-472c-981a-1046f0767084",
   "metadata": {},
   "outputs": [],
   "source": []
  },
  {
   "cell_type": "code",
   "execution_count": null,
   "id": "a50e7d2f-9305-4bcf-8192-265d73d78841",
   "metadata": {},
   "outputs": [],
   "source": []
  }
 ],
 "metadata": {
  "kernelspec": {
   "display_name": "Python 3 (ipykernel)",
   "language": "python",
   "name": "python3"
  },
  "language_info": {
   "codemirror_mode": {
    "name": "ipython",
    "version": 3
   },
   "file_extension": ".py",
   "mimetype": "text/x-python",
   "name": "python",
   "nbconvert_exporter": "python",
   "pygments_lexer": "ipython3",
   "version": "3.8.13"
  }
 },
 "nbformat": 4,
 "nbformat_minor": 5
}
