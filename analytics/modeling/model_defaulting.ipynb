{
 "cells": [
  {
   "cell_type": "code",
   "execution_count": 1,
   "metadata": {},
   "outputs": [],
   "source": [
    "import json\n",
    "import os\n",
    "\n",
    "import joblib\n",
    "import numpy as np\n",
    "import pandas as pd\n",
    "\n",
    "from dotenv import load_dotenv\n",
    "from sklearn.ensemble import RandomForestClassifier\n",
    "from sklearn.impute import SimpleImputer\n",
    "from sklearn.metrics import roc_curve, auc, accuracy_score, confusion_matrix\n",
    "from sklearn.model_selection import train_test_split\n",
    "from sklearn.pipeline import Pipeline, make_pipeline\n",
    "from sklearn.preprocessing import OneHotEncoder, OrdinalEncoder\n",
    "from sklearn.tree import DecisionTreeClassifier\n",
    "\n",
    "from core_ds4a_project import datasets\n",
    "\n",
    "%load_ext autoreload\n",
    "%autoreload 1\n",
    "%aimport core_ds4a_project, core_ds4a_project.datasets"
   ]
  },
  {
   "cell_type": "markdown",
   "metadata": {},
   "source": [
    "Environment variables:"
   ]
  },
  {
   "cell_type": "code",
   "execution_count": 2,
   "metadata": {},
   "outputs": [],
   "source": [
    "load_dotenv('envvars')\n",
    "\n",
    "ROOT_DATA_PATH = os.environ.get('ROOT_DATA_PATH')\n",
    "RAW_DATA_PATH = os.environ.get('RAW_DATA_PATH') or f'{ROOT_DATA_PATH}/raw'\n",
    "CLEAN_DATA_PATH = os.environ.get('CLEAN_DATA_PATH') or f'{ROOT_DATA_PATH}/clean'"
   ]
  },
  {
   "cell_type": "markdown",
   "metadata": {},
   "source": [
    "Reading data:"
   ]
  },
  {
   "cell_type": "code",
   "execution_count": 3,
   "metadata": {},
   "outputs": [],
   "source": [
    "(cartera_df, clientes_df, colocacion_df) = datasets.read_joining_datasets(dir_path=RAW_DATA_PATH)\n",
    "# model_df = pd.read_csv(os.path.join(CLEAN_DATA_PATH, 'model_defaulting.csv'))\n",
    "# model_df['DEFAULT'] = model_df['DEFAULT'].fillna(False).astype(int)\n",
    "# model_df['DEFAULT'].value_counts(dropna=False)"
   ]
  },
  {
   "cell_type": "markdown",
   "metadata": {},
   "source": [
    "Sorting CARTERA dataset:"
   ]
  },
  {
   "cell_type": "code",
   "execution_count": 4,
   "metadata": {},
   "outputs": [],
   "source": [
    "cartera_df = cartera_df.sort_values(['FECHA_CIERRE', 'OBLIGACION'], ascending=True)\n",
    "ind_first = ~(cartera_df.duplicated(keep='first', subset='OBLIGACION'))\n",
    "ind_last = ~(cartera_df.duplicated(keep='last', subset='OBLIGACION'))\n",
    "\n",
    "cartera_df = cartera_df.sort_values(['FECHA_CIERRE', 'OBLIGACION'], ascending=True)\n",
    "ind_first = ~(cartera_df.duplicated(keep='first', subset='OBLIGACION'))\n",
    "ind_last = ~(cartera_df.duplicated(keep='last', subset='OBLIGACION'))"
   ]
  },
  {
   "cell_type": "markdown",
   "metadata": {},
   "source": [
    "Composing dataframe for modeling:"
   ]
  },
  {
   "cell_type": "code",
   "execution_count": 5,
   "metadata": {},
   "outputs": [
    {
     "data": {
      "text/plain": [
       "(38641, 32)"
      ]
     },
     "execution_count": 5,
     "metadata": {},
     "output_type": "execute_result"
    }
   ],
   "source": [
    "cartera_last_df = cartera_df[ind_last].copy()\n",
    "cartera_last_df.shape"
   ]
  },
  {
   "cell_type": "code",
   "execution_count": 6,
   "metadata": {},
   "outputs": [
    {
     "data": {
      "text/plain": [
       "(38641, 10)"
      ]
     },
     "execution_count": 6,
     "metadata": {},
     "output_type": "execute_result"
    }
   ],
   "source": [
    "model_df = (\n",
    "    cartera_last_df\n",
    "    .merge(\n",
    "        colocacion_df.drop(columns=['CLIENTE', 'VALOR_CUOTA']),\n",
    "        on='OBLIGACION',\n",
    "    )\n",
    "    .merge(clientes_df, on='CLIENTE', how='left')\n",
    ")\n",
    "\n",
    "model_df['DEFAULT'] = model_df['DEFAULT'].fillna(False).astype(int)\n",
    "\n",
    "covariates = ['ESTADO_CIVIL_COD', 'TIPO_VIVIENDA', 'MUNICIPIO_CLIENTE', 'TIPO_UBICACION_COD', 'MUJER_CABEZA',\n",
    "              'RESPONSABLE_DE_HOGAR', 'GENERO_COD', 'ESTRATO', 'NIVEL_ESTUDIOS_COD']\n",
    "\n",
    "model_df = model_df[['DEFAULT', *covariates]]\n",
    "model_df.shape"
   ]
  },
  {
   "cell_type": "code",
   "execution_count": 7,
   "metadata": {},
   "outputs": [
    {
     "data": {
      "text/plain": [
       "0    37678\n",
       "1      963\n",
       "Name: DEFAULT, dtype: int64"
      ]
     },
     "execution_count": 7,
     "metadata": {},
     "output_type": "execute_result"
    }
   ],
   "source": [
    "model_df['DEFAULT'].value_counts(dropna=False)"
   ]
  },
  {
   "cell_type": "code",
   "execution_count": 8,
   "metadata": {},
   "outputs": [],
   "source": [
    "model_df[covariates] = model_df[covariates].astype(str)\n",
    "categories = [sorted(model_df[col].unique()) for col in covariates]"
   ]
  },
  {
   "cell_type": "markdown",
   "metadata": {},
   "source": [
    "Building model:"
   ]
  },
  {
   "cell_type": "code",
   "execution_count": 9,
   "metadata": {},
   "outputs": [
    {
     "name": "stdout",
     "output_type": "stream",
     "text": [
      "Accuracy in training set: 0.9825125702454895\n",
      "Accuracy in the other samples: 0.9817993616837747\n"
     ]
    },
    {
     "data": {
      "text/plain": [
       "array([[11287,     6],\n",
       "       [  205,    95]], dtype=int64)"
      ]
     },
     "execution_count": 9,
     "metadata": {},
     "output_type": "execute_result"
    }
   ],
   "source": [
    "X_train, X_test, y_train, y_test = train_test_split(\n",
    "    model_df[covariates],\n",
    "    model_df['DEFAULT'],\n",
    "    test_size=0.3,\n",
    "    random_state=123\n",
    ")\n",
    "\n",
    "pipe = make_pipeline(\n",
    "    OrdinalEncoder(categories=categories),\n",
    "    RandomForestClassifier(n_estimators=100, max_depth=20, random_state=321),\n",
    ")\n",
    "pipe.fit(model_df[covariates], model_df['DEFAULT'])\n",
    "\n",
    "print(f\"Accuracy in training set: {pipe.score(X_train, y_train)}\")\n",
    "print(f\"Accuracy in the other samples: {pipe.score(X_test, y_test)}\")\n",
    "\n",
    "y_test_predict = pipe.predict(X_test)\n",
    "confusion_matrix(y_test, y_test_predict)"
   ]
  },
  {
   "cell_type": "code",
   "execution_count": 10,
   "metadata": {},
   "outputs": [
    {
     "data": {
      "text/plain": [
       "['pipe_defaulting']"
      ]
     },
     "execution_count": 10,
     "metadata": {},
     "output_type": "execute_result"
    }
   ],
   "source": [
    "joblib.dump(pipe, 'pipe_defaulting')"
   ]
  },
  {
   "cell_type": "code",
   "execution_count": 11,
   "metadata": {},
   "outputs": [
    {
     "name": "stdout",
     "output_type": "stream",
     "text": [
      "Accuracy in training set: 0.9832519964507542\n",
      "Accuracy in the other samples: 0.9712757698611231\n"
     ]
    },
    {
     "data": {
      "text/plain": [
       "array([[11254,    39],\n",
       "       [  294,     6]], dtype=int64)"
      ]
     },
     "execution_count": 11,
     "metadata": {},
     "output_type": "execute_result"
    }
   ],
   "source": [
    "X_train, X_test, y_train, y_test = train_test_split(\n",
    "    model_df[covariates],\n",
    "    model_df['DEFAULT'],\n",
    "    test_size=0.3,\n",
    "    random_state=123\n",
    ")\n",
    "\n",
    "pipe = make_pipeline(\n",
    "    OrdinalEncoder(categories=categories),\n",
    "    RandomForestClassifier(n_estimators=100, max_depth=20, random_state=321),\n",
    ")\n",
    "# pipe.fit(model_df[covariates], model_df['DEFAULT'])  # same results as previous\n",
    "pipe.fit(X_train, y_train)  # confusion matrix changes drastically\n",
    "\n",
    "print(f\"Accuracy in training set: {pipe.score(X_train, y_train)}\")\n",
    "print(f\"Accuracy in the other samples: {pipe.score(X_test, y_test)}\")\n",
    "\n",
    "y_test_predict = pipe.predict(X_test)\n",
    "confusion_matrix(y_test, y_test_predict)\n"
   ]
  }
 ],
 "metadata": {
  "kernelspec": {
   "display_name": "Python 3.8.8 ('venv': venv)",
   "language": "python",
   "name": "python3"
  },
  "language_info": {
   "codemirror_mode": {
    "name": "ipython",
    "version": 3
   },
   "file_extension": ".py",
   "mimetype": "text/x-python",
   "name": "python",
   "nbconvert_exporter": "python",
   "pygments_lexer": "ipython3",
   "version": "3.8.8"
  },
  "orig_nbformat": 4,
  "vscode": {
   "interpreter": {
    "hash": "c1ef988275e0a037cf6d5a0634720ed791f9a8843c6e770cd03741cb28b27cc1"
   }
  }
 },
 "nbformat": 4,
 "nbformat_minor": 2
}
