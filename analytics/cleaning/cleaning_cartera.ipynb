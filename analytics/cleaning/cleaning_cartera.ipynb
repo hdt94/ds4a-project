{
 "cells": [
  {
   "cell_type": "code",
   "execution_count": 11,
   "metadata": {},
   "outputs": [],
   "source": [
    "import glob\n",
    "import json\n",
    "import os\n",
    "\n",
    "import pandas as pd\n",
    "import numpy as np\n",
    "\n",
    "from dotenv import load_dotenv\n",
    "\n",
    "\n",
    "pd.set_option(\"display.max_columns\", None)\n",
    "pd.set_option(\"display.max_rows\", 150)"
   ]
  },
  {
   "cell_type": "markdown",
   "id": "fce2e5ce",
   "metadata": {},
   "source": [
    "Environment variables:"
   ]
  },
  {
   "cell_type": "code",
   "execution_count": 12,
   "metadata": {},
   "outputs": [],
   "source": [
    "load_dotenv('envvars')\n",
    "\n",
    "ROOT_DATA_PATH = os.environ.get('ROOT_DATA_PATH')\n",
    "RAW_DATA_PATH = os.environ.get('RAW_DATA_PATH') or f'{ROOT_DATA_PATH}/raw'\n",
    "CLEAN_DATA_PATH = os.environ.get('CLEAN_DATA_PATH') or f'{ROOT_DATA_PATH}/clean'"
   ]
  },
  {
   "cell_type": "markdown",
   "id": "23544ad9",
   "metadata": {},
   "source": [
    "Reading data:"
   ]
  },
  {
   "cell_type": "code",
   "execution_count": 13,
   "metadata": {},
   "outputs": [],
   "source": [
    "def read_csv(file, nrows=None):\n",
    "    df = pd.read_csv(file, sep=';', encoding=\"ISO-8859-1\", nrows=nrows)\n",
    "\n",
    "    return df\n",
    "\n",
    "\n",
    "files = glob.glob(f'{RAW_DATA_PATH}/*CARTERA*.csv')\n",
    "dfs = [read_csv(f) for f in files]"
   ]
  },
  {
   "cell_type": "markdown",
   "metadata": {},
   "source": [
    "We need to rename columns from all datasets considering there are spacing characters such as tabs and new lines in some columns' names, and there are typos that lead to different column names in multiple files containing the same variable."
   ]
  },
  {
   "cell_type": "code",
   "execution_count": 14,
   "metadata": {},
   "outputs": [
    {
     "data": {
      "text/plain": [
       "(790696, 68)"
      ]
     },
     "execution_count": 14,
     "metadata": {},
     "output_type": "execute_result"
    }
   ],
   "source": [
    "with open(f'{ROOT_DATA_PATH}/dict-renaming-raw-columns.json', 'r') as f:\n",
    "    renaming_dict = json.load(f)\n",
    "\n",
    "for df in dfs:\n",
    "    df.columns = pd.Series(df.columns).replace(renaming_dict)\n",
    "\n",
    "df = pd.concat(dfs)\n",
    "df.shape"
   ]
  },
  {
   "cell_type": "markdown",
   "metadata": {},
   "source": [
    "## Draft"
   ]
  },
  {
   "cell_type": "markdown",
   "metadata": {},
   "source": [
    "## SUCURSAL_COD"
   ]
  },
  {
   "cell_type": "code",
   "execution_count": 15,
   "metadata": {},
   "outputs": [],
   "source": [
    "sucurs = df['SUCURSAL_COD'].replace(\"#N/D\", np.nan).fillna(-1).astype(int).astype('category')"
   ]
  },
  {
   "cell_type": "code",
   "execution_count": 16,
   "metadata": {},
   "outputs": [
    {
     "data": {
      "text/plain": [
       "Int64Index([-1, 1, 2, 3, 4, 5, 6, 7, 8, 9, 10, 11, 12, 13, 14], dtype='int64')"
      ]
     },
     "execution_count": 16,
     "metadata": {},
     "output_type": "execute_result"
    }
   ],
   "source": [
    "sucurs.cat.categories"
   ]
  }
 ],
 "metadata": {
  "interpreter": {
   "hash": "9b685a03173d1f77141e5180e579dadf2f5b24b1562fcbed63497a200625e4a4"
  },
  "kernelspec": {
   "display_name": "Python 3.8.13 ('ds4a')",
   "language": "python",
   "name": "python3"
  },
  "language_info": {
   "codemirror_mode": {
    "name": "ipython",
    "version": 3
   },
   "file_extension": ".py",
   "mimetype": "text/x-python",
   "name": "python",
   "nbconvert_exporter": "python",
   "pygments_lexer": "ipython3",
   "version": "3.8.13"
  },
  "orig_nbformat": 4
 },
 "nbformat": 4,
 "nbformat_minor": 2
}
