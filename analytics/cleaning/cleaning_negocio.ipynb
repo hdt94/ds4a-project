{
 "cells": [
  {
   "cell_type": "code",
   "execution_count": 1,
   "metadata": {},
   "outputs": [],
   "source": [
    "import json\n",
    "import os\n",
    "\n",
    "import pandas as pd\n",
    "import numpy as np\n",
    "\n",
    "from dotenv import load_dotenv\n",
    "\n",
    "from core_ds4a_project import cleaning, columns as project_columns, datasets\n",
    "\n",
    "%load_ext autoreload\n",
    "%autoreload 1\n",
    "%aimport core_ds4a_project, core_ds4a_project.cleaning, core_ds4a_project.columns, core_ds4a_project.datasets\n",
    "\n",
    "pd.set_option(\"display.max_columns\", None)"
   ]
  },
  {
   "cell_type": "markdown",
   "metadata": {},
   "source": [
    "Environment variables:"
   ]
  },
  {
   "cell_type": "code",
   "execution_count": 2,
   "metadata": {},
   "outputs": [],
   "source": [
    "load_dotenv('envvars')\n",
    "\n",
    "ROOT_DATA_PATH = os.environ.get('ROOT_DATA_PATH')\n",
    "RAW_DATA_PATH = os.environ.get('RAW_DATA_PATH') or f'{ROOT_DATA_PATH}/raw'"
   ]
  },
  {
   "cell_type": "markdown",
   "metadata": {},
   "source": [
    "Reading raw data:"
   ]
  },
  {
   "cell_type": "code",
   "execution_count": 5,
   "metadata": {},
   "outputs": [
    {
     "data": {
      "text/plain": [
       "Index(['Homologacion Documento de Identidad', 'Nombre del negocio',\n",
       "       'Actividad', 'Descripción', 'Referencia Ubicación del negocio',\n",
       "       'Fecha de inicio del negocio', 'Fecha en el actual lugar de ubicación',\n",
       "       'Asignado a', 'Método del cálculo de costo de venta', 'Dirección',\n",
       "       ...\n",
       "       'Cantidad de Inventario 4',\n",
       "       'Valor unitario del inventario para el estudio socio-económico 4',\n",
       "       'Tipo de inventario 5', 'Descripción del Producto 5',\n",
       "       'Cantidad de Inventario 5',\n",
       "       'Valor unitario del inventario para el estudio socio-económico 5',\n",
       "       'Tipo de inventario 6', 'Descripción del Producto 6',\n",
       "       'Cantidad de Inventario 6',\n",
       "       'Valor unitario del inventario para el estudio socio-económico 6'],\n",
       "      dtype='object', length=147)"
      ]
     },
     "execution_count": 5,
     "metadata": {},
     "output_type": "execute_result"
    }
   ],
   "source": [
    "df = datasets.read_negocio(RAW_DATA_PATH, raw=True)\n",
    "\n",
    "df.columns"
   ]
  },
  {
   "cell_type": "markdown",
   "id": "b691314a",
   "metadata": {},
   "source": [
    "## Renaming columns"
   ]
  },
  {
   "cell_type": "code",
   "execution_count": 7,
   "id": "a9cc3b4d",
   "metadata": {},
   "outputs": [
    {
     "data": {
      "text/plain": [
       "Index(['ACTIVIDAD', 'ARRENDADOR_DEL_NEGOCIO', 'ASIGNADO_A', 'BARRIO',\n",
       "       'CANTIDAD_DE_INVENTARIO_1', 'CANTIDAD_DE_INVENTARIO_2',\n",
       "       'CANTIDAD_DE_INVENTARIO_3', 'CANTIDAD_DE_INVENTARIO_4',\n",
       "       'CANTIDAD_DE_INVENTARIO_5', 'CANTIDAD_DE_INVENTARIO_6',\n",
       "       ...\n",
       "       'VALOR_DE_LA_HIPOTECA_O_LA_PRENDA_1',\n",
       "       'VALOR_DE_LA_HIPOTECA_O_LA_PRENDA_2',\n",
       "       'VALOR_DE_LA_HIPOTECA_O_LA_PRENDA_3',\n",
       "       'VALOR_UNITARIO_DEL_INVENTARIO_PARA_EL_ESTUDIO_SOCIO-ECONOMICO_1',\n",
       "       'VALOR_UNITARIO_DEL_INVENTARIO_PARA_EL_ESTUDIO_SOCIO-ECONOMICO_2',\n",
       "       'VALOR_UNITARIO_DEL_INVENTARIO_PARA_EL_ESTUDIO_SOCIO-ECONOMICO_3',\n",
       "       'VALOR_UNITARIO_DEL_INVENTARIO_PARA_EL_ESTUDIO_SOCIO-ECONOMICO_4',\n",
       "       'VALOR_UNITARIO_DEL_INVENTARIO_PARA_EL_ESTUDIO_SOCIO-ECONOMICO_5',\n",
       "       'VALOR_UNITARIO_DEL_INVENTARIO_PARA_EL_ESTUDIO_SOCIO-ECONOMICO_6',\n",
       "       'ZONA'],\n",
       "      dtype='object', length=147)"
      ]
     },
     "execution_count": 7,
     "metadata": {},
     "output_type": "execute_result"
    }
   ],
   "source": [
    "df.columns = cleaning.normalize_columns_name(df.columns)\n",
    "\n",
    "df.columns.sort_values()  # sorting for presentational purposes only"
   ]
  },
  {
   "cell_type": "markdown",
   "metadata": {},
   "source": [
    "## Dropping inconsistent information"
   ]
  },
  {
   "cell_type": "markdown",
   "metadata": {},
   "source": [
    "There is multiple inconsistent information for some CLIENTE records:"
   ]
  },
  {
   "cell_type": "code",
   "execution_count": 10,
   "metadata": {},
   "outputs": [
    {
     "data": {
      "text/plain": [
       "{'count_inconsistent_records': 2363}"
      ]
     },
     "execution_count": 10,
     "metadata": {},
     "output_type": "execute_result"
    }
   ],
   "source": [
    "ind = df['CLIENTE'].duplicated(keep=False)\n",
    "\n",
    "{\n",
    "    \"count_inconsistent_records\": ind.sum()\n",
    "}\n"
   ]
  },
  {
   "cell_type": "markdown",
   "metadata": {},
   "source": [
    "For instance:"
   ]
  },
  {
   "cell_type": "code",
   "execution_count": 12,
   "metadata": {},
   "outputs": [
    {
     "data": {
      "text/html": [
       "<div>\n",
       "<style scoped>\n",
       "    .dataframe tbody tr th:only-of-type {\n",
       "        vertical-align: middle;\n",
       "    }\n",
       "\n",
       "    .dataframe tbody tr th {\n",
       "        vertical-align: top;\n",
       "    }\n",
       "\n",
       "    .dataframe thead th {\n",
       "        text-align: right;\n",
       "    }\n",
       "</style>\n",
       "<table border=\"1\" class=\"dataframe\">\n",
       "  <thead>\n",
       "    <tr style=\"text-align: right;\">\n",
       "      <th></th>\n",
       "      <th>CLIENTE</th>\n",
       "      <th>ACTIVIDAD</th>\n",
       "      <th>NOMBRE_DEL_NEGOCIO</th>\n",
       "    </tr>\n",
       "  </thead>\n",
       "  <tbody>\n",
       "    <tr>\n",
       "      <th>9582</th>\n",
       "      <td>FA10007</td>\n",
       "      <td>Servicios |S</td>\n",
       "      <td>SALON DE BELLEZA Y ARRENDAMIENTOS tienda</td>\n",
       "    </tr>\n",
       "    <tr>\n",
       "      <th>21118</th>\n",
       "      <td>FA10007</td>\n",
       "      <td>Comercio |C</td>\n",
       "      <td>DISTRIBUIDORA DE POLLO</td>\n",
       "    </tr>\n",
       "  </tbody>\n",
       "</table>\n",
       "</div>"
      ],
      "text/plain": [
       "       CLIENTE     ACTIVIDAD                        NOMBRE_DEL_NEGOCIO\n",
       "9582   FA10007  Servicios |S  SALON DE BELLEZA Y ARRENDAMIENTOS tienda\n",
       "21118  FA10007   Comercio |C                    DISTRIBUIDORA DE POLLO"
      ]
     },
     "execution_count": 12,
     "metadata": {},
     "output_type": "execute_result"
    }
   ],
   "source": [
    "df.loc[ind, ['CLIENTE', 'ACTIVIDAD', 'NOMBRE_DEL_NEGOCIO']].query('CLIENTE == \"FA10007\"')"
   ]
  },
  {
   "cell_type": "markdown",
   "metadata": {},
   "source": [
    "Dropping inconsistent records:"
   ]
  },
  {
   "cell_type": "code",
   "execution_count": 13,
   "metadata": {},
   "outputs": [],
   "source": [
    "df = df[~ind]"
   ]
  }
 ],
 "metadata": {
  "interpreter": {
   "hash": "e62fc67dd637b4c7ff00db15fa2b1157ee656ecdddc53845561c284caf069ea7"
  },
  "kernelspec": {
   "display_name": "Python 3.8.13 ('ds4a')",
   "language": "python",
   "name": "python3"
  },
  "language_info": {
   "codemirror_mode": {
    "name": "ipython",
    "version": 3
   },
   "file_extension": ".py",
   "mimetype": "text/x-python",
   "name": "python",
   "nbconvert_exporter": "python",
   "pygments_lexer": "ipython3",
   "version": "3.8.13"
  }
 },
 "nbformat": 4,
 "nbformat_minor": 4
}
