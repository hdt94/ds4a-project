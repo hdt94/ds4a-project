{
 "cells": [
  {
   "cell_type": "markdown",
   "id": "973ade50",
   "metadata": {},
   "source": [
    "# Cleaning COLOCACION dataset"
   ]
  },
  {
   "cell_type": "markdown",
   "id": "ff3de6f9",
   "metadata": {},
   "source": [
    "Imports:"
   ]
  },
  {
   "cell_type": "code",
   "execution_count": 95,
   "id": "1afbdb72-a2c8-40e4-9895-61d47a97de33",
   "metadata": {},
   "outputs": [
    {
     "name": "stdout",
     "output_type": "stream",
     "text": [
      "The autoreload extension is already loaded. To reload it, use:\n",
      "  %reload_ext autoreload\n"
     ]
    }
   ],
   "source": [
    "import datetime\n",
    "import os\n",
    "\n",
    "import pandas as pd\n",
    "import numpy as np\n",
    "\n",
    "from dotenv import load_dotenv\n",
    "\n",
    "from core_ds4a_project import cleaning, columns as project_columns, datasets\n",
    "\n",
    "%load_ext autoreload\n",
    "%autoreload 1\n",
    "%aimport core_ds4a_project, core_ds4a_project.cleaning, core_ds4a_project.columns, core_ds4a_project.datasets"
   ]
  },
  {
   "cell_type": "code",
   "execution_count": 96,
   "id": "b27bb718",
   "metadata": {},
   "outputs": [],
   "source": [
    "# pd.set_option(\"display.max_columns\", None)\n",
    "# pd.set_option(\"display.max_columns\", 60)"
   ]
  },
  {
   "cell_type": "markdown",
   "id": "fce2e5ce",
   "metadata": {},
   "source": [
    "Environment variables:"
   ]
  },
  {
   "cell_type": "code",
   "execution_count": 97,
   "id": "12825ec5-4992-4fef-9359-00fbf4667468",
   "metadata": {},
   "outputs": [],
   "source": [
    "load_dotenv('envvars')\n",
    "\n",
    "ROOT_DATA_PATH = os.environ.get('ROOT_DATA_PATH')\n",
    "RAW_DATA_PATH = os.environ.get('RAW_DATA_PATH') or f'{ROOT_DATA_PATH}/raw'"
   ]
  },
  {
   "cell_type": "markdown",
   "id": "dee11fd0",
   "metadata": {},
   "source": [
    "Reading data:"
   ]
  },
  {
   "cell_type": "code",
   "execution_count": 98,
   "id": "fef6d436",
   "metadata": {},
   "outputs": [
    {
     "data": {
      "text/plain": [
       "(42009, 55)"
      ]
     },
     "execution_count": 98,
     "metadata": {},
     "output_type": "execute_result"
    }
   ],
   "source": [
    "df = (\n",
    "    datasets.read_colocacion_xlsx(RAW_DATA_PATH, raw=True)\n",
    ")\n",
    "\n",
    "df.shape"
   ]
  },
  {
   "cell_type": "markdown",
   "id": "bc776967",
   "metadata": {},
   "source": [
    "## Schema of columns for raw data"
   ]
  },
  {
   "cell_type": "code",
   "execution_count": 99,
   "id": "92b8e33a",
   "metadata": {},
   "outputs": [
    {
     "name": "stdout",
     "output_type": "stream",
     "text": [
      "<class 'pandas.core.frame.DataFrame'>\n",
      "RangeIndex: 42009 entries, 0 to 42008\n",
      "Data columns (total 55 columns):\n",
      " #   Column                Non-Null Count  Dtype         \n",
      "---  ------                --------------  -----         \n",
      " 0   Año_Contabiliza       41974 non-null  object        \n",
      " 1   Cedula                42009 non-null  int64         \n",
      " 2   Celular               42009 non-null  object        \n",
      " 3   Cod_Destinacion       42009 non-null  object        \n",
      " 4   Cod_Modalidad         42009 non-null  object        \n",
      " 5   Cod_Sucursal          42009 non-null  int64         \n",
      " 6   Cod_linea             42009 non-null  object        \n",
      " 7   Cod_usuario_apr       41974 non-null  object        \n",
      " 8   Codeudor              42009 non-null  object        \n",
      " 9   Destinacion           42009 non-null  object        \n",
      " 10  Dias Ciclo_credito    41974 non-null  object        \n",
      " 11  Direccion             42009 non-null  object        \n",
      " 12  Doc_contabiliza       41974 non-null  float64       \n",
      " 13  Edad                  42009 non-null  object        \n",
      " 14  Est_solicitud         42009 non-null  object        \n",
      " 15  Estado                42009 non-null  object        \n",
      " 16  Estado_Civil          41959 non-null  object        \n",
      " 17  Estrato               41946 non-null  float64       \n",
      " 18  FEc_SOlicitud         42009 non-null  datetime64[ns]\n",
      " 19  Fec_Aproba            42009 non-null  datetime64[ns]\n",
      " 20  Fec_Desembolso        41974 non-null  datetime64[ns]\n",
      " 21  Fec_pago              41974 non-null  object        \n",
      " 22  Fecha_Nacimiento      42009 non-null  object        \n",
      " 23  Genero                42009 non-null  object        \n",
      " 24  Identi_Ejecutivo      41950 non-null  float64       \n",
      " 25  Linea                 42009 non-null  object        \n",
      " 26  Modalidad             42009 non-null  object        \n",
      " 27  Monto                 42009 non-null  int64         \n",
      " 28  Municipio             42009 non-null  object        \n",
      " 29  Nivel_Estudios        42003 non-null  object        \n",
      " 30  Nombre                42009 non-null  object        \n",
      " 31  Nombre_Ejecutivo      42009 non-null  object        \n",
      " 32  Nombre_Usuario        41974 non-null  object        \n",
      " 33  Nro_Cuotas            42009 non-null  int64         \n",
      " 34  Obligacion            42009 non-null  int64         \n",
      " 35  Observaciones         41142 non-null  object        \n",
      " 36  Periodicidad_pago     41974 non-null  object        \n",
      " 37  Profesion             42009 non-null  object        \n",
      " 38  Region                42009 non-null  object        \n",
      " 39  Solicitud             42009 non-null  int64         \n",
      " 40  Sucursal              42009 non-null  object        \n",
      " 41  Sucursal_Contabiliza  41974 non-null  object        \n",
      " 42  Tasa                  42009 non-null  float64       \n",
      " 43  Tel. Fijo             42009 non-null  object        \n",
      " 44  Tipo Vivienda         42009 non-null  object        \n",
      " 45  Tipo_Credito          41974 non-null  object        \n",
      " 46  Tipo_Documento        41974 non-null  object        \n",
      " 47  Tipo_Obliga           42009 non-null  int64         \n",
      " 48  Ubicacion             42009 non-null  object        \n",
      " 49  Unnamed: 54           1 non-null      object        \n",
      " 50  Valor_Cuota           42009 non-null  object        \n",
      " 51  Valor_Desembolsado    42009 non-null  int64         \n",
      " 52  Valor_Refinanciado    42009 non-null  int64         \n",
      " 53  correo                42009 non-null  object        \n",
      " 54  creditos_vigentes     20614 non-null  float64       \n",
      "dtypes: datetime64[ns](3), float64(5), int64(9), object(38)\n",
      "memory usage: 17.6+ MB\n"
     ]
    }
   ],
   "source": [
    "df[df.columns.sort_values()].info()"
   ]
  },
  {
   "cell_type": "markdown",
   "id": "f676ee79",
   "metadata": {},
   "source": [
    "## Shifting row 879 in raw data"
   ]
  },
  {
   "cell_type": "markdown",
   "id": "f7a6d68b",
   "metadata": {},
   "source": [
    "Element at index 879 contains column OBSERVACIONES (column index 23) wrongly splitted into two: self and next column; shifting subsequent columns values towards right one position and creating an unnamed column \"Unnamed: 54\" at last with a single non-null value:"
   ]
  },
  {
   "cell_type": "code",
   "execution_count": 100,
   "id": "edcb6001",
   "metadata": {},
   "outputs": [
    {
     "data": {
      "text/plain": [
       "Int64Index([879], dtype='int64')"
      ]
     },
     "execution_count": 100,
     "metadata": {},
     "output_type": "execute_result"
    }
   ],
   "source": [
    "df.index[~(df.iloc[:, -1].isnull())]"
   ]
  },
  {
   "cell_type": "code",
   "execution_count": 101,
   "id": "c646a1bc",
   "metadata": {},
   "outputs": [
    {
     "data": {
      "text/html": [
       "<div>\n",
       "<style scoped>\n",
       "    .dataframe tbody tr th:only-of-type {\n",
       "        vertical-align: middle;\n",
       "    }\n",
       "\n",
       "    .dataframe tbody tr th {\n",
       "        vertical-align: top;\n",
       "    }\n",
       "\n",
       "    .dataframe thead th {\n",
       "        text-align: right;\n",
       "    }\n",
       "</style>\n",
       "<table border=\"1\" class=\"dataframe\">\n",
       "  <thead>\n",
       "    <tr style=\"text-align: right;\">\n",
       "      <th></th>\n",
       "      <th>Dias Ciclo_credito</th>\n",
       "      <th>creditos_vigentes</th>\n",
       "      <th>Tipo_Credito</th>\n",
       "      <th>Estado</th>\n",
       "      <th>Unnamed: 54</th>\n",
       "    </tr>\n",
       "  </thead>\n",
       "  <tbody>\n",
       "    <tr>\n",
       "      <th>878</th>\n",
       "      <td>1</td>\n",
       "      <td>1.0</td>\n",
       "      <td>NUEVO</td>\n",
       "      <td>Contabilizado</td>\n",
       "      <td>NaN</td>\n",
       "    </tr>\n",
       "    <tr>\n",
       "      <th>879</th>\n",
       "      <td>Arriendo</td>\n",
       "      <td>0.0</td>\n",
       "      <td>1</td>\n",
       "      <td>NUEVO</td>\n",
       "      <td>Contabilizado</td>\n",
       "    </tr>\n",
       "    <tr>\n",
       "      <th>880</th>\n",
       "      <td>2</td>\n",
       "      <td>1.0</td>\n",
       "      <td>NUEVO</td>\n",
       "      <td>Contabilizado</td>\n",
       "      <td>NaN</td>\n",
       "    </tr>\n",
       "  </tbody>\n",
       "</table>\n",
       "</div>"
      ],
      "text/plain": [
       "    Dias Ciclo_credito  creditos_vigentes Tipo_Credito         Estado  \\\n",
       "878                  1                1.0        NUEVO  Contabilizado   \n",
       "879           Arriendo                0.0            1          NUEVO   \n",
       "880                  2                1.0        NUEVO  Contabilizado   \n",
       "\n",
       "       Unnamed: 54  \n",
       "878            NaN  \n",
       "879  Contabilizado  \n",
       "880            NaN  "
      ]
     },
     "execution_count": 101,
     "metadata": {},
     "output_type": "execute_result"
    }
   ],
   "source": [
    "df.iloc[878:881, -5:]"
   ]
  },
  {
   "cell_type": "markdown",
   "id": "7f0d8211",
   "metadata": {},
   "source": [
    "Fixing shift and updating dataframe by eliminating last unnamed column:"
   ]
  },
  {
   "cell_type": "code",
   "execution_count": 102,
   "metadata": {},
   "outputs": [
    {
     "data": {
      "text/plain": [
       "(55, 54)"
      ]
     },
     "execution_count": 102,
     "metadata": {},
     "output_type": "execute_result"
    }
   ],
   "source": [
    "prev_count_cols = df.shape[1]\n",
    "\n",
    "df.iloc[879, 23] = df.iloc[879, 23] + df.iloc[879, 24]\n",
    "df.iloc[879, 24:] = df.iloc[879, 24:].shift(-1)\n",
    "df = df.iloc[:, :-1]\n",
    "\n",
    "prev_count_cols, df.shape[1]"
   ]
  },
  {
   "cell_type": "code",
   "execution_count": 103,
   "id": "592d37eb",
   "metadata": {},
   "outputs": [
    {
     "data": {
      "text/html": [
       "<div>\n",
       "<style scoped>\n",
       "    .dataframe tbody tr th:only-of-type {\n",
       "        vertical-align: middle;\n",
       "    }\n",
       "\n",
       "    .dataframe tbody tr th {\n",
       "        vertical-align: top;\n",
       "    }\n",
       "\n",
       "    .dataframe thead th {\n",
       "        text-align: right;\n",
       "    }\n",
       "</style>\n",
       "<table border=\"1\" class=\"dataframe\">\n",
       "  <thead>\n",
       "    <tr style=\"text-align: right;\">\n",
       "      <th></th>\n",
       "      <th>Tipo Vivienda</th>\n",
       "      <th>Dias Ciclo_credito</th>\n",
       "      <th>creditos_vigentes</th>\n",
       "      <th>Tipo_Credito</th>\n",
       "      <th>Estado</th>\n",
       "    </tr>\n",
       "  </thead>\n",
       "  <tbody>\n",
       "    <tr>\n",
       "      <th>878</th>\n",
       "      <td>Propia</td>\n",
       "      <td>1</td>\n",
       "      <td>1.0</td>\n",
       "      <td>NUEVO</td>\n",
       "      <td>Contabilizado</td>\n",
       "    </tr>\n",
       "    <tr>\n",
       "      <th>879</th>\n",
       "      <td>Arriendo</td>\n",
       "      <td>0.0</td>\n",
       "      <td>1.0</td>\n",
       "      <td>NUEVO</td>\n",
       "      <td>Contabilizado</td>\n",
       "    </tr>\n",
       "    <tr>\n",
       "      <th>880</th>\n",
       "      <td>Propia</td>\n",
       "      <td>2</td>\n",
       "      <td>1.0</td>\n",
       "      <td>NUEVO</td>\n",
       "      <td>Contabilizado</td>\n",
       "    </tr>\n",
       "  </tbody>\n",
       "</table>\n",
       "</div>"
      ],
      "text/plain": [
       "    Tipo Vivienda Dias Ciclo_credito  creditos_vigentes Tipo_Credito  \\\n",
       "878        Propia                  1                1.0        NUEVO   \n",
       "879      Arriendo                0.0                1.0        NUEVO   \n",
       "880        Propia                  2                1.0        NUEVO   \n",
       "\n",
       "            Estado  \n",
       "878  Contabilizado  \n",
       "879  Contabilizado  \n",
       "880  Contabilizado  "
      ]
     },
     "execution_count": 103,
     "metadata": {},
     "output_type": "execute_result"
    }
   ],
   "source": [
    "df.iloc[878:881, -5:]"
   ]
  },
  {
   "cell_type": "markdown",
   "id": "b691314a",
   "metadata": {},
   "source": [
    "## Renaming columns"
   ]
  },
  {
   "cell_type": "code",
   "execution_count": 104,
   "id": "a9cc3b4d",
   "metadata": {},
   "outputs": [
    {
     "data": {
      "text/plain": [
       "Index(['ANO_CONTABILIZA', 'CEDULA', 'CELULAR', 'CODEUDOR', 'COD_DESTINACION',\n",
       "       'COD_LINEA', 'COD_MODALIDAD', 'COD_USUARIO_APR', 'CORREO',\n",
       "       'CREDITOS_VIGENTES', 'DESTINACION', 'DIAS_CICLO_CREDITO', 'DIRECCION',\n",
       "       'DOC_CONTABILIZA', 'EDAD', 'ESTADO', 'ESTADO_CIVIL', 'ESTRATO',\n",
       "       'EST_SOLICITUD', 'FECHA_APROBA', 'FECHA_DESEMBOLSO', 'FECHA_NACIMIENTO',\n",
       "       'FECHA_PAGO', 'FECHA_SOLICITUD', 'GENERO', 'IDENTI_EJECUTIVO', 'LINEA',\n",
       "       'MODALIDAD', 'MONTO', 'MUNICIPIO', 'NIVEL_ESTUDIOS', 'NOMBRE',\n",
       "       'NOMBRE_EJECUTIVO', 'NOMBRE_USUARIO', 'NRO_CUOTAS', 'OBLIGACION',\n",
       "       'OBSERVACIONES', 'PERIODICIDAD_PAGO', 'PROFESION', 'REGION',\n",
       "       'SOLICITUD', 'SUCURSAL', 'SUCURSAL_COD', 'SUCURSAL_CONTABILIZA',\n",
       "       'TASA_ANUAL', 'TEL_FIJO', 'TIPO_CREDITO', 'TIPO_DOCUMENTO',\n",
       "       'TIPO_OBLIGA', 'TIPO_UBICACION', 'TIPO_VIVIENDA', 'VALOR_CUOTA',\n",
       "       'VALOR_DESEMBOLSADO', 'VALOR_REFINANCIADO'],\n",
       "      dtype='object')"
      ]
     },
     "execution_count": 104,
     "metadata": {},
     "output_type": "execute_result"
    }
   ],
   "source": [
    "df.columns = cleaning.normalize_columns_name(df.columns)\n",
    "\n",
    "df.columns.sort_values()  # sorting for presentational purposes only"
   ]
  },
  {
   "cell_type": "markdown",
   "id": "12df0bb7",
   "metadata": {},
   "source": [
    "## Categorical columns"
   ]
  },
  {
   "cell_type": "markdown",
   "id": "90fe6ff2",
   "metadata": {},
   "source": [
    "### CODEUDOR"
   ]
  },
  {
   "cell_type": "markdown",
   "id": "781e0b78",
   "metadata": {},
   "source": [
    "CODEUDOR column has following possible forms of values containing sensitive data such as identity document number:\n",
    "- \"SIN CODEUDORES\" (no cosigner).\n",
    "- Cosigners ID and name (maximum two cosigners).\n",
    "- Cosigners ID, name, and payment calification (maximum two cosigners)."
   ]
  },
  {
   "cell_type": "code",
   "execution_count": 105,
   "id": "07a8a70f",
   "metadata": {},
   "outputs": [
    {
     "data": {
      "text/plain": [
       "{'total_records': 42009,\n",
       " 'sum_codeudor_counts': 42009,\n",
       " 'count_cosign': 6304,\n",
       " 'count_cosign_with_cal': 8806,\n",
       " 'count_no_cosign': 26899,\n",
       " 'all_cosign_cal_have_ids': True,\n",
       " 'all_cosign_no_cal_have_ids': True}"
      ]
     },
     "execution_count": 105,
     "metadata": {},
     "output_type": "execute_result"
    }
   ],
   "source": [
    "i_ids = df['CODEUDOR'].str.contains('\\d+')\n",
    "i_cosign_cal = df['CODEUDOR'].str.contains('CALIFICACION')\n",
    "i_no_cosign = df['CODEUDOR'].str.match('SIN CODEUDORES')\n",
    "\n",
    "i_cosign_no_cal = ~i_no_cosign & ~i_cosign_cal\n",
    "\n",
    "count_no_cosign = i_no_cosign.sum()\n",
    "count_cosign_cal = i_cosign_cal.sum()\n",
    "count_cosign_no_cal = i_cosign_no_cal.sum()\n",
    "\n",
    "count_sum = count_no_cosign + count_cosign_cal + count_cosign_no_cal\n",
    "\n",
    "{\n",
    "    \"total_records\": df.shape[0],\n",
    "    \"sum_codeudor_counts\": count_sum,\n",
    "    \"count_cosign\": count_cosign_no_cal,\n",
    "    \"count_cosign_with_cal\": count_cosign_cal,\n",
    "    \"count_no_cosign\": count_no_cosign,\n",
    "    \"all_cosign_cal_have_ids\": i_ids[i_cosign_cal].all(),\n",
    "    \"all_cosign_no_cal_have_ids\": i_ids[i_cosign_no_cal].all()\n",
    "}\n"
   ]
  },
  {
   "cell_type": "markdown",
   "id": "b7e03505",
   "metadata": {},
   "source": [
    "Update values as following:\n",
    "- \"SIN CODEUDORES\" as \"SIN_CODEUDORES\" (replace space for future column handling).\n",
    "- Records with no cosigner calification as \"CODEUDOR_NUM\", where NUM is the number of cosigners.\n",
    "- Records with cosigner calification as \"CODEUDOR_CAL\", where CAL is the best cosigner calification (i.e. minimum letter).\n",
    "- Records with invalid cosigner calification as if they had no calification: \"CODEUDOR_NUM\"."
   ]
  },
  {
   "cell_type": "code",
   "execution_count": 106,
   "id": "3bc12dc1",
   "metadata": {},
   "outputs": [],
   "source": [
    "CALIFICATIONS = set(['A', 'B', 'C', 'D', 'E'])\n",
    "\n",
    "\n",
    "def format_codeudor_no_cal(x):\n",
    "    return f'COUDEUDOR_{len(x)}'\n",
    "\n",
    "\n",
    "def format_codeudor_cal(x):\n",
    "    valid_cals = CALIFICATIONS.intersection(x)\n",
    "    if len(valid_cals) == 0:\n",
    "        return format_codeudor_no_cal(x)\n",
    "\n",
    "    return f'CODEUDOR_{min(CALIFICATIONS.intersection(x))}'\n"
   ]
  },
  {
   "cell_type": "code",
   "execution_count": 107,
   "id": "293a1c43",
   "metadata": {},
   "outputs": [
    {
     "data": {
      "text/plain": [
       "8           [B]\n",
       "9           [A]\n",
       "14          [M]\n",
       "16          [B]\n",
       "22       [A, E]\n",
       "          ...  \n",
       "41994    [E, E]\n",
       "41996       [B]\n",
       "42001       [B]\n",
       "42002       [B]\n",
       "42004       [B]\n",
       "Name: CODEUDOR, Length: 8806, dtype: object"
      ]
     },
     "execution_count": 107,
     "metadata": {},
     "output_type": "execute_result"
    }
   ],
   "source": [
    "cals_ss = (\n",
    "    df\n",
    "    .loc[i_cosign_cal, 'CODEUDOR']\n",
    "    .str.findall(r'(?:CALIFICACION:\\s)(?P<calificacion>\\w)')\n",
    ")\n",
    "\n",
    "cals_ss"
   ]
  },
  {
   "cell_type": "markdown",
   "id": "4a513a90",
   "metadata": {},
   "source": [
    "Question: are these typos? how is it the process of calification? how is the relation of CODEUDOR with defaulting?"
   ]
  },
  {
   "cell_type": "code",
   "execution_count": 108,
   "id": "7e11b95c",
   "metadata": {},
   "outputs": [
    {
     "data": {
      "text/plain": [
       "{'I', 'M'}"
      ]
     },
     "execution_count": 108,
     "metadata": {},
     "output_type": "execute_result"
    }
   ],
   "source": [
    "unknown_cals = set()\n",
    "for val in cals_ss:\n",
    "    diff = set(val).difference(CALIFICATIONS)\n",
    "    unknown_cals = unknown_cals.union(diff)\n",
    "\n",
    "unknown_cals"
   ]
  },
  {
   "cell_type": "markdown",
   "id": "e9bd6ead",
   "metadata": {},
   "source": [
    "Question: verify meaning of variable composition: rates, numbers"
   ]
  },
  {
   "cell_type": "code",
   "execution_count": 109,
   "id": "343331d2",
   "metadata": {},
   "outputs": [
    {
     "data": {
      "text/plain": [
       "SIN_CODEUDOR    26899\n",
       "COUDEUDOR_1      7067\n",
       "CODEUDOR_B       4235\n",
       "CODEUDOR_A       1939\n",
       "CODEUDOR_E       1769\n",
       "COUDEUDOR_2       100\n",
       "Name: CODEUDOR, dtype: int64"
      ]
     },
     "execution_count": 109,
     "metadata": {},
     "output_type": "execute_result"
    }
   ],
   "source": [
    "df.loc[i_no_cosign, 'CODEUDOR'] = 'SIN_CODEUDOR'\n",
    "df.loc[i_cosign_no_cal, 'CODEUDOR'] = (\n",
    "    df\n",
    "    .loc[i_cosign_no_cal, 'CODEUDOR']\n",
    "    .str.findall('\\d+')\n",
    "    .apply(format_codeudor_no_cal)\n",
    ")\n",
    "\n",
    "df.loc[i_cosign_cal, 'CODEUDOR'] = cals_ss.apply(format_codeudor_cal)\n",
    "\n",
    "\n",
    "# Validation with commas\n",
    "# ddb = df.loc[i_cosign, 'CODEUDOR'].strip().str.replace(', ,', ',')\n",
    "# ddc2 = ddb.str.split(',').rename('VALUES')\n",
    "# ddd2 = ddc2.apply(lambda x: len(x) if len(x[-1]) > 0 else len(x) - 1).rename('LEN')\n",
    "# ddd22 = ddb.str.findall('\\d+').apply(lambda x: len(x)).rename('LEN_1')\n",
    "# dde2 = pd.concat([ddb, ddc2, ddd2, ddd22], axis=1)\n",
    "# print((dde2.iloc[:, -1] == dde2.iloc[:, -2]).all())\n",
    "# dde2\n",
    "\n",
    "df['CODEUDOR'].value_counts(dropna=False)"
   ]
  },
  {
   "cell_type": "code",
   "execution_count": 110,
   "id": "b9453400",
   "metadata": {},
   "outputs": [
    {
     "data": {
      "text/plain": [
       "9737     SIN_CODEUDOR\n",
       "4396     SIN_CODEUDOR\n",
       "14001    SIN_CODEUDOR\n",
       "13381    SIN_CODEUDOR\n",
       "28023    SIN_CODEUDOR\n",
       "Name: CODEUDOR, dtype: object"
      ]
     },
     "execution_count": 110,
     "metadata": {},
     "output_type": "execute_result"
    }
   ],
   "source": [
    "df['CODEUDOR'].sample(5)"
   ]
  },
  {
   "cell_type": "code",
   "execution_count": 111,
   "id": "6e993ad0",
   "metadata": {},
   "outputs": [
    {
     "data": {
      "text/plain": [
       "'CODEUDOR_A'"
      ]
     },
     "execution_count": 111,
     "metadata": {},
     "output_type": "execute_result"
    }
   ],
   "source": [
    "df.loc[22, 'CODEUDOR']"
   ]
  },
  {
   "cell_type": "markdown",
   "id": "3d964a8f",
   "metadata": {},
   "source": [
    "### COD_DESTINACION, DESTINACION"
   ]
  },
  {
   "cell_type": "markdown",
   "id": "63e952b6",
   "metadata": {},
   "source": [
    "COD_DESTINACION and DESTINACION don't have NaN values nor invalid values:"
   ]
  },
  {
   "cell_type": "code",
   "execution_count": 112,
   "id": "14c6a7ef",
   "metadata": {},
   "outputs": [
    {
     "data": {
      "text/plain": [
       "COD_DESTINACION    False\n",
       "DESTINACION        False\n",
       "dtype: bool"
      ]
     },
     "execution_count": 112,
     "metadata": {},
     "output_type": "execute_result"
    }
   ],
   "source": [
    "df[['COD_DESTINACION', 'DESTINACION']].isna().any()"
   ]
  },
  {
   "cell_type": "code",
   "execution_count": 113,
   "id": "0fd9957b",
   "metadata": {},
   "outputs": [
    {
     "data": {
      "text/html": [
       "<div>\n",
       "<style scoped>\n",
       "    .dataframe tbody tr th:only-of-type {\n",
       "        vertical-align: middle;\n",
       "    }\n",
       "\n",
       "    .dataframe tbody tr th {\n",
       "        vertical-align: top;\n",
       "    }\n",
       "\n",
       "    .dataframe thead th {\n",
       "        text-align: right;\n",
       "    }\n",
       "</style>\n",
       "<table border=\"1\" class=\"dataframe\">\n",
       "  <thead>\n",
       "    <tr style=\"text-align: right;\">\n",
       "      <th></th>\n",
       "      <th>COD_DESTINACION</th>\n",
       "      <th>DESTINACION</th>\n",
       "    </tr>\n",
       "  </thead>\n",
       "  <tbody>\n",
       "    <tr>\n",
       "      <th>7</th>\n",
       "      <td>AF</td>\n",
       "      <td>ACTIVOS FIJOS</td>\n",
       "    </tr>\n",
       "    <tr>\n",
       "      <th>3807</th>\n",
       "      <td>COS</td>\n",
       "      <td>COSECHA</td>\n",
       "    </tr>\n",
       "    <tr>\n",
       "      <th>0</th>\n",
       "      <td>CT</td>\n",
       "      <td>CAPITAL DE TRABAJO</td>\n",
       "    </tr>\n",
       "    <tr>\n",
       "      <th>13</th>\n",
       "      <td>EME</td>\n",
       "      <td>EMERGENCIA</td>\n",
       "    </tr>\n",
       "    <tr>\n",
       "      <th>12630</th>\n",
       "      <td>GRR</td>\n",
       "      <td>GARANTIA REAL</td>\n",
       "    </tr>\n",
       "    <tr>\n",
       "      <th>31239</th>\n",
       "      <td>MO</td>\n",
       "      <td>MANO DE OBRA</td>\n",
       "    </tr>\n",
       "    <tr>\n",
       "      <th>31043</th>\n",
       "      <td>MT</td>\n",
       "      <td>MATERIALES</td>\n",
       "    </tr>\n",
       "    <tr>\n",
       "      <th>12</th>\n",
       "      <td>MX</td>\n",
       "      <td>MIXTO</td>\n",
       "    </tr>\n",
       "    <tr>\n",
       "      <th>294</th>\n",
       "      <td>NEG</td>\n",
       "      <td>NEGOCIO</td>\n",
       "    </tr>\n",
       "  </tbody>\n",
       "</table>\n",
       "</div>"
      ],
      "text/plain": [
       "      COD_DESTINACION         DESTINACION\n",
       "7                  AF       ACTIVOS FIJOS\n",
       "3807              COS             COSECHA\n",
       "0                  CT  CAPITAL DE TRABAJO\n",
       "13                EME          EMERGENCIA\n",
       "12630             GRR       GARANTIA REAL\n",
       "31239              MO        MANO DE OBRA\n",
       "31043              MT          MATERIALES\n",
       "12                 MX               MIXTO\n",
       "294               NEG             NEGOCIO"
      ]
     },
     "execution_count": 113,
     "metadata": {},
     "output_type": "execute_result"
    }
   ],
   "source": [
    "df[['COD_DESTINACION', 'DESTINACION']].drop_duplicates().sort_values(by='COD_DESTINACION')"
   ]
  },
  {
   "cell_type": "markdown",
   "id": "3d964a8f",
   "metadata": {},
   "source": [
    "### COD_LINEA, LINEA"
   ]
  },
  {
   "cell_type": "markdown",
   "id": "63e952b6",
   "metadata": {},
   "source": [
    "COD_LINEA and LINEA don't have NaN values nor invalid values:"
   ]
  },
  {
   "cell_type": "code",
   "execution_count": 114,
   "id": "14c6a7ef",
   "metadata": {},
   "outputs": [
    {
     "data": {
      "text/plain": [
       "COD_LINEA    False\n",
       "LINEA        False\n",
       "dtype: bool"
      ]
     },
     "execution_count": 114,
     "metadata": {},
     "output_type": "execute_result"
    }
   ],
   "source": [
    "df[['COD_LINEA', 'LINEA']].isna().any()"
   ]
  },
  {
   "cell_type": "code",
   "execution_count": 115,
   "id": "0fd9957b",
   "metadata": {},
   "outputs": [
    {
     "data": {
      "text/plain": [
       "COD_LINEA  LINEA          \n",
       "CRD        CREDITO DIGITAL      348\n",
       "CRE        CRECER             18033\n",
       "CRN        CREDINEGOCIO         188\n",
       "FID        FIDELIZACION        1874\n",
       "GER        GERMINA            15166\n",
       "GRR        GARANTIA REAL          2\n",
       "MCA        MI CASA             6392\n",
       "UNE        UNETE                  6\n",
       "dtype: int64"
      ]
     },
     "execution_count": 115,
     "metadata": {},
     "output_type": "execute_result"
    }
   ],
   "source": [
    "df[['COD_LINEA', 'LINEA']].value_counts(dropna=False).sort_index()"
   ]
  },
  {
   "cell_type": "markdown",
   "id": "3d964a8f",
   "metadata": {},
   "source": [
    "### COD_MODALIDAD, MODALIDAD"
   ]
  },
  {
   "cell_type": "markdown",
   "id": "63e952b6",
   "metadata": {},
   "source": [
    "COD_MODALIDAD and MODALIDAD don't have NaN values nor invalid values:"
   ]
  },
  {
   "cell_type": "code",
   "execution_count": 116,
   "id": "14c6a7ef",
   "metadata": {},
   "outputs": [
    {
     "data": {
      "text/plain": [
       "COD_MODALIDAD    False\n",
       "MODALIDAD        False\n",
       "dtype: bool"
      ]
     },
     "execution_count": 116,
     "metadata": {},
     "output_type": "execute_result"
    }
   ],
   "source": [
    "df[['COD_MODALIDAD', 'MODALIDAD']].isna().any()"
   ]
  },
  {
   "cell_type": "code",
   "execution_count": 117,
   "id": "0fd9957b",
   "metadata": {},
   "outputs": [
    {
     "data": {
      "text/plain": [
       "COD_MODALIDAD  MODALIDAD                                               \n",
       "400            DESARROLLO EMPRESARIAL CRECER (COMISION PYME) RENOVACION    11128\n",
       "403            CREDITO RURAL INDIVIDUAL GERMINA                             9872\n",
       "404            MICROVIVIENDA                                                6069\n",
       "410            DESARROLLO EMPRESARIAL CRECER (COMISION PYME) NUEVO          4166\n",
       "412            CREDITO RURAL INDIVIDUAL - GERMINA NUEVO                     3189\n",
       "398            CREDI-DESVARE EMERGENCIA TRIMESTRAL                          1650\n",
       "396            DESARROLLO EMPRESARIAL CRECER NUEVO DCA                      1629\n",
       "395            CREDITO RURAL INDIVIDUAL - GERMINA NUEVO DCA                  935\n",
       "399            CRÉDI COSECHA                                                 492\n",
       "479            MICROCREDITO DIGITAL                                          348\n",
       "506            MUJER URBANO                                                  346\n",
       "392            EMP219 70 DESARROLLO EMPRESARIAL CRECER FNG                   304\n",
       "502            CREDITO RURAL INDIVIDUAL GERMINA TAURAMENA                    282\n",
       "500            DESARROLLO EMPRESARIAL CRECER (COMISION PYME) TAURAMENA       251\n",
       "390            MICROVIVIENDA NUEVO DCA                                       231\n",
       "514            CUPO FIJO                                                     224\n",
       "393            EMP226 75 CREDITO RURAL INDIVIDUAL - GERMINA FNG              224\n",
       "507            MUJER RURAL                                                   152\n",
       "504            CREDINEGOCIO 5- 100 SMMLV                                     106\n",
       "498            D.E. FONDO Equion TAURAMENA - INTV                             93\n",
       "503            MICROVIVIENDA TAURAMENA                                        92\n",
       "402            FIDELIZAR                                                      82\n",
       "505            CREDINEGOCIO HASTA 25 SMMLV                                    41\n",
       "397            CREDI-DESVARE NEGOCIO SEMESTRAL                                30\n",
       "401            DESARROLLO EMPRESARIAL 25-50 SMMLV                             23\n",
       "394            EMP225 60 CREDITO RURAL INDIVIDUAL - GERMINA FNG               20\n",
       "508            CREDINEGOCIO 25- 100 SMMLV RENOVACION                          11\n",
       "411            DESARROLLO EMPRESARIAL 25-50 SMMLV NUEVO                       10\n",
       "518            UNETE COMPRA DE CARTERA                                         6\n",
       "515            CREDINEGOCIO 25- 100 SMMLV GARANTIA REAL                        2\n",
       "501            DESARROLLO EMPRESARIAL 25-50 SMMLV TAURAMENA                    1\n",
       "dtype: int64"
      ]
     },
     "execution_count": 117,
     "metadata": {},
     "output_type": "execute_result"
    }
   ],
   "source": [
    "df[['COD_MODALIDAD', 'MODALIDAD']].value_counts()"
   ]
  },
  {
   "cell_type": "markdown",
   "id": "3d964a8f",
   "metadata": {},
   "source": [
    "### ESTADO_CIVIL"
   ]
  },
  {
   "cell_type": "code",
   "execution_count": 118,
   "id": "0fd9957b",
   "metadata": {},
   "outputs": [
    {
     "data": {
      "text/plain": [
       "Union libre    16591\n",
       "Casado         11305\n",
       "Soltero        11008\n",
       "Divorciado      1627\n",
       "Viudo           1321\n",
       "Separado          91\n",
       "NaN               50\n",
       "Otro              16\n",
       "Name: ESTADO_CIVIL, dtype: int64"
      ]
     },
     "execution_count": 118,
     "metadata": {},
     "output_type": "execute_result"
    }
   ],
   "source": [
    "df['ESTADO_CIVIL'].value_counts(dropna=False)"
   ]
  },
  {
   "cell_type": "markdown",
   "id": "b9eb36bb",
   "metadata": {},
   "source": [
    "### ESTRATO"
   ]
  },
  {
   "cell_type": "markdown",
   "id": "3d86d237",
   "metadata": {},
   "source": [
    "PENDING: as categorical?"
   ]
  },
  {
   "cell_type": "markdown",
   "id": "63e952b6",
   "metadata": {},
   "source": [
    "ESTRATO column has some NaN values, so, it is not possible to cast the column to integer type:"
   ]
  },
  {
   "cell_type": "code",
   "execution_count": 119,
   "id": "e240f551",
   "metadata": {},
   "outputs": [
    {
     "data": {
      "text/plain": [
       "1.0    21165\n",
       "2.0    17584\n",
       "3.0     3102\n",
       "4.0       85\n",
       "NaN       63\n",
       "5.0        9\n",
       "6.0        1\n",
       "Name: ESTRATO, dtype: int64"
      ]
     },
     "execution_count": 119,
     "metadata": {},
     "output_type": "execute_result"
    }
   ],
   "source": [
    "df['ESTRATO'].value_counts(dropna=False)"
   ]
  },
  {
   "cell_type": "markdown",
   "id": "3d964a8f",
   "metadata": {},
   "source": [
    "### GENERO"
   ]
  },
  {
   "cell_type": "markdown",
   "id": "63e952b6",
   "metadata": {},
   "source": [
    "GENERO don't have NaN values nor invalid values:"
   ]
  },
  {
   "cell_type": "code",
   "execution_count": 120,
   "id": "14c6a7ef",
   "metadata": {},
   "outputs": [
    {
     "data": {
      "text/plain": [
       "False"
      ]
     },
     "execution_count": 120,
     "metadata": {},
     "output_type": "execute_result"
    }
   ],
   "source": [
    "df['GENERO'].isna().any()"
   ]
  },
  {
   "cell_type": "code",
   "execution_count": 121,
   "id": "ba3d2347",
   "metadata": {},
   "outputs": [
    {
     "data": {
      "text/plain": [
       "Femenino     23603\n",
       "Masculino    18406\n",
       "Name: GENERO, dtype: int64"
      ]
     },
     "execution_count": 121,
     "metadata": {},
     "output_type": "execute_result"
    }
   ],
   "source": [
    "df['GENERO'].value_counts(dropna=False)"
   ]
  },
  {
   "cell_type": "markdown",
   "id": "3d964a8f",
   "metadata": {},
   "source": [
    "### NIVEL_ESTUDIOS"
   ]
  },
  {
   "cell_type": "markdown",
   "id": "63e952b6",
   "metadata": {},
   "source": [
    "NIVEL_ESTUDIOS has some NaN values but no invalid values:"
   ]
  },
  {
   "cell_type": "code",
   "execution_count": 122,
   "id": "ba3d2347",
   "metadata": {},
   "outputs": [
    {
     "data": {
      "text/plain": [
       "Secundaria         17665\n",
       "Primaria           16818\n",
       "Tecnica             3848\n",
       "Universitaria       2127\n",
       "Tecnológica         1032\n",
       "Analfabetismo        262\n",
       "No escolarizado      141\n",
       "Especializacion       86\n",
       "Maestria              11\n",
       "No indica              7\n",
       "Magister               6\n",
       "NaN                    6\n",
       "Name: NIVEL_ESTUDIOS, dtype: int64"
      ]
     },
     "execution_count": 122,
     "metadata": {},
     "output_type": "execute_result"
    }
   ],
   "source": [
    "df['NIVEL_ESTUDIOS'].value_counts(dropna=False)"
   ]
  },
  {
   "cell_type": "code",
   "execution_count": 123,
   "id": "1db5f5d0",
   "metadata": {},
   "outputs": [
    {
     "data": {
      "text/plain": [
       "SECUNDARIA         17665\n",
       "PRIMARIA           16818\n",
       "TECNICA             3848\n",
       "UNIVERSITARIA       2127\n",
       "TECNOLOGICA         1032\n",
       "ANALFABETISMO        262\n",
       "NO_ESCOLARIZADO      141\n",
       "ESPECIALIZACION       86\n",
       "MAESTRIA              17\n",
       "NO_INDICA              7\n",
       "NaN                    6\n",
       "Name: NIVEL_ESTUDIOS, dtype: int64"
      ]
     },
     "execution_count": 123,
     "metadata": {},
     "output_type": "execute_result"
    }
   ],
   "source": [
    "(\n",
    "    cleaning.normalize_columns_name(df['NIVEL_ESTUDIOS'])\n",
    "    .replace({\n",
    "        'MAGISTER': 'MAESTRIA',\n",
    "    })\n",
    "    .value_counts(dropna=False)\n",
    ")"
   ]
  },
  {
   "cell_type": "markdown",
   "id": "3d964a8f",
   "metadata": {},
   "source": [
    "### PERIODICIDAD_PAGO"
   ]
  },
  {
   "cell_type": "markdown",
   "id": "63e952b6",
   "metadata": {},
   "source": [
    "PERIODICIDAD_PAGO has some NaN values but no invalid values:"
   ]
  },
  {
   "cell_type": "code",
   "execution_count": 124,
   "id": "ba3d2347",
   "metadata": {},
   "outputs": [
    {
     "data": {
      "text/plain": [
       "Mensual          32936\n",
       "Trimestral        9007\n",
       "NaN                 35\n",
       "Bimensual           30\n",
       "Cuatrimestral        1\n",
       "Name: PERIODICIDAD_PAGO, dtype: int64"
      ]
     },
     "execution_count": 124,
     "metadata": {},
     "output_type": "execute_result"
    }
   ],
   "source": [
    "df['PERIODICIDAD_PAGO'].value_counts(dropna=False)"
   ]
  },
  {
   "cell_type": "markdown",
   "id": "adcf6beb",
   "metadata": {},
   "source": [
    "Draft:"
   ]
  },
  {
   "cell_type": "code",
   "execution_count": 125,
   "id": "132bc8ad",
   "metadata": {},
   "outputs": [
    {
     "data": {
      "text/plain": [
       "[35, 0, 0]"
      ]
     },
     "execution_count": 125,
     "metadata": {},
     "output_type": "execute_result"
    }
   ],
   "source": [
    "i_na = df['PERIODICIDAD_PAGO'].isna()\n",
    "i_rechazado = df['ESTADO'].str.match('RECHAZADO')\n",
    "\n",
    "[\n",
    "    i_na.sum(),\n",
    "    i_rechazado.sum(),\n",
    "    (i_na & i_rechazado).sum(),\n",
    "]"
   ]
  },
  {
   "cell_type": "code",
   "execution_count": 126,
   "id": "234da0cf",
   "metadata": {},
   "outputs": [
    {
     "data": {
      "text/plain": [
       "(35, 35)"
      ]
     },
     "execution_count": 126,
     "metadata": {},
     "output_type": "execute_result"
    }
   ],
   "source": [
    "izero = df['VALOR_CUOTA'] == 0\n",
    "(i_na & ~i_rechazado).sum(), (i_na & ~i_rechazado & izero).sum()"
   ]
  },
  {
   "cell_type": "markdown",
   "id": "531d3803",
   "metadata": {},
   "source": [
    "### PROFESION"
   ]
  },
  {
   "cell_type": "code",
   "execution_count": 127,
   "id": "f6b682f6",
   "metadata": {},
   "outputs": [
    {
     "data": {
      "text/plain": [
       "SIN PROFESION           13187\n",
       "DESCONOCIDA             11933\n",
       "AGRICULTURA              5227\n",
       "GANADERIA                4379\n",
       "ADMON DE NEGOCIOS        2272\n",
       "                        ...  \n",
       "QUIMICA FARMACEUTICA        2\n",
       "FONOAUDIOLOGIA              2\n",
       "DISEÑO INDUSTRIAL           2\n",
       "ING. ADMINISTRATIVA         2\n",
       "FISICA                      1\n",
       "Name: PROFESION, Length: 95, dtype: int64"
      ]
     },
     "execution_count": 127,
     "metadata": {},
     "output_type": "execute_result"
    }
   ],
   "source": [
    "df['PROFESION'].value_counts(dropna=False)"
   ]
  },
  {
   "cell_type": "markdown",
   "id": "531d3803",
   "metadata": {},
   "source": [
    "### SUCURSAL, SUCURSAL_COD (also in CARTERA)"
   ]
  },
  {
   "cell_type": "markdown",
   "id": "7aab80ac",
   "metadata": {},
   "source": [
    "> Note: SUCURSAL_COD in COLOCACION dataset has no null values but in CARTERA dataset some null values are denoted by \"#N/D\""
   ]
  },
  {
   "cell_type": "markdown",
   "id": "58b25d09",
   "metadata": {},
   "source": [
    "Question: what is SUCURSAL? In joining_datasets.ipynb it is seemed that there are multiple SUCURSAL values for same CLIENTE"
   ]
  },
  {
   "cell_type": "code",
   "execution_count": 128,
   "id": "8effaa1d",
   "metadata": {},
   "outputs": [
    {
     "name": "stdout",
     "output_type": "stream",
     "text": [
      "<class 'pandas.core.frame.DataFrame'>\n",
      "RangeIndex: 42009 entries, 0 to 42008\n",
      "Data columns (total 1 columns):\n",
      " #   Column        Non-Null Count  Dtype\n",
      "---  ------        --------------  -----\n",
      " 0   SUCURSAL_COD  42009 non-null  int64\n",
      "dtypes: int64(1)\n",
      "memory usage: 328.3 KB\n"
     ]
    }
   ],
   "source": [
    "df[['SUCURSAL_COD']].info()"
   ]
  },
  {
   "cell_type": "code",
   "execution_count": 129,
   "id": "f71e3785",
   "metadata": {},
   "outputs": [
    {
     "data": {
      "text/plain": [
       "False"
      ]
     },
     "execution_count": 129,
     "metadata": {},
     "output_type": "execute_result"
    }
   ],
   "source": [
    "df['SUCURSAL_COD'].isna().any()"
   ]
  },
  {
   "cell_type": "code",
   "execution_count": 130,
   "id": "4cf49a08",
   "metadata": {},
   "outputs": [
    {
     "data": {
      "text/plain": [
       "1     6787\n",
       "8     6054\n",
       "2     5067\n",
       "9     4278\n",
       "3     3644\n",
       "6     3442\n",
       "4     2704\n",
       "11    2704\n",
       "12    1889\n",
       "5     1441\n",
       "7     1389\n",
       "10    1036\n",
       "13     989\n",
       "14     585\n",
       "Name: SUCURSAL_COD, dtype: int64"
      ]
     },
     "execution_count": 130,
     "metadata": {},
     "output_type": "execute_result"
    }
   ],
   "source": [
    "df['SUCURSAL_COD'].value_counts(dropna=False)"
   ]
  },
  {
   "cell_type": "markdown",
   "id": "531d3803",
   "metadata": {},
   "source": [
    "### TIPO_CREDITO (also in CARTERA)"
   ]
  },
  {
   "cell_type": "markdown",
   "id": "d68e2414",
   "metadata": {},
   "source": [
    "Question: SIN PERFIL?"
   ]
  },
  {
   "cell_type": "code",
   "execution_count": 131,
   "id": "1c822c1c",
   "metadata": {},
   "outputs": [
    {
     "data": {
      "text/plain": [
       "NUEVO          17817\n",
       "RENOVADO       10262\n",
       "RETANQUEADO     8033\n",
       "PARALELO        4631\n",
       "SIN PERFIL      1231\n",
       "NaN               35\n",
       "Name: TIPO_CREDITO, dtype: int64"
      ]
     },
     "execution_count": 131,
     "metadata": {},
     "output_type": "execute_result"
    }
   ],
   "source": [
    "df['TIPO_CREDITO'].value_counts(dropna=False)"
   ]
  },
  {
   "cell_type": "markdown",
   "id": "531d3803",
   "metadata": {},
   "source": [
    "### TIPO_UBICACION (also in CONTACTO)"
   ]
  },
  {
   "cell_type": "markdown",
   "id": "d68e2414",
   "metadata": {},
   "source": [
    "No NaN values, all other are valid:"
   ]
  },
  {
   "cell_type": "code",
   "execution_count": 132,
   "id": "b7d8bc55",
   "metadata": {},
   "outputs": [
    {
     "data": {
      "text/plain": [
       "False"
      ]
     },
     "execution_count": 132,
     "metadata": {},
     "output_type": "execute_result"
    }
   ],
   "source": [
    "df['TIPO_UBICACION'].isna().any()"
   ]
  },
  {
   "cell_type": "code",
   "execution_count": 133,
   "id": "1c822c1c",
   "metadata": {},
   "outputs": [
    {
     "data": {
      "text/plain": [
       "URBANA    23969\n",
       "RURAL     18040\n",
       "Name: TIPO_UBICACION, dtype: int64"
      ]
     },
     "execution_count": 133,
     "metadata": {},
     "output_type": "execute_result"
    }
   ],
   "source": [
    "df['TIPO_UBICACION'].value_counts(dropna=False)"
   ]
  },
  {
   "cell_type": "markdown",
   "id": "531d3803",
   "metadata": {},
   "source": [
    "### TIPO_VIVIENDA (also in CONTACTO)"
   ]
  },
  {
   "cell_type": "markdown",
   "id": "d68e2414",
   "metadata": {},
   "source": [
    "No NaN values, all other are valid:"
   ]
  },
  {
   "cell_type": "code",
   "execution_count": 134,
   "id": "b7d8bc55",
   "metadata": {},
   "outputs": [
    {
     "data": {
      "text/plain": [
       "False"
      ]
     },
     "execution_count": 134,
     "metadata": {},
     "output_type": "execute_result"
    }
   ],
   "source": [
    "df['TIPO_VIVIENDA'].isna().any()"
   ]
  },
  {
   "cell_type": "code",
   "execution_count": 135,
   "id": "1c822c1c",
   "metadata": {},
   "outputs": [
    {
     "data": {
      "text/plain": [
       "Propia                   25727\n",
       "Familiar                  8998\n",
       "Arriendo                  6244\n",
       "Otra                       912\n",
       "SIN VIVIENDA               112\n",
       "Inmueble con Hipoteca       16\n",
       "Name: TIPO_VIVIENDA, dtype: int64"
      ]
     },
     "execution_count": 135,
     "metadata": {},
     "output_type": "execute_result"
    }
   ],
   "source": [
    "df['TIPO_VIVIENDA'].value_counts(dropna=False)"
   ]
  },
  {
   "cell_type": "code",
   "execution_count": 136,
   "id": "d2fdfab6",
   "metadata": {},
   "outputs": [
    {
     "data": {
      "text/plain": [
       "PROPIA          25727\n",
       "FAMILIAR         8998\n",
       "ARRIENDO         6244\n",
       "OTRA              912\n",
       "SIN_VIVIENDA      112\n",
       "HIPOTECA           16\n",
       "Name: TIPO_VIVIENDA, dtype: int64"
      ]
     },
     "execution_count": 136,
     "metadata": {},
     "output_type": "execute_result"
    }
   ],
   "source": [
    "df['TIPO_VIVIENDA'] = cleaning.clean_tipo_vivienda(df['TIPO_VIVIENDA'])\n",
    "\n",
    "df['TIPO_VIVIENDA'].value_counts(dropna=False)"
   ]
  },
  {
   "cell_type": "markdown",
   "id": "b39bcf84",
   "metadata": {},
   "source": [
    "## Dates columns"
   ]
  },
  {
   "cell_type": "markdown",
   "id": "7560f7de",
   "metadata": {},
   "source": [
    "### FECHA_NACIMIENTO (also in CONTACTO)"
   ]
  },
  {
   "cell_type": "code",
   "execution_count": 137,
   "id": "6e907f36",
   "metadata": {},
   "outputs": [
    {
     "data": {
      "text/plain": [
       "True"
      ]
     },
     "execution_count": 137,
     "metadata": {},
     "output_type": "execute_result"
    }
   ],
   "source": [
    "df['FECHA_NACIMIENTO'].apply(lambda x: isinstance(x, datetime.datetime)).all()"
   ]
  },
  {
   "cell_type": "code",
   "execution_count": 138,
   "id": "f4bf9ea5",
   "metadata": {},
   "outputs": [],
   "source": [
    "df['FECHA_NACIMIENTO'] = pd.to_datetime(df['FECHA_NACIMIENTO'])"
   ]
  },
  {
   "cell_type": "markdown",
   "id": "8b6a607c",
   "metadata": {},
   "source": [
    "### FECHA_PAGO"
   ]
  },
  {
   "cell_type": "markdown",
   "id": "9a64a881",
   "metadata": {},
   "source": [
    "Question: inconsistent column when compared to dates in CARTERA dataset"
   ]
  },
  {
   "cell_type": "code",
   "execution_count": 139,
   "id": "106b36a2",
   "metadata": {},
   "outputs": [
    {
     "data": {
      "text/plain": [
       "0        2021-10-02 00:00:00\n",
       "1        2021-12-02 00:00:00\n",
       "2        2021-10-02 00:00:00\n",
       "3        2021-10-02 00:00:00\n",
       "4        2021-12-02 00:00:00\n",
       "                ...         \n",
       "42004    2017-04-18 00:00:00\n",
       "42005    2017-02-17 00:00:00\n",
       "42006    2017-02-17 00:00:00\n",
       "42007    2017-02-17 00:00:00\n",
       "42008    2017-04-17 00:00:00\n",
       "Name: FECHA_PAGO, Length: 42009, dtype: object"
      ]
     },
     "execution_count": 139,
     "metadata": {},
     "output_type": "execute_result"
    }
   ],
   "source": [
    "df['FECHA_PAGO']"
   ]
  },
  {
   "cell_type": "markdown",
   "id": "f3f206a8",
   "metadata": {},
   "source": [
    "### Casting dates"
   ]
  },
  {
   "cell_type": "markdown",
   "id": "44d4a441",
   "metadata": {},
   "source": [
    "Some dates columns are automatically parsed when reading with Pandas considering such columns have been setup with date format directly in .xlsx file (see [this GitHub issue](https://github.com/pandas-dev/pandas/issues/29217))"
   ]
  },
  {
   "cell_type": "code",
   "execution_count": 140,
   "id": "0bad16a5",
   "metadata": {},
   "outputs": [
    {
     "data": {
      "text/plain": [
       "Index(['FECHA_SOLICITUD', 'FECHA_APROBA', 'FECHA_DESEMBOLSO', 'FECHA_PAGO',\n",
       "       'FECHA_NACIMIENTO'],\n",
       "      dtype='object')"
      ]
     },
     "execution_count": 140,
     "metadata": {},
     "output_type": "execute_result"
    }
   ],
   "source": [
    "DATE_COLS = df.columns[df.columns.str.match('^FECHA_')]\n",
    "\n",
    "df.columns[df.columns.str.match('^FECHA_')]"
   ]
  },
  {
   "cell_type": "code",
   "execution_count": 141,
   "id": "a66b6ba9",
   "metadata": {},
   "outputs": [
    {
     "name": "stdout",
     "output_type": "stream",
     "text": [
      "<class 'pandas.core.frame.DataFrame'>\n",
      "RangeIndex: 42009 entries, 0 to 42008\n",
      "Data columns (total 5 columns):\n",
      " #   Column            Non-Null Count  Dtype         \n",
      "---  ------            --------------  -----         \n",
      " 0   FECHA_SOLICITUD   42009 non-null  datetime64[ns]\n",
      " 1   FECHA_APROBA      42009 non-null  datetime64[ns]\n",
      " 2   FECHA_DESEMBOLSO  41974 non-null  datetime64[ns]\n",
      " 3   FECHA_PAGO        41974 non-null  object        \n",
      " 4   FECHA_NACIMIENTO  42009 non-null  datetime64[ns]\n",
      "dtypes: datetime64[ns](4), object(1)\n",
      "memory usage: 1.6+ MB\n"
     ]
    }
   ],
   "source": [
    "df[DATE_COLS].info()"
   ]
  },
  {
   "cell_type": "code",
   "execution_count": 142,
   "id": "cdf4871a",
   "metadata": {},
   "outputs": [
    {
     "data": {
      "text/plain": [
       "Index(['FECHA_SOLICITUD', 'FECHA_APROBA', 'FECHA_DESEMBOLSO',\n",
       "       'FECHA_NACIMIENTO'],\n",
       "      dtype='object')"
      ]
     },
     "execution_count": 142,
     "metadata": {},
     "output_type": "execute_result"
    }
   ],
   "source": [
    "exclude = df[DATE_COLS].select_dtypes('datetime64').columns\n",
    "\n",
    "exclude"
   ]
  },
  {
   "cell_type": "code",
   "execution_count": 143,
   "id": "a66c5bc2",
   "metadata": {},
   "outputs": [
    {
     "name": "stdout",
     "output_type": "stream",
     "text": [
      "<class 'pandas.core.frame.DataFrame'>\n",
      "RangeIndex: 42009 entries, 0 to 42008\n",
      "Data columns (total 5 columns):\n",
      " #   Column            Non-Null Count  Dtype         \n",
      "---  ------            --------------  -----         \n",
      " 0   FECHA_SOLICITUD   42009 non-null  datetime64[ns]\n",
      " 1   FECHA_APROBA      42009 non-null  datetime64[ns]\n",
      " 2   FECHA_DESEMBOLSO  41974 non-null  datetime64[ns]\n",
      " 3   FECHA_PAGO        41974 non-null  datetime64[ns]\n",
      " 4   FECHA_NACIMIENTO  42009 non-null  datetime64[ns]\n",
      "dtypes: datetime64[ns](5)\n",
      "memory usage: 1.6 MB\n"
     ]
    }
   ],
   "source": [
    "cleaning.cast_dates_in_place(df, exclude=exclude)\n",
    "\n",
    "df[DATE_COLS].info()"
   ]
  },
  {
   "cell_type": "markdown",
   "id": "7c75871f",
   "metadata": {},
   "source": [
    "## Numeric columns"
   ]
  },
  {
   "cell_type": "markdown",
   "id": "cb968223",
   "metadata": {},
   "source": [
    "### ANO_CONTABILIZA"
   ]
  },
  {
   "cell_type": "code",
   "execution_count": 144,
   "id": "de3c9583",
   "metadata": {},
   "outputs": [
    {
     "data": {
      "text/plain": [
       "0        2021\n",
       "804       NaN\n",
       "6347     2020\n",
       "13754    2019\n",
       "23826    2018\n",
       "33290    2017\n",
       "Name: ANO_CONTABILIZA, dtype: object"
      ]
     },
     "execution_count": 144,
     "metadata": {},
     "output_type": "execute_result"
    }
   ],
   "source": [
    "df['ANO_CONTABILIZA'].drop_duplicates()"
   ]
  },
  {
   "cell_type": "code",
   "execution_count": 145,
   "id": "ccf20112",
   "metadata": {},
   "outputs": [
    {
     "data": {
      "text/plain": [
       "False"
      ]
     },
     "execution_count": 145,
     "metadata": {},
     "output_type": "execute_result"
    }
   ],
   "source": [
    "(df['ANO_CONTABILIZA'] == df['FECHA_APROBA'].dt.year).all()"
   ]
  },
  {
   "cell_type": "code",
   "execution_count": 146,
   "id": "f0964f45",
   "metadata": {},
   "outputs": [
    {
     "data": {
      "text/html": [
       "<div>\n",
       "<style scoped>\n",
       "    .dataframe tbody tr th:only-of-type {\n",
       "        vertical-align: middle;\n",
       "    }\n",
       "\n",
       "    .dataframe tbody tr th {\n",
       "        vertical-align: top;\n",
       "    }\n",
       "\n",
       "    .dataframe thead th {\n",
       "        text-align: right;\n",
       "    }\n",
       "</style>\n",
       "<table border=\"1\" class=\"dataframe\">\n",
       "  <thead>\n",
       "    <tr style=\"text-align: right;\">\n",
       "      <th></th>\n",
       "      <th>ANO_CONTABILIZA</th>\n",
       "      <th>FECHA_SOLICITUD</th>\n",
       "      <th>FECHA_APROBA</th>\n",
       "      <th>FECHA_DESEMBOLSO</th>\n",
       "      <th>FECHA_PAGO</th>\n",
       "      <th>FECHA_NACIMIENTO</th>\n",
       "    </tr>\n",
       "  </thead>\n",
       "  <tbody>\n",
       "    <tr>\n",
       "      <th>804</th>\n",
       "      <td>NaN</td>\n",
       "      <td>2021-08-06</td>\n",
       "      <td>2021-08-09</td>\n",
       "      <td>NaT</td>\n",
       "      <td>NaT</td>\n",
       "      <td>1960-02-22</td>\n",
       "    </tr>\n",
       "    <tr>\n",
       "      <th>1586</th>\n",
       "      <td>NaN</td>\n",
       "      <td>2021-06-29</td>\n",
       "      <td>2021-07-12</td>\n",
       "      <td>NaT</td>\n",
       "      <td>NaT</td>\n",
       "      <td>1997-09-24</td>\n",
       "    </tr>\n",
       "    <tr>\n",
       "      <th>2202</th>\n",
       "      <td>NaN</td>\n",
       "      <td>2021-06-15</td>\n",
       "      <td>2021-06-18</td>\n",
       "      <td>NaT</td>\n",
       "      <td>NaT</td>\n",
       "      <td>2001-12-31</td>\n",
       "    </tr>\n",
       "    <tr>\n",
       "      <th>2583</th>\n",
       "      <td>NaN</td>\n",
       "      <td>2021-05-31</td>\n",
       "      <td>2021-05-31</td>\n",
       "      <td>NaT</td>\n",
       "      <td>NaT</td>\n",
       "      <td>2001-11-13</td>\n",
       "    </tr>\n",
       "    <tr>\n",
       "      <th>2685</th>\n",
       "      <td>NaN</td>\n",
       "      <td>2021-05-26</td>\n",
       "      <td>2021-05-28</td>\n",
       "      <td>NaT</td>\n",
       "      <td>NaT</td>\n",
       "      <td>1986-10-29</td>\n",
       "    </tr>\n",
       "    <tr>\n",
       "      <th>3803</th>\n",
       "      <td>NaN</td>\n",
       "      <td>2021-04-14</td>\n",
       "      <td>2021-04-16</td>\n",
       "      <td>NaT</td>\n",
       "      <td>NaT</td>\n",
       "      <td>1966-11-11</td>\n",
       "    </tr>\n",
       "    <tr>\n",
       "      <th>5211</th>\n",
       "      <td>NaN</td>\n",
       "      <td>2021-02-22</td>\n",
       "      <td>2021-02-24</td>\n",
       "      <td>NaT</td>\n",
       "      <td>NaT</td>\n",
       "      <td>1997-03-21</td>\n",
       "    </tr>\n",
       "    <tr>\n",
       "      <th>6840</th>\n",
       "      <td>NaN</td>\n",
       "      <td>2020-12-14</td>\n",
       "      <td>2020-12-15</td>\n",
       "      <td>NaT</td>\n",
       "      <td>NaT</td>\n",
       "      <td>1986-01-24</td>\n",
       "    </tr>\n",
       "    <tr>\n",
       "      <th>10020</th>\n",
       "      <td>NaN</td>\n",
       "      <td>2020-08-06</td>\n",
       "      <td>2020-08-06</td>\n",
       "      <td>NaT</td>\n",
       "      <td>NaT</td>\n",
       "      <td>1972-03-25</td>\n",
       "    </tr>\n",
       "    <tr>\n",
       "      <th>11115</th>\n",
       "      <td>NaN</td>\n",
       "      <td>2020-05-20</td>\n",
       "      <td>2020-05-20</td>\n",
       "      <td>NaT</td>\n",
       "      <td>NaT</td>\n",
       "      <td>1963-02-01</td>\n",
       "    </tr>\n",
       "    <tr>\n",
       "      <th>11116</th>\n",
       "      <td>NaN</td>\n",
       "      <td>2020-05-20</td>\n",
       "      <td>2020-05-20</td>\n",
       "      <td>NaT</td>\n",
       "      <td>NaT</td>\n",
       "      <td>1963-02-01</td>\n",
       "    </tr>\n",
       "    <tr>\n",
       "      <th>11117</th>\n",
       "      <td>NaN</td>\n",
       "      <td>2020-05-20</td>\n",
       "      <td>2020-05-20</td>\n",
       "      <td>NaT</td>\n",
       "      <td>NaT</td>\n",
       "      <td>1963-02-01</td>\n",
       "    </tr>\n",
       "    <tr>\n",
       "      <th>11211</th>\n",
       "      <td>NaN</td>\n",
       "      <td>2020-05-14</td>\n",
       "      <td>2020-05-14</td>\n",
       "      <td>NaT</td>\n",
       "      <td>NaT</td>\n",
       "      <td>1966-02-06</td>\n",
       "    </tr>\n",
       "    <tr>\n",
       "      <th>11230</th>\n",
       "      <td>NaN</td>\n",
       "      <td>2020-05-13</td>\n",
       "      <td>2020-05-13</td>\n",
       "      <td>NaT</td>\n",
       "      <td>NaT</td>\n",
       "      <td>1980-07-20</td>\n",
       "    </tr>\n",
       "    <tr>\n",
       "      <th>11289</th>\n",
       "      <td>NaN</td>\n",
       "      <td>2020-05-07</td>\n",
       "      <td>2020-05-11</td>\n",
       "      <td>NaT</td>\n",
       "      <td>NaT</td>\n",
       "      <td>1981-10-16</td>\n",
       "    </tr>\n",
       "    <tr>\n",
       "      <th>11326</th>\n",
       "      <td>NaN</td>\n",
       "      <td>2020-05-07</td>\n",
       "      <td>2020-05-07</td>\n",
       "      <td>NaT</td>\n",
       "      <td>NaT</td>\n",
       "      <td>1999-04-29</td>\n",
       "    </tr>\n",
       "    <tr>\n",
       "      <th>11357</th>\n",
       "      <td>NaN</td>\n",
       "      <td>2020-05-05</td>\n",
       "      <td>2020-05-05</td>\n",
       "      <td>NaT</td>\n",
       "      <td>NaT</td>\n",
       "      <td>1984-12-01</td>\n",
       "    </tr>\n",
       "    <tr>\n",
       "      <th>11358</th>\n",
       "      <td>NaN</td>\n",
       "      <td>2020-05-05</td>\n",
       "      <td>2020-05-05</td>\n",
       "      <td>NaT</td>\n",
       "      <td>NaT</td>\n",
       "      <td>1958-01-10</td>\n",
       "    </tr>\n",
       "    <tr>\n",
       "      <th>11359</th>\n",
       "      <td>NaN</td>\n",
       "      <td>2020-05-05</td>\n",
       "      <td>2020-05-05</td>\n",
       "      <td>NaT</td>\n",
       "      <td>NaT</td>\n",
       "      <td>1958-01-10</td>\n",
       "    </tr>\n",
       "    <tr>\n",
       "      <th>11360</th>\n",
       "      <td>NaN</td>\n",
       "      <td>2020-05-05</td>\n",
       "      <td>2020-05-05</td>\n",
       "      <td>NaT</td>\n",
       "      <td>NaT</td>\n",
       "      <td>1953-11-08</td>\n",
       "    </tr>\n",
       "    <tr>\n",
       "      <th>11469</th>\n",
       "      <td>NaN</td>\n",
       "      <td>2020-04-28</td>\n",
       "      <td>2020-04-28</td>\n",
       "      <td>NaT</td>\n",
       "      <td>NaT</td>\n",
       "      <td>1983-09-22</td>\n",
       "    </tr>\n",
       "    <tr>\n",
       "      <th>11470</th>\n",
       "      <td>NaN</td>\n",
       "      <td>2020-04-28</td>\n",
       "      <td>2020-04-28</td>\n",
       "      <td>NaT</td>\n",
       "      <td>NaT</td>\n",
       "      <td>1971-12-19</td>\n",
       "    </tr>\n",
       "    <tr>\n",
       "      <th>12006</th>\n",
       "      <td>NaN</td>\n",
       "      <td>2020-03-10</td>\n",
       "      <td>2020-03-11</td>\n",
       "      <td>NaT</td>\n",
       "      <td>NaT</td>\n",
       "      <td>1957-04-12</td>\n",
       "    </tr>\n",
       "    <tr>\n",
       "      <th>12118</th>\n",
       "      <td>NaN</td>\n",
       "      <td>2020-03-04</td>\n",
       "      <td>2020-03-06</td>\n",
       "      <td>NaT</td>\n",
       "      <td>NaT</td>\n",
       "      <td>1974-05-06</td>\n",
       "    </tr>\n",
       "    <tr>\n",
       "      <th>14635</th>\n",
       "      <td>NaN</td>\n",
       "      <td>2019-11-29</td>\n",
       "      <td>2019-12-04</td>\n",
       "      <td>NaT</td>\n",
       "      <td>NaT</td>\n",
       "      <td>1990-03-09</td>\n",
       "    </tr>\n",
       "    <tr>\n",
       "      <th>15861</th>\n",
       "      <td>NaN</td>\n",
       "      <td>2019-10-22</td>\n",
       "      <td>2019-10-25</td>\n",
       "      <td>NaT</td>\n",
       "      <td>NaT</td>\n",
       "      <td>1992-11-29</td>\n",
       "    </tr>\n",
       "    <tr>\n",
       "      <th>15862</th>\n",
       "      <td>NaN</td>\n",
       "      <td>2019-10-24</td>\n",
       "      <td>2019-10-25</td>\n",
       "      <td>NaT</td>\n",
       "      <td>NaT</td>\n",
       "      <td>1949-06-21</td>\n",
       "    </tr>\n",
       "    <tr>\n",
       "      <th>15950</th>\n",
       "      <td>NaN</td>\n",
       "      <td>2019-10-18</td>\n",
       "      <td>2019-10-23</td>\n",
       "      <td>NaT</td>\n",
       "      <td>NaT</td>\n",
       "      <td>1981-05-13</td>\n",
       "    </tr>\n",
       "    <tr>\n",
       "      <th>16034</th>\n",
       "      <td>NaN</td>\n",
       "      <td>2019-10-14</td>\n",
       "      <td>2019-10-21</td>\n",
       "      <td>NaT</td>\n",
       "      <td>NaT</td>\n",
       "      <td>1975-05-07</td>\n",
       "    </tr>\n",
       "    <tr>\n",
       "      <th>16214</th>\n",
       "      <td>NaN</td>\n",
       "      <td>2019-10-09</td>\n",
       "      <td>2019-10-11</td>\n",
       "      <td>NaT</td>\n",
       "      <td>NaT</td>\n",
       "      <td>1945-02-16</td>\n",
       "    </tr>\n",
       "    <tr>\n",
       "      <th>18547</th>\n",
       "      <td>NaN</td>\n",
       "      <td>2019-07-17</td>\n",
       "      <td>2019-07-18</td>\n",
       "      <td>NaT</td>\n",
       "      <td>NaT</td>\n",
       "      <td>1984-08-29</td>\n",
       "    </tr>\n",
       "    <tr>\n",
       "      <th>21245</th>\n",
       "      <td>NaN</td>\n",
       "      <td>2019-04-11</td>\n",
       "      <td>2019-04-12</td>\n",
       "      <td>NaT</td>\n",
       "      <td>NaT</td>\n",
       "      <td>1982-12-16</td>\n",
       "    </tr>\n",
       "    <tr>\n",
       "      <th>21589</th>\n",
       "      <td>NaN</td>\n",
       "      <td>2019-03-29</td>\n",
       "      <td>2019-03-29</td>\n",
       "      <td>NaT</td>\n",
       "      <td>NaT</td>\n",
       "      <td>1953-02-18</td>\n",
       "    </tr>\n",
       "    <tr>\n",
       "      <th>22751</th>\n",
       "      <td>NaN</td>\n",
       "      <td>2018-12-27</td>\n",
       "      <td>2019-02-17</td>\n",
       "      <td>NaT</td>\n",
       "      <td>NaT</td>\n",
       "      <td>1976-12-06</td>\n",
       "    </tr>\n",
       "    <tr>\n",
       "      <th>37587</th>\n",
       "      <td>NaN</td>\n",
       "      <td>2017-07-28</td>\n",
       "      <td>2017-07-28</td>\n",
       "      <td>NaT</td>\n",
       "      <td>NaT</td>\n",
       "      <td>1950-03-05</td>\n",
       "    </tr>\n",
       "  </tbody>\n",
       "</table>\n",
       "</div>"
      ],
      "text/plain": [
       "      ANO_CONTABILIZA FECHA_SOLICITUD FECHA_APROBA FECHA_DESEMBOLSO  \\\n",
       "804               NaN      2021-08-06   2021-08-09              NaT   \n",
       "1586              NaN      2021-06-29   2021-07-12              NaT   \n",
       "2202              NaN      2021-06-15   2021-06-18              NaT   \n",
       "2583              NaN      2021-05-31   2021-05-31              NaT   \n",
       "2685              NaN      2021-05-26   2021-05-28              NaT   \n",
       "3803              NaN      2021-04-14   2021-04-16              NaT   \n",
       "5211              NaN      2021-02-22   2021-02-24              NaT   \n",
       "6840              NaN      2020-12-14   2020-12-15              NaT   \n",
       "10020             NaN      2020-08-06   2020-08-06              NaT   \n",
       "11115             NaN      2020-05-20   2020-05-20              NaT   \n",
       "11116             NaN      2020-05-20   2020-05-20              NaT   \n",
       "11117             NaN      2020-05-20   2020-05-20              NaT   \n",
       "11211             NaN      2020-05-14   2020-05-14              NaT   \n",
       "11230             NaN      2020-05-13   2020-05-13              NaT   \n",
       "11289             NaN      2020-05-07   2020-05-11              NaT   \n",
       "11326             NaN      2020-05-07   2020-05-07              NaT   \n",
       "11357             NaN      2020-05-05   2020-05-05              NaT   \n",
       "11358             NaN      2020-05-05   2020-05-05              NaT   \n",
       "11359             NaN      2020-05-05   2020-05-05              NaT   \n",
       "11360             NaN      2020-05-05   2020-05-05              NaT   \n",
       "11469             NaN      2020-04-28   2020-04-28              NaT   \n",
       "11470             NaN      2020-04-28   2020-04-28              NaT   \n",
       "12006             NaN      2020-03-10   2020-03-11              NaT   \n",
       "12118             NaN      2020-03-04   2020-03-06              NaT   \n",
       "14635             NaN      2019-11-29   2019-12-04              NaT   \n",
       "15861             NaN      2019-10-22   2019-10-25              NaT   \n",
       "15862             NaN      2019-10-24   2019-10-25              NaT   \n",
       "15950             NaN      2019-10-18   2019-10-23              NaT   \n",
       "16034             NaN      2019-10-14   2019-10-21              NaT   \n",
       "16214             NaN      2019-10-09   2019-10-11              NaT   \n",
       "18547             NaN      2019-07-17   2019-07-18              NaT   \n",
       "21245             NaN      2019-04-11   2019-04-12              NaT   \n",
       "21589             NaN      2019-03-29   2019-03-29              NaT   \n",
       "22751             NaN      2018-12-27   2019-02-17              NaT   \n",
       "37587             NaN      2017-07-28   2017-07-28              NaT   \n",
       "\n",
       "      FECHA_PAGO FECHA_NACIMIENTO  \n",
       "804          NaT       1960-02-22  \n",
       "1586         NaT       1997-09-24  \n",
       "2202         NaT       2001-12-31  \n",
       "2583         NaT       2001-11-13  \n",
       "2685         NaT       1986-10-29  \n",
       "3803         NaT       1966-11-11  \n",
       "5211         NaT       1997-03-21  \n",
       "6840         NaT       1986-01-24  \n",
       "10020        NaT       1972-03-25  \n",
       "11115        NaT       1963-02-01  \n",
       "11116        NaT       1963-02-01  \n",
       "11117        NaT       1963-02-01  \n",
       "11211        NaT       1966-02-06  \n",
       "11230        NaT       1980-07-20  \n",
       "11289        NaT       1981-10-16  \n",
       "11326        NaT       1999-04-29  \n",
       "11357        NaT       1984-12-01  \n",
       "11358        NaT       1958-01-10  \n",
       "11359        NaT       1958-01-10  \n",
       "11360        NaT       1953-11-08  \n",
       "11469        NaT       1983-09-22  \n",
       "11470        NaT       1971-12-19  \n",
       "12006        NaT       1957-04-12  \n",
       "12118        NaT       1974-05-06  \n",
       "14635        NaT       1990-03-09  \n",
       "15861        NaT       1992-11-29  \n",
       "15862        NaT       1949-06-21  \n",
       "15950        NaT       1981-05-13  \n",
       "16034        NaT       1975-05-07  \n",
       "16214        NaT       1945-02-16  \n",
       "18547        NaT       1984-08-29  \n",
       "21245        NaT       1982-12-16  \n",
       "21589        NaT       1953-02-18  \n",
       "22751        NaT       1976-12-06  \n",
       "37587        NaT       1950-03-05  "
      ]
     },
     "execution_count": 146,
     "metadata": {},
     "output_type": "execute_result"
    }
   ],
   "source": [
    "ind = df['ANO_CONTABILIZA'] == df['FECHA_APROBA'].dt.year\n",
    "\n",
    "df.loc[~ind, ['ANO_CONTABILIZA', *DATE_COLS]]"
   ]
  },
  {
   "cell_type": "markdown",
   "id": "46454767",
   "metadata": {},
   "source": [
    "### MONTO, VALOR_DESEMBOLSADO"
   ]
  },
  {
   "cell_type": "code",
   "execution_count": 147,
   "id": "a674c37d",
   "metadata": {},
   "outputs": [
    {
     "data": {
      "text/plain": [
       "count    4.200900e+04\n",
       "mean     2.172544e+05\n",
       "std      6.567472e+05\n",
       "min      0.000000e+00\n",
       "25%      0.000000e+00\n",
       "50%      1.033600e+04\n",
       "75%      6.664100e+04\n",
       "max      2.100000e+07\n",
       "dtype: float64"
      ]
     },
     "execution_count": 147,
     "metadata": {},
     "output_type": "execute_result"
    }
   ],
   "source": [
    "(df['MONTO'] - df['VALOR_DESEMBOLSADO']).abs().describe()"
   ]
  },
  {
   "cell_type": "code",
   "execution_count": 148,
   "id": "26b8fbad",
   "metadata": {},
   "outputs": [
    {
     "data": {
      "text/html": [
       "<div>\n",
       "<style scoped>\n",
       "    .dataframe tbody tr th:only-of-type {\n",
       "        vertical-align: middle;\n",
       "    }\n",
       "\n",
       "    .dataframe tbody tr th {\n",
       "        vertical-align: top;\n",
       "    }\n",
       "\n",
       "    .dataframe thead th {\n",
       "        text-align: right;\n",
       "    }\n",
       "</style>\n",
       "<table border=\"1\" class=\"dataframe\">\n",
       "  <thead>\n",
       "    <tr style=\"text-align: right;\">\n",
       "      <th></th>\n",
       "      <th>MONTO</th>\n",
       "      <th>VALOR_DESEMBOLSADO</th>\n",
       "    </tr>\n",
       "  </thead>\n",
       "  <tbody>\n",
       "    <tr>\n",
       "      <th>count</th>\n",
       "      <td>4.201000e+03</td>\n",
       "      <td>4.201000e+03</td>\n",
       "    </tr>\n",
       "    <tr>\n",
       "      <th>mean</th>\n",
       "      <td>6.548248e+06</td>\n",
       "      <td>4.892358e+06</td>\n",
       "    </tr>\n",
       "    <tr>\n",
       "      <th>std</th>\n",
       "      <td>5.452141e+06</td>\n",
       "      <td>4.641675e+06</td>\n",
       "    </tr>\n",
       "    <tr>\n",
       "      <th>min</th>\n",
       "      <td>1.000000e+06</td>\n",
       "      <td>0.000000e+00</td>\n",
       "    </tr>\n",
       "    <tr>\n",
       "      <th>25%</th>\n",
       "      <td>3.120000e+06</td>\n",
       "      <td>2.186787e+06</td>\n",
       "    </tr>\n",
       "    <tr>\n",
       "      <th>50%</th>\n",
       "      <td>5.000000e+06</td>\n",
       "      <td>3.507993e+06</td>\n",
       "    </tr>\n",
       "    <tr>\n",
       "      <th>75%</th>\n",
       "      <td>8.000000e+06</td>\n",
       "      <td>5.867098e+06</td>\n",
       "    </tr>\n",
       "    <tr>\n",
       "      <th>max</th>\n",
       "      <td>8.000000e+07</td>\n",
       "      <td>7.885147e+07</td>\n",
       "    </tr>\n",
       "  </tbody>\n",
       "</table>\n",
       "</div>"
      ],
      "text/plain": [
       "              MONTO  VALOR_DESEMBOLSADO\n",
       "count  4.201000e+03        4.201000e+03\n",
       "mean   6.548248e+06        4.892358e+06\n",
       "std    5.452141e+06        4.641675e+06\n",
       "min    1.000000e+06        0.000000e+00\n",
       "25%    3.120000e+06        2.186787e+06\n",
       "50%    5.000000e+06        3.507993e+06\n",
       "75%    8.000000e+06        5.867098e+06\n",
       "max    8.000000e+07        7.885147e+07"
      ]
     },
     "execution_count": 148,
     "metadata": {},
     "output_type": "execute_result"
    }
   ],
   "source": [
    "ind = (df['MONTO'] - df['VALOR_DESEMBOLSADO']) > 685618\n",
    "df.loc[ind, ['MONTO', 'VALOR_DESEMBOLSADO']].describe()"
   ]
  },
  {
   "cell_type": "code",
   "execution_count": 149,
   "id": "ba15bdc9",
   "metadata": {},
   "outputs": [
    {
     "data": {
      "text/html": [
       "<div>\n",
       "<style scoped>\n",
       "    .dataframe tbody tr th:only-of-type {\n",
       "        vertical-align: middle;\n",
       "    }\n",
       "\n",
       "    .dataframe tbody tr th {\n",
       "        vertical-align: top;\n",
       "    }\n",
       "\n",
       "    .dataframe thead th {\n",
       "        text-align: right;\n",
       "    }\n",
       "</style>\n",
       "<table border=\"1\" class=\"dataframe\">\n",
       "  <thead>\n",
       "    <tr style=\"text-align: right;\">\n",
       "      <th></th>\n",
       "      <th>MONTO</th>\n",
       "      <th>VALOR_DESEMBOLSADO</th>\n",
       "    </tr>\n",
       "  </thead>\n",
       "  <tbody>\n",
       "    <tr>\n",
       "      <th>0</th>\n",
       "      <td>4500000</td>\n",
       "      <td>4478698</td>\n",
       "    </tr>\n",
       "    <tr>\n",
       "      <th>1</th>\n",
       "      <td>2000000</td>\n",
       "      <td>1984347</td>\n",
       "    </tr>\n",
       "    <tr>\n",
       "      <th>2</th>\n",
       "      <td>1100000</td>\n",
       "      <td>1061583</td>\n",
       "    </tr>\n",
       "    <tr>\n",
       "      <th>3</th>\n",
       "      <td>1000000</td>\n",
       "      <td>985933</td>\n",
       "    </tr>\n",
       "    <tr>\n",
       "      <th>4</th>\n",
       "      <td>2500000</td>\n",
       "      <td>2483434</td>\n",
       "    </tr>\n",
       "    <tr>\n",
       "      <th>...</th>\n",
       "      <td>...</td>\n",
       "      <td>...</td>\n",
       "    </tr>\n",
       "    <tr>\n",
       "      <th>42004</th>\n",
       "      <td>8000000</td>\n",
       "      <td>8000000</td>\n",
       "    </tr>\n",
       "    <tr>\n",
       "      <th>42005</th>\n",
       "      <td>7000000</td>\n",
       "      <td>7000000</td>\n",
       "    </tr>\n",
       "    <tr>\n",
       "      <th>42006</th>\n",
       "      <td>3000000</td>\n",
       "      <td>3000000</td>\n",
       "    </tr>\n",
       "    <tr>\n",
       "      <th>42007</th>\n",
       "      <td>1000000</td>\n",
       "      <td>1000000</td>\n",
       "    </tr>\n",
       "    <tr>\n",
       "      <th>42008</th>\n",
       "      <td>1000000</td>\n",
       "      <td>1000000</td>\n",
       "    </tr>\n",
       "  </tbody>\n",
       "</table>\n",
       "<p>42009 rows × 2 columns</p>\n",
       "</div>"
      ],
      "text/plain": [
       "         MONTO  VALOR_DESEMBOLSADO\n",
       "0      4500000             4478698\n",
       "1      2000000             1984347\n",
       "2      1100000             1061583\n",
       "3      1000000              985933\n",
       "4      2500000             2483434\n",
       "...        ...                 ...\n",
       "42004  8000000             8000000\n",
       "42005  7000000             7000000\n",
       "42006  3000000             3000000\n",
       "42007  1000000             1000000\n",
       "42008  1000000             1000000\n",
       "\n",
       "[42009 rows x 2 columns]"
      ]
     },
     "execution_count": 149,
     "metadata": {},
     "output_type": "execute_result"
    }
   ],
   "source": [
    "df[['MONTO', 'VALOR_DESEMBOLSADO']]"
   ]
  },
  {
   "cell_type": "markdown",
   "id": "f2207147",
   "metadata": {},
   "source": [
    "### CREDITOS_VIGENTES"
   ]
  },
  {
   "cell_type": "markdown",
   "id": "8dee654c",
   "metadata": {},
   "source": [
    "Question: does this number includes current new credit?"
   ]
  },
  {
   "cell_type": "code",
   "execution_count": 150,
   "id": "1c4a5034",
   "metadata": {},
   "outputs": [
    {
     "data": {
      "text/plain": [
       "NaN    21395\n",
       "1.0    17617\n",
       "2.0     2880\n",
       "3.0      111\n",
       "4.0        6\n",
       "Name: CREDITOS_VIGENTES, dtype: int64"
      ]
     },
     "execution_count": 150,
     "metadata": {},
     "output_type": "execute_result"
    }
   ],
   "source": [
    "df['CREDITOS_VIGENTES'].value_counts(dropna=False)"
   ]
  },
  {
   "cell_type": "code",
   "execution_count": 151,
   "id": "6b98e121",
   "metadata": {},
   "outputs": [
    {
     "data": {
      "text/plain": [
       "count    20614.000000\n",
       "mean         1.151353\n",
       "std          0.375457\n",
       "min          1.000000\n",
       "25%          1.000000\n",
       "50%          1.000000\n",
       "75%          1.000000\n",
       "max          4.000000\n",
       "Name: CREDITOS_VIGENTES, dtype: float64"
      ]
     },
     "execution_count": 151,
     "metadata": {},
     "output_type": "execute_result"
    }
   ],
   "source": [
    "df['CREDITOS_VIGENTES'].describe()"
   ]
  },
  {
   "cell_type": "markdown",
   "id": "f2207147",
   "metadata": {},
   "source": [
    "### DIAS_CICLO_CREDITO"
   ]
  },
  {
   "cell_type": "markdown",
   "id": "2972c20e",
   "metadata": {},
   "source": [
    "Question: what is this?"
   ]
  },
  {
   "cell_type": "code",
   "execution_count": 152,
   "id": "ca4809c0",
   "metadata": {},
   "outputs": [
    {
     "data": {
      "text/plain": [
       "1     12399\n",
       "2      7720\n",
       "0      6387\n",
       "3      4441\n",
       "4      4143\n",
       "5      3117\n",
       "6      1905\n",
       "7       922\n",
       "8       358\n",
       "9       141\n",
       "10      120\n",
       "11      106\n",
       "12       64\n",
       "14       48\n",
       "13       42\n",
       "15       12\n",
       "21        9\n",
       "17        9\n",
       "18        6\n",
       "22        6\n",
       "19        4\n",
       "16        4\n",
       "28        2\n",
       "36        2\n",
       "25        1\n",
       "52        1\n",
       "20        1\n",
       "34        1\n",
       "23        1\n",
       "38        1\n",
       "26        1\n",
       "Name: DIAS_CICLO_CREDITO, dtype: int64"
      ]
     },
     "execution_count": 152,
     "metadata": {},
     "output_type": "execute_result"
    }
   ],
   "source": [
    "df['DIAS_CICLO_CREDITO'].value_counts()"
   ]
  },
  {
   "cell_type": "markdown",
   "id": "b9eb36bb",
   "metadata": {},
   "source": [
    "### EDAD"
   ]
  },
  {
   "cell_type": "markdown",
   "id": "63e952b6",
   "metadata": {},
   "source": [
    "All values are integer type with no invalid values:"
   ]
  },
  {
   "cell_type": "code",
   "execution_count": 153,
   "id": "bac07a26",
   "metadata": {},
   "outputs": [
    {
     "data": {
      "text/plain": [
       "True"
      ]
     },
     "execution_count": 153,
     "metadata": {},
     "output_type": "execute_result"
    }
   ],
   "source": [
    "df['EDAD'].apply(lambda x: isinstance(x, int)).all()"
   ]
  },
  {
   "cell_type": "code",
   "execution_count": 154,
   "id": "7d8e3e28",
   "metadata": {},
   "outputs": [],
   "source": [
    "df['EDAD'] = df['EDAD'].astype(int)"
   ]
  },
  {
   "cell_type": "code",
   "execution_count": 155,
   "id": "aa44eeb9",
   "metadata": {},
   "outputs": [
    {
     "data": {
      "text/plain": [
       "count    42009.000000\n",
       "mean        46.125426\n",
       "std         13.262953\n",
       "min         19.000000\n",
       "25%         35.000000\n",
       "50%         46.000000\n",
       "75%         56.000000\n",
       "max         78.000000\n",
       "Name: EDAD, dtype: float64"
      ]
     },
     "execution_count": 155,
     "metadata": {},
     "output_type": "execute_result"
    }
   ],
   "source": [
    "df['EDAD'].describe()"
   ]
  },
  {
   "cell_type": "markdown",
   "id": "b98b1d56",
   "metadata": {},
   "source": [
    "### NRO_CUOTAS"
   ]
  },
  {
   "cell_type": "code",
   "execution_count": 156,
   "id": "e83c0810",
   "metadata": {},
   "outputs": [
    {
     "data": {
      "text/plain": [
       "0        24\n",
       "1         6\n",
       "2        12\n",
       "3        12\n",
       "4         6\n",
       "         ..\n",
       "42004    10\n",
       "42005    36\n",
       "42006    18\n",
       "42007     6\n",
       "42008     4\n",
       "Name: NRO_CUOTAS, Length: 42009, dtype: int64"
      ]
     },
     "execution_count": 156,
     "metadata": {},
     "output_type": "execute_result"
    }
   ],
   "source": [
    "df['NRO_CUOTAS']"
   ]
  },
  {
   "cell_type": "code",
   "execution_count": 157,
   "id": "e70da3ea",
   "metadata": {},
   "outputs": [
    {
     "data": {
      "text/plain": [
       "False"
      ]
     },
     "execution_count": 157,
     "metadata": {},
     "output_type": "execute_result"
    }
   ],
   "source": [
    "df['NRO_CUOTAS'].isna().any()"
   ]
  },
  {
   "cell_type": "code",
   "execution_count": 158,
   "id": "8d833b5e",
   "metadata": {},
   "outputs": [
    {
     "data": {
      "text/plain": [
       "12    9402\n",
       "18    7206\n",
       "24    6344\n",
       "6     2439\n",
       "8     2225\n",
       "      ... \n",
       "71       1\n",
       "69       1\n",
       "62       1\n",
       "57       1\n",
       "53       1\n",
       "Name: NRO_CUOTAS, Length: 70, dtype: int64"
      ]
     },
     "execution_count": 158,
     "metadata": {},
     "output_type": "execute_result"
    }
   ],
   "source": [
    "df['NRO_CUOTAS'].value_counts(dropna=False)"
   ]
  },
  {
   "cell_type": "markdown",
   "id": "b98b1d56",
   "metadata": {},
   "source": [
    "### TASA_ANUAL"
   ]
  },
  {
   "cell_type": "markdown",
   "id": "63e952b6",
   "metadata": {},
   "source": [
    "All values are non-NaN with no invalid values:"
   ]
  },
  {
   "cell_type": "code",
   "execution_count": 159,
   "id": "870d8ac1",
   "metadata": {},
   "outputs": [
    {
     "data": {
      "text/plain": [
       "False"
      ]
     },
     "execution_count": 159,
     "metadata": {},
     "output_type": "execute_result"
    }
   ],
   "source": [
    "df['TASA_ANUAL'].isna().any()"
   ]
  },
  {
   "cell_type": "code",
   "execution_count": 160,
   "id": "8a82ad4f",
   "metadata": {},
   "outputs": [
    {
     "data": {
      "text/plain": [
       "count    42009.000000\n",
       "mean        34.283402\n",
       "std          2.954325\n",
       "min         12.000000\n",
       "25%         31.680000\n",
       "50%         35.280000\n",
       "75%         35.280000\n",
       "max         39.600000\n",
       "Name: TASA_ANUAL, dtype: float64"
      ]
     },
     "execution_count": 160,
     "metadata": {},
     "output_type": "execute_result"
    }
   ],
   "source": [
    "df['TASA_ANUAL'].describe()"
   ]
  },
  {
   "cell_type": "markdown",
   "id": "dbc11130",
   "metadata": {},
   "source": [
    "### VALOR_CUOTA"
   ]
  },
  {
   "cell_type": "code",
   "execution_count": 161,
   "id": "c67f0970",
   "metadata": {},
   "outputs": [
    {
     "data": {
      "text/plain": [
       "False"
      ]
     },
     "execution_count": 161,
     "metadata": {},
     "output_type": "execute_result"
    }
   ],
   "source": [
    "df['VALOR_CUOTA'].isna().any()"
   ]
  },
  {
   "cell_type": "code",
   "execution_count": 162,
   "id": "a1290446",
   "metadata": {},
   "outputs": [
    {
     "data": {
      "text/plain": [
       "count    4.200900e+04\n",
       "mean     3.907145e+05\n",
       "std      4.241920e+05\n",
       "min      0.000000e+00\n",
       "25%      1.581840e+05\n",
       "50%      2.377460e+05\n",
       "75%      4.470430e+05\n",
       "max      1.128652e+07\n",
       "Name: VALOR_CUOTA, dtype: float64"
      ]
     },
     "execution_count": 162,
     "metadata": {},
     "output_type": "execute_result"
    }
   ],
   "source": [
    "df['VALOR_CUOTA'].astype(float).describe()"
   ]
  },
  {
   "cell_type": "markdown",
   "id": "28576c65",
   "metadata": {},
   "source": [
    "Question: valor_cuota zero? manually set?"
   ]
  },
  {
   "cell_type": "code",
   "execution_count": 163,
   "id": "14ef4d0c",
   "metadata": {},
   "outputs": [
    {
     "data": {
      "text/plain": [
       "[35, 0, 0]"
      ]
     },
     "execution_count": 163,
     "metadata": {},
     "output_type": "execute_result"
    }
   ],
   "source": [
    "izero = df['VALOR_CUOTA'] == 0\n",
    "[\n",
    "    izero.sum(),\n",
    "    i_rechazado.sum(),\n",
    "    (izero & i_rechazado).sum()\n",
    "]\n",
    "# df.loc[izero, 'VALOR_CUOTA']"
   ]
  },
  {
   "cell_type": "code",
   "execution_count": 164,
   "id": "421580a9",
   "metadata": {},
   "outputs": [],
   "source": [
    "# df[izero]\n",
    "# raise ValueError\n"
   ]
  },
  {
   "cell_type": "markdown",
   "id": "dbc11130",
   "metadata": {},
   "source": [
    "### VALOR_REFINANCIADO"
   ]
  },
  {
   "cell_type": "markdown",
   "id": "e4729cf3",
   "metadata": {},
   "source": [
    "All values are non-NaN and valid:"
   ]
  },
  {
   "cell_type": "code",
   "execution_count": 165,
   "id": "c67f0970",
   "metadata": {},
   "outputs": [
    {
     "data": {
      "text/plain": [
       "False"
      ]
     },
     "execution_count": 165,
     "metadata": {},
     "output_type": "execute_result"
    }
   ],
   "source": [
    "df['VALOR_REFINANCIADO'].isna().any()"
   ]
  },
  {
   "cell_type": "markdown",
   "id": "0e4df2af",
   "metadata": {},
   "source": [
    "Most of the values are zero:"
   ]
  },
  {
   "cell_type": "code",
   "execution_count": 166,
   "id": "a1290446",
   "metadata": {},
   "outputs": [
    {
     "data": {
      "text/plain": [
       "{'count_zero': 33434, 'count_nonzero': 8575}"
      ]
     },
     "execution_count": 166,
     "metadata": {},
     "output_type": "execute_result"
    }
   ],
   "source": [
    "ind_zero = df['VALOR_REFINANCIADO'] == 0\n",
    "\n",
    "{\n",
    "    \"count_zero\": ind_zero.sum(),\n",
    "    \"count_nonzero\": (~ind_zero).sum(),\n",
    "}"
   ]
  },
  {
   "cell_type": "markdown",
   "id": "9e76a820",
   "metadata": {},
   "source": [
    "Stats non-zero values:"
   ]
  },
  {
   "cell_type": "code",
   "execution_count": 167,
   "id": "f98f05d6",
   "metadata": {},
   "outputs": [
    {
     "data": {
      "text/plain": [
       "count    8.575000e+03\n",
       "mean     9.492007e+05\n",
       "std      1.100428e+06\n",
       "min      1.000000e+00\n",
       "25%      3.325230e+05\n",
       "50%      6.366620e+05\n",
       "75%      1.163212e+06\n",
       "max      2.000000e+07\n",
       "Name: VALOR_REFINANCIADO, dtype: float64"
      ]
     },
     "execution_count": 167,
     "metadata": {},
     "output_type": "execute_result"
    }
   ],
   "source": [
    "df.loc[~ind_zero, 'VALOR_REFINANCIADO'].astype(float).describe()"
   ]
  },
  {
   "cell_type": "markdown",
   "id": "fe16921a",
   "metadata": {},
   "source": [
    "Question: lower payments"
   ]
  },
  {
   "cell_type": "code",
   "execution_count": 168,
   "id": "d538755b",
   "metadata": {},
   "outputs": [
    {
     "data": {
      "text/plain": [
       "26115       1\n",
       "11171      40\n",
       "41788      72\n",
       "39690     129\n",
       "41377     171\n",
       "         ... \n",
       "33336    8298\n",
       "8413     8330\n",
       "40823    9496\n",
       "40107    9551\n",
       "40868    9817\n",
       "Name: VALOR_REFINANCIADO, Length: 92, dtype: int64"
      ]
     },
     "execution_count": 168,
     "metadata": {},
     "output_type": "execute_result"
    }
   ],
   "source": [
    "ind_lower = df.loc[~ind_zero, 'VALOR_REFINANCIADO'] <= 10000\n",
    "\n",
    "df.loc[~ind_zero, 'VALOR_REFINANCIADO'][ind_lower].sort_values()"
   ]
  },
  {
   "cell_type": "markdown",
   "id": "84f6753c",
   "metadata": {},
   "source": [
    "## Text columns"
   ]
  },
  {
   "cell_type": "markdown",
   "id": "0736b9e1",
   "metadata": {},
   "source": [
    "### OBSERVACIONES"
   ]
  },
  {
   "cell_type": "code",
   "execution_count": 169,
   "id": "5945aa43",
   "metadata": {},
   "outputs": [
    {
     "name": "stdout",
     "output_type": "stream",
     "text": [
      "<class 'pandas.core.frame.DataFrame'>\n",
      "RangeIndex: 42009 entries, 0 to 42008\n",
      "Data columns (total 1 columns):\n",
      " #   Column         Non-Null Count  Dtype \n",
      "---  ------         --------------  ----- \n",
      " 0   OBSERVACIONES  41142 non-null  object\n",
      "dtypes: object(1)\n",
      "memory usage: 328.3+ KB\n"
     ]
    }
   ],
   "source": [
    "df[['OBSERVACIONES']].info()"
   ]
  },
  {
   "cell_type": "markdown",
   "id": "8d384ea8",
   "metadata": {},
   "source": [
    "Question: why 200 characters?"
   ]
  },
  {
   "cell_type": "code",
   "execution_count": 170,
   "id": "c706d4bb",
   "metadata": {},
   "outputs": [
    {
     "data": {
      "text/plain": [
       "count    41142.000000\n",
       "mean       196.576345\n",
       "std         12.971626\n",
       "min          8.000000\n",
       "25%        200.000000\n",
       "50%        200.000000\n",
       "75%        200.000000\n",
       "max        200.000000\n",
       "Name: OBSERVACIONES, dtype: float64"
      ]
     },
     "execution_count": 170,
     "metadata": {},
     "output_type": "execute_result"
    }
   ],
   "source": [
    "df['OBSERVACIONES'].dropna().str.len().describe()"
   ]
  },
  {
   "cell_type": "markdown",
   "id": "156b1277",
   "metadata": {},
   "source": [
    "Draft:"
   ]
  },
  {
   "cell_type": "code",
   "execution_count": 171,
   "id": "d76d37ee",
   "metadata": {},
   "outputs": [
    {
     "data": {
      "text/plain": [
       "'CLIENTE NUEVO, HISTORIAL CREDITICIO CON PAGOS NORMALES, ACTIVIDAD GANADERIA Y CULTIVO DE PLATANO, CON 31 AÑOS DE EXPERIENCIA EN LA ACTIVIDAD, PREDIO PROPIO, SOLICITA PARA COMPRA DE TORO REPRODUCTOR Y '"
      ]
     },
     "execution_count": 171,
     "metadata": {},
     "output_type": "execute_result"
    }
   ],
   "source": [
    "# 0, 60, 15685, 32571\n",
    "df['OBSERVACIONES'].iloc[32571]"
   ]
  },
  {
   "cell_type": "code",
   "execution_count": 172,
   "id": "e15dd9a1",
   "metadata": {},
   "outputs": [
    {
     "data": {
      "text/plain": [
       "36706"
      ]
     },
     "execution_count": 172,
     "metadata": {},
     "output_type": "execute_result"
    }
   ],
   "source": [
    "df['OBSERVACIONES'].dropna().str.contains('^CLIENTE').sum()"
   ]
  },
  {
   "cell_type": "code",
   "execution_count": 173,
   "id": "cae07ac6",
   "metadata": {},
   "outputs": [
    {
     "data": {
      "text/plain": [
       "[]                         22165\n",
       "CLIENTE RENOVACION          2607\n",
       "CLIENTE DE LA               1781\n",
       "CLIENTE RETANQUEO           1644\n",
       "CLIENTE NUEVO CON           1224\n",
       "                           ...  \n",
       "CLIENTE RENOVACION C0ON        1\n",
       "CLIENTE  4 CREDITO             1\n",
       "CLIENTE   N UEVO               1\n",
       "CLIENTE NUEVO REGIONA          1\n",
       "CLIENTE HA CANCELADO           1\n",
       "Name: OBSERVACIONES, Length: 1438, dtype: int64"
      ]
     },
     "execution_count": 173,
     "metadata": {},
     "output_type": "execute_result"
    }
   ],
   "source": [
    "(\n",
    "    df['OBSERVACIONES']\n",
    "    .dropna()\n",
    "    .str.findall(r'^CLIENTE\\s+\\w+\\s\\w+')\n",
    "    .apply(lambda x: x[0] if len(x) > 0 else [])\n",
    "    .replace({\n",
    "        'CLIENTE DE RENOVACION': 'CLIENTE RENOVACION',\n",
    "        'CLIENTE DE RETANQUEO': 'CLIENTE RETANQUEO'\n",
    "    })\n",
    "    .value_counts()\n",
    ")"
   ]
  },
  {
   "cell_type": "markdown",
   "id": "50fac1b2",
   "metadata": {},
   "source": [
    "## Discarded columns"
   ]
  },
  {
   "cell_type": "markdown",
   "id": "404f593d",
   "metadata": {},
   "source": [
    "We drop data that is useless for bussiness analysis considering context domain and/or information is sparse."
   ]
  },
  {
   "cell_type": "markdown",
   "id": "74a69a95",
   "metadata": {},
   "source": [
    "### DOC_CONTABILIZA"
   ]
  },
  {
   "cell_type": "code",
   "execution_count": 174,
   "id": "de7440af",
   "metadata": {},
   "outputs": [
    {
     "data": {
      "text/plain": [
       "0        13001030.0\n",
       "1        13001034.0\n",
       "2        13001036.0\n",
       "3        13001038.0\n",
       "4        13001040.0\n",
       "            ...    \n",
       "42004     8000003.0\n",
       "42005    10000001.0\n",
       "42006     8000001.0\n",
       "42007     1000001.0\n",
       "42008     1000003.0\n",
       "Name: DOC_CONTABILIZA, Length: 36267, dtype: float64"
      ]
     },
     "execution_count": 174,
     "metadata": {},
     "output_type": "execute_result"
    }
   ],
   "source": [
    "df['DOC_CONTABILIZA'].drop_duplicates()"
   ]
  },
  {
   "cell_type": "markdown",
   "id": "3d964a8f",
   "metadata": {},
   "source": [
    "### ESTADO, EST_SOLICITUD"
   ]
  },
  {
   "cell_type": "markdown",
   "id": "2dce5c73",
   "metadata": {},
   "source": [
    "ESTADO and EST_SOLICITUD are discarded as most values are CONTABILIZADO:"
   ]
  },
  {
   "cell_type": "markdown",
   "id": "573f1855",
   "metadata": {},
   "source": [
    "Question: Contabilizado?"
   ]
  },
  {
   "cell_type": "code",
   "execution_count": 175,
   "id": "0fd9957b",
   "metadata": {},
   "outputs": [
    {
     "data": {
      "text/plain": [
       "Contabilizado    41974\n",
       "Rechazado           27\n",
       "Aprobado             8\n",
       "Name: ESTADO, dtype: int64"
      ]
     },
     "execution_count": 175,
     "metadata": {},
     "output_type": "execute_result"
    }
   ],
   "source": [
    "df['ESTADO'].value_counts(dropna=False)"
   ]
  },
  {
   "cell_type": "code",
   "execution_count": 176,
   "id": "c47c9276",
   "metadata": {},
   "outputs": [
    {
     "data": {
      "text/plain": [
       "C    41974\n",
       "R       27\n",
       "A        8\n",
       "Name: EST_SOLICITUD, dtype: int64"
      ]
     },
     "execution_count": 176,
     "metadata": {},
     "output_type": "execute_result"
    }
   ],
   "source": [
    "df['EST_SOLICITUD'].value_counts(dropna=False)"
   ]
  },
  {
   "cell_type": "markdown",
   "id": "00b5364d",
   "metadata": {},
   "source": [
    "### TIPO_OBLIGA"
   ]
  },
  {
   "cell_type": "markdown",
   "id": "69d6f0f8",
   "metadata": {},
   "source": [
    "TIPO_OBLIGA is useless as there is only one single category value:"
   ]
  },
  {
   "cell_type": "code",
   "execution_count": 177,
   "id": "fb1d9c21",
   "metadata": {},
   "outputs": [
    {
     "data": {
      "text/plain": [
       "0    10\n",
       "Name: TIPO_OBLIGA, dtype: int64"
      ]
     },
     "execution_count": 177,
     "metadata": {},
     "output_type": "execute_result"
    }
   ],
   "source": [
    "df['TIPO_OBLIGA'].drop_duplicates()"
   ]
  },
  {
   "cell_type": "markdown",
   "id": "0addc9fd",
   "metadata": {},
   "source": [
    "## Unknown columns"
   ]
  },
  {
   "cell_type": "markdown",
   "id": "bbafb33b",
   "metadata": {},
   "source": [
    "Question: What is this? vendor user?"
   ]
  },
  {
   "cell_type": "code",
   "execution_count": 178,
   "id": "eb35324c",
   "metadata": {},
   "outputs": [
    {
     "data": {
      "text/plain": [
       "0             CHADOR\n",
       "7             RAMCLA\n",
       "8             MEDARI\n",
       "15            INOHEN\n",
       "22            VEGJUL\n",
       "24            SANCAM\n",
       "36            PEDMAR\n",
       "38            AGUWIL\n",
       "76            PATSAN\n",
       "120           APPMOV\n",
       "804              NaN\n",
       "11473         PIRJEN\n",
       "11484    SIN-USUARIO\n",
       "12763         HERCLA\n",
       "15170         VELEDI\n",
       "15294         PARALC\n",
       "15599         PATJOS\n",
       "29441         SANJOH\n",
       "32647         NORMAR\n",
       "Name: COD_USUARIO_APR, dtype: object"
      ]
     },
     "execution_count": 178,
     "metadata": {},
     "output_type": "execute_result"
    }
   ],
   "source": [
    "df['COD_USUARIO_APR'].drop_duplicates()"
   ]
  },
  {
   "cell_type": "markdown",
   "id": "376ead17",
   "metadata": {},
   "source": [
    "## Discarding columns"
   ]
  },
  {
   "cell_type": "code",
   "execution_count": 179,
   "id": "c4b77fad",
   "metadata": {},
   "outputs": [],
   "source": [
    "df = (\n",
    "    df\n",
    "    .drop(columns=project_columns.COLOCACION_DISCARDED_COLUMNS)\n",
    "    .drop(columns=project_columns.COLOCACION_LOCATION_COLUMNS)\n",
    ")"
   ]
  },
  {
   "cell_type": "markdown",
   "id": "bc776967",
   "metadata": {},
   "source": [
    "## Schema of columns for clean data"
   ]
  },
  {
   "cell_type": "code",
   "execution_count": 180,
   "id": "92b8e33a",
   "metadata": {},
   "outputs": [
    {
     "name": "stdout",
     "output_type": "stream",
     "text": [
      "<class 'pandas.core.frame.DataFrame'>\n",
      "RangeIndex: 42009 entries, 0 to 42008\n",
      "Data columns (total 33 columns):\n",
      " #   Column              Non-Null Count  Dtype         \n",
      "---  ------              --------------  -----         \n",
      " 0   ANO_CONTABILIZA     41974 non-null  object        \n",
      " 1   CODEUDOR            42009 non-null  object        \n",
      " 2   COD_DESTINACION     42009 non-null  object        \n",
      " 3   COD_LINEA           42009 non-null  object        \n",
      " 4   COD_MODALIDAD       42009 non-null  object        \n",
      " 5   CREDITOS_VIGENTES   20614 non-null  float64       \n",
      " 6   DESTINACION         42009 non-null  object        \n",
      " 7   DIAS_CICLO_CREDITO  41974 non-null  object        \n",
      " 8   EDAD                42009 non-null  int32         \n",
      " 9   ESTADO_CIVIL        41959 non-null  object        \n",
      " 10  ESTRATO             41946 non-null  float64       \n",
      " 11  FECHA_APROBA        42009 non-null  datetime64[ns]\n",
      " 12  FECHA_DESEMBOLSO    41974 non-null  datetime64[ns]\n",
      " 13  FECHA_NACIMIENTO    42009 non-null  datetime64[ns]\n",
      " 14  FECHA_PAGO          41974 non-null  datetime64[ns]\n",
      " 15  FECHA_SOLICITUD     42009 non-null  datetime64[ns]\n",
      " 16  GENERO              42009 non-null  object        \n",
      " 17  LINEA               42009 non-null  object        \n",
      " 18  MODALIDAD           42009 non-null  object        \n",
      " 19  MONTO               42009 non-null  int64         \n",
      " 20  NIVEL_ESTUDIOS      42003 non-null  object        \n",
      " 21  NRO_CUOTAS          42009 non-null  int64         \n",
      " 22  OBLIGACION          42009 non-null  int64         \n",
      " 23  OBSERVACIONES       41142 non-null  object        \n",
      " 24  PERIODICIDAD_PAGO   41974 non-null  object        \n",
      " 25  PROFESION           42009 non-null  object        \n",
      " 26  TASA_ANUAL          42009 non-null  float64       \n",
      " 27  TIPO_CREDITO        41974 non-null  object        \n",
      " 28  TIPO_UBICACION      42009 non-null  object        \n",
      " 29  TIPO_VIVIENDA       42009 non-null  category      \n",
      " 30  VALOR_CUOTA         42009 non-null  object        \n",
      " 31  VALOR_DESEMBOLSADO  42009 non-null  int64         \n",
      " 32  VALOR_REFINANCIADO  42009 non-null  int64         \n",
      "dtypes: category(1), datetime64[ns](5), float64(3), int32(1), int64(5), object(18)\n",
      "memory usage: 10.1+ MB\n"
     ]
    }
   ],
   "source": [
    "df[df.columns.sort_values()].info()"
   ]
  },
  {
   "cell_type": "markdown",
   "id": "bc776967",
   "metadata": {},
   "source": [
    "## Validating cleaning code"
   ]
  },
  {
   "cell_type": "code",
   "execution_count": 181,
   "id": "92b8e33a",
   "metadata": {},
   "outputs": [],
   "source": [
    "df2 = datasets.read_colocacion_xlsx(dir_path=RAW_DATA_PATH, clean=True)"
   ]
  },
  {
   "cell_type": "code",
   "execution_count": 182,
   "id": "53dffe38",
   "metadata": {},
   "outputs": [],
   "source": [
    "sort_by = ['OBLIGACION']\n",
    "\n",
    "assert cleaning.compare_dataframes(df, df2, sort_by=sort_by), \"Dataframes are different\""
   ]
  },
  {
   "cell_type": "markdown",
   "id": "692e2061",
   "metadata": {},
   "source": [
    "Differences (if any):"
   ]
  },
  {
   "cell_type": "code",
   "execution_count": 183,
   "id": "0e0790fa",
   "metadata": {},
   "outputs": [
    {
     "data": {
      "text/plain": [
       "{}"
      ]
     },
     "execution_count": 183,
     "metadata": {},
     "output_type": "execute_result"
    }
   ],
   "source": [
    "cleaning.compare_dataframes_diff(df, df2, sort_by)"
   ]
  }
 ],
 "metadata": {
  "interpreter": {
   "hash": "e62fc67dd637b4c7ff00db15fa2b1157ee656ecdddc53845561c284caf069ea7"
  },
  "kernelspec": {
   "display_name": "Python 3.8.13 ('ds4a')",
   "language": "python",
   "name": "python3"
  },
  "language_info": {
   "codemirror_mode": {
    "name": "ipython",
    "version": 3
   },
   "file_extension": ".py",
   "mimetype": "text/x-python",
   "name": "python",
   "nbconvert_exporter": "python",
   "pygments_lexer": "ipython3",
   "version": "3.8.13"
  }
 },
 "nbformat": 4,
 "nbformat_minor": 5
}
