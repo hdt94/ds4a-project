{
 "cells": [
  {
   "cell_type": "markdown",
   "metadata": {},
   "source": [
    "# Cleaning CONTACTO dataset"
   ]
  },
  {
   "cell_type": "markdown",
   "metadata": {},
   "source": [
    "Imports:"
   ]
  },
  {
   "cell_type": "code",
   "execution_count": 1,
   "metadata": {},
   "outputs": [],
   "source": [
    "import os\n",
    "\n",
    "import pandas as pd\n",
    "import numpy as np\n",
    "\n",
    "from dotenv import load_dotenv\n",
    "\n",
    "from core_ds4a_project import cleaning, columns as project_columns, datasets\n",
    "\n",
    "%load_ext autoreload\n",
    "%autoreload 1\n",
    "%aimport core_ds4a_project, core_ds4a_project.cleaning, core_ds4a_project.columns, core_ds4a_project.datasets"
   ]
  },
  {
   "cell_type": "code",
   "execution_count": 2,
   "metadata": {},
   "outputs": [],
   "source": [
    "pd.set_option(\"display.max_columns\", None)"
   ]
  },
  {
   "cell_type": "markdown",
   "id": "fce2e5ce",
   "metadata": {},
   "source": [
    "Environment variables:"
   ]
  },
  {
   "cell_type": "code",
   "execution_count": 3,
   "id": "12825ec5-4992-4fef-9359-00fbf4667468",
   "metadata": {},
   "outputs": [],
   "source": [
    "load_dotenv('envvars')\n",
    "\n",
    "ROOT_DATA_PATH = os.environ.get('ROOT_DATA_PATH')\n",
    "RAW_DATA_PATH = os.environ.get('RAW_DATA_PATH') or f'{ROOT_DATA_PATH}/raw'"
   ]
  },
  {
   "cell_type": "markdown",
   "id": "dee11fd0",
   "metadata": {},
   "source": [
    "Reading data:"
   ]
  },
  {
   "cell_type": "code",
   "execution_count": 4,
   "id": "fef6d436",
   "metadata": {},
   "outputs": [
    {
     "data": {
      "text/plain": [
       "(60043, 70)"
      ]
     },
     "execution_count": 4,
     "metadata": {},
     "output_type": "execute_result"
    }
   ],
   "source": [
    "df = (\n",
    "    datasets.read_contacto(RAW_DATA_PATH, raw=True)\n",
    ")\n",
    "\n",
    "df.shape"
   ]
  },
  {
   "cell_type": "markdown",
   "id": "bc776967",
   "metadata": {},
   "source": [
    "## Schema of columns for raw data"
   ]
  },
  {
   "cell_type": "code",
   "execution_count": 5,
   "id": "92b8e33a",
   "metadata": {},
   "outputs": [
    {
     "name": "stdout",
     "output_type": "stream",
     "text": [
      "<class 'pandas.core.frame.DataFrame'>\n",
      "RangeIndex: 60043 entries, 0 to 60042\n",
      "Data columns (total 70 columns):\n",
      " #   Column                                                           Non-Null Count  Dtype  \n",
      "---  ------                                                           --------------  -----  \n",
      " 0   \t\n",
      "Entidad Financiera                                             75 non-null     object \n",
      " 1   \t\n",
      "Lugar de Expedición                                            34290 non-null  object \n",
      " 2   \t\n",
      "Mujer Cabeza de Familia                                        60043 non-null  object \n",
      " 3   Actividad CIIU Primaria                                          25602 non-null  object \n",
      " 4   Actividad Económica                                              52094 non-null  object \n",
      " 5   Administra Recursos Públicos                                     59976 non-null  object \n",
      " 6   Asignado a                                                       60043 non-null  object \n",
      " 7   Autoriza el envió de información por medio de correo elctrónico  60043 non-null  int64  \n",
      " 8   Autoriza la consulta en las centrales de riesgo                  60043 non-null  int64  \n",
      " 9   Banco Moneda Extranjera                                          0 non-null      float64\n",
      " 10  Barrio comercial                                                 39425 non-null  object \n",
      " 11  Barrio residencia                                                31761 non-null  object \n",
      " 12  Centro de Costo                                                  60043 non-null  int64  \n",
      " 13  Ciudad Empresa                                                   103 non-null    object \n",
      " 14  Ciudad comercial                                                 53774 non-null  object \n",
      " 15  Ciudad residencia                                                42178 non-null  object \n",
      " 16  Cuenta Moneda Extranjera\t                                        0 non-null      float64\n",
      " 17  Declara Renta                                                    59976 non-null  object \n",
      " 18  Descripción de las operaciones en moneda extranjera              0 non-null      float64\n",
      " 19  Descripción otros Ingresos                                       448 non-null    object \n",
      " 20  Dir Correspondencia                                              53772 non-null  object \n",
      " 21  Dirección Empresa                                                97 non-null     object \n",
      " 22  Dirección comercial                                              53773 non-null  object \n",
      " 23  Dirección de residencia                                          42015 non-null  object \n",
      " 24  Egresos Mensuales                                                1097 non-null   float64\n",
      " 25  Email                                                            38871 non-null  object \n",
      " 26  Empresa donde trabaja                                            23522 non-null  object \n",
      " 27  Estado Civil                                                     47220 non-null  object \n",
      " 28  Fax                                                              46 non-null     float64\n",
      " 29  Fax Empresa                                                      8 non-null      object \n",
      " 30  Fecha de Expedición Cedula                                       60030 non-null  object \n",
      " 31  Fecha de Nacimiento                                              53253 non-null  object \n",
      " 32  Género                                                           60006 non-null  object \n",
      " 33  Homologacion Documento de Identidad                              60043 non-null  object \n",
      " 34  Ingreso Mensual                                                  1093 non-null   float64\n",
      " 35  Jornada laboral                                                  22155 non-null  object \n",
      " 36  Medio de Pago                                                    60043 non-null  int64  \n",
      " 37  Moneda                                                           0 non-null      float64\n",
      " 38  Móvil                                                            7608 non-null   object \n",
      " 39  Naturaleza                                                       60043 non-null  object \n",
      " 40  Nivel de Estudios                                                52873 non-null  object \n",
      " 41  Nombre del cargo que desempeña en la empresa                     1380 non-null   object \n",
      " 42  Ocupación                                                        48532 non-null  object \n",
      " 43  Oficio                                                           40710 non-null  object \n",
      " 44  Otros Ingresos                                                   1 non-null      float64\n",
      " 45  Pais Moneda Extranjera                                           0 non-null      float64\n",
      " 46  Persona Fallecida                                                60043 non-null  object \n",
      " 47  Población Vulnerable                                             31713 non-null  object \n",
      " 48  Posee cuentas en moneda extranjera                               59976 non-null  object \n",
      " 49  Profesión u Oficio                                               26355 non-null  object \n",
      " 50  Realiza operaciones en moneda extranjera                         59976 non-null  object \n",
      " 51  Regimen de Renta                                                 60043 non-null  object \n",
      " 52  Regional                                                         60042 non-null  object \n",
      " 53  Responsable de Hogar                                             33503 non-null  object \n",
      " 54  Régimen de Impuestos                                             60043 non-null  object \n",
      " 55  Régimen de Iva                                                   60043 non-null  object \n",
      " 56  Sector                                                           60043 non-null  object \n",
      " 57  Sucursal                                                         60040 non-null  object \n",
      " 58  Sueldo Básico                                                    52890 non-null  float64\n",
      " 59  Teléfono Empresa                                                 86 non-null     float64\n",
      " 60  Teléfono Particular                                              32254 non-null  object \n",
      " 61  Tipo de Cliente                                                  60043 non-null  object \n",
      " 62  Tipo de Contrato                                                 1763 non-null   object \n",
      " 63  Tipo de Cuenta Bancaria                                          60043 non-null  object \n",
      " 64  Tipo de Identificación                                           60043 non-null  object \n",
      " 65  Tipo de Vivienda                                                 46314 non-null  object \n",
      " 66  Tipo de contribuyente                                            60043 non-null  object \n",
      " 67  Ubicación 2                                                      60043 non-null  object \n",
      " 68  Valor Otros Descuentos de Nomina                                 2446 non-null   float64\n",
      " 69  Vencimiento del contrato                                         190 non-null    object \n",
      "dtypes: float64(12), int64(4), object(54)\n",
      "memory usage: 32.1+ MB\n"
     ]
    }
   ],
   "source": [
    "df[df.columns.sort_values()].info()"
   ]
  },
  {
   "cell_type": "markdown",
   "id": "b691314a",
   "metadata": {},
   "source": [
    "## Renaming columns"
   ]
  },
  {
   "cell_type": "code",
   "execution_count": 6,
   "id": "a9cc3b4d",
   "metadata": {},
   "outputs": [
    {
     "data": {
      "text/plain": [
       "Index(['ACTIVIDAD_CIIU_PRIMARIA', 'ACTIVIDAD_ECONOMICA',\n",
       "       'ADMINISTRA_RECURSOS_PUBLICOS', 'ASIGNADO_A',\n",
       "       'AUTORIZA_EL_ENVIO_DE_INFORMACION_POR_MEDIO_DE_CORREO_ELCTRONICO',\n",
       "       'AUTORIZA_LA_CONSULTA_EN_LAS_CENTRALES_DE_RIESGO',\n",
       "       'BANCO_MONEDA_EXTRANJERA', 'BARRIO_COMERCIAL', 'BARRIO_RESIDENCIA',\n",
       "       'CENTRO_DE_COSTO', 'CIUDAD_COMERCIAL', 'CIUDAD_EMPRESA',\n",
       "       'CIUDAD_RESIDENCIA', 'CLIENTE', 'CUENTA_MONEDA_EXTRANJERA',\n",
       "       'DECLARA_RENTA', 'DESCRIPCION_DE_LAS_OPERACIONES_EN_MONEDA_EXTRANJERA',\n",
       "       'DESCRIPCION_OTROS_INGRESOS', 'DIRECCION_COMERCIAL',\n",
       "       'DIRECCION_DE_RESIDENCIA', 'DIRECCION_EMPRESA', 'DIR_CORRESPONDENCIA',\n",
       "       'EGRESOS_MENSUALES', 'EMAIL', 'EMPRESA_DONDE_TRABAJA',\n",
       "       'ENTIDAD_FINANCIERA', 'ESTADO_CIVIL', 'FAX', 'FAX_EMPRESA',\n",
       "       'FECHA_DE_EXPEDICION_CEDULA', 'FECHA_NACIMIENTO', 'GENERO',\n",
       "       'INGRESO_MENSUAL', 'JORNADA_LABORAL', 'LUGAR_DE_EXPEDICION',\n",
       "       'MEDIO_DE_PAGO', 'MONEDA', 'MOVIL', 'MUJER_CABEZA', 'NATURALEZA',\n",
       "       'NIVEL_ESTUDIOS', 'NOMBRE_DEL_CARGO_QUE_DESEMPENA_EN_LA_EMPRESA',\n",
       "       'OCUPACION', 'OFICIO', 'OTROS_INGRESOS', 'PAIS_MONEDA_EXTRANJERA',\n",
       "       'PERSONA_FALLECIDA', 'POBLACION_VULNERABLE',\n",
       "       'POSEE_CUENTAS_EN_MONEDA_EXTRANJERA', 'PROFESION',\n",
       "       'REALIZA_OPERACIONES_EN_MONEDA_EXTRANJERA', 'REGIMEN_DE_IMPUESTOS',\n",
       "       'REGIMEN_DE_IVA', 'REGIMEN_DE_RENTA', 'REGIONAL',\n",
       "       'RESPONSABLE_DE_HOGAR', 'SUCURSAL', 'SUELDO_BASICO', 'TELEFONO_EMPRESA',\n",
       "       'TELEFONO_PARTICULAR', 'TIPO_DE_CLIENTE', 'TIPO_DE_CONTRATO',\n",
       "       'TIPO_DE_CONTRIBUYENTE', 'TIPO_DE_CUENTA_BANCARIA',\n",
       "       'TIPO_DE_IDENTIFICACION', 'TIPO_UBICACION', 'TIPO_VIVIENDA',\n",
       "       'UBICACION_2', 'VALOR_OTROS_DESCUENTOS_DE_NOMINA',\n",
       "       'VENCIMIENTO_DEL_CONTRATO'],\n",
       "      dtype='object')"
      ]
     },
     "execution_count": 6,
     "metadata": {},
     "output_type": "execute_result"
    }
   ],
   "source": [
    "df.columns = cleaning.normalize_columns_name(df.columns)\n",
    "\n",
    "df.columns.sort_values()  # sorting for presentational purposes only"
   ]
  },
  {
   "cell_type": "markdown",
   "metadata": {},
   "source": [
    "## Column: CLIENTE"
   ]
  },
  {
   "cell_type": "code",
   "execution_count": 7,
   "metadata": {},
   "outputs": [
    {
     "data": {
      "text/plain": [
       "(60043, 60043)"
      ]
     },
     "execution_count": 7,
     "metadata": {},
     "output_type": "execute_result"
    }
   ],
   "source": [
    "df.shape[0], df['CLIENTE'].nunique()"
   ]
  },
  {
   "cell_type": "code",
   "execution_count": 8,
   "metadata": {},
   "outputs": [],
   "source": [
    "# Used to update some categorical variables\n",
    "RE_NOMEN_PATT = r'\\s\\|.*$'\n",
    "RE_CODE_PATT = r'^.*\\s\\|'"
   ]
  },
  {
   "cell_type": "markdown",
   "metadata": {},
   "source": [
    "## Relevant columns\n",
    "\n",
    "Notes:\n",
    "- MUJER_CABEZA and RESPONSABLE_HOGAR are not parsed with regular expressions as those columns are unique across datasets."
   ]
  },
  {
   "cell_type": "markdown",
   "metadata": {},
   "source": [
    "### ACTIVIDAD_ECONOMICA, ACTIVIDAD_CIIU_PRIMARIA"
   ]
  },
  {
   "cell_type": "code",
   "execution_count": 9,
   "metadata": {},
   "outputs": [
    {
     "data": {
      "text/html": [
       "<div>\n",
       "<style scoped>\n",
       "    .dataframe tbody tr th:only-of-type {\n",
       "        vertical-align: middle;\n",
       "    }\n",
       "\n",
       "    .dataframe tbody tr th {\n",
       "        vertical-align: top;\n",
       "    }\n",
       "\n",
       "    .dataframe thead th {\n",
       "        text-align: right;\n",
       "    }\n",
       "</style>\n",
       "<table border=\"1\" class=\"dataframe\">\n",
       "  <thead>\n",
       "    <tr style=\"text-align: right;\">\n",
       "      <th></th>\n",
       "      <th>ACTIVIDAD_ECONOMICA</th>\n",
       "      <th>ACTIVIDAD_CIIU_PRIMARIA</th>\n",
       "    </tr>\n",
       "  </thead>\n",
       "  <tbody>\n",
       "    <tr>\n",
       "      <th>count</th>\n",
       "      <td>52094</td>\n",
       "      <td>25602</td>\n",
       "    </tr>\n",
       "    <tr>\n",
       "      <th>unique</th>\n",
       "      <td>10</td>\n",
       "      <td>296</td>\n",
       "    </tr>\n",
       "    <tr>\n",
       "      <th>top</th>\n",
       "      <td>Negocio o Microempresa |NM</td>\n",
       "      <td>CRÍA DE GANADO BOVINO Y BUFALINO |141|A</td>\n",
       "    </tr>\n",
       "    <tr>\n",
       "      <th>freq</th>\n",
       "      <td>44918</td>\n",
       "      <td>3298</td>\n",
       "    </tr>\n",
       "  </tbody>\n",
       "</table>\n",
       "</div>"
      ],
      "text/plain": [
       "               ACTIVIDAD_ECONOMICA                  ACTIVIDAD_CIIU_PRIMARIA\n",
       "count                        52094                                    25602\n",
       "unique                          10                                      296\n",
       "top     Negocio o Microempresa |NM  CRÍA DE GANADO BOVINO Y BUFALINO |141|A\n",
       "freq                         44918                                     3298"
      ]
     },
     "execution_count": 9,
     "metadata": {},
     "output_type": "execute_result"
    }
   ],
   "source": [
    "df[['ACTIVIDAD_ECONOMICA', 'ACTIVIDAD_CIIU_PRIMARIA']].describe()"
   ]
  },
  {
   "cell_type": "code",
   "execution_count": 10,
   "metadata": {},
   "outputs": [
    {
     "data": {
      "text/plain": [
       "Negocio o Microempresa |NM       44918\n",
       "NaN                               7949\n",
       "Empleado |EM                      3886\n",
       "Hogar |HO                         1612\n",
       "Desconocida |NN                    944\n",
       "Profesional Independiente |PI      334\n",
       "Pensionado |PE                     147\n",
       "Depende economicamente |DO         122\n",
       "Cesante |CE                         47\n",
       "Rentas de Capital |RE               43\n",
       "Estudiante |ES                      41\n",
       "Name: ACTIVIDAD_ECONOMICA, dtype: int64"
      ]
     },
     "execution_count": 10,
     "metadata": {},
     "output_type": "execute_result"
    }
   ],
   "source": [
    "df['ACTIVIDAD_ECONOMICA'].value_counts(dropna=False)"
   ]
  },
  {
   "cell_type": "code",
   "execution_count": 11,
   "metadata": {},
   "outputs": [
    {
     "data": {
      "text/plain": [
       "NaN                                                                                                                                                                34441\n",
       "CRÍA DE GANADO BOVINO Y BUFALINO |141|A                                                                                                                             3298\n",
       "COMERCIO AL POR MENOR EN ESTABLECIMIENTOS NO ESPECIALIZADOS CON SURTIDO COMPUESTO PRINCIPALMENTE POR ALIMENTOS BEBIDAS O TABACO |4711|G                             2119\n",
       "OTROS CULTIVOS PERMANENTES N.C.P. |129|A                                                                                                                            1974\n",
       "ACTIVIDADES INMOBILIARIAS REALIZADAS CON BIENES PROPIOS O ARRENDADOS |6810|L                                                                                        1381\n",
       "                                                                                                                                                                   ...  \n",
       "FABRICACIÓN DE ARTÍCULOS DE VIAJE BOLSOS DE MANO Y ARTÍCULOS SIMILARES ELABORADOS EN CUERO Y FABRICACIÓN DE ARTÍCULOS DE TALABARTERÍA Y GUARNICIONERÍA. |1512|C        1\n",
       "ACTIVIDADES EJECUTIVAS DE LA ADMINISTRACIÓN PÚBLICA |8412|O                                                                                                            1\n",
       "FABRICACIÓN DE VIDRIO Y PRODUCTOS DE VIDRIO |2310|C                                                                                                                    1\n",
       "FABRICACIÓN DE PULPAS (PASTAS) CELULÓSICAS PAPEL Y CARTÓN |1701|C                                                                                                      1\n",
       "ACTIVIDADES DE PROGRAMACIÓN Y TRANSMISIÓN DE TELEVISIÓN |6020|J                                                                                                        1\n",
       "Name: ACTIVIDAD_CIIU_PRIMARIA, Length: 297, dtype: int64"
      ]
     },
     "execution_count": 11,
     "metadata": {},
     "output_type": "execute_result"
    }
   ],
   "source": [
    "df['ACTIVIDAD_CIIU_PRIMARIA'].value_counts(dropna=False)"
   ]
  },
  {
   "cell_type": "markdown",
   "metadata": {},
   "source": [
    "### ESTADO_CIVIL"
   ]
  },
  {
   "cell_type": "code",
   "execution_count": 12,
   "metadata": {},
   "outputs": [
    {
     "data": {
      "text/plain": [
       "Union libre |U    19162\n",
       "NaN               12823\n",
       "Casado |C         12661\n",
       "Soltero |S        12189\n",
       "Divorciado |D      1921\n",
       "Viudo |V           1235\n",
       "Otro |O              52\n",
       "Name: ESTADO_CIVIL, dtype: int64"
      ]
     },
     "execution_count": 12,
     "metadata": {},
     "output_type": "execute_result"
    }
   ],
   "source": [
    "df['ESTADO_CIVIL'].value_counts(dropna=False)"
   ]
  },
  {
   "cell_type": "code",
   "execution_count": 13,
   "metadata": {},
   "outputs": [],
   "source": [
    "# All records match format \"NOMENCLATURE |CODE\"\n",
    "assert df['ESTADO_CIVIL'].str.match(r'.*\\s\\|\\w', ).all(), \"Not all records match expected pattern\""
   ]
  },
  {
   "cell_type": "code",
   "execution_count": 14,
   "metadata": {},
   "outputs": [
    {
     "data": {
      "text/plain": [
       "ESTADO_CIVIL_COD  ESTADO_CIVIL\n",
       "U                 Union libre     19162\n",
       "C                 Casado          12661\n",
       "S                 Soltero         12189\n",
       "D                 Divorciado       1921\n",
       "V                 Viudo            1235\n",
       "O                 Otro               52\n",
       "dtype: int64"
      ]
     },
     "execution_count": 14,
     "metadata": {},
     "output_type": "execute_result"
    }
   ],
   "source": [
    "df['ESTADO_CIVIL_COD'] = (\n",
    "    df['ESTADO_CIVIL']\n",
    "    .str.replace(r'.*\\s\\|', '', regex=True)\n",
    "    .astype('category')\n",
    ")\n",
    "df['ESTADO_CIVIL'] = (\n",
    "    df['ESTADO_CIVIL']\n",
    "    .str.replace(r'\\s\\|.*', '', regex=True)\n",
    "    .astype('category')\n",
    ")\n",
    "\n",
    "df[['ESTADO_CIVIL_COD', 'ESTADO_CIVIL']].value_counts(dropna=False)"
   ]
  },
  {
   "cell_type": "code",
   "execution_count": 15,
   "metadata": {},
   "outputs": [
    {
     "data": {
      "text/plain": [
       "ESTADO_CIVIL_COD    12823\n",
       "ESTADO_CIVIL        12823\n",
       "dtype: int64"
      ]
     },
     "execution_count": 15,
     "metadata": {},
     "output_type": "execute_result"
    }
   ],
   "source": [
    "df[['ESTADO_CIVIL_COD', 'ESTADO_CIVIL']].isna().sum()"
   ]
  },
  {
   "cell_type": "markdown",
   "metadata": {},
   "source": [
    "### FECHA_NACIMIENTO"
   ]
  },
  {
   "cell_type": "markdown",
   "metadata": {},
   "source": [
    "There are some anomalies presummably associated with typos that are fixed at following:"
   ]
  },
  {
   "cell_type": "code",
   "execution_count": 16,
   "metadata": {},
   "outputs": [
    {
     "data": {
      "text/plain": [
       "39766    25/08/0977\n",
       "39869    08/09/1798\n",
       "43244    20/05/1071\n",
       "46272    23/10/1057\n",
       "47789    21/06/1772\n",
       "48906    28/06/1885\n",
       "54378    19/01/1074\n",
       "58154    06/09/0965\n",
       "59764    27/10/1058\n",
       "59963    01/03/1194\n",
       "Name: FECHA_NACIMIENTO, dtype: object"
      ]
     },
     "execution_count": 16,
     "metadata": {},
     "output_type": "execute_result"
    }
   ],
   "source": [
    "re_pattern_date_year = r'(?:\\d{1,2}/\\d{1,2}/)(?P<year>\\d{4})'\n",
    "year = df['FECHA_NACIMIENTO'].str.extract(re_pattern_date_year)['year']\n",
    "ind = year.astype(float) < 1900\n",
    "\n",
    "df.loc[ind, 'FECHA_NACIMIENTO']"
   ]
  },
  {
   "cell_type": "code",
   "execution_count": 17,
   "metadata": {},
   "outputs": [
    {
     "data": {
      "text/plain": [
       "0       1955-03-30\n",
       "1       1977-11-01\n",
       "2       1980-10-24\n",
       "3       1986-02-03\n",
       "4       1984-09-21\n",
       "           ...    \n",
       "60038   1995-12-08\n",
       "60039   1990-03-09\n",
       "60040   1998-12-20\n",
       "60041   1958-12-18\n",
       "60042   1992-05-02\n",
       "Name: FECHA_NACIMIENTO, Length: 60043, dtype: datetime64[ns]"
      ]
     },
     "execution_count": 17,
     "metadata": {},
     "output_type": "execute_result"
    }
   ],
   "source": [
    "fix_typos_dict = {\n",
    "    '25/08/0977': '25/08/1977',\n",
    "    '08/09/1798': '08/09/1978',\n",
    "    '20/05/1071': '20/05/1971',\n",
    "    '23/10/1057': '23/10/1957',\n",
    "    '21/06/1772': '21/06/1972',\n",
    "    '28/06/1885': '28/06/1985',\n",
    "    '19/01/1074': '19/01/1974',\n",
    "    '06/09/0965': '06/09/1965',\n",
    "    '27/10/1058': '27/10/1958',\n",
    "    '01/03/1194': '01/03/1994',\n",
    "}\n",
    "\n",
    "df['FECHA_NACIMIENTO'] = pd.to_datetime(\n",
    "    df['FECHA_NACIMIENTO'].replace(fix_typos_dict),\n",
    "    format='%d/%m/%Y'\n",
    ")\n",
    "\n",
    "df['FECHA_NACIMIENTO']\n"
   ]
  },
  {
   "cell_type": "markdown",
   "metadata": {},
   "source": [
    "### GENERO"
   ]
  },
  {
   "cell_type": "code",
   "execution_count": 18,
   "metadata": {},
   "outputs": [
    {
     "data": {
      "text/plain": [
       "Femenino |F     36505\n",
       "Masculino |M    23501\n",
       "NaN                37\n",
       "Name: GENERO, dtype: int64"
      ]
     },
     "execution_count": 18,
     "metadata": {},
     "output_type": "execute_result"
    }
   ],
   "source": [
    "df['GENERO'].value_counts(dropna=False)"
   ]
  },
  {
   "cell_type": "code",
   "execution_count": 19,
   "metadata": {},
   "outputs": [],
   "source": [
    "# All records match format \"NOMENCLATURE |CODE\"\n",
    "assert df['GENERO'].str.match(r'.*\\s\\|\\w', ).all(), \"Not all records match expected pattern\""
   ]
  },
  {
   "cell_type": "code",
   "execution_count": 20,
   "metadata": {},
   "outputs": [
    {
     "data": {
      "text/plain": [
       "GENERO_COD  GENERO   \n",
       "F           Femenino     36505\n",
       "M           Masculino    23501\n",
       "dtype: int64"
      ]
     },
     "execution_count": 20,
     "metadata": {},
     "output_type": "execute_result"
    }
   ],
   "source": [
    "df['GENERO_COD'] = (\n",
    "    df['GENERO']\n",
    "    .str.replace(r'.*\\s\\|', '', regex=True)\n",
    "    .astype('category')\n",
    ")\n",
    "df['GENERO'] = (\n",
    "    df['GENERO']\n",
    "    .str.replace(r'\\s\\|.*', '', regex=True)\n",
    "    .astype('category')\n",
    ")\n",
    "\n",
    "df[['GENERO_COD', 'GENERO']].value_counts(dropna=False)"
   ]
  },
  {
   "cell_type": "markdown",
   "metadata": {},
   "source": [
    "### MUJER_CABEZA"
   ]
  },
  {
   "cell_type": "code",
   "execution_count": 21,
   "metadata": {},
   "outputs": [
    {
     "data": {
      "text/plain": [
       "No |N    55890\n",
       "Si |Y     4153\n",
       "Name: MUJER_CABEZA, dtype: int64"
      ]
     },
     "execution_count": 21,
     "metadata": {},
     "output_type": "execute_result"
    }
   ],
   "source": [
    "df['MUJER_CABEZA'].value_counts(dropna=False)"
   ]
  },
  {
   "cell_type": "code",
   "execution_count": 22,
   "metadata": {},
   "outputs": [
    {
     "data": {
      "text/plain": [
       "No |N    55890\n",
       "Si |Y     4153\n",
       "Name: MUJER_CABEZA, dtype: int64"
      ]
     },
     "execution_count": 22,
     "metadata": {},
     "output_type": "execute_result"
    }
   ],
   "source": [
    "df['MUJER_CABEZA'] = df['MUJER_CABEZA'].astype('category')\n",
    "\n",
    "df['MUJER_CABEZA'].value_counts()"
   ]
  },
  {
   "cell_type": "markdown",
   "metadata": {},
   "source": [
    "### NIVEL_ESTUDIOS"
   ]
  },
  {
   "cell_type": "code",
   "execution_count": 23,
   "metadata": {},
   "outputs": [
    {
     "data": {
      "text/plain": [
       "Secundaria |S         23452\n",
       "Primaria |P           18927\n",
       "NaN                    7170\n",
       "Tecnica |T             4647\n",
       "Universitaria |U       3554\n",
       "Tecnológica |V         1437\n",
       "Analfabetismo |A        296\n",
       "Especializacion |E      242\n",
       "No indica |X            171\n",
       "No escolarizado |C      107\n",
       "Magister |M              19\n",
       "Maestria |I              18\n",
       "Doctorado |D              3\n",
       "Name: NIVEL_ESTUDIOS, dtype: int64"
      ]
     },
     "execution_count": 23,
     "metadata": {},
     "output_type": "execute_result"
    }
   ],
   "source": [
    "df['NIVEL_ESTUDIOS'].value_counts(dropna=False)"
   ]
  },
  {
   "cell_type": "code",
   "execution_count": 24,
   "metadata": {},
   "outputs": [],
   "source": [
    "# All records match format \"NOMENCLATURE |CODE\"\n",
    "assert df['NIVEL_ESTUDIOS'].str.match(r'^.*\\s\\|\\w$', ).all(), \"Not all records match expected pattern\""
   ]
  },
  {
   "cell_type": "code",
   "execution_count": 25,
   "metadata": {},
   "outputs": [
    {
     "data": {
      "text/plain": [
       "NIVEL_ESTUDIOS_COD  NIVEL_ESTUDIOS \n",
       "S                   Secundaria         23452\n",
       "P                   Primaria           18927\n",
       "T                   Tecnica             4647\n",
       "U                   Universitaria       3554\n",
       "V                   Tecnológica         1437\n",
       "A                   Analfabetismo        296\n",
       "E                   Especializacion      242\n",
       "X                   No indica            171\n",
       "C                   No escolarizado      107\n",
       "M                   Magister              19\n",
       "I                   Maestria              18\n",
       "D                   Doctorado              3\n",
       "dtype: int64"
      ]
     },
     "execution_count": 25,
     "metadata": {},
     "output_type": "execute_result"
    }
   ],
   "source": [
    "df['NIVEL_ESTUDIOS_COD'] = (\n",
    "    df['NIVEL_ESTUDIOS']\n",
    "    .str.replace(r'.*\\s\\|', '', regex=True)\n",
    "    .astype('category')\n",
    ")\n",
    "df['NIVEL_ESTUDIOS'] = (\n",
    "    df['NIVEL_ESTUDIOS']\n",
    "    .str.replace(r'\\s\\|.*', '', regex=True)\n",
    "    .astype('category')\n",
    ")\n",
    "\n",
    "df[['NIVEL_ESTUDIOS_COD', 'NIVEL_ESTUDIOS']].value_counts(dropna=False)\n"
   ]
  },
  {
   "cell_type": "markdown",
   "metadata": {},
   "source": [
    "### OCUPACION, OFICIO"
   ]
  },
  {
   "cell_type": "code",
   "execution_count": 26,
   "metadata": {},
   "outputs": [
    {
     "data": {
      "text/plain": [
       "Independiente |2    43013\n",
       "NaN                 11511\n",
       "Empleado |1          3041\n",
       "No Aplica |0         1407\n",
       "Hogar |5              887\n",
       "Pensionado |3         114\n",
       "Estudiante |4          43\n",
       "Cesante |6             27\n",
       "Name: OCUPACION, dtype: int64"
      ]
     },
     "execution_count": 26,
     "metadata": {},
     "output_type": "execute_result"
    }
   ],
   "source": [
    "df['OCUPACION'].value_counts(dropna=False)"
   ]
  },
  {
   "cell_type": "code",
   "execution_count": 27,
   "metadata": {},
   "outputs": [
    {
     "data": {
      "text/plain": [
       "NaN                               19333\n",
       "GANADERIA                          3762\n",
       "AGRICULTOR                         2287\n",
       "TIENDA                             1488\n",
       "ARRENDADOR                         1162\n",
       "                                  ...  \n",
       " Comercio al por menor de bebi        1\n",
       "ELABORACION DE CHINCHORROS            1\n",
       "9529 Mantenimiento y reparació        1\n",
       "VENTA DE CATALOGOS Y ARRIENDO         1\n",
       "LATONERO Y PINTOR AUTOMOTRIZ          1\n",
       "Name: OFICIO, Length: 6765, dtype: int64"
      ]
     },
     "execution_count": 27,
     "metadata": {},
     "output_type": "execute_result"
    }
   ],
   "source": [
    "df['OFICIO'].value_counts(dropna=False)"
   ]
  },
  {
   "cell_type": "code",
   "execution_count": 28,
   "metadata": {},
   "outputs": [
    {
     "data": {
      "text/plain": [
       "OCUPACION       7\n",
       "OFICIO       6764\n",
       "dtype: int64"
      ]
     },
     "execution_count": 28,
     "metadata": {},
     "output_type": "execute_result"
    }
   ],
   "source": [
    "df[['OCUPACION', 'OFICIO']].nunique()"
   ]
  },
  {
   "cell_type": "markdown",
   "metadata": {},
   "source": [
    "### PROFESION"
   ]
  },
  {
   "cell_type": "code",
   "execution_count": 29,
   "metadata": {},
   "outputs": [
    {
     "data": {
      "text/plain": [
       "NaN                          33688\n",
       "DESCONOCIDA |D               12412\n",
       "AGRICULTURA |204              3645\n",
       "GANADERIA |205                3043\n",
       "ADMON DE NEGOCIOS |107        1632\n",
       "                             ...  \n",
       "QUIMICA FARMACEUTICA |186        1\n",
       "ARQUEOLOGIA |123                 1\n",
       "TECN. QUIMICA |191               1\n",
       "ANTROPOLOGIA |122                1\n",
       "INGENIERIA MINAS |170            1\n",
       "Name: PROFESION, Length: 101, dtype: int64"
      ]
     },
     "execution_count": 29,
     "metadata": {},
     "output_type": "execute_result"
    }
   ],
   "source": [
    "df['PROFESION'].value_counts(dropna=False)"
   ]
  },
  {
   "cell_type": "code",
   "execution_count": 30,
   "metadata": {},
   "outputs": [],
   "source": [
    "# All records match format \"NOMENCLATURE |CODE\"\n",
    "assert df['PROFESION'].str.match(r'.*\\s\\|\\w', ).all(), \"Not all records match expected pattern\""
   ]
  },
  {
   "cell_type": "code",
   "execution_count": 31,
   "metadata": {},
   "outputs": [
    {
     "data": {
      "text/plain": [
       "PROFESION_COD  PROFESION              \n",
       "D              DESCONOCIDA                12412\n",
       "204            AGRICULTURA                 3645\n",
       "205            GANADERIA                   3043\n",
       "107            ADMON DE NEGOCIOS           1632\n",
       "106            ADMON DE EMPRESAS           1278\n",
       "                                          ...  \n",
       "186            QUIMICA FARMACEUTICA           1\n",
       "178            OCEANOGRAFIA                   1\n",
       "175            MICROBIOLOGIA                  1\n",
       "170            INGENIERIA MINAS               1\n",
       "157            ING. CATASTRAL/GEODESIA        1\n",
       "Length: 100, dtype: int64"
      ]
     },
     "execution_count": 31,
     "metadata": {},
     "output_type": "execute_result"
    }
   ],
   "source": [
    "df['PROFESION_COD'] = (\n",
    "    df['PROFESION']\n",
    "    .str.replace(r'.*\\s\\|', '', regex=True)\n",
    "    .astype('category')\n",
    ")\n",
    "df['PROFESION'] = (\n",
    "    df['PROFESION']\n",
    "    .str.replace(r'\\s\\|.*', '', regex=True)\n",
    "    .astype('category')\n",
    ")\n",
    "\n",
    "df[['PROFESION_COD', 'PROFESION']].value_counts(dropna=False)"
   ]
  },
  {
   "cell_type": "markdown",
   "metadata": {},
   "source": [
    "### RESPONSABLE_DE_HOGAR"
   ]
  },
  {
   "cell_type": "code",
   "execution_count": 32,
   "metadata": {},
   "outputs": [
    {
     "data": {
      "text/plain": [
       "NaN      26540\n",
       "Si |Y    17996\n",
       "No |N    15507\n",
       "Name: RESPONSABLE_DE_HOGAR, dtype: int64"
      ]
     },
     "execution_count": 32,
     "metadata": {},
     "output_type": "execute_result"
    }
   ],
   "source": [
    "df['RESPONSABLE_DE_HOGAR'].value_counts(dropna=False)"
   ]
  },
  {
   "cell_type": "code",
   "execution_count": 33,
   "metadata": {},
   "outputs": [
    {
     "data": {
      "text/plain": [
       "Si |Y    17996\n",
       "No |N    15507\n",
       "Name: RESPONSABLE_DE_HOGAR, dtype: int64"
      ]
     },
     "execution_count": 33,
     "metadata": {},
     "output_type": "execute_result"
    }
   ],
   "source": [
    "df['RESPONSABLE_DE_HOGAR'] = df['RESPONSABLE_DE_HOGAR'].astype('category')\n",
    "\n",
    "df['RESPONSABLE_DE_HOGAR'].value_counts()"
   ]
  },
  {
   "cell_type": "markdown",
   "metadata": {},
   "source": [
    "### SUELDO_BASICO"
   ]
  },
  {
   "cell_type": "markdown",
   "metadata": {},
   "source": [
    "Question: zero means there is not salary? or unknown?"
   ]
  },
  {
   "cell_type": "code",
   "execution_count": 34,
   "metadata": {},
   "outputs": [
    {
     "data": {
      "text/plain": [
       "0.0          45506\n",
       "NaN           7153\n",
       "1200000.0      406\n",
       "2000000.0      380\n",
       "1500000.0      352\n",
       "             ...  \n",
       "1327891.0        1\n",
       "2092000.0        1\n",
       "899441.0         1\n",
       "2367000.0        1\n",
       "942000.0         1\n",
       "Name: SUELDO_BASICO, Length: 1656, dtype: int64"
      ]
     },
     "execution_count": 34,
     "metadata": {},
     "output_type": "execute_result"
    }
   ],
   "source": [
    "df['SUELDO_BASICO'].value_counts(dropna=False)"
   ]
  },
  {
   "cell_type": "markdown",
   "metadata": {},
   "source": [
    "### TIPO_DE_CLIENTE"
   ]
  },
  {
   "cell_type": "code",
   "execution_count": 35,
   "metadata": {},
   "outputs": [
    {
     "data": {
      "text/plain": [
       "Microfinanciero |1           50048\n",
       "Codeudor no cliente |4        8609\n",
       "Gestion social |2              742\n",
       "Mixto |3                       379\n",
       "Empleado Req.Servicios |9      149\n",
       "Proveedor |7                   110\n",
       "Fondeador |5                     6\n",
       "Name: TIPO_DE_CLIENTE, dtype: int64"
      ]
     },
     "execution_count": 35,
     "metadata": {},
     "output_type": "execute_result"
    }
   ],
   "source": [
    "df['TIPO_DE_CLIENTE'].value_counts(dropna=False)"
   ]
  },
  {
   "cell_type": "code",
   "execution_count": 36,
   "metadata": {},
   "outputs": [
    {
     "data": {
      "text/plain": [
       "Microfinanciero           50048\n",
       "Codeudor no cliente        8609\n",
       "Gestion social              742\n",
       "Mixto                       379\n",
       "Empleado Req.Servicios      149\n",
       "Proveedor                   110\n",
       "Fondeador                     6\n",
       "Name: TIPO_DE_CLIENTE, dtype: int64"
      ]
     },
     "execution_count": 36,
     "metadata": {},
     "output_type": "execute_result"
    }
   ],
   "source": [
    "df['TIPO_DE_CLIENTE'] = (\n",
    "    df['TIPO_DE_CLIENTE']\n",
    "    .str.replace(r'\\s\\|.*', '', regex=True)\n",
    "    .astype('category')\n",
    ")\n",
    "\n",
    "df['TIPO_DE_CLIENTE'].value_counts(dropna=False)"
   ]
  },
  {
   "cell_type": "markdown",
   "metadata": {},
   "source": [
    "### TIPO_DE_IDENTIFICACION"
   ]
  },
  {
   "cell_type": "markdown",
   "metadata": {},
   "source": [
    "Question: negocio?"
   ]
  },
  {
   "cell_type": "code",
   "execution_count": 37,
   "metadata": {},
   "outputs": [
    {
     "data": {
      "text/plain": [
       "Cedula |C                   59888\n",
       "Cedula de Extranjería |E       68\n",
       "Nit |A                         57\n",
       "Tarjeta de Identidad |T        25\n",
       "Registro Civil |R               2\n",
       "Carnet Diplomático |D           2\n",
       "Otros |O                        1\n",
       "Name: TIPO_DE_IDENTIFICACION, dtype: int64"
      ]
     },
     "execution_count": 37,
     "metadata": {},
     "output_type": "execute_result"
    }
   ],
   "source": [
    "# NIT!\n",
    "df['TIPO_DE_IDENTIFICACION'].value_counts(dropna=False)"
   ]
  },
  {
   "cell_type": "code",
   "execution_count": 38,
   "metadata": {},
   "outputs": [
    {
     "data": {
      "text/plain": [
       "57"
      ]
     },
     "execution_count": 38,
     "metadata": {},
     "output_type": "execute_result"
    }
   ],
   "source": [
    "ind = df['TIPO_DE_IDENTIFICACION'] == 'Nit |A'\n",
    "\n",
    "ind.sum()"
   ]
  },
  {
   "cell_type": "code",
   "execution_count": 39,
   "metadata": {},
   "outputs": [
    {
     "data": {
      "text/html": [
       "<div>\n",
       "<style scoped>\n",
       "    .dataframe tbody tr th:only-of-type {\n",
       "        vertical-align: middle;\n",
       "    }\n",
       "\n",
       "    .dataframe tbody tr th {\n",
       "        vertical-align: top;\n",
       "    }\n",
       "\n",
       "    .dataframe thead th {\n",
       "        text-align: right;\n",
       "    }\n",
       "</style>\n",
       "<table border=\"1\" class=\"dataframe\">\n",
       "  <thead>\n",
       "    <tr style=\"text-align: right;\">\n",
       "      <th></th>\n",
       "      <th>CLIENTE</th>\n",
       "      <th>TIPO_UBICACION</th>\n",
       "      <th>SUCURSAL</th>\n",
       "      <th>TIPO_DE_CLIENTE</th>\n",
       "      <th>SUELDO_BASICO</th>\n",
       "      <th>ACTIVIDAD_ECONOMICA</th>\n",
       "      <th>TIPO_VIVIENDA</th>\n",
       "      <th>TIPO_DE_IDENTIFICACION</th>\n",
       "      <th>OFICIO</th>\n",
       "      <th>ESTADO_CIVIL</th>\n",
       "      <th>GENERO</th>\n",
       "      <th>FECHA_NACIMIENTO</th>\n",
       "      <th>NIVEL_ESTUDIOS</th>\n",
       "      <th>PROFESION</th>\n",
       "      <th>MUJER_CABEZA</th>\n",
       "      <th>RESPONSABLE_DE_HOGAR</th>\n",
       "      <th>OCUPACION</th>\n",
       "      <th>ACTIVIDAD_CIIU_PRIMARIA</th>\n",
       "      <th>ESTADO_CIVIL_COD</th>\n",
       "      <th>GENERO_COD</th>\n",
       "      <th>NIVEL_ESTUDIOS_COD</th>\n",
       "      <th>PROFESION_COD</th>\n",
       "    </tr>\n",
       "  </thead>\n",
       "  <tbody>\n",
       "    <tr>\n",
       "      <th>6543</th>\n",
       "      <td>FA6544</td>\n",
       "      <td>URBANA |1</td>\n",
       "      <td>VILLANUEVA |11</td>\n",
       "      <td>Microfinanciero</td>\n",
       "      <td>0.0</td>\n",
       "      <td>NaN</td>\n",
       "      <td>Propia |P</td>\n",
       "      <td>Nit |A</td>\n",
       "      <td>NaN</td>\n",
       "      <td>Union libre</td>\n",
       "      <td>Femenino</td>\n",
       "      <td>1981-08-18</td>\n",
       "      <td>Secundaria</td>\n",
       "      <td>NaN</td>\n",
       "      <td>No |N</td>\n",
       "      <td>NaN</td>\n",
       "      <td>NaN</td>\n",
       "      <td>NaN</td>\n",
       "      <td>U</td>\n",
       "      <td>F</td>\n",
       "      <td>S</td>\n",
       "      <td>NaN</td>\n",
       "    </tr>\n",
       "    <tr>\n",
       "      <th>17829</th>\n",
       "      <td>FA17830</td>\n",
       "      <td>URBANA |1</td>\n",
       "      <td>AGUAZUL |4</td>\n",
       "      <td>Microfinanciero</td>\n",
       "      <td>0.0</td>\n",
       "      <td>Negocio o Microempresa |NM</td>\n",
       "      <td>Propia |P</td>\n",
       "      <td>Nit |A</td>\n",
       "      <td>panaderia</td>\n",
       "      <td>Union libre</td>\n",
       "      <td>Femenino</td>\n",
       "      <td>1971-09-18</td>\n",
       "      <td>Secundaria</td>\n",
       "      <td>DESCONOCIDA</td>\n",
       "      <td>No |N</td>\n",
       "      <td>No |N</td>\n",
       "      <td>Independiente |2</td>\n",
       "      <td>NaN</td>\n",
       "      <td>U</td>\n",
       "      <td>F</td>\n",
       "      <td>S</td>\n",
       "      <td>D</td>\n",
       "    </tr>\n",
       "    <tr>\n",
       "      <th>18241</th>\n",
       "      <td>FA18242</td>\n",
       "      <td>URBANA |1</td>\n",
       "      <td>YOPAL |1</td>\n",
       "      <td>Microfinanciero</td>\n",
       "      <td>0.0</td>\n",
       "      <td>Negocio o Microempresa |NM</td>\n",
       "      <td>Familiar |F</td>\n",
       "      <td>Nit |A</td>\n",
       "      <td>NaN</td>\n",
       "      <td>Union libre</td>\n",
       "      <td>Femenino</td>\n",
       "      <td>1987-07-05</td>\n",
       "      <td>Secundaria</td>\n",
       "      <td>DESCONOCIDA</td>\n",
       "      <td>No |N</td>\n",
       "      <td>No |N</td>\n",
       "      <td>Independiente |2</td>\n",
       "      <td>EXPENDIO A LA MESA DE COMIDAS PREPARADAS |5611|I</td>\n",
       "      <td>U</td>\n",
       "      <td>F</td>\n",
       "      <td>S</td>\n",
       "      <td>D</td>\n",
       "    </tr>\n",
       "    <tr>\n",
       "      <th>22688</th>\n",
       "      <td>FA22689</td>\n",
       "      <td>URBANA |1</td>\n",
       "      <td>GRANADA |6</td>\n",
       "      <td>Microfinanciero</td>\n",
       "      <td>0.0</td>\n",
       "      <td>Negocio o Microempresa |NM</td>\n",
       "      <td>Propia |P</td>\n",
       "      <td>Nit |A</td>\n",
       "      <td>DANYCELL COMUNICACIONES</td>\n",
       "      <td>Union libre</td>\n",
       "      <td>Femenino</td>\n",
       "      <td>1979-08-27</td>\n",
       "      <td>Tecnica</td>\n",
       "      <td>DESCONOCIDA</td>\n",
       "      <td>No |N</td>\n",
       "      <td>No |N</td>\n",
       "      <td>Independiente |2</td>\n",
       "      <td>NaN</td>\n",
       "      <td>U</td>\n",
       "      <td>F</td>\n",
       "      <td>T</td>\n",
       "      <td>D</td>\n",
       "    </tr>\n",
       "    <tr>\n",
       "      <th>23894</th>\n",
       "      <td>FA23895</td>\n",
       "      <td>URBANA |1</td>\n",
       "      <td>YOPAL |1</td>\n",
       "      <td>Empleado Req.Servicios</td>\n",
       "      <td>0.0</td>\n",
       "      <td>Profesional Independiente |PI</td>\n",
       "      <td>Propia |P</td>\n",
       "      <td>Nit |A</td>\n",
       "      <td>CONTADURIA</td>\n",
       "      <td>Soltero</td>\n",
       "      <td>Masculino</td>\n",
       "      <td>1973-06-09</td>\n",
       "      <td>Universitaria</td>\n",
       "      <td>CONTADURIA</td>\n",
       "      <td>No |N</td>\n",
       "      <td>No |N</td>\n",
       "      <td>Independiente |2</td>\n",
       "      <td>INVESTIGACIONES Y DESARROLLO EXPERIMENTAL EN E...</td>\n",
       "      <td>S</td>\n",
       "      <td>M</td>\n",
       "      <td>U</td>\n",
       "      <td>134</td>\n",
       "    </tr>\n",
       "    <tr>\n",
       "      <th>34384</th>\n",
       "      <td>FA34385</td>\n",
       "      <td>URBANA |1</td>\n",
       "      <td>YOPAL |1</td>\n",
       "      <td>Microfinanciero</td>\n",
       "      <td>0.0</td>\n",
       "      <td>Negocio o Microempresa |NM</td>\n",
       "      <td>Propia |P</td>\n",
       "      <td>Nit |A</td>\n",
       "      <td>HOTEL</td>\n",
       "      <td>Divorciado</td>\n",
       "      <td>Femenino</td>\n",
       "      <td>1960-10-16</td>\n",
       "      <td>Secundaria</td>\n",
       "      <td>NaN</td>\n",
       "      <td>No |N</td>\n",
       "      <td>NaN</td>\n",
       "      <td>Independiente |2</td>\n",
       "      <td>ACTIVIDADES INMOBILIARIAS REALIZADAS A CAMBIO ...</td>\n",
       "      <td>D</td>\n",
       "      <td>F</td>\n",
       "      <td>S</td>\n",
       "      <td>NaN</td>\n",
       "    </tr>\n",
       "    <tr>\n",
       "      <th>35499</th>\n",
       "      <td>FA35500</td>\n",
       "      <td>URBANA |1</td>\n",
       "      <td>YOPAL |1</td>\n",
       "      <td>Microfinanciero</td>\n",
       "      <td>0.0</td>\n",
       "      <td>Negocio o Microempresa |NM</td>\n",
       "      <td>Propia |P</td>\n",
       "      <td>Nit |A</td>\n",
       "      <td>TELECOMUNICACIONES</td>\n",
       "      <td>Casado</td>\n",
       "      <td>Masculino</td>\n",
       "      <td>1974-04-11</td>\n",
       "      <td>Tecnica</td>\n",
       "      <td>NaN</td>\n",
       "      <td>No |N</td>\n",
       "      <td>NaN</td>\n",
       "      <td>Independiente |2</td>\n",
       "      <td>MANTENIMIENTO Y REPARACIÓN DE EQUIPOS DE COMUN...</td>\n",
       "      <td>C</td>\n",
       "      <td>M</td>\n",
       "      <td>T</td>\n",
       "      <td>NaN</td>\n",
       "    </tr>\n",
       "    <tr>\n",
       "      <th>35892</th>\n",
       "      <td>FA35893</td>\n",
       "      <td>RURAL |2</td>\n",
       "      <td>AGUAZUL |4</td>\n",
       "      <td>Gestion social</td>\n",
       "      <td>0.0</td>\n",
       "      <td>Desconocida |NN</td>\n",
       "      <td>Propia |P</td>\n",
       "      <td>Nit |A</td>\n",
       "      <td>AGROPECUARIO</td>\n",
       "      <td>Union libre</td>\n",
       "      <td>Masculino</td>\n",
       "      <td>1977-08-13</td>\n",
       "      <td>Universitaria</td>\n",
       "      <td>NaN</td>\n",
       "      <td>No |N</td>\n",
       "      <td>NaN</td>\n",
       "      <td>No Aplica |0</td>\n",
       "      <td>INVESTIGACIONES Y DESARROLLO EXPERIMENTAL EN E...</td>\n",
       "      <td>U</td>\n",
       "      <td>M</td>\n",
       "      <td>U</td>\n",
       "      <td>NaN</td>\n",
       "    </tr>\n",
       "    <tr>\n",
       "      <th>37182</th>\n",
       "      <td>FA37183</td>\n",
       "      <td>URBANA |1</td>\n",
       "      <td>YOPAL |1</td>\n",
       "      <td>Microfinanciero</td>\n",
       "      <td>NaN</td>\n",
       "      <td>NaN</td>\n",
       "      <td>NaN</td>\n",
       "      <td>Nit |A</td>\n",
       "      <td>NaN</td>\n",
       "      <td>NaN</td>\n",
       "      <td>Masculino</td>\n",
       "      <td>NaT</td>\n",
       "      <td>NaN</td>\n",
       "      <td>NaN</td>\n",
       "      <td>No |N</td>\n",
       "      <td>NaN</td>\n",
       "      <td>NaN</td>\n",
       "      <td>MANTENIMIENTO Y REPARACIÓN DE APARATOS ELECTRÓ...</td>\n",
       "      <td>NaN</td>\n",
       "      <td>M</td>\n",
       "      <td>NaN</td>\n",
       "      <td>NaN</td>\n",
       "    </tr>\n",
       "    <tr>\n",
       "      <th>37311</th>\n",
       "      <td>FA37312</td>\n",
       "      <td>URBANA |1</td>\n",
       "      <td>YOPAL |1</td>\n",
       "      <td>Gestion social</td>\n",
       "      <td>0.0</td>\n",
       "      <td>Hogar |HO</td>\n",
       "      <td>Propia |P</td>\n",
       "      <td>Nit |A</td>\n",
       "      <td>COMERCIANTE</td>\n",
       "      <td>Union libre</td>\n",
       "      <td>Femenino</td>\n",
       "      <td>1978-02-21</td>\n",
       "      <td>Secundaria</td>\n",
       "      <td>NaN</td>\n",
       "      <td>No |N</td>\n",
       "      <td>NaN</td>\n",
       "      <td>Hogar |5</td>\n",
       "      <td>INVESTIGACIONES Y DESARROLLO EXPERIMENTAL EN E...</td>\n",
       "      <td>U</td>\n",
       "      <td>F</td>\n",
       "      <td>S</td>\n",
       "      <td>NaN</td>\n",
       "    </tr>\n",
       "    <tr>\n",
       "      <th>38476</th>\n",
       "      <td>FA38477</td>\n",
       "      <td>URBANA |1</td>\n",
       "      <td>PAZ DE ARIPORO |8</td>\n",
       "      <td>Microfinanciero</td>\n",
       "      <td>0.0</td>\n",
       "      <td>Negocio o Microempresa |NM</td>\n",
       "      <td>Propia |P</td>\n",
       "      <td>Nit |A</td>\n",
       "      <td>VENTA DE MERCANCIA</td>\n",
       "      <td>Casado</td>\n",
       "      <td>Femenino</td>\n",
       "      <td>1981-09-25</td>\n",
       "      <td>Secundaria</td>\n",
       "      <td>NaN</td>\n",
       "      <td>No |N</td>\n",
       "      <td>NaN</td>\n",
       "      <td>Independiente |2</td>\n",
       "      <td>COMERCIO AL POR MAYOR DE OTROS PRODUCTOS N.C.P...</td>\n",
       "      <td>C</td>\n",
       "      <td>F</td>\n",
       "      <td>S</td>\n",
       "      <td>NaN</td>\n",
       "    </tr>\n",
       "    <tr>\n",
       "      <th>41715</th>\n",
       "      <td>FA41716</td>\n",
       "      <td>URBANA |1</td>\n",
       "      <td>YOPAL |1</td>\n",
       "      <td>Microfinanciero</td>\n",
       "      <td>NaN</td>\n",
       "      <td>NaN</td>\n",
       "      <td>NaN</td>\n",
       "      <td>Nit |A</td>\n",
       "      <td>NaN</td>\n",
       "      <td>NaN</td>\n",
       "      <td>Femenino</td>\n",
       "      <td>NaT</td>\n",
       "      <td>NaN</td>\n",
       "      <td>NaN</td>\n",
       "      <td>No |N</td>\n",
       "      <td>NaN</td>\n",
       "      <td>NaN</td>\n",
       "      <td>NaN</td>\n",
       "      <td>NaN</td>\n",
       "      <td>F</td>\n",
       "      <td>NaN</td>\n",
       "      <td>NaN</td>\n",
       "    </tr>\n",
       "    <tr>\n",
       "      <th>41856</th>\n",
       "      <td>FA41857</td>\n",
       "      <td>URBANA |1</td>\n",
       "      <td>YOPAL |1</td>\n",
       "      <td>Codeudor no cliente</td>\n",
       "      <td>0.0</td>\n",
       "      <td>Negocio o Microempresa |NM</td>\n",
       "      <td>NaN</td>\n",
       "      <td>Nit |A</td>\n",
       "      <td>NaN</td>\n",
       "      <td>NaN</td>\n",
       "      <td>Masculino</td>\n",
       "      <td>1967-12-27</td>\n",
       "      <td>Secundaria</td>\n",
       "      <td>DESCONOCIDA</td>\n",
       "      <td>No |N</td>\n",
       "      <td>NaN</td>\n",
       "      <td>Independiente |2</td>\n",
       "      <td>NaN</td>\n",
       "      <td>NaN</td>\n",
       "      <td>M</td>\n",
       "      <td>S</td>\n",
       "      <td>D</td>\n",
       "    </tr>\n",
       "    <tr>\n",
       "      <th>42712</th>\n",
       "      <td>FA42713</td>\n",
       "      <td>URBANA |1</td>\n",
       "      <td>YOPAL |1</td>\n",
       "      <td>Microfinanciero</td>\n",
       "      <td>NaN</td>\n",
       "      <td>NaN</td>\n",
       "      <td>NaN</td>\n",
       "      <td>Nit |A</td>\n",
       "      <td>NaN</td>\n",
       "      <td>NaN</td>\n",
       "      <td>Femenino</td>\n",
       "      <td>NaT</td>\n",
       "      <td>NaN</td>\n",
       "      <td>NaN</td>\n",
       "      <td>No |N</td>\n",
       "      <td>NaN</td>\n",
       "      <td>NaN</td>\n",
       "      <td>NaN</td>\n",
       "      <td>NaN</td>\n",
       "      <td>F</td>\n",
       "      <td>NaN</td>\n",
       "      <td>NaN</td>\n",
       "    </tr>\n",
       "    <tr>\n",
       "      <th>42897</th>\n",
       "      <td>FA42898</td>\n",
       "      <td>URBANA |1</td>\n",
       "      <td>YOPAL |1</td>\n",
       "      <td>Codeudor no cliente</td>\n",
       "      <td>0.0</td>\n",
       "      <td>Empleado |EM</td>\n",
       "      <td>NaN</td>\n",
       "      <td>Nit |A</td>\n",
       "      <td>NaN</td>\n",
       "      <td>NaN</td>\n",
       "      <td>Femenino</td>\n",
       "      <td>1989-11-11</td>\n",
       "      <td>Tecnica</td>\n",
       "      <td>ENFERMERIA</td>\n",
       "      <td>No |N</td>\n",
       "      <td>NaN</td>\n",
       "      <td>Empleado |1</td>\n",
       "      <td>NaN</td>\n",
       "      <td>NaN</td>\n",
       "      <td>F</td>\n",
       "      <td>T</td>\n",
       "      <td>142</td>\n",
       "    </tr>\n",
       "    <tr>\n",
       "      <th>42913</th>\n",
       "      <td>FA42914</td>\n",
       "      <td>URBANA |1</td>\n",
       "      <td>YOPAL |1</td>\n",
       "      <td>Microfinanciero</td>\n",
       "      <td>NaN</td>\n",
       "      <td>NaN</td>\n",
       "      <td>NaN</td>\n",
       "      <td>Nit |A</td>\n",
       "      <td>NaN</td>\n",
       "      <td>NaN</td>\n",
       "      <td>Femenino</td>\n",
       "      <td>NaT</td>\n",
       "      <td>NaN</td>\n",
       "      <td>NaN</td>\n",
       "      <td>No |N</td>\n",
       "      <td>NaN</td>\n",
       "      <td>NaN</td>\n",
       "      <td>PUBLICIDAD |7310|M</td>\n",
       "      <td>NaN</td>\n",
       "      <td>F</td>\n",
       "      <td>NaN</td>\n",
       "      <td>NaN</td>\n",
       "    </tr>\n",
       "    <tr>\n",
       "      <th>43561</th>\n",
       "      <td>FA43562</td>\n",
       "      <td>URBANA |1</td>\n",
       "      <td>SOGAMOSO |9</td>\n",
       "      <td>Microfinanciero</td>\n",
       "      <td>NaN</td>\n",
       "      <td>NaN</td>\n",
       "      <td>NaN</td>\n",
       "      <td>Nit |A</td>\n",
       "      <td>NaN</td>\n",
       "      <td>NaN</td>\n",
       "      <td>Masculino</td>\n",
       "      <td>NaT</td>\n",
       "      <td>NaN</td>\n",
       "      <td>NaN</td>\n",
       "      <td>No |N</td>\n",
       "      <td>NaN</td>\n",
       "      <td>NaN</td>\n",
       "      <td>ACTIVIDADES DE ESPECTÁCULOS MUSICALES EN VIVO ...</td>\n",
       "      <td>NaN</td>\n",
       "      <td>M</td>\n",
       "      <td>NaN</td>\n",
       "      <td>NaN</td>\n",
       "    </tr>\n",
       "    <tr>\n",
       "      <th>44076</th>\n",
       "      <td>FA44077</td>\n",
       "      <td>URBANA |1</td>\n",
       "      <td>YOPAL |1</td>\n",
       "      <td>Microfinanciero</td>\n",
       "      <td>NaN</td>\n",
       "      <td>NaN</td>\n",
       "      <td>NaN</td>\n",
       "      <td>Nit |A</td>\n",
       "      <td>NaN</td>\n",
       "      <td>NaN</td>\n",
       "      <td>Masculino</td>\n",
       "      <td>NaT</td>\n",
       "      <td>NaN</td>\n",
       "      <td>NaN</td>\n",
       "      <td>No |N</td>\n",
       "      <td>NaN</td>\n",
       "      <td>NaN</td>\n",
       "      <td>NaN</td>\n",
       "      <td>NaN</td>\n",
       "      <td>M</td>\n",
       "      <td>NaN</td>\n",
       "      <td>NaN</td>\n",
       "    </tr>\n",
       "    <tr>\n",
       "      <th>44119</th>\n",
       "      <td>FA44120</td>\n",
       "      <td>URBANA |1</td>\n",
       "      <td>GRANADA |6</td>\n",
       "      <td>Microfinanciero</td>\n",
       "      <td>NaN</td>\n",
       "      <td>NaN</td>\n",
       "      <td>NaN</td>\n",
       "      <td>Nit |A</td>\n",
       "      <td>NaN</td>\n",
       "      <td>NaN</td>\n",
       "      <td>Masculino</td>\n",
       "      <td>NaT</td>\n",
       "      <td>NaN</td>\n",
       "      <td>NaN</td>\n",
       "      <td>No |N</td>\n",
       "      <td>NaN</td>\n",
       "      <td>NaN</td>\n",
       "      <td>NaN</td>\n",
       "      <td>NaN</td>\n",
       "      <td>M</td>\n",
       "      <td>NaN</td>\n",
       "      <td>NaN</td>\n",
       "    </tr>\n",
       "    <tr>\n",
       "      <th>45165</th>\n",
       "      <td>FA45166</td>\n",
       "      <td>URBANA |1</td>\n",
       "      <td>YOPAL |1</td>\n",
       "      <td>Codeudor no cliente</td>\n",
       "      <td>0.0</td>\n",
       "      <td>Negocio o Microempresa |NM</td>\n",
       "      <td>NaN</td>\n",
       "      <td>Nit |A</td>\n",
       "      <td>NaN</td>\n",
       "      <td>NaN</td>\n",
       "      <td>Masculino</td>\n",
       "      <td>1985-03-23</td>\n",
       "      <td>Primaria</td>\n",
       "      <td>GANADERIA</td>\n",
       "      <td>No |N</td>\n",
       "      <td>NaN</td>\n",
       "      <td>Independiente |2</td>\n",
       "      <td>NaN</td>\n",
       "      <td>NaN</td>\n",
       "      <td>M</td>\n",
       "      <td>P</td>\n",
       "      <td>205</td>\n",
       "    </tr>\n",
       "    <tr>\n",
       "      <th>45244</th>\n",
       "      <td>FA45245</td>\n",
       "      <td>URBANA |1</td>\n",
       "      <td>AGUAZUL |4</td>\n",
       "      <td>Microfinanciero</td>\n",
       "      <td>NaN</td>\n",
       "      <td>NaN</td>\n",
       "      <td>NaN</td>\n",
       "      <td>Nit |A</td>\n",
       "      <td>NaN</td>\n",
       "      <td>NaN</td>\n",
       "      <td>Femenino</td>\n",
       "      <td>NaT</td>\n",
       "      <td>NaN</td>\n",
       "      <td>NaN</td>\n",
       "      <td>No |N</td>\n",
       "      <td>NaN</td>\n",
       "      <td>NaN</td>\n",
       "      <td>NaN</td>\n",
       "      <td>NaN</td>\n",
       "      <td>F</td>\n",
       "      <td>NaN</td>\n",
       "      <td>NaN</td>\n",
       "    </tr>\n",
       "    <tr>\n",
       "      <th>45452</th>\n",
       "      <td>FA45453</td>\n",
       "      <td>URBANA |1</td>\n",
       "      <td>YOPAL |1</td>\n",
       "      <td>Codeudor no cliente</td>\n",
       "      <td>0.0</td>\n",
       "      <td>Empleado |EM</td>\n",
       "      <td>NaN</td>\n",
       "      <td>Nit |A</td>\n",
       "      <td>NaN</td>\n",
       "      <td>NaN</td>\n",
       "      <td>Femenino</td>\n",
       "      <td>1981-11-04</td>\n",
       "      <td>Secundaria</td>\n",
       "      <td>EMPLEADO</td>\n",
       "      <td>No |N</td>\n",
       "      <td>NaN</td>\n",
       "      <td>Empleado |1</td>\n",
       "      <td>COMERCIO AL POR MENOR DE PRENDAS DE VESTIR Y S...</td>\n",
       "      <td>NaN</td>\n",
       "      <td>F</td>\n",
       "      <td>S</td>\n",
       "      <td>206</td>\n",
       "    </tr>\n",
       "    <tr>\n",
       "      <th>45772</th>\n",
       "      <td>FA45773</td>\n",
       "      <td>URBANA |1</td>\n",
       "      <td>SOGAMOSO |9</td>\n",
       "      <td>Microfinanciero</td>\n",
       "      <td>NaN</td>\n",
       "      <td>NaN</td>\n",
       "      <td>NaN</td>\n",
       "      <td>Nit |A</td>\n",
       "      <td>NaN</td>\n",
       "      <td>NaN</td>\n",
       "      <td>Femenino</td>\n",
       "      <td>NaT</td>\n",
       "      <td>NaN</td>\n",
       "      <td>NaN</td>\n",
       "      <td>No |N</td>\n",
       "      <td>NaN</td>\n",
       "      <td>NaN</td>\n",
       "      <td>NaN</td>\n",
       "      <td>NaN</td>\n",
       "      <td>F</td>\n",
       "      <td>NaN</td>\n",
       "      <td>NaN</td>\n",
       "    </tr>\n",
       "    <tr>\n",
       "      <th>46260</th>\n",
       "      <td>FA46261</td>\n",
       "      <td>RURAL |2</td>\n",
       "      <td>YOPAL |1</td>\n",
       "      <td>Microfinanciero</td>\n",
       "      <td>NaN</td>\n",
       "      <td>NaN</td>\n",
       "      <td>NaN</td>\n",
       "      <td>Nit |A</td>\n",
       "      <td>NaN</td>\n",
       "      <td>NaN</td>\n",
       "      <td>Femenino</td>\n",
       "      <td>NaT</td>\n",
       "      <td>NaN</td>\n",
       "      <td>NaN</td>\n",
       "      <td>No |N</td>\n",
       "      <td>NaN</td>\n",
       "      <td>NaN</td>\n",
       "      <td>INVESTIGACIONES Y DESARROLLO EXPERIMENTAL EN E...</td>\n",
       "      <td>NaN</td>\n",
       "      <td>F</td>\n",
       "      <td>NaN</td>\n",
       "      <td>NaN</td>\n",
       "    </tr>\n",
       "    <tr>\n",
       "      <th>46964</th>\n",
       "      <td>FA46965</td>\n",
       "      <td>URBANA |1</td>\n",
       "      <td>YOPAL |1</td>\n",
       "      <td>Codeudor no cliente</td>\n",
       "      <td>0.0</td>\n",
       "      <td>Negocio o Microempresa |NM</td>\n",
       "      <td>NaN</td>\n",
       "      <td>Nit |A</td>\n",
       "      <td>NaN</td>\n",
       "      <td>NaN</td>\n",
       "      <td>Masculino</td>\n",
       "      <td>NaT</td>\n",
       "      <td>NaN</td>\n",
       "      <td>DESCONOCIDA</td>\n",
       "      <td>No |N</td>\n",
       "      <td>No |N</td>\n",
       "      <td>Independiente |2</td>\n",
       "      <td>COMERCIO AL POR MENOR EN ESTABLECIMIENTOS NO E...</td>\n",
       "      <td>NaN</td>\n",
       "      <td>M</td>\n",
       "      <td>NaN</td>\n",
       "      <td>D</td>\n",
       "    </tr>\n",
       "    <tr>\n",
       "      <th>47256</th>\n",
       "      <td>FA47257</td>\n",
       "      <td>URBANA |1</td>\n",
       "      <td>YOPAL |1</td>\n",
       "      <td>Codeudor no cliente</td>\n",
       "      <td>0.0</td>\n",
       "      <td>Desconocida |NN</td>\n",
       "      <td>NaN</td>\n",
       "      <td>Nit |A</td>\n",
       "      <td>NaN</td>\n",
       "      <td>NaN</td>\n",
       "      <td>Masculino</td>\n",
       "      <td>1981-10-12</td>\n",
       "      <td>Primaria</td>\n",
       "      <td>DESCONOCIDA</td>\n",
       "      <td>No |N</td>\n",
       "      <td>NaN</td>\n",
       "      <td>NaN</td>\n",
       "      <td>NaN</td>\n",
       "      <td>NaN</td>\n",
       "      <td>M</td>\n",
       "      <td>P</td>\n",
       "      <td>D</td>\n",
       "    </tr>\n",
       "    <tr>\n",
       "      <th>47376</th>\n",
       "      <td>FA47377</td>\n",
       "      <td>URBANA |1</td>\n",
       "      <td>MONTERREY |7</td>\n",
       "      <td>Microfinanciero</td>\n",
       "      <td>NaN</td>\n",
       "      <td>NaN</td>\n",
       "      <td>NaN</td>\n",
       "      <td>Nit |A</td>\n",
       "      <td>NaN</td>\n",
       "      <td>NaN</td>\n",
       "      <td>Femenino</td>\n",
       "      <td>NaT</td>\n",
       "      <td>NaN</td>\n",
       "      <td>NaN</td>\n",
       "      <td>No |N</td>\n",
       "      <td>NaN</td>\n",
       "      <td>NaN</td>\n",
       "      <td>NaN</td>\n",
       "      <td>NaN</td>\n",
       "      <td>F</td>\n",
       "      <td>NaN</td>\n",
       "      <td>NaN</td>\n",
       "    </tr>\n",
       "    <tr>\n",
       "      <th>48355</th>\n",
       "      <td>FA48356</td>\n",
       "      <td>URBANA |1</td>\n",
       "      <td>VILLANUEVA |11</td>\n",
       "      <td>Microfinanciero</td>\n",
       "      <td>0.0</td>\n",
       "      <td>Negocio o Microempresa |NM</td>\n",
       "      <td>Propia |P</td>\n",
       "      <td>Nit |A</td>\n",
       "      <td>LICORERA</td>\n",
       "      <td>Casado</td>\n",
       "      <td>Masculino</td>\n",
       "      <td>1973-03-10</td>\n",
       "      <td>Secundaria</td>\n",
       "      <td>ADMON DE EMPRESAS</td>\n",
       "      <td>No |N</td>\n",
       "      <td>Si |Y</td>\n",
       "      <td>Independiente |2</td>\n",
       "      <td>NaN</td>\n",
       "      <td>C</td>\n",
       "      <td>M</td>\n",
       "      <td>S</td>\n",
       "      <td>106</td>\n",
       "    </tr>\n",
       "    <tr>\n",
       "      <th>48842</th>\n",
       "      <td>FA48843</td>\n",
       "      <td>URBANA |1</td>\n",
       "      <td>YOPAL |1</td>\n",
       "      <td>Microfinanciero</td>\n",
       "      <td>NaN</td>\n",
       "      <td>NaN</td>\n",
       "      <td>NaN</td>\n",
       "      <td>Nit |A</td>\n",
       "      <td>CONTADURIA</td>\n",
       "      <td>Casado</td>\n",
       "      <td>Masculino</td>\n",
       "      <td>NaT</td>\n",
       "      <td>Universitaria</td>\n",
       "      <td>DESCONOCIDA</td>\n",
       "      <td>No |N</td>\n",
       "      <td>No |N</td>\n",
       "      <td>NaN</td>\n",
       "      <td>INVESTIGACIONES Y DESARROLLO EXPERIMENTAL EN E...</td>\n",
       "      <td>C</td>\n",
       "      <td>M</td>\n",
       "      <td>U</td>\n",
       "      <td>D</td>\n",
       "    </tr>\n",
       "    <tr>\n",
       "      <th>49246</th>\n",
       "      <td>FA49247</td>\n",
       "      <td>URBANA |1</td>\n",
       "      <td>ACACIAS |3</td>\n",
       "      <td>Microfinanciero</td>\n",
       "      <td>NaN</td>\n",
       "      <td>NaN</td>\n",
       "      <td>NaN</td>\n",
       "      <td>Nit |A</td>\n",
       "      <td>NaN</td>\n",
       "      <td>NaN</td>\n",
       "      <td>Femenino</td>\n",
       "      <td>NaT</td>\n",
       "      <td>NaN</td>\n",
       "      <td>NaN</td>\n",
       "      <td>No |N</td>\n",
       "      <td>NaN</td>\n",
       "      <td>NaN</td>\n",
       "      <td>NaN</td>\n",
       "      <td>NaN</td>\n",
       "      <td>F</td>\n",
       "      <td>NaN</td>\n",
       "      <td>NaN</td>\n",
       "    </tr>\n",
       "    <tr>\n",
       "      <th>50301</th>\n",
       "      <td>FA50302</td>\n",
       "      <td>URBANA |1</td>\n",
       "      <td>TAME |12</td>\n",
       "      <td>Microfinanciero</td>\n",
       "      <td>NaN</td>\n",
       "      <td>NaN</td>\n",
       "      <td>NaN</td>\n",
       "      <td>Nit |A</td>\n",
       "      <td>NaN</td>\n",
       "      <td>NaN</td>\n",
       "      <td>Femenino</td>\n",
       "      <td>NaT</td>\n",
       "      <td>NaN</td>\n",
       "      <td>NaN</td>\n",
       "      <td>No |N</td>\n",
       "      <td>NaN</td>\n",
       "      <td>NaN</td>\n",
       "      <td>NaN</td>\n",
       "      <td>NaN</td>\n",
       "      <td>F</td>\n",
       "      <td>NaN</td>\n",
       "      <td>NaN</td>\n",
       "    </tr>\n",
       "    <tr>\n",
       "      <th>50441</th>\n",
       "      <td>FA50442</td>\n",
       "      <td>URBANA |1</td>\n",
       "      <td>MONTERREY |7</td>\n",
       "      <td>Microfinanciero</td>\n",
       "      <td>NaN</td>\n",
       "      <td>NaN</td>\n",
       "      <td>NaN</td>\n",
       "      <td>Nit |A</td>\n",
       "      <td>NaN</td>\n",
       "      <td>NaN</td>\n",
       "      <td>Femenino</td>\n",
       "      <td>NaT</td>\n",
       "      <td>NaN</td>\n",
       "      <td>NaN</td>\n",
       "      <td>No |N</td>\n",
       "      <td>NaN</td>\n",
       "      <td>NaN</td>\n",
       "      <td>NaN</td>\n",
       "      <td>NaN</td>\n",
       "      <td>F</td>\n",
       "      <td>NaN</td>\n",
       "      <td>NaN</td>\n",
       "    </tr>\n",
       "    <tr>\n",
       "      <th>50607</th>\n",
       "      <td>FA50608</td>\n",
       "      <td>URBANA |1</td>\n",
       "      <td>YOPAL |1</td>\n",
       "      <td>Mixto</td>\n",
       "      <td>NaN</td>\n",
       "      <td>NaN</td>\n",
       "      <td>NaN</td>\n",
       "      <td>Nit |A</td>\n",
       "      <td>NaN</td>\n",
       "      <td>NaN</td>\n",
       "      <td>Femenino</td>\n",
       "      <td>NaT</td>\n",
       "      <td>NaN</td>\n",
       "      <td>NaN</td>\n",
       "      <td>No |N</td>\n",
       "      <td>NaN</td>\n",
       "      <td>NaN</td>\n",
       "      <td>COMERCIO AL POR MENOR DE LIBROS PERIÓDICOS MAT...</td>\n",
       "      <td>NaN</td>\n",
       "      <td>F</td>\n",
       "      <td>NaN</td>\n",
       "      <td>NaN</td>\n",
       "    </tr>\n",
       "    <tr>\n",
       "      <th>51110</th>\n",
       "      <td>FA51111</td>\n",
       "      <td>URBANA |1</td>\n",
       "      <td>YOPAL |1</td>\n",
       "      <td>Microfinanciero</td>\n",
       "      <td>NaN</td>\n",
       "      <td>NaN</td>\n",
       "      <td>NaN</td>\n",
       "      <td>Nit |A</td>\n",
       "      <td>NaN</td>\n",
       "      <td>NaN</td>\n",
       "      <td>Masculino</td>\n",
       "      <td>NaT</td>\n",
       "      <td>NaN</td>\n",
       "      <td>NaN</td>\n",
       "      <td>No |N</td>\n",
       "      <td>NaN</td>\n",
       "      <td>NaN</td>\n",
       "      <td>ACTIVIDADES DE CONSULTARÍA DE GESTIÓN |7020|M</td>\n",
       "      <td>NaN</td>\n",
       "      <td>M</td>\n",
       "      <td>NaN</td>\n",
       "      <td>NaN</td>\n",
       "    </tr>\n",
       "    <tr>\n",
       "      <th>51242</th>\n",
       "      <td>FA51243</td>\n",
       "      <td>URBANA |1</td>\n",
       "      <td>YOPAL |1</td>\n",
       "      <td>Microfinanciero</td>\n",
       "      <td>NaN</td>\n",
       "      <td>NaN</td>\n",
       "      <td>NaN</td>\n",
       "      <td>Nit |A</td>\n",
       "      <td>NaN</td>\n",
       "      <td>NaN</td>\n",
       "      <td>Masculino</td>\n",
       "      <td>NaT</td>\n",
       "      <td>NaN</td>\n",
       "      <td>NaN</td>\n",
       "      <td>No |N</td>\n",
       "      <td>NaN</td>\n",
       "      <td>NaN</td>\n",
       "      <td>NaN</td>\n",
       "      <td>NaN</td>\n",
       "      <td>M</td>\n",
       "      <td>NaN</td>\n",
       "      <td>NaN</td>\n",
       "    </tr>\n",
       "    <tr>\n",
       "      <th>51398</th>\n",
       "      <td>FA51399</td>\n",
       "      <td>RURAL |2</td>\n",
       "      <td>YOPAL |1</td>\n",
       "      <td>Microfinanciero</td>\n",
       "      <td>NaN</td>\n",
       "      <td>NaN</td>\n",
       "      <td>NaN</td>\n",
       "      <td>Nit |A</td>\n",
       "      <td>NaN</td>\n",
       "      <td>NaN</td>\n",
       "      <td>Femenino</td>\n",
       "      <td>NaT</td>\n",
       "      <td>NaN</td>\n",
       "      <td>NaN</td>\n",
       "      <td>No |N</td>\n",
       "      <td>NaN</td>\n",
       "      <td>NaN</td>\n",
       "      <td>NaN</td>\n",
       "      <td>NaN</td>\n",
       "      <td>F</td>\n",
       "      <td>NaN</td>\n",
       "      <td>NaN</td>\n",
       "    </tr>\n",
       "    <tr>\n",
       "      <th>51493</th>\n",
       "      <td>FA51494</td>\n",
       "      <td>URBANA |1</td>\n",
       "      <td>TAURAMENA |10</td>\n",
       "      <td>Microfinanciero</td>\n",
       "      <td>NaN</td>\n",
       "      <td>NaN</td>\n",
       "      <td>NaN</td>\n",
       "      <td>Nit |A</td>\n",
       "      <td>NaN</td>\n",
       "      <td>NaN</td>\n",
       "      <td>Femenino</td>\n",
       "      <td>NaT</td>\n",
       "      <td>NaN</td>\n",
       "      <td>NaN</td>\n",
       "      <td>No |N</td>\n",
       "      <td>NaN</td>\n",
       "      <td>NaN</td>\n",
       "      <td>NaN</td>\n",
       "      <td>NaN</td>\n",
       "      <td>F</td>\n",
       "      <td>NaN</td>\n",
       "      <td>NaN</td>\n",
       "    </tr>\n",
       "    <tr>\n",
       "      <th>52287</th>\n",
       "      <td>FA52288</td>\n",
       "      <td>URBANA |1</td>\n",
       "      <td>YOPAL |1</td>\n",
       "      <td>Microfinanciero</td>\n",
       "      <td>NaN</td>\n",
       "      <td>NaN</td>\n",
       "      <td>NaN</td>\n",
       "      <td>Nit |A</td>\n",
       "      <td>NaN</td>\n",
       "      <td>NaN</td>\n",
       "      <td>Masculino</td>\n",
       "      <td>NaT</td>\n",
       "      <td>NaN</td>\n",
       "      <td>NaN</td>\n",
       "      <td>No |N</td>\n",
       "      <td>NaN</td>\n",
       "      <td>NaN</td>\n",
       "      <td>NaN</td>\n",
       "      <td>NaN</td>\n",
       "      <td>M</td>\n",
       "      <td>NaN</td>\n",
       "      <td>NaN</td>\n",
       "    </tr>\n",
       "    <tr>\n",
       "      <th>55177</th>\n",
       "      <td>FA55178</td>\n",
       "      <td>URBANA |1</td>\n",
       "      <td>TAURAMENA |10</td>\n",
       "      <td>Microfinanciero</td>\n",
       "      <td>NaN</td>\n",
       "      <td>NaN</td>\n",
       "      <td>NaN</td>\n",
       "      <td>Nit |A</td>\n",
       "      <td>NaN</td>\n",
       "      <td>NaN</td>\n",
       "      <td>Masculino</td>\n",
       "      <td>NaT</td>\n",
       "      <td>NaN</td>\n",
       "      <td>NaN</td>\n",
       "      <td>No |N</td>\n",
       "      <td>NaN</td>\n",
       "      <td>NaN</td>\n",
       "      <td>COMERCIO AL POR MENOR DE ARTÍCULOS DE FERRETER...</td>\n",
       "      <td>NaN</td>\n",
       "      <td>M</td>\n",
       "      <td>NaN</td>\n",
       "      <td>NaN</td>\n",
       "    </tr>\n",
       "    <tr>\n",
       "      <th>55620</th>\n",
       "      <td>FA55621</td>\n",
       "      <td>URBANA |1</td>\n",
       "      <td>YOPAL |1</td>\n",
       "      <td>Codeudor no cliente</td>\n",
       "      <td>0.0</td>\n",
       "      <td>Negocio o Microempresa |NM</td>\n",
       "      <td>NaN</td>\n",
       "      <td>Nit |A</td>\n",
       "      <td>NaN</td>\n",
       "      <td>NaN</td>\n",
       "      <td>Masculino</td>\n",
       "      <td>1975-11-18</td>\n",
       "      <td>Secundaria</td>\n",
       "      <td>ADMON PERSONAL</td>\n",
       "      <td>No |N</td>\n",
       "      <td>NaN</td>\n",
       "      <td>NaN</td>\n",
       "      <td>NaN</td>\n",
       "      <td>NaN</td>\n",
       "      <td>M</td>\n",
       "      <td>S</td>\n",
       "      <td>113</td>\n",
       "    </tr>\n",
       "    <tr>\n",
       "      <th>55645</th>\n",
       "      <td>FA55646</td>\n",
       "      <td>URBANA |1</td>\n",
       "      <td>YOPAL |1</td>\n",
       "      <td>Microfinanciero</td>\n",
       "      <td>NaN</td>\n",
       "      <td>NaN</td>\n",
       "      <td>NaN</td>\n",
       "      <td>Nit |A</td>\n",
       "      <td>NaN</td>\n",
       "      <td>NaN</td>\n",
       "      <td>Femenino</td>\n",
       "      <td>NaT</td>\n",
       "      <td>NaN</td>\n",
       "      <td>NaN</td>\n",
       "      <td>No |N</td>\n",
       "      <td>NaN</td>\n",
       "      <td>NaN</td>\n",
       "      <td>NaN</td>\n",
       "      <td>NaN</td>\n",
       "      <td>F</td>\n",
       "      <td>NaN</td>\n",
       "      <td>NaN</td>\n",
       "    </tr>\n",
       "    <tr>\n",
       "      <th>55821</th>\n",
       "      <td>FA55822</td>\n",
       "      <td>URBANA |1</td>\n",
       "      <td>YOPAL |1</td>\n",
       "      <td>Microfinanciero</td>\n",
       "      <td>NaN</td>\n",
       "      <td>NaN</td>\n",
       "      <td>NaN</td>\n",
       "      <td>Nit |A</td>\n",
       "      <td>NaN</td>\n",
       "      <td>NaN</td>\n",
       "      <td>Masculino</td>\n",
       "      <td>NaT</td>\n",
       "      <td>NaN</td>\n",
       "      <td>NaN</td>\n",
       "      <td>No |N</td>\n",
       "      <td>NaN</td>\n",
       "      <td>NaN</td>\n",
       "      <td>NaN</td>\n",
       "      <td>NaN</td>\n",
       "      <td>M</td>\n",
       "      <td>NaN</td>\n",
       "      <td>NaN</td>\n",
       "    </tr>\n",
       "    <tr>\n",
       "      <th>56512</th>\n",
       "      <td>FA56513</td>\n",
       "      <td>URBANA |1</td>\n",
       "      <td>YOPAL |1</td>\n",
       "      <td>Empleado Req.Servicios</td>\n",
       "      <td>0.0</td>\n",
       "      <td>NaN</td>\n",
       "      <td>NaN</td>\n",
       "      <td>Nit |A</td>\n",
       "      <td>NaN</td>\n",
       "      <td>NaN</td>\n",
       "      <td>Masculino</td>\n",
       "      <td>NaT</td>\n",
       "      <td>NaN</td>\n",
       "      <td>ING. SISTEMAS / COMPUTACIÓN</td>\n",
       "      <td>No |N</td>\n",
       "      <td>NaN</td>\n",
       "      <td>NaN</td>\n",
       "      <td>NaN</td>\n",
       "      <td>NaN</td>\n",
       "      <td>M</td>\n",
       "      <td>NaN</td>\n",
       "      <td>159</td>\n",
       "    </tr>\n",
       "    <tr>\n",
       "      <th>56915</th>\n",
       "      <td>FA56916</td>\n",
       "      <td>URBANA |1</td>\n",
       "      <td>YOPAL |1</td>\n",
       "      <td>Microfinanciero</td>\n",
       "      <td>NaN</td>\n",
       "      <td>NaN</td>\n",
       "      <td>NaN</td>\n",
       "      <td>Nit |A</td>\n",
       "      <td>NaN</td>\n",
       "      <td>NaN</td>\n",
       "      <td>Femenino</td>\n",
       "      <td>NaT</td>\n",
       "      <td>NaN</td>\n",
       "      <td>NaN</td>\n",
       "      <td>No |N</td>\n",
       "      <td>NaN</td>\n",
       "      <td>NaN</td>\n",
       "      <td>NaN</td>\n",
       "      <td>NaN</td>\n",
       "      <td>F</td>\n",
       "      <td>NaN</td>\n",
       "      <td>NaN</td>\n",
       "    </tr>\n",
       "    <tr>\n",
       "      <th>57447</th>\n",
       "      <td>FA57448</td>\n",
       "      <td>URBANA |1</td>\n",
       "      <td>YOPAL |1</td>\n",
       "      <td>Empleado Req.Servicios</td>\n",
       "      <td>0.0</td>\n",
       "      <td>NaN</td>\n",
       "      <td>NaN</td>\n",
       "      <td>Nit |A</td>\n",
       "      <td>NaN</td>\n",
       "      <td>NaN</td>\n",
       "      <td>Femenino</td>\n",
       "      <td>NaT</td>\n",
       "      <td>NaN</td>\n",
       "      <td>NaN</td>\n",
       "      <td>No |N</td>\n",
       "      <td>NaN</td>\n",
       "      <td>NaN</td>\n",
       "      <td>INVESTIGACIONES Y DESARROLLO EXPERIMENTAL EN E...</td>\n",
       "      <td>NaN</td>\n",
       "      <td>F</td>\n",
       "      <td>NaN</td>\n",
       "      <td>NaN</td>\n",
       "    </tr>\n",
       "    <tr>\n",
       "      <th>57514</th>\n",
       "      <td>FA57515</td>\n",
       "      <td>URBANA |1</td>\n",
       "      <td>ACACIAS |3</td>\n",
       "      <td>Proveedor</td>\n",
       "      <td>NaN</td>\n",
       "      <td>NaN</td>\n",
       "      <td>NaN</td>\n",
       "      <td>Nit |A</td>\n",
       "      <td>NaN</td>\n",
       "      <td>NaN</td>\n",
       "      <td>Masculino</td>\n",
       "      <td>NaT</td>\n",
       "      <td>NaN</td>\n",
       "      <td>NaN</td>\n",
       "      <td>No |N</td>\n",
       "      <td>NaN</td>\n",
       "      <td>NaN</td>\n",
       "      <td>PUBLICIDAD |7310|M</td>\n",
       "      <td>NaN</td>\n",
       "      <td>M</td>\n",
       "      <td>NaN</td>\n",
       "      <td>NaN</td>\n",
       "    </tr>\n",
       "    <tr>\n",
       "      <th>57520</th>\n",
       "      <td>FA57521</td>\n",
       "      <td>URBANA |1</td>\n",
       "      <td>YOPAL |1</td>\n",
       "      <td>Proveedor</td>\n",
       "      <td>NaN</td>\n",
       "      <td>NaN</td>\n",
       "      <td>NaN</td>\n",
       "      <td>Nit |A</td>\n",
       "      <td>NaN</td>\n",
       "      <td>NaN</td>\n",
       "      <td>Masculino</td>\n",
       "      <td>NaT</td>\n",
       "      <td>NaN</td>\n",
       "      <td>NaN</td>\n",
       "      <td>No |N</td>\n",
       "      <td>NaN</td>\n",
       "      <td>NaN</td>\n",
       "      <td>OTRAS ACTIVIDADES PROFESIONALES CIENTÍFICAS Y ...</td>\n",
       "      <td>NaN</td>\n",
       "      <td>M</td>\n",
       "      <td>NaN</td>\n",
       "      <td>NaN</td>\n",
       "    </tr>\n",
       "    <tr>\n",
       "      <th>57830</th>\n",
       "      <td>FA57831</td>\n",
       "      <td>URBANA |1</td>\n",
       "      <td>YOPAL |1</td>\n",
       "      <td>Empleado Req.Servicios</td>\n",
       "      <td>0.0</td>\n",
       "      <td>NaN</td>\n",
       "      <td>NaN</td>\n",
       "      <td>Nit |A</td>\n",
       "      <td>NaN</td>\n",
       "      <td>NaN</td>\n",
       "      <td>Femenino</td>\n",
       "      <td>NaT</td>\n",
       "      <td>NaN</td>\n",
       "      <td>NaN</td>\n",
       "      <td>No |N</td>\n",
       "      <td>NaN</td>\n",
       "      <td>NaN</td>\n",
       "      <td>INVESTIGACIONES Y DESARROLLO EXPERIMENTAL EN E...</td>\n",
       "      <td>NaN</td>\n",
       "      <td>F</td>\n",
       "      <td>NaN</td>\n",
       "      <td>NaN</td>\n",
       "    </tr>\n",
       "    <tr>\n",
       "      <th>58048</th>\n",
       "      <td>FA58049</td>\n",
       "      <td>URBANA |1</td>\n",
       "      <td>YOPAL |1</td>\n",
       "      <td>Codeudor no cliente</td>\n",
       "      <td>0.0</td>\n",
       "      <td>Negocio o Microempresa |NM</td>\n",
       "      <td>NaN</td>\n",
       "      <td>Nit |A</td>\n",
       "      <td>NaN</td>\n",
       "      <td>NaN</td>\n",
       "      <td>Femenino</td>\n",
       "      <td>1995-03-21</td>\n",
       "      <td>Primaria</td>\n",
       "      <td>AGRICULTURA</td>\n",
       "      <td>No |N</td>\n",
       "      <td>NaN</td>\n",
       "      <td>NaN</td>\n",
       "      <td>NaN</td>\n",
       "      <td>NaN</td>\n",
       "      <td>F</td>\n",
       "      <td>P</td>\n",
       "      <td>204</td>\n",
       "    </tr>\n",
       "    <tr>\n",
       "      <th>58097</th>\n",
       "      <td>FA58098</td>\n",
       "      <td>URBANA |1</td>\n",
       "      <td>YOPAL |1</td>\n",
       "      <td>Microfinanciero</td>\n",
       "      <td>NaN</td>\n",
       "      <td>NaN</td>\n",
       "      <td>NaN</td>\n",
       "      <td>Nit |A</td>\n",
       "      <td>NaN</td>\n",
       "      <td>NaN</td>\n",
       "      <td>Masculino</td>\n",
       "      <td>NaT</td>\n",
       "      <td>NaN</td>\n",
       "      <td>NaN</td>\n",
       "      <td>No |N</td>\n",
       "      <td>NaN</td>\n",
       "      <td>NaN</td>\n",
       "      <td>NaN</td>\n",
       "      <td>NaN</td>\n",
       "      <td>M</td>\n",
       "      <td>NaN</td>\n",
       "      <td>NaN</td>\n",
       "    </tr>\n",
       "    <tr>\n",
       "      <th>58186</th>\n",
       "      <td>FA58187</td>\n",
       "      <td>RURAL |2</td>\n",
       "      <td>TAME |12</td>\n",
       "      <td>Proveedor</td>\n",
       "      <td>NaN</td>\n",
       "      <td>NaN</td>\n",
       "      <td>NaN</td>\n",
       "      <td>Nit |A</td>\n",
       "      <td>NaN</td>\n",
       "      <td>NaN</td>\n",
       "      <td>Masculino</td>\n",
       "      <td>NaT</td>\n",
       "      <td>NaN</td>\n",
       "      <td>NaN</td>\n",
       "      <td>No |N</td>\n",
       "      <td>NaN</td>\n",
       "      <td>NaN</td>\n",
       "      <td>TRANSPORTE DE CARGA POR CARRETERA |4923|H</td>\n",
       "      <td>NaN</td>\n",
       "      <td>M</td>\n",
       "      <td>NaN</td>\n",
       "      <td>NaN</td>\n",
       "    </tr>\n",
       "    <tr>\n",
       "      <th>58497</th>\n",
       "      <td>FA58498</td>\n",
       "      <td>URBANA |1</td>\n",
       "      <td>YOPAL |1</td>\n",
       "      <td>Microfinanciero</td>\n",
       "      <td>NaN</td>\n",
       "      <td>NaN</td>\n",
       "      <td>NaN</td>\n",
       "      <td>Nit |A</td>\n",
       "      <td>NaN</td>\n",
       "      <td>NaN</td>\n",
       "      <td>Femenino</td>\n",
       "      <td>NaT</td>\n",
       "      <td>NaN</td>\n",
       "      <td>NaN</td>\n",
       "      <td>No |N</td>\n",
       "      <td>NaN</td>\n",
       "      <td>NaN</td>\n",
       "      <td>NaN</td>\n",
       "      <td>NaN</td>\n",
       "      <td>F</td>\n",
       "      <td>NaN</td>\n",
       "      <td>NaN</td>\n",
       "    </tr>\n",
       "    <tr>\n",
       "      <th>58512</th>\n",
       "      <td>FA58513</td>\n",
       "      <td>URBANA |1</td>\n",
       "      <td>SOGAMOSO |9</td>\n",
       "      <td>Microfinanciero</td>\n",
       "      <td>4600000.0</td>\n",
       "      <td>NaN</td>\n",
       "      <td>NaN</td>\n",
       "      <td>Nit |A</td>\n",
       "      <td>comercio y elaboracion insumos</td>\n",
       "      <td>Casado</td>\n",
       "      <td>Masculino</td>\n",
       "      <td>1967-08-15</td>\n",
       "      <td>Secundaria</td>\n",
       "      <td>DESCONOCIDA</td>\n",
       "      <td>No |N</td>\n",
       "      <td>Si |Y</td>\n",
       "      <td>NaN</td>\n",
       "      <td>NaN</td>\n",
       "      <td>C</td>\n",
       "      <td>M</td>\n",
       "      <td>S</td>\n",
       "      <td>D</td>\n",
       "    </tr>\n",
       "    <tr>\n",
       "      <th>58905</th>\n",
       "      <td>FA58906</td>\n",
       "      <td>URBANA |1</td>\n",
       "      <td>YOPAL |1</td>\n",
       "      <td>Empleado Req.Servicios</td>\n",
       "      <td>0.0</td>\n",
       "      <td>NaN</td>\n",
       "      <td>NaN</td>\n",
       "      <td>Nit |A</td>\n",
       "      <td>NaN</td>\n",
       "      <td>NaN</td>\n",
       "      <td>Femenino</td>\n",
       "      <td>NaT</td>\n",
       "      <td>NaN</td>\n",
       "      <td>NaN</td>\n",
       "      <td>No |N</td>\n",
       "      <td>NaN</td>\n",
       "      <td>NaN</td>\n",
       "      <td>INVESTIGACIONES Y DESARROLLO EXPERIMENTAL EN E...</td>\n",
       "      <td>NaN</td>\n",
       "      <td>F</td>\n",
       "      <td>NaN</td>\n",
       "      <td>NaN</td>\n",
       "    </tr>\n",
       "    <tr>\n",
       "      <th>59422</th>\n",
       "      <td>FA59423</td>\n",
       "      <td>URBANA |1</td>\n",
       "      <td>YOPAL |1</td>\n",
       "      <td>Codeudor no cliente</td>\n",
       "      <td>0.0</td>\n",
       "      <td>Negocio o Microempresa |NM</td>\n",
       "      <td>Propia |P</td>\n",
       "      <td>Nit |A</td>\n",
       "      <td>ALMACEN DE PLASTICOS</td>\n",
       "      <td>Union libre</td>\n",
       "      <td>Masculino</td>\n",
       "      <td>1988-01-13</td>\n",
       "      <td>Secundaria</td>\n",
       "      <td>ADMON DE EMPRESAS</td>\n",
       "      <td>No |N</td>\n",
       "      <td>NaN</td>\n",
       "      <td>Independiente |2</td>\n",
       "      <td>COMERCIO AL POR MENOR EN ESTABLECIMIENTOS NO E...</td>\n",
       "      <td>U</td>\n",
       "      <td>M</td>\n",
       "      <td>S</td>\n",
       "      <td>106</td>\n",
       "    </tr>\n",
       "    <tr>\n",
       "      <th>59615</th>\n",
       "      <td>FA59616</td>\n",
       "      <td>URBANA |1</td>\n",
       "      <td>YOPAL |1</td>\n",
       "      <td>Codeudor no cliente</td>\n",
       "      <td>0.0</td>\n",
       "      <td>Negocio o Microempresa |NM</td>\n",
       "      <td>NaN</td>\n",
       "      <td>Nit |A</td>\n",
       "      <td>NaN</td>\n",
       "      <td>NaN</td>\n",
       "      <td>Masculino</td>\n",
       "      <td>1992-03-13</td>\n",
       "      <td>Tecnica</td>\n",
       "      <td>NaN</td>\n",
       "      <td>No |N</td>\n",
       "      <td>NaN</td>\n",
       "      <td>NaN</td>\n",
       "      <td>NaN</td>\n",
       "      <td>NaN</td>\n",
       "      <td>M</td>\n",
       "      <td>T</td>\n",
       "      <td>NaN</td>\n",
       "    </tr>\n",
       "    <tr>\n",
       "      <th>59741</th>\n",
       "      <td>FA59742</td>\n",
       "      <td>URBANA |1</td>\n",
       "      <td>YOPAL |1</td>\n",
       "      <td>Microfinanciero</td>\n",
       "      <td>2138560.0</td>\n",
       "      <td>Empleado |EM</td>\n",
       "      <td>Familiar |F</td>\n",
       "      <td>Nit |A</td>\n",
       "      <td>OPERADOR</td>\n",
       "      <td>Soltero</td>\n",
       "      <td>Masculino</td>\n",
       "      <td>1992-03-15</td>\n",
       "      <td>Universitaria</td>\n",
       "      <td>DESCONOCIDA</td>\n",
       "      <td>No |N</td>\n",
       "      <td>Si |Y</td>\n",
       "      <td>Empleado |1</td>\n",
       "      <td>ACTIVIDADES DE SINDICATOS DE EMPLEADOS |9420|S</td>\n",
       "      <td>S</td>\n",
       "      <td>M</td>\n",
       "      <td>U</td>\n",
       "      <td>D</td>\n",
       "    </tr>\n",
       "  </tbody>\n",
       "</table>\n",
       "</div>"
      ],
      "text/plain": [
       "       CLIENTE TIPO_UBICACION           SUCURSAL         TIPO_DE_CLIENTE  \\\n",
       "6543    FA6544      URBANA |1     VILLANUEVA |11         Microfinanciero   \n",
       "17829  FA17830      URBANA |1         AGUAZUL |4         Microfinanciero   \n",
       "18241  FA18242      URBANA |1           YOPAL |1         Microfinanciero   \n",
       "22688  FA22689      URBANA |1         GRANADA |6         Microfinanciero   \n",
       "23894  FA23895      URBANA |1           YOPAL |1  Empleado Req.Servicios   \n",
       "34384  FA34385      URBANA |1           YOPAL |1         Microfinanciero   \n",
       "35499  FA35500      URBANA |1           YOPAL |1         Microfinanciero   \n",
       "35892  FA35893       RURAL |2         AGUAZUL |4          Gestion social   \n",
       "37182  FA37183      URBANA |1           YOPAL |1         Microfinanciero   \n",
       "37311  FA37312      URBANA |1           YOPAL |1          Gestion social   \n",
       "38476  FA38477      URBANA |1  PAZ DE ARIPORO |8         Microfinanciero   \n",
       "41715  FA41716      URBANA |1           YOPAL |1         Microfinanciero   \n",
       "41856  FA41857      URBANA |1           YOPAL |1     Codeudor no cliente   \n",
       "42712  FA42713      URBANA |1           YOPAL |1         Microfinanciero   \n",
       "42897  FA42898      URBANA |1           YOPAL |1     Codeudor no cliente   \n",
       "42913  FA42914      URBANA |1           YOPAL |1         Microfinanciero   \n",
       "43561  FA43562      URBANA |1        SOGAMOSO |9         Microfinanciero   \n",
       "44076  FA44077      URBANA |1           YOPAL |1         Microfinanciero   \n",
       "44119  FA44120      URBANA |1         GRANADA |6         Microfinanciero   \n",
       "45165  FA45166      URBANA |1           YOPAL |1     Codeudor no cliente   \n",
       "45244  FA45245      URBANA |1         AGUAZUL |4         Microfinanciero   \n",
       "45452  FA45453      URBANA |1           YOPAL |1     Codeudor no cliente   \n",
       "45772  FA45773      URBANA |1        SOGAMOSO |9         Microfinanciero   \n",
       "46260  FA46261       RURAL |2           YOPAL |1         Microfinanciero   \n",
       "46964  FA46965      URBANA |1           YOPAL |1     Codeudor no cliente   \n",
       "47256  FA47257      URBANA |1           YOPAL |1     Codeudor no cliente   \n",
       "47376  FA47377      URBANA |1       MONTERREY |7         Microfinanciero   \n",
       "48355  FA48356      URBANA |1     VILLANUEVA |11         Microfinanciero   \n",
       "48842  FA48843      URBANA |1           YOPAL |1         Microfinanciero   \n",
       "49246  FA49247      URBANA |1         ACACIAS |3         Microfinanciero   \n",
       "50301  FA50302      URBANA |1           TAME |12         Microfinanciero   \n",
       "50441  FA50442      URBANA |1       MONTERREY |7         Microfinanciero   \n",
       "50607  FA50608      URBANA |1           YOPAL |1                   Mixto   \n",
       "51110  FA51111      URBANA |1           YOPAL |1         Microfinanciero   \n",
       "51242  FA51243      URBANA |1           YOPAL |1         Microfinanciero   \n",
       "51398  FA51399       RURAL |2           YOPAL |1         Microfinanciero   \n",
       "51493  FA51494      URBANA |1      TAURAMENA |10         Microfinanciero   \n",
       "52287  FA52288      URBANA |1           YOPAL |1         Microfinanciero   \n",
       "55177  FA55178      URBANA |1      TAURAMENA |10         Microfinanciero   \n",
       "55620  FA55621      URBANA |1           YOPAL |1     Codeudor no cliente   \n",
       "55645  FA55646      URBANA |1           YOPAL |1         Microfinanciero   \n",
       "55821  FA55822      URBANA |1           YOPAL |1         Microfinanciero   \n",
       "56512  FA56513      URBANA |1           YOPAL |1  Empleado Req.Servicios   \n",
       "56915  FA56916      URBANA |1           YOPAL |1         Microfinanciero   \n",
       "57447  FA57448      URBANA |1           YOPAL |1  Empleado Req.Servicios   \n",
       "57514  FA57515      URBANA |1         ACACIAS |3               Proveedor   \n",
       "57520  FA57521      URBANA |1           YOPAL |1               Proveedor   \n",
       "57830  FA57831      URBANA |1           YOPAL |1  Empleado Req.Servicios   \n",
       "58048  FA58049      URBANA |1           YOPAL |1     Codeudor no cliente   \n",
       "58097  FA58098      URBANA |1           YOPAL |1         Microfinanciero   \n",
       "58186  FA58187       RURAL |2           TAME |12               Proveedor   \n",
       "58497  FA58498      URBANA |1           YOPAL |1         Microfinanciero   \n",
       "58512  FA58513      URBANA |1        SOGAMOSO |9         Microfinanciero   \n",
       "58905  FA58906      URBANA |1           YOPAL |1  Empleado Req.Servicios   \n",
       "59422  FA59423      URBANA |1           YOPAL |1     Codeudor no cliente   \n",
       "59615  FA59616      URBANA |1           YOPAL |1     Codeudor no cliente   \n",
       "59741  FA59742      URBANA |1           YOPAL |1         Microfinanciero   \n",
       "\n",
       "       SUELDO_BASICO            ACTIVIDAD_ECONOMICA TIPO_VIVIENDA  \\\n",
       "6543             0.0                            NaN     Propia |P   \n",
       "17829            0.0     Negocio o Microempresa |NM     Propia |P   \n",
       "18241            0.0     Negocio o Microempresa |NM   Familiar |F   \n",
       "22688            0.0     Negocio o Microempresa |NM     Propia |P   \n",
       "23894            0.0  Profesional Independiente |PI     Propia |P   \n",
       "34384            0.0     Negocio o Microempresa |NM     Propia |P   \n",
       "35499            0.0     Negocio o Microempresa |NM     Propia |P   \n",
       "35892            0.0                Desconocida |NN     Propia |P   \n",
       "37182            NaN                            NaN           NaN   \n",
       "37311            0.0                      Hogar |HO     Propia |P   \n",
       "38476            0.0     Negocio o Microempresa |NM     Propia |P   \n",
       "41715            NaN                            NaN           NaN   \n",
       "41856            0.0     Negocio o Microempresa |NM           NaN   \n",
       "42712            NaN                            NaN           NaN   \n",
       "42897            0.0                   Empleado |EM           NaN   \n",
       "42913            NaN                            NaN           NaN   \n",
       "43561            NaN                            NaN           NaN   \n",
       "44076            NaN                            NaN           NaN   \n",
       "44119            NaN                            NaN           NaN   \n",
       "45165            0.0     Negocio o Microempresa |NM           NaN   \n",
       "45244            NaN                            NaN           NaN   \n",
       "45452            0.0                   Empleado |EM           NaN   \n",
       "45772            NaN                            NaN           NaN   \n",
       "46260            NaN                            NaN           NaN   \n",
       "46964            0.0     Negocio o Microempresa |NM           NaN   \n",
       "47256            0.0                Desconocida |NN           NaN   \n",
       "47376            NaN                            NaN           NaN   \n",
       "48355            0.0     Negocio o Microempresa |NM     Propia |P   \n",
       "48842            NaN                            NaN           NaN   \n",
       "49246            NaN                            NaN           NaN   \n",
       "50301            NaN                            NaN           NaN   \n",
       "50441            NaN                            NaN           NaN   \n",
       "50607            NaN                            NaN           NaN   \n",
       "51110            NaN                            NaN           NaN   \n",
       "51242            NaN                            NaN           NaN   \n",
       "51398            NaN                            NaN           NaN   \n",
       "51493            NaN                            NaN           NaN   \n",
       "52287            NaN                            NaN           NaN   \n",
       "55177            NaN                            NaN           NaN   \n",
       "55620            0.0     Negocio o Microempresa |NM           NaN   \n",
       "55645            NaN                            NaN           NaN   \n",
       "55821            NaN                            NaN           NaN   \n",
       "56512            0.0                            NaN           NaN   \n",
       "56915            NaN                            NaN           NaN   \n",
       "57447            0.0                            NaN           NaN   \n",
       "57514            NaN                            NaN           NaN   \n",
       "57520            NaN                            NaN           NaN   \n",
       "57830            0.0                            NaN           NaN   \n",
       "58048            0.0     Negocio o Microempresa |NM           NaN   \n",
       "58097            NaN                            NaN           NaN   \n",
       "58186            NaN                            NaN           NaN   \n",
       "58497            NaN                            NaN           NaN   \n",
       "58512      4600000.0                            NaN           NaN   \n",
       "58905            0.0                            NaN           NaN   \n",
       "59422            0.0     Negocio o Microempresa |NM     Propia |P   \n",
       "59615            0.0     Negocio o Microempresa |NM           NaN   \n",
       "59741      2138560.0                   Empleado |EM   Familiar |F   \n",
       "\n",
       "      TIPO_DE_IDENTIFICACION                          OFICIO ESTADO_CIVIL  \\\n",
       "6543                  Nit |A                             NaN  Union libre   \n",
       "17829                 Nit |A                       panaderia  Union libre   \n",
       "18241                 Nit |A                             NaN  Union libre   \n",
       "22688                 Nit |A         DANYCELL COMUNICACIONES  Union libre   \n",
       "23894                 Nit |A                      CONTADURIA      Soltero   \n",
       "34384                 Nit |A                           HOTEL   Divorciado   \n",
       "35499                 Nit |A              TELECOMUNICACIONES       Casado   \n",
       "35892                 Nit |A                    AGROPECUARIO  Union libre   \n",
       "37182                 Nit |A                             NaN          NaN   \n",
       "37311                 Nit |A                     COMERCIANTE  Union libre   \n",
       "38476                 Nit |A              VENTA DE MERCANCIA       Casado   \n",
       "41715                 Nit |A                             NaN          NaN   \n",
       "41856                 Nit |A                             NaN          NaN   \n",
       "42712                 Nit |A                             NaN          NaN   \n",
       "42897                 Nit |A                             NaN          NaN   \n",
       "42913                 Nit |A                             NaN          NaN   \n",
       "43561                 Nit |A                             NaN          NaN   \n",
       "44076                 Nit |A                             NaN          NaN   \n",
       "44119                 Nit |A                             NaN          NaN   \n",
       "45165                 Nit |A                             NaN          NaN   \n",
       "45244                 Nit |A                             NaN          NaN   \n",
       "45452                 Nit |A                             NaN          NaN   \n",
       "45772                 Nit |A                             NaN          NaN   \n",
       "46260                 Nit |A                             NaN          NaN   \n",
       "46964                 Nit |A                             NaN          NaN   \n",
       "47256                 Nit |A                             NaN          NaN   \n",
       "47376                 Nit |A                             NaN          NaN   \n",
       "48355                 Nit |A                        LICORERA       Casado   \n",
       "48842                 Nit |A                      CONTADURIA       Casado   \n",
       "49246                 Nit |A                             NaN          NaN   \n",
       "50301                 Nit |A                             NaN          NaN   \n",
       "50441                 Nit |A                             NaN          NaN   \n",
       "50607                 Nit |A                             NaN          NaN   \n",
       "51110                 Nit |A                             NaN          NaN   \n",
       "51242                 Nit |A                             NaN          NaN   \n",
       "51398                 Nit |A                             NaN          NaN   \n",
       "51493                 Nit |A                             NaN          NaN   \n",
       "52287                 Nit |A                             NaN          NaN   \n",
       "55177                 Nit |A                             NaN          NaN   \n",
       "55620                 Nit |A                             NaN          NaN   \n",
       "55645                 Nit |A                             NaN          NaN   \n",
       "55821                 Nit |A                             NaN          NaN   \n",
       "56512                 Nit |A                             NaN          NaN   \n",
       "56915                 Nit |A                             NaN          NaN   \n",
       "57447                 Nit |A                             NaN          NaN   \n",
       "57514                 Nit |A                             NaN          NaN   \n",
       "57520                 Nit |A                             NaN          NaN   \n",
       "57830                 Nit |A                             NaN          NaN   \n",
       "58048                 Nit |A                             NaN          NaN   \n",
       "58097                 Nit |A                             NaN          NaN   \n",
       "58186                 Nit |A                             NaN          NaN   \n",
       "58497                 Nit |A                             NaN          NaN   \n",
       "58512                 Nit |A  comercio y elaboracion insumos       Casado   \n",
       "58905                 Nit |A                             NaN          NaN   \n",
       "59422                 Nit |A            ALMACEN DE PLASTICOS  Union libre   \n",
       "59615                 Nit |A                             NaN          NaN   \n",
       "59741                 Nit |A                       OPERADOR       Soltero   \n",
       "\n",
       "          GENERO FECHA_NACIMIENTO NIVEL_ESTUDIOS                    PROFESION  \\\n",
       "6543    Femenino       1981-08-18     Secundaria                          NaN   \n",
       "17829   Femenino       1971-09-18     Secundaria                  DESCONOCIDA   \n",
       "18241   Femenino       1987-07-05     Secundaria                  DESCONOCIDA   \n",
       "22688   Femenino       1979-08-27        Tecnica                  DESCONOCIDA   \n",
       "23894  Masculino       1973-06-09  Universitaria                   CONTADURIA   \n",
       "34384   Femenino       1960-10-16     Secundaria                          NaN   \n",
       "35499  Masculino       1974-04-11        Tecnica                          NaN   \n",
       "35892  Masculino       1977-08-13  Universitaria                          NaN   \n",
       "37182  Masculino              NaT            NaN                          NaN   \n",
       "37311   Femenino       1978-02-21     Secundaria                          NaN   \n",
       "38476   Femenino       1981-09-25     Secundaria                          NaN   \n",
       "41715   Femenino              NaT            NaN                          NaN   \n",
       "41856  Masculino       1967-12-27     Secundaria                  DESCONOCIDA   \n",
       "42712   Femenino              NaT            NaN                          NaN   \n",
       "42897   Femenino       1989-11-11        Tecnica                   ENFERMERIA   \n",
       "42913   Femenino              NaT            NaN                          NaN   \n",
       "43561  Masculino              NaT            NaN                          NaN   \n",
       "44076  Masculino              NaT            NaN                          NaN   \n",
       "44119  Masculino              NaT            NaN                          NaN   \n",
       "45165  Masculino       1985-03-23       Primaria                    GANADERIA   \n",
       "45244   Femenino              NaT            NaN                          NaN   \n",
       "45452   Femenino       1981-11-04     Secundaria                     EMPLEADO   \n",
       "45772   Femenino              NaT            NaN                          NaN   \n",
       "46260   Femenino              NaT            NaN                          NaN   \n",
       "46964  Masculino              NaT            NaN                  DESCONOCIDA   \n",
       "47256  Masculino       1981-10-12       Primaria                  DESCONOCIDA   \n",
       "47376   Femenino              NaT            NaN                          NaN   \n",
       "48355  Masculino       1973-03-10     Secundaria            ADMON DE EMPRESAS   \n",
       "48842  Masculino              NaT  Universitaria                  DESCONOCIDA   \n",
       "49246   Femenino              NaT            NaN                          NaN   \n",
       "50301   Femenino              NaT            NaN                          NaN   \n",
       "50441   Femenino              NaT            NaN                          NaN   \n",
       "50607   Femenino              NaT            NaN                          NaN   \n",
       "51110  Masculino              NaT            NaN                          NaN   \n",
       "51242  Masculino              NaT            NaN                          NaN   \n",
       "51398   Femenino              NaT            NaN                          NaN   \n",
       "51493   Femenino              NaT            NaN                          NaN   \n",
       "52287  Masculino              NaT            NaN                          NaN   \n",
       "55177  Masculino              NaT            NaN                          NaN   \n",
       "55620  Masculino       1975-11-18     Secundaria               ADMON PERSONAL   \n",
       "55645   Femenino              NaT            NaN                          NaN   \n",
       "55821  Masculino              NaT            NaN                          NaN   \n",
       "56512  Masculino              NaT            NaN  ING. SISTEMAS / COMPUTACIÓN   \n",
       "56915   Femenino              NaT            NaN                          NaN   \n",
       "57447   Femenino              NaT            NaN                          NaN   \n",
       "57514  Masculino              NaT            NaN                          NaN   \n",
       "57520  Masculino              NaT            NaN                          NaN   \n",
       "57830   Femenino              NaT            NaN                          NaN   \n",
       "58048   Femenino       1995-03-21       Primaria                  AGRICULTURA   \n",
       "58097  Masculino              NaT            NaN                          NaN   \n",
       "58186  Masculino              NaT            NaN                          NaN   \n",
       "58497   Femenino              NaT            NaN                          NaN   \n",
       "58512  Masculino       1967-08-15     Secundaria                  DESCONOCIDA   \n",
       "58905   Femenino              NaT            NaN                          NaN   \n",
       "59422  Masculino       1988-01-13     Secundaria            ADMON DE EMPRESAS   \n",
       "59615  Masculino       1992-03-13        Tecnica                          NaN   \n",
       "59741  Masculino       1992-03-15  Universitaria                  DESCONOCIDA   \n",
       "\n",
       "      MUJER_CABEZA RESPONSABLE_DE_HOGAR         OCUPACION  \\\n",
       "6543         No |N                  NaN               NaN   \n",
       "17829        No |N                No |N  Independiente |2   \n",
       "18241        No |N                No |N  Independiente |2   \n",
       "22688        No |N                No |N  Independiente |2   \n",
       "23894        No |N                No |N  Independiente |2   \n",
       "34384        No |N                  NaN  Independiente |2   \n",
       "35499        No |N                  NaN  Independiente |2   \n",
       "35892        No |N                  NaN      No Aplica |0   \n",
       "37182        No |N                  NaN               NaN   \n",
       "37311        No |N                  NaN          Hogar |5   \n",
       "38476        No |N                  NaN  Independiente |2   \n",
       "41715        No |N                  NaN               NaN   \n",
       "41856        No |N                  NaN  Independiente |2   \n",
       "42712        No |N                  NaN               NaN   \n",
       "42897        No |N                  NaN       Empleado |1   \n",
       "42913        No |N                  NaN               NaN   \n",
       "43561        No |N                  NaN               NaN   \n",
       "44076        No |N                  NaN               NaN   \n",
       "44119        No |N                  NaN               NaN   \n",
       "45165        No |N                  NaN  Independiente |2   \n",
       "45244        No |N                  NaN               NaN   \n",
       "45452        No |N                  NaN       Empleado |1   \n",
       "45772        No |N                  NaN               NaN   \n",
       "46260        No |N                  NaN               NaN   \n",
       "46964        No |N                No |N  Independiente |2   \n",
       "47256        No |N                  NaN               NaN   \n",
       "47376        No |N                  NaN               NaN   \n",
       "48355        No |N                Si |Y  Independiente |2   \n",
       "48842        No |N                No |N               NaN   \n",
       "49246        No |N                  NaN               NaN   \n",
       "50301        No |N                  NaN               NaN   \n",
       "50441        No |N                  NaN               NaN   \n",
       "50607        No |N                  NaN               NaN   \n",
       "51110        No |N                  NaN               NaN   \n",
       "51242        No |N                  NaN               NaN   \n",
       "51398        No |N                  NaN               NaN   \n",
       "51493        No |N                  NaN               NaN   \n",
       "52287        No |N                  NaN               NaN   \n",
       "55177        No |N                  NaN               NaN   \n",
       "55620        No |N                  NaN               NaN   \n",
       "55645        No |N                  NaN               NaN   \n",
       "55821        No |N                  NaN               NaN   \n",
       "56512        No |N                  NaN               NaN   \n",
       "56915        No |N                  NaN               NaN   \n",
       "57447        No |N                  NaN               NaN   \n",
       "57514        No |N                  NaN               NaN   \n",
       "57520        No |N                  NaN               NaN   \n",
       "57830        No |N                  NaN               NaN   \n",
       "58048        No |N                  NaN               NaN   \n",
       "58097        No |N                  NaN               NaN   \n",
       "58186        No |N                  NaN               NaN   \n",
       "58497        No |N                  NaN               NaN   \n",
       "58512        No |N                Si |Y               NaN   \n",
       "58905        No |N                  NaN               NaN   \n",
       "59422        No |N                  NaN  Independiente |2   \n",
       "59615        No |N                  NaN               NaN   \n",
       "59741        No |N                Si |Y       Empleado |1   \n",
       "\n",
       "                                 ACTIVIDAD_CIIU_PRIMARIA ESTADO_CIVIL_COD  \\\n",
       "6543                                                 NaN                U   \n",
       "17829                                                NaN                U   \n",
       "18241   EXPENDIO A LA MESA DE COMIDAS PREPARADAS |5611|I                U   \n",
       "22688                                                NaN                U   \n",
       "23894  INVESTIGACIONES Y DESARROLLO EXPERIMENTAL EN E...                S   \n",
       "34384  ACTIVIDADES INMOBILIARIAS REALIZADAS A CAMBIO ...                D   \n",
       "35499  MANTENIMIENTO Y REPARACIÓN DE EQUIPOS DE COMUN...                C   \n",
       "35892  INVESTIGACIONES Y DESARROLLO EXPERIMENTAL EN E...                U   \n",
       "37182  MANTENIMIENTO Y REPARACIÓN DE APARATOS ELECTRÓ...              NaN   \n",
       "37311  INVESTIGACIONES Y DESARROLLO EXPERIMENTAL EN E...                U   \n",
       "38476  COMERCIO AL POR MAYOR DE OTROS PRODUCTOS N.C.P...                C   \n",
       "41715                                                NaN              NaN   \n",
       "41856                                                NaN              NaN   \n",
       "42712                                                NaN              NaN   \n",
       "42897                                                NaN              NaN   \n",
       "42913                                 PUBLICIDAD |7310|M              NaN   \n",
       "43561  ACTIVIDADES DE ESPECTÁCULOS MUSICALES EN VIVO ...              NaN   \n",
       "44076                                                NaN              NaN   \n",
       "44119                                                NaN              NaN   \n",
       "45165                                                NaN              NaN   \n",
       "45244                                                NaN              NaN   \n",
       "45452  COMERCIO AL POR MENOR DE PRENDAS DE VESTIR Y S...              NaN   \n",
       "45772                                                NaN              NaN   \n",
       "46260  INVESTIGACIONES Y DESARROLLO EXPERIMENTAL EN E...              NaN   \n",
       "46964  COMERCIO AL POR MENOR EN ESTABLECIMIENTOS NO E...              NaN   \n",
       "47256                                                NaN              NaN   \n",
       "47376                                                NaN              NaN   \n",
       "48355                                                NaN                C   \n",
       "48842  INVESTIGACIONES Y DESARROLLO EXPERIMENTAL EN E...                C   \n",
       "49246                                                NaN              NaN   \n",
       "50301                                                NaN              NaN   \n",
       "50441                                                NaN              NaN   \n",
       "50607  COMERCIO AL POR MENOR DE LIBROS PERIÓDICOS MAT...              NaN   \n",
       "51110      ACTIVIDADES DE CONSULTARÍA DE GESTIÓN |7020|M              NaN   \n",
       "51242                                                NaN              NaN   \n",
       "51398                                                NaN              NaN   \n",
       "51493                                                NaN              NaN   \n",
       "52287                                                NaN              NaN   \n",
       "55177  COMERCIO AL POR MENOR DE ARTÍCULOS DE FERRETER...              NaN   \n",
       "55620                                                NaN              NaN   \n",
       "55645                                                NaN              NaN   \n",
       "55821                                                NaN              NaN   \n",
       "56512                                                NaN              NaN   \n",
       "56915                                                NaN              NaN   \n",
       "57447  INVESTIGACIONES Y DESARROLLO EXPERIMENTAL EN E...              NaN   \n",
       "57514                                 PUBLICIDAD |7310|M              NaN   \n",
       "57520  OTRAS ACTIVIDADES PROFESIONALES CIENTÍFICAS Y ...              NaN   \n",
       "57830  INVESTIGACIONES Y DESARROLLO EXPERIMENTAL EN E...              NaN   \n",
       "58048                                                NaN              NaN   \n",
       "58097                                                NaN              NaN   \n",
       "58186          TRANSPORTE DE CARGA POR CARRETERA |4923|H              NaN   \n",
       "58497                                                NaN              NaN   \n",
       "58512                                                NaN                C   \n",
       "58905  INVESTIGACIONES Y DESARROLLO EXPERIMENTAL EN E...              NaN   \n",
       "59422  COMERCIO AL POR MENOR EN ESTABLECIMIENTOS NO E...                U   \n",
       "59615                                                NaN              NaN   \n",
       "59741     ACTIVIDADES DE SINDICATOS DE EMPLEADOS |9420|S                S   \n",
       "\n",
       "      GENERO_COD NIVEL_ESTUDIOS_COD PROFESION_COD  \n",
       "6543           F                  S           NaN  \n",
       "17829          F                  S             D  \n",
       "18241          F                  S             D  \n",
       "22688          F                  T             D  \n",
       "23894          M                  U           134  \n",
       "34384          F                  S           NaN  \n",
       "35499          M                  T           NaN  \n",
       "35892          M                  U           NaN  \n",
       "37182          M                NaN           NaN  \n",
       "37311          F                  S           NaN  \n",
       "38476          F                  S           NaN  \n",
       "41715          F                NaN           NaN  \n",
       "41856          M                  S             D  \n",
       "42712          F                NaN           NaN  \n",
       "42897          F                  T           142  \n",
       "42913          F                NaN           NaN  \n",
       "43561          M                NaN           NaN  \n",
       "44076          M                NaN           NaN  \n",
       "44119          M                NaN           NaN  \n",
       "45165          M                  P           205  \n",
       "45244          F                NaN           NaN  \n",
       "45452          F                  S           206  \n",
       "45772          F                NaN           NaN  \n",
       "46260          F                NaN           NaN  \n",
       "46964          M                NaN             D  \n",
       "47256          M                  P             D  \n",
       "47376          F                NaN           NaN  \n",
       "48355          M                  S           106  \n",
       "48842          M                  U             D  \n",
       "49246          F                NaN           NaN  \n",
       "50301          F                NaN           NaN  \n",
       "50441          F                NaN           NaN  \n",
       "50607          F                NaN           NaN  \n",
       "51110          M                NaN           NaN  \n",
       "51242          M                NaN           NaN  \n",
       "51398          F                NaN           NaN  \n",
       "51493          F                NaN           NaN  \n",
       "52287          M                NaN           NaN  \n",
       "55177          M                NaN           NaN  \n",
       "55620          M                  S           113  \n",
       "55645          F                NaN           NaN  \n",
       "55821          M                NaN           NaN  \n",
       "56512          M                NaN           159  \n",
       "56915          F                NaN           NaN  \n",
       "57447          F                NaN           NaN  \n",
       "57514          M                NaN           NaN  \n",
       "57520          M                NaN           NaN  \n",
       "57830          F                NaN           NaN  \n",
       "58048          F                  P           204  \n",
       "58097          M                NaN           NaN  \n",
       "58186          M                NaN           NaN  \n",
       "58497          F                NaN           NaN  \n",
       "58512          M                  S             D  \n",
       "58905          F                NaN           NaN  \n",
       "59422          M                  S           106  \n",
       "59615          M                  T           NaN  \n",
       "59741          M                  U             D  "
      ]
     },
     "execution_count": 39,
     "metadata": {},
     "output_type": "execute_result"
    }
   ],
   "source": [
    "df[ind].drop(columns=project_columns.CONTACTO_DISCARDED_COLUMNS)"
   ]
  },
  {
   "cell_type": "markdown",
   "metadata": {},
   "source": [
    "### TIPO_UBICACION"
   ]
  },
  {
   "cell_type": "code",
   "execution_count": 40,
   "metadata": {},
   "outputs": [
    {
     "data": {
      "text/plain": [
       "URBANA |1    41663\n",
       "RURAL |2     18380\n",
       "Name: TIPO_UBICACION, dtype: int64"
      ]
     },
     "execution_count": 40,
     "metadata": {},
     "output_type": "execute_result"
    }
   ],
   "source": [
    "df['TIPO_UBICACION'].value_counts(dropna=False)"
   ]
  },
  {
   "cell_type": "code",
   "execution_count": 41,
   "metadata": {},
   "outputs": [],
   "source": [
    "# All records match format \"NOMENCLATURE |CODE\"\n",
    "assert df['TIPO_UBICACION'].str.match(r'.*\\s\\|\\w', ).all(), \"Not all records match expected pattern\""
   ]
  },
  {
   "cell_type": "code",
   "execution_count": 42,
   "metadata": {},
   "outputs": [
    {
     "data": {
      "text/plain": [
       "TIPO_UBICACION_COD  TIPO_UBICACION\n",
       "1                   URBANA            41663\n",
       "2                   RURAL             18380\n",
       "dtype: int64"
      ]
     },
     "execution_count": 42,
     "metadata": {},
     "output_type": "execute_result"
    }
   ],
   "source": [
    "df['TIPO_UBICACION_COD'] = (\n",
    "    df['TIPO_UBICACION']\n",
    "    .str.replace(r'.*\\s\\|', '', regex=True)\n",
    "    .astype('category')\n",
    ")\n",
    "df['TIPO_UBICACION'] = (\n",
    "    df['TIPO_UBICACION']\n",
    "    .str.replace(r'\\s\\|.*', '', regex=True)\n",
    "    .astype('category')\n",
    ")\n",
    "\n",
    "df[['TIPO_UBICACION_COD', 'TIPO_UBICACION']].value_counts(dropna=False)\n"
   ]
  },
  {
   "cell_type": "markdown",
   "metadata": {},
   "source": [
    "### TIPO_DE_VIVIENDA"
   ]
  },
  {
   "cell_type": "code",
   "execution_count": 43,
   "metadata": {},
   "outputs": [
    {
     "data": {
      "text/plain": [
       "Propia |P                   22942\n",
       "NaN                         13729\n",
       "Otra |O                      9356\n",
       "Familiar |F                  8487\n",
       "Arriendo |A                  5515\n",
       "Inmueble con Hipoteca |H       14\n",
       "Name: TIPO_VIVIENDA, dtype: int64"
      ]
     },
     "execution_count": 43,
     "metadata": {},
     "output_type": "execute_result"
    }
   ],
   "source": [
    "df['TIPO_VIVIENDA'].value_counts(dropna=False)"
   ]
  },
  {
   "cell_type": "code",
   "execution_count": 44,
   "metadata": {},
   "outputs": [],
   "source": [
    "# All records match format \"NOMENCLATURE |CODE\"\n",
    "assert df['TIPO_VIVIENDA'].str.match(r'.*\\s\\|\\w', ).all(), \"Not all records match expected pattern\""
   ]
  },
  {
   "cell_type": "code",
   "execution_count": 45,
   "metadata": {},
   "outputs": [
    {
     "data": {
      "text/plain": [
       "TIPO_VIVIENDA_COD  TIPO_VIVIENDA\n",
       "P                  PROPIA           22942\n",
       "O                  OTRA              9356\n",
       "F                  FAMILIAR          8487\n",
       "A                  ARRIENDO          5515\n",
       "H                  HIPOTECA            14\n",
       "dtype: int64"
      ]
     },
     "execution_count": 45,
     "metadata": {},
     "output_type": "execute_result"
    }
   ],
   "source": [
    "df['TIPO_VIVIENDA_COD'] = (\n",
    "    df['TIPO_VIVIENDA']\n",
    "    .str.replace(r'.*\\s\\|', '', regex=True)\n",
    "    .astype('category')\n",
    ")\n",
    "df['TIPO_VIVIENDA'] = cleaning.clean_tipo_vivienda(\n",
    "    df['TIPO_VIVIENDA'].str.replace(r'\\s\\|.*', '', regex=True)\n",
    ")\n",
    "\n",
    "df[['TIPO_VIVIENDA_COD', 'TIPO_VIVIENDA']].value_counts(dropna=False)\n"
   ]
  },
  {
   "cell_type": "markdown",
   "metadata": {},
   "source": [
    "## Discarded columns\n",
    "\n",
    "The criteria to discard columns is:\n",
    "- More than 90% of values are NaN.\n",
    "- Columns describe a single behavior and/or characteristics.\n",
    "- Content is not meaningful nor useful for analysis such as communication-related columns."
   ]
  },
  {
   "cell_type": "markdown",
   "metadata": {},
   "source": [
    "The following are columns which more than 90% of values are NaN:"
   ]
  },
  {
   "cell_type": "code",
   "execution_count": 46,
   "metadata": {},
   "outputs": [
    {
     "data": {
      "text/plain": [
       "array(['BANCO_MONEDA_EXTRANJERA', 'CIUDAD_EMPRESA',\n",
       "       'CUENTA_MONEDA_EXTRANJERA',\n",
       "       'DESCRIPCION_DE_LAS_OPERACIONES_EN_MONEDA_EXTRANJERA',\n",
       "       'DESCRIPCION_OTROS_INGRESOS', 'DIRECCION_EMPRESA',\n",
       "       'EGRESOS_MENSUALES', 'ENTIDAD_FINANCIERA', 'FAX', 'FAX_EMPRESA',\n",
       "       'INGRESO_MENSUAL', 'MONEDA',\n",
       "       'NOMBRE_DEL_CARGO_QUE_DESEMPENA_EN_LA_EMPRESA', 'OTROS_INGRESOS',\n",
       "       'PAIS_MONEDA_EXTRANJERA', 'TELEFONO_EMPRESA', 'TIPO_DE_CONTRATO',\n",
       "       'VALOR_OTROS_DESCUENTOS_DE_NOMINA', 'VENCIMIENTO_DEL_CONTRATO'],\n",
       "      dtype=object)"
      ]
     },
     "execution_count": 46,
     "metadata": {},
     "output_type": "execute_result"
    }
   ],
   "source": [
    "limit = round(df.shape[0] * 0.9)\n",
    "ind_count_na = (df.isna().sum() > limit)\n",
    "\n",
    "df.columns[ind_count_na].sort_values().values"
   ]
  },
  {
   "cell_type": "code",
   "execution_count": 47,
   "metadata": {},
   "outputs": [
    {
     "data": {
      "text/plain": [
       "True"
      ]
     },
     "execution_count": 47,
     "metadata": {},
     "output_type": "execute_result"
    }
   ],
   "source": [
    "(df.columns[ind_count_na].isin(project_columns.CONTACTO_DISCARDED_COLUMNS)).all()"
   ]
  },
  {
   "cell_type": "markdown",
   "metadata": {},
   "source": [
    "### DECLARA_RENTA"
   ]
  },
  {
   "cell_type": "code",
   "execution_count": 48,
   "metadata": {},
   "outputs": [
    {
     "data": {
      "text/plain": [
       "No |N    59970\n",
       "NaN         67\n",
       "Si |Y        6\n",
       "Name: DECLARA_RENTA, dtype: int64"
      ]
     },
     "execution_count": 48,
     "metadata": {},
     "output_type": "execute_result"
    }
   ],
   "source": [
    "df['DECLARA_RENTA'].value_counts(dropna=False)"
   ]
  },
  {
   "cell_type": "markdown",
   "metadata": {},
   "source": [
    "### EMPRESA_DONDE_TRABAJA"
   ]
  },
  {
   "cell_type": "code",
   "execution_count": 49,
   "metadata": {},
   "outputs": [
    {
     "data": {
      "text/plain": [
       "NaN                   36521\n",
       "GANADERIA               164\n",
       "ARRENDAMIENTOS           90\n",
       "ARRIENDOS                77\n",
       "VENTA POR CATALOGO       61\n",
       "Name: EMPRESA_DONDE_TRABAJA, dtype: int64"
      ]
     },
     "execution_count": 49,
     "metadata": {},
     "output_type": "execute_result"
    }
   ],
   "source": [
    "df['EMPRESA_DONDE_TRABAJA'].value_counts(dropna=False).head()"
   ]
  },
  {
   "cell_type": "markdown",
   "metadata": {},
   "source": [
    "### EGRESOS_MENSUALES\n",
    "\n",
    "EGRESOS_MENSUALES might be useful but it is discarded as most values are NaN:"
   ]
  },
  {
   "cell_type": "code",
   "execution_count": 50,
   "metadata": {},
   "outputs": [
    {
     "data": {
      "text/plain": [
       "NaN          58946\n",
       "500000.0        23\n",
       "350000.0        19\n",
       "400000.0        16\n",
       "0.0             14\n",
       "             ...  \n",
       "1397000.0        1\n",
       "3499000.0        1\n",
       "2193000.0        1\n",
       "2293000.0        1\n",
       "2294000.0        1\n",
       "Name: EGRESOS_MENSUALES, Length: 839, dtype: int64"
      ]
     },
     "execution_count": 50,
     "metadata": {},
     "output_type": "execute_result"
    }
   ],
   "source": [
    "df['EGRESOS_MENSUALES'].value_counts(dropna=False)"
   ]
  },
  {
   "cell_type": "markdown",
   "metadata": {},
   "source": [
    "### INGRESO_MENSUAL\n",
    "\n",
    "INGRESO_MENSUAL might be useful but it is discarded as most values are NaN:"
   ]
  },
  {
   "cell_type": "code",
   "execution_count": 51,
   "metadata": {},
   "outputs": [
    {
     "data": {
      "text/plain": [
       "NaN           58950\n",
       "2000000.0        45\n",
       "3000000.0        44\n",
       "1500000.0        37\n",
       "1200000.0        36\n",
       "              ...  \n",
       "1890000.0         1\n",
       "3333500.0         1\n",
       "15950000.0        1\n",
       "10150000.0        1\n",
       "4320000.0         1\n",
       "Name: INGRESO_MENSUAL, Length: 449, dtype: int64"
      ]
     },
     "execution_count": 51,
     "metadata": {},
     "output_type": "execute_result"
    }
   ],
   "source": [
    "df['INGRESO_MENSUAL'].value_counts(dropna=False)"
   ]
  },
  {
   "cell_type": "markdown",
   "metadata": {},
   "source": [
    "### NATURALEZA"
   ]
  },
  {
   "cell_type": "code",
   "execution_count": 52,
   "metadata": {},
   "outputs": [
    {
     "data": {
      "text/plain": [
       "Natural |N    60043\n",
       "Name: NATURALEZA, dtype: int64"
      ]
     },
     "execution_count": 52,
     "metadata": {},
     "output_type": "execute_result"
    }
   ],
   "source": [
    "df['NATURALEZA'].value_counts(dropna=False)"
   ]
  },
  {
   "cell_type": "markdown",
   "metadata": {},
   "source": [
    "### NOMBRE_DEL_CARGO_QUE_DESEMPENA_EN_LA_EMPRESA"
   ]
  },
  {
   "cell_type": "code",
   "execution_count": 53,
   "metadata": {},
   "outputs": [
    {
     "data": {
      "text/plain": [
       "NaN                58663\n",
       "Default             1305\n",
       "MICROEMPRESARIO       57\n",
       "UNICO                 18\n",
       "Name: NOMBRE_DEL_CARGO_QUE_DESEMPENA_EN_LA_EMPRESA, dtype: int64"
      ]
     },
     "execution_count": 53,
     "metadata": {},
     "output_type": "execute_result"
    }
   ],
   "source": [
    "df['NOMBRE_DEL_CARGO_QUE_DESEMPENA_EN_LA_EMPRESA'].value_counts(dropna=False)"
   ]
  },
  {
   "cell_type": "markdown",
   "metadata": {},
   "source": [
    "### POBLACION_VULNERABLE"
   ]
  },
  {
   "cell_type": "code",
   "execution_count": 54,
   "metadata": {},
   "outputs": [
    {
     "data": {
      "text/plain": [
       "No Aplica |NA                             31505\n",
       "NaN                                       28330\n",
       "Madre cabeza de Familia |MC                 126\n",
       "Joven |JO                                    56\n",
       "Desplazado |DE                                9\n",
       "Reinsertado |RE                               7\n",
       "Discapacitado |DI                             5\n",
       "Palenqueros |PA                               2\n",
       "Comunidad Indígena |IN                        2\n",
       "Afrodescendientes negros o mulatos |AF        1\n",
       "Name: POBLACION_VULNERABLE, dtype: int64"
      ]
     },
     "execution_count": 54,
     "metadata": {},
     "output_type": "execute_result"
    }
   ],
   "source": [
    "df['POBLACION_VULNERABLE'].value_counts(dropna=False)"
   ]
  },
  {
   "cell_type": "markdown",
   "metadata": {},
   "source": [
    "### REGIMEN_DE_IMPUESTOS"
   ]
  },
  {
   "cell_type": "code",
   "execution_count": 55,
   "metadata": {},
   "outputs": [
    {
     "data": {
      "text/plain": [
       "Régimen Simplificado |S    60002\n",
       "Régimen comun |C              41\n",
       "Name: REGIMEN_DE_IMPUESTOS, dtype: int64"
      ]
     },
     "execution_count": 55,
     "metadata": {},
     "output_type": "execute_result"
    }
   ],
   "source": [
    "df['REGIMEN_DE_IMPUESTOS'].value_counts(dropna=False)"
   ]
  },
  {
   "cell_type": "markdown",
   "metadata": {},
   "source": [
    "### REGIMEN_DE_IVA"
   ]
  },
  {
   "cell_type": "code",
   "execution_count": 56,
   "metadata": {},
   "outputs": [
    {
     "data": {
      "text/plain": [
       "Régimen Simplificado |S    60004\n",
       "Régimen Común |C              39\n",
       "Name: REGIMEN_DE_IVA, dtype: int64"
      ]
     },
     "execution_count": 56,
     "metadata": {},
     "output_type": "execute_result"
    }
   ],
   "source": [
    "df['REGIMEN_DE_IVA'].value_counts(dropna=False)"
   ]
  },
  {
   "cell_type": "markdown",
   "metadata": {},
   "source": [
    "### REGIMEN_DE_RENTA"
   ]
  },
  {
   "cell_type": "code",
   "execution_count": 57,
   "metadata": {},
   "outputs": [
    {
     "data": {
      "text/plain": [
       "Contribuyente |T       60040\n",
       "Empleados |E               2\n",
       "No Contribuyente |N        1\n",
       "Name: REGIMEN_DE_RENTA, dtype: int64"
      ]
     },
     "execution_count": 57,
     "metadata": {},
     "output_type": "execute_result"
    }
   ],
   "source": [
    "df['REGIMEN_DE_RENTA'].value_counts(dropna=False)"
   ]
  },
  {
   "cell_type": "markdown",
   "metadata": {},
   "source": [
    "### REALIZA_OPERACIONES_EN_MONEDA_EXTRANJERA\n",
    "\n",
    "REALIZA_OPERACIONES_EN_MONEDA_EXTRANJERA is irrelevant as all values are \"No |N\" but single one:"
   ]
  },
  {
   "cell_type": "code",
   "execution_count": 58,
   "metadata": {},
   "outputs": [
    {
     "data": {
      "text/plain": [
       "No |N    59975\n",
       "NaN         67\n",
       "Si |Y        1\n",
       "Name: REALIZA_OPERACIONES_EN_MONEDA_EXTRANJERA, dtype: int64"
      ]
     },
     "execution_count": 58,
     "metadata": {},
     "output_type": "execute_result"
    }
   ],
   "source": [
    "df['REALIZA_OPERACIONES_EN_MONEDA_EXTRANJERA'].value_counts(dropna=False)"
   ]
  },
  {
   "cell_type": "markdown",
   "metadata": {},
   "source": [
    "### TIPO_DE_CONTRATO\n",
    "\n",
    "TIPO_DE_CONTRATO might be useful but it is discarded as most values are NaN:"
   ]
  },
  {
   "cell_type": "code",
   "execution_count": 59,
   "metadata": {},
   "outputs": [
    {
     "data": {
      "text/plain": [
       "NaN                                 58280\n",
       "Término Indefinido |TI               1325\n",
       "Término Fijo |TF                      138\n",
       "Otras Formas de Contratación |OC      125\n",
       "Culminación de Obra |CO               103\n",
       "Prestación de Servicios |PS            58\n",
       "Planta Temporal |PT                     4\n",
       "Libre Nombramiento |LN                  4\n",
       "Carrera Administrativa |CA              4\n",
       "Provisionalidad |PR                     2\n",
       "Name: TIPO_DE_CONTRATO, dtype: int64"
      ]
     },
     "execution_count": 59,
     "metadata": {},
     "output_type": "execute_result"
    }
   ],
   "source": [
    "df['TIPO_DE_CONTRATO'].value_counts(dropna=False)"
   ]
  },
  {
   "cell_type": "markdown",
   "metadata": {},
   "source": [
    "### TIPO_DE_CONTRIBUYENTE"
   ]
  },
  {
   "cell_type": "code",
   "execution_count": 60,
   "metadata": {},
   "outputs": [
    {
     "data": {
      "text/plain": [
       "Ordinario |D    60043\n",
       "Name: TIPO_DE_CONTRIBUYENTE, dtype: int64"
      ]
     },
     "execution_count": 60,
     "metadata": {},
     "output_type": "execute_result"
    }
   ],
   "source": [
    "df['TIPO_DE_CONTRIBUYENTE'].value_counts(dropna=False)"
   ]
  },
  {
   "cell_type": "markdown",
   "metadata": {},
   "source": [
    "### UBICACION_2"
   ]
  },
  {
   "cell_type": "markdown",
   "metadata": {},
   "source": [
    "UBICACION_2 is discarded considering all location-related columns are not being considered."
   ]
  },
  {
   "cell_type": "code",
   "execution_count": 61,
   "metadata": {},
   "outputs": [
    {
     "data": {
      "text/plain": [
       "YOPAL |10             9135\n",
       "VILLAVICENCIO |10     7754\n",
       "SIN UBICACION |0      6521\n",
       "ACACIAS |10           3401\n",
       "PAZ DE ARIPORO |13    3241\n",
       "                      ... \n",
       "TUTAZA |18               2\n",
       "MESETAS |24              1\n",
       "CHIQUIZA |19             1\n",
       "CUCAITA |22              1\n",
       "TUTA |16                 1\n",
       "Name: UBICACION_2, Length: 80, dtype: int64"
      ]
     },
     "execution_count": 61,
     "metadata": {},
     "output_type": "execute_result"
    }
   ],
   "source": [
    "df['UBICACION_2'].value_counts(dropna=False)"
   ]
  },
  {
   "cell_type": "markdown",
   "id": "bc776967",
   "metadata": {},
   "source": [
    "## Schema of columns for clean data"
   ]
  },
  {
   "cell_type": "code",
   "execution_count": 62,
   "id": "92b8e33a",
   "metadata": {},
   "outputs": [
    {
     "name": "stdout",
     "output_type": "stream",
     "text": [
      "<class 'pandas.core.frame.DataFrame'>\n",
      "RangeIndex: 60043 entries, 0 to 60042\n",
      "Data columns (total 24 columns):\n",
      " #   Column                   Non-Null Count  Dtype         \n",
      "---  ------                   --------------  -----         \n",
      " 0   ACTIVIDAD_CIIU_PRIMARIA  25602 non-null  object        \n",
      " 1   ACTIVIDAD_ECONOMICA      52094 non-null  object        \n",
      " 2   CLIENTE                  60043 non-null  object        \n",
      " 3   ESTADO_CIVIL             47220 non-null  category      \n",
      " 4   ESTADO_CIVIL_COD         47220 non-null  category      \n",
      " 5   FECHA_NACIMIENTO         53253 non-null  datetime64[ns]\n",
      " 6   GENERO                   60006 non-null  category      \n",
      " 7   GENERO_COD               60006 non-null  category      \n",
      " 8   MUJER_CABEZA             60043 non-null  category      \n",
      " 9   NIVEL_ESTUDIOS           52873 non-null  category      \n",
      " 10  NIVEL_ESTUDIOS_COD       52873 non-null  category      \n",
      " 11  OCUPACION                48532 non-null  object        \n",
      " 12  OFICIO                   40710 non-null  object        \n",
      " 13  PROFESION                26355 non-null  category      \n",
      " 14  PROFESION_COD            26355 non-null  category      \n",
      " 15  RESPONSABLE_DE_HOGAR     33503 non-null  category      \n",
      " 16  SUCURSAL                 60040 non-null  object        \n",
      " 17  SUELDO_BASICO            52890 non-null  float64       \n",
      " 18  TIPO_DE_CLIENTE          60043 non-null  category      \n",
      " 19  TIPO_DE_IDENTIFICACION   60043 non-null  object        \n",
      " 20  TIPO_UBICACION           60043 non-null  category      \n",
      " 21  TIPO_UBICACION_COD       60043 non-null  category      \n",
      " 22  TIPO_VIVIENDA            46314 non-null  category      \n",
      " 23  TIPO_VIVIENDA_COD        46314 non-null  category      \n",
      "dtypes: category(15), datetime64[ns](1), float64(1), object(7)\n",
      "memory usage: 5.0+ MB\n"
     ]
    }
   ],
   "source": [
    "df = df.drop(columns=project_columns.CONTACTO_DISCARDED_COLUMNS)\n",
    "\n",
    "df[df.columns.sort_values()].info()"
   ]
  },
  {
   "cell_type": "markdown",
   "id": "bc776967",
   "metadata": {},
   "source": [
    "## Validating cleaning code"
   ]
  },
  {
   "cell_type": "code",
   "execution_count": 63,
   "id": "92b8e33a",
   "metadata": {},
   "outputs": [],
   "source": [
    "df2 = datasets.read_contacto(dir_path=RAW_DATA_PATH, clean=True)"
   ]
  },
  {
   "cell_type": "code",
   "execution_count": 64,
   "metadata": {},
   "outputs": [],
   "source": [
    "sorted_cols = df.columns.sort_values()\n",
    "\n",
    "assert sorted_cols.equals(df2.columns.sort_values()), \"Columns do not match\""
   ]
  },
  {
   "cell_type": "code",
   "execution_count": 65,
   "metadata": {},
   "outputs": [],
   "source": [
    "assert df[sorted_cols].equals(df2[sorted_cols]), \"Dataframes are different\""
   ]
  },
  {
   "cell_type": "markdown",
   "metadata": {},
   "source": [
    "Differences in shapes (if any):"
   ]
  },
  {
   "cell_type": "code",
   "execution_count": 66,
   "metadata": {},
   "outputs": [
    {
     "data": {
      "text/plain": [
       "((60043, 24), (60043, 24))"
      ]
     },
     "execution_count": 66,
     "metadata": {},
     "output_type": "execute_result"
    }
   ],
   "source": [
    "df.shape, df2.shape"
   ]
  },
  {
   "cell_type": "code",
   "execution_count": 67,
   "metadata": {},
   "outputs": [
    {
     "data": {
      "text/plain": [
       "Index([], dtype='object')"
      ]
     },
     "execution_count": 67,
     "metadata": {},
     "output_type": "execute_result"
    }
   ],
   "source": [
    "ind = pd.Series([df[col].equals(df2[col]) for col in df.columns])\n",
    "\n",
    "df.columns[~ind]"
   ]
  }
 ],
 "metadata": {
  "interpreter": {
   "hash": "e62fc67dd637b4c7ff00db15fa2b1157ee656ecdddc53845561c284caf069ea7"
  },
  "kernelspec": {
   "display_name": "Python 3.8.13 ('ds4a')",
   "language": "python",
   "name": "python3"
  },
  "language_info": {
   "codemirror_mode": {
    "name": "ipython",
    "version": 3
   },
   "file_extension": ".py",
   "mimetype": "text/x-python",
   "name": "python",
   "nbconvert_exporter": "python",
   "pygments_lexer": "ipython3",
   "version": "3.8.13"
  }
 },
 "nbformat": 4,
 "nbformat_minor": 4
}
