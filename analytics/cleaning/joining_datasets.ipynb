{
 "cells": [
  {
   "cell_type": "code",
   "execution_count": 1,
   "metadata": {},
   "outputs": [],
   "source": [
    "# Relations and duplicated data between datasets"
   ]
  },
  {
   "cell_type": "markdown",
   "metadata": {},
   "source": [
    "This document describes relations between datasets and some inconsistencies that were found.\n",
    "\n",
    "The following are the two main column identifier keys across datasets:\n",
    "- OBLIGACION: identifier that links CARTERA, CASTIGO and COLOCACION datasets.\n",
    "- CLIENTE (former \"Homologacion Documento de Identidad\"): identifier that links CARTERA, CONTACTO, and NEGOCIO datasets."
   ]
  },
  {
   "cell_type": "markdown",
   "metadata": {},
   "source": [
    "## Setting up notebook"
   ]
  },
  {
   "cell_type": "code",
   "execution_count": 2,
   "id": "e59415ee",
   "metadata": {},
   "outputs": [],
   "source": [
    "import json\n",
    "import os\n",
    "\n",
    "import pandas as pd\n",
    "import numpy as np\n",
    "\n",
    "from dotenv import load_dotenv\n",
    "\n",
    "from core_ds4a_project import cleaning\n",
    "from core_ds4a_project import columns as project_columns\n",
    "from core_ds4a_project import datasets\n",
    "\n",
    "%load_ext autoreload\n",
    "%autoreload 1\n",
    "%aimport core_ds4a_project, core_ds4a_project.cleaning, core_ds4a_project.columns, core_ds4a_project.datasets"
   ]
  },
  {
   "cell_type": "code",
   "execution_count": 3,
   "metadata": {},
   "outputs": [],
   "source": [
    "pd.set_option(\"display.max_columns\", 60)"
   ]
  },
  {
   "cell_type": "markdown",
   "metadata": {},
   "source": [
    "Environment variables:"
   ]
  },
  {
   "cell_type": "code",
   "execution_count": 4,
   "metadata": {},
   "outputs": [],
   "source": [
    "load_dotenv('envvars')\n",
    "\n",
    "ROOT_DATA_PATH = os.environ.get('ROOT_DATA_PATH')\n",
    "RAW_DATA_PATH = os.environ.get('RAW_DATA_PATH') or f'{ROOT_DATA_PATH}/raw'"
   ]
  },
  {
   "cell_type": "markdown",
   "metadata": {},
   "source": [
    "Reading data:"
   ]
  },
  {
   "cell_type": "code",
   "execution_count": 5,
   "metadata": {},
   "outputs": [],
   "source": [
    "dir_path = RAW_DATA_PATH\n",
    "cartera_df = datasets.read_cartera(dir_path, clean_all=True)\n",
    "castigo_df = datasets.read_castigada_xlsx(dir_path, clean=True)\n",
    "colocacion_df = datasets.read_colocacion_xlsx(dir_path, clean=True)\n",
    "contacto_df = datasets.read_contacto(dir_path, clean=True)\n",
    "negocio_df = datasets.read_negocio(dir_path, clean=True)"
   ]
  },
  {
   "cell_type": "code",
   "execution_count": 6,
   "metadata": {},
   "outputs": [
    {
     "data": {
      "text/plain": [
       "((790234, 41), (1170, 15), (42009, 33), (60043, 24), (37375, 147))"
      ]
     },
     "execution_count": 6,
     "metadata": {},
     "output_type": "execute_result"
    }
   ],
   "source": [
    "cartera_df.shape, castigo_df.shape, colocacion_df.shape, contacto_df.shape, negocio_df.shape"
   ]
  },
  {
   "cell_type": "markdown",
   "metadata": {},
   "source": [
    "Functions:"
   ]
  },
  {
   "cell_type": "code",
   "execution_count": 7,
   "metadata": {},
   "outputs": [],
   "source": [
    "def count_indices(eq, diff, na_any, na_both, na_single):\n",
    "    return {\n",
    "        \"total_rows\": df.shape[0],\n",
    "        \"count_eq\": eq.sum(),\n",
    "        \"count_diff\": diff.sum(),\n",
    "        \"count_na_any\": na_any.sum(),\n",
    "        \"count_na_single\": na_single.sum(),\n",
    "        \"count_na_both\": na_both.sum(),\n",
    "    }\n"
   ]
  },
  {
   "cell_type": "markdown",
   "metadata": {},
   "source": [
    "## Relations: CARTERA, COLOCACION, CONTACTO, NEGOCIO"
   ]
  },
  {
   "cell_type": "markdown",
   "metadata": {},
   "source": [
    "There are some inconsistencies in the relations between CARTERA and COLOCACION datasets for OBLIGACION identifier:\n",
    "- There are different number of unique OBLIGACION identifiers in each dataset.\n",
    "- There are OBLIGACION identifiers in CARTERA that are not present in COLOCACION and viceversa, there are OBLIGACION identifiers in COLOCACION that are not present in CARTERA."
   ]
  },
  {
   "cell_type": "code",
   "execution_count": 8,
   "metadata": {},
   "outputs": [
    {
     "data": {
      "text/plain": [
       "{'count_cartera_obligacion_ids': 56533,\n",
       " 'count_colocacion_obligacion_ids': 42009,\n",
       " 'count_cartera_obligacion_ids_not_in_colocacion': 15291,\n",
       " 'count_colocacion_obligacion_ids_not_in_cartera': 767}"
      ]
     },
     "execution_count": 8,
     "metadata": {},
     "output_type": "execute_result"
    }
   ],
   "source": [
    "cartera_obligacion_ids = cartera_df['OBLIGACION'].dropna().drop_duplicates()\n",
    "colocacion_obligacion_ids = colocacion_df['OBLIGACION'].dropna().drop_duplicates()\n",
    "\n",
    "index_cartera_obligacion_in_colocacion = cartera_obligacion_ids.isin(colocacion_obligacion_ids)\n",
    "index_colocacion_obligacion_in_cartera = colocacion_obligacion_ids.isin(cartera_obligacion_ids)\n",
    "\n",
    "{\n",
    "    \"count_cartera_obligacion_ids\": len(cartera_obligacion_ids),\n",
    "    \"count_colocacion_obligacion_ids\": len(colocacion_obligacion_ids),\n",
    "    \"count_cartera_obligacion_ids_not_in_colocacion\": (~index_cartera_obligacion_in_colocacion).sum(),\n",
    "    \"count_colocacion_obligacion_ids_not_in_cartera\": (~index_colocacion_obligacion_in_cartera).sum()\n",
    "}\n"
   ]
  },
  {
   "cell_type": "markdown",
   "metadata": {},
   "source": [
    "We're then considering valid only those records whose OBLIGACION identifier is present in both CARTERA and COLOCACION, validating there's a single CLIENTE for each OBLIGACION:"
   ]
  },
  {
   "cell_type": "code",
   "execution_count": 9,
   "metadata": {},
   "outputs": [
    {
     "data": {
      "text/plain": [
       "{'count_obligaciones': 41242, 'each_obligacion_has_single_cliente': True}"
      ]
     },
     "execution_count": 9,
     "metadata": {},
     "output_type": "execute_result"
    }
   ],
   "source": [
    "cliente_obligacion_df = (\n",
    "    cartera_df\n",
    "    [['CLIENTE', 'OBLIGACION']]\n",
    "    .dropna()\n",
    "    .drop_duplicates()\n",
    "    .query('OBLIGACION.isin(@colocacion_obligacion_ids)')\n",
    ")\n",
    "\n",
    "counts_clientes_per_obligacion = cliente_obligacion_df.groupby('OBLIGACION').count()['CLIENTE']\n",
    "\n",
    "{\n",
    "    \"count_obligaciones\": len(cliente_obligacion_df),\n",
    "    \"each_obligacion_has_single_cliente\": (counts_clientes_per_obligacion == 1).all(),\n",
    "}"
   ]
  },
  {
   "cell_type": "markdown",
   "metadata": {},
   "source": [
    "All valid records in CARTERA are found in CONTACTO and NEGOCIO:"
   ]
  },
  {
   "cell_type": "code",
   "execution_count": 10,
   "metadata": {},
   "outputs": [
    {
     "data": {
      "text/plain": [
       "{'count_clientes': 24127,\n",
       " 'count_clientes_in_contacto': 24127,\n",
       " 'count_clientes_in_negocio': 22965,\n",
       " 'count_clientes_in_contacto_n_negocio': 22965}"
      ]
     },
     "execution_count": 10,
     "metadata": {},
     "output_type": "execute_result"
    }
   ],
   "source": [
    "cliente_ids = cliente_obligacion_df['CLIENTE'].drop_duplicates().reset_index(drop=True)\n",
    "\n",
    "index_cliente_in_concacto = cliente_ids.isin(contacto_df['CLIENTE'])\n",
    "index_cliente_in_negocio = cliente_ids.isin(negocio_df['CLIENTE'])\n",
    "index_clientes_in_contacto_n_negocio = index_cliente_in_concacto & index_cliente_in_negocio\n",
    "\n",
    "valid_cliente_ids = cliente_ids[index_clientes_in_contacto_n_negocio]\n",
    "cliente_obligacion_df = cliente_obligacion_df.query('CLIENTE.isin(@valid_cliente_ids)')\n",
    "valid_obligacion_ids = cliente_obligacion_df['OBLIGACION'].drop_duplicates()\n",
    "\n",
    "{\n",
    "    \"count_clientes\": len(cliente_ids),\n",
    "    \"count_clientes_in_contacto\": index_cliente_in_concacto.sum(),\n",
    "    \"count_clientes_in_negocio\": index_cliente_in_negocio.sum(),\n",
    "    \"count_clientes_in_contacto_n_negocio\": index_clientes_in_contacto_n_negocio.sum()\n",
    "}"
   ]
  },
  {
   "cell_type": "markdown",
   "metadata": {},
   "source": [
    "Validating function in local package:"
   ]
  },
  {
   "cell_type": "code",
   "execution_count": 11,
   "metadata": {},
   "outputs": [
    {
     "data": {
      "text/plain": [
       "(True, True)"
      ]
     },
     "execution_count": 11,
     "metadata": {},
     "output_type": "execute_result"
    }
   ],
   "source": [
    "(cids, oids) = datasets.get_valid_relations_ids(cartera_df, colocacion_df, contacto_df, negocio_df)\n",
    "\n",
    "valid_cliente_ids.equals(cids), valid_obligacion_ids.equals(oids)"
   ]
  },
  {
   "cell_type": "code",
   "execution_count": 12,
   "metadata": {},
   "outputs": [],
   "source": [
    "kws = {\n",
    "    \"valid_cliente_ids\": list(valid_cliente_ids),\n",
    "    \"valid_obligacion_ids\": list(valid_obligacion_ids.astype(int))\n",
    "}\n",
    "\n",
    "datasets.RelationsFilter(**kws).save(ROOT_DATA_PATH)"
   ]
  },
  {
   "cell_type": "markdown",
   "metadata": {},
   "source": [
    "## Filtering: CARTERA"
   ]
  },
  {
   "cell_type": "markdown",
   "metadata": {},
   "source": [
    "Considering some clients in CARTERA have credits that are both known and unknown in COLOCACION:"
   ]
  },
  {
   "cell_type": "code",
   "execution_count": 13,
   "metadata": {},
   "outputs": [
    {
     "data": {
      "text/html": [
       "<div>\n",
       "<style scoped>\n",
       "    .dataframe tbody tr th:only-of-type {\n",
       "        vertical-align: middle;\n",
       "    }\n",
       "\n",
       "    .dataframe tbody tr th {\n",
       "        vertical-align: top;\n",
       "    }\n",
       "\n",
       "    .dataframe thead th {\n",
       "        text-align: right;\n",
       "    }\n",
       "</style>\n",
       "<table border=\"1\" class=\"dataframe\">\n",
       "  <thead>\n",
       "    <tr style=\"text-align: right;\">\n",
       "      <th></th>\n",
       "      <th>CLIENTE</th>\n",
       "      <th>COUNT_ALL_OBLIGACION</th>\n",
       "      <th>COUNT_UNKNOWN_OBLIGACION</th>\n",
       "    </tr>\n",
       "  </thead>\n",
       "  <tbody>\n",
       "    <tr>\n",
       "      <th>0</th>\n",
       "      <td>FA24149</td>\n",
       "      <td>2</td>\n",
       "      <td>1</td>\n",
       "    </tr>\n",
       "    <tr>\n",
       "      <th>1</th>\n",
       "      <td>FA15645</td>\n",
       "      <td>3</td>\n",
       "      <td>2</td>\n",
       "    </tr>\n",
       "    <tr>\n",
       "      <th>2</th>\n",
       "      <td>FA23817</td>\n",
       "      <td>2</td>\n",
       "      <td>1</td>\n",
       "    </tr>\n",
       "    <tr>\n",
       "      <th>3</th>\n",
       "      <td>FA22202</td>\n",
       "      <td>2</td>\n",
       "      <td>1</td>\n",
       "    </tr>\n",
       "    <tr>\n",
       "      <th>4</th>\n",
       "      <td>FA6902</td>\n",
       "      <td>2</td>\n",
       "      <td>1</td>\n",
       "    </tr>\n",
       "    <tr>\n",
       "      <th>...</th>\n",
       "      <td>...</td>\n",
       "      <td>...</td>\n",
       "      <td>...</td>\n",
       "    </tr>\n",
       "    <tr>\n",
       "      <th>5747</th>\n",
       "      <td>FA22939</td>\n",
       "      <td>2</td>\n",
       "      <td>1</td>\n",
       "    </tr>\n",
       "    <tr>\n",
       "      <th>5748</th>\n",
       "      <td>FA2656</td>\n",
       "      <td>2</td>\n",
       "      <td>1</td>\n",
       "    </tr>\n",
       "    <tr>\n",
       "      <th>5749</th>\n",
       "      <td>FA18621</td>\n",
       "      <td>3</td>\n",
       "      <td>1</td>\n",
       "    </tr>\n",
       "    <tr>\n",
       "      <th>5750</th>\n",
       "      <td>FA18537</td>\n",
       "      <td>2</td>\n",
       "      <td>1</td>\n",
       "    </tr>\n",
       "    <tr>\n",
       "      <th>5751</th>\n",
       "      <td>FA18559</td>\n",
       "      <td>4</td>\n",
       "      <td>1</td>\n",
       "    </tr>\n",
       "  </tbody>\n",
       "</table>\n",
       "<p>5752 rows × 3 columns</p>\n",
       "</div>"
      ],
      "text/plain": [
       "      CLIENTE  COUNT_ALL_OBLIGACION  COUNT_UNKNOWN_OBLIGACION\n",
       "0     FA24149                     2                         1\n",
       "1     FA15645                     3                         2\n",
       "2     FA23817                     2                         1\n",
       "3     FA22202                     2                         1\n",
       "4      FA6902                     2                         1\n",
       "...       ...                   ...                       ...\n",
       "5747  FA22939                     2                         1\n",
       "5748   FA2656                     2                         1\n",
       "5749  FA18621                     3                         1\n",
       "5750  FA18537                     2                         1\n",
       "5751  FA18559                     4                         1\n",
       "\n",
       "[5752 rows x 3 columns]"
      ]
     },
     "execution_count": 13,
     "metadata": {},
     "output_type": "execute_result"
    }
   ],
   "source": [
    "df = (\n",
    "    cartera_df[['CLIENTE', 'OBLIGACION']]\n",
    "    .dropna()\n",
    "    .drop_duplicates()\n",
    "    .query('CLIENTE.isin(@valid_cliente_ids)')\n",
    "    )\n",
    "count_all_obligacion_ids_per_cliente_id = (\n",
    "    df\n",
    "    .groupby('CLIENTE')\n",
    "    .count()\n",
    "    .rename(columns={'OBLIGACION': 'COUNT_ALL_OBLIGACION'})\n",
    ")\n",
    "count_unknown_obligacion_ids_per_cliente_id = (\n",
    "    df\n",
    "    .query('~OBLIGACION.isin(@valid_obligacion_ids)')\n",
    "    .groupby('CLIENTE')\n",
    "    .count()\n",
    "    .rename(columns={'OBLIGACION': 'COUNT_UNKNOWN_OBLIGACION'})\n",
    ")\n",
    "\n",
    "counts_cliente_obligacion_df = (\n",
    "    df\n",
    "    [['CLIENTE']]\n",
    "    .drop_duplicates()\n",
    "    .merge(count_all_obligacion_ids_per_cliente_id, on='CLIENTE')\n",
    "    .merge(count_unknown_obligacion_ids_per_cliente_id, on='CLIENTE')\n",
    ")\n",
    "\n",
    "counts_cliente_obligacion_df"
   ]
  },
  {
   "cell_type": "markdown",
   "metadata": {},
   "source": [
    "CARTERA must be filtered by both valid CLIENTE identifiers and valid OBLIGACION identifiers:"
   ]
  },
  {
   "cell_type": "code",
   "execution_count": 14,
   "metadata": {},
   "outputs": [
    {
     "data": {
      "text/plain": [
       "(790234, 41)"
      ]
     },
     "execution_count": 14,
     "metadata": {},
     "output_type": "execute_result"
    }
   ],
   "source": [
    "cartera_df.shape"
   ]
  },
  {
   "cell_type": "code",
   "execution_count": 15,
   "metadata": {},
   "outputs": [
    {
     "data": {
      "text/plain": [
       "(569129, 41)"
      ]
     },
     "execution_count": 15,
     "metadata": {},
     "output_type": "execute_result"
    }
   ],
   "source": [
    "cartera_df = (\n",
    "    cartera_df\n",
    "    .query('CLIENTE.isin(@valid_cliente_ids) & OBLIGACION.isin(@valid_obligacion_ids)')\n",
    ")\n",
    "cartera_df.shape"
   ]
  },
  {
   "cell_type": "markdown",
   "metadata": {},
   "source": [
    "## Filtering: CASTIGO"
   ]
  },
  {
   "cell_type": "markdown",
   "metadata": {},
   "source": [
    "There are some inconsistencies in the relations between CASTIGO and other two financial CARTERA and COLOCACION datasets for OBLIGACION identifier:"
   ]
  },
  {
   "cell_type": "code",
   "execution_count": 16,
   "metadata": {},
   "outputs": [
    {
     "data": {
      "text/plain": [
       "{'count_castigo_obligacion': 1170,\n",
       " 'count_castigo_obligacion_in_cartera': 1130,\n",
       " 'count_castigo_obligacion_in_colocacion': 1004,\n",
       " 'count_castigo_valid_obligacion': 963}"
      ]
     },
     "execution_count": 16,
     "metadata": {},
     "output_type": "execute_result"
    }
   ],
   "source": [
    "{\n",
    "    \"count_castigo_obligacion\": castigo_df.shape[0],\n",
    "    \"count_castigo_obligacion_in_cartera\": castigo_df['OBLIGACION'].isin(cartera_obligacion_ids).sum(),\n",
    "    \"count_castigo_obligacion_in_colocacion\": castigo_df['OBLIGACION'].isin(colocacion_obligacion_ids).sum(),\n",
    "    \"count_castigo_valid_obligacion\": castigo_df['OBLIGACION'].isin(valid_obligacion_ids).sum(),\n",
    "\n",
    "}"
   ]
  },
  {
   "cell_type": "code",
   "execution_count": 17,
   "metadata": {},
   "outputs": [
    {
     "data": {
      "text/plain": [
       "(963, 15)"
      ]
     },
     "execution_count": 17,
     "metadata": {},
     "output_type": "execute_result"
    }
   ],
   "source": [
    "castigo_df = (\n",
    "    castigo_df\n",
    "    .query('OBLIGACION.isin(@valid_obligacion_ids)')\n",
    ")\n",
    "castigo_df.shape"
   ]
  },
  {
   "cell_type": "markdown",
   "metadata": {},
   "source": [
    "CASTIGO records with known OBLIGACION are dated since 2020-04 only:"
   ]
  },
  {
   "cell_type": "code",
   "execution_count": 18,
   "metadata": {},
   "outputs": [
    {
     "data": {
      "text/plain": [
       "Timestamp('2020-04-01 00:00:00')"
      ]
     },
     "execution_count": 18,
     "metadata": {},
     "output_type": "execute_result"
    }
   ],
   "source": [
    "castigo_df['FECHA_CASTIGO'].min()"
   ]
  },
  {
   "cell_type": "markdown",
   "metadata": {},
   "source": [
    "## Filtering: COLOCACION"
   ]
  },
  {
   "cell_type": "code",
   "execution_count": 19,
   "metadata": {},
   "outputs": [
    {
     "data": {
      "text/plain": [
       "(42009, 33)"
      ]
     },
     "execution_count": 19,
     "metadata": {},
     "output_type": "execute_result"
    }
   ],
   "source": [
    "colocacion_df.shape"
   ]
  },
  {
   "cell_type": "code",
   "execution_count": 20,
   "metadata": {},
   "outputs": [
    {
     "data": {
      "text/plain": [
       "(38641, 33)"
      ]
     },
     "execution_count": 20,
     "metadata": {},
     "output_type": "execute_result"
    }
   ],
   "source": [
    "colocacion_df = (\n",
    "    colocacion_df\n",
    "    .query('OBLIGACION.isin(@valid_obligacion_ids)')\n",
    ")\n",
    "colocacion_df.shape"
   ]
  },
  {
   "cell_type": "markdown",
   "metadata": {},
   "source": [
    "## Filtering: CONTACTO"
   ]
  },
  {
   "cell_type": "markdown",
   "metadata": {},
   "source": [
    "Question: why most of clientes have not taken any credit?"
   ]
  },
  {
   "cell_type": "code",
   "execution_count": 21,
   "metadata": {},
   "outputs": [
    {
     "data": {
      "text/plain": [
       "(60043, 24)"
      ]
     },
     "execution_count": 21,
     "metadata": {},
     "output_type": "execute_result"
    }
   ],
   "source": [
    "contacto_df.shape"
   ]
  },
  {
   "cell_type": "code",
   "execution_count": 22,
   "metadata": {},
   "outputs": [
    {
     "data": {
      "text/plain": [
       "(22965, 24)"
      ]
     },
     "execution_count": 22,
     "metadata": {},
     "output_type": "execute_result"
    }
   ],
   "source": [
    "contacto_df = (\n",
    "    contacto_df\n",
    "    .query('CLIENTE.isin(@valid_cliente_ids)')\n",
    ")\n",
    "contacto_df.shape"
   ]
  },
  {
   "cell_type": "markdown",
   "metadata": {},
   "source": [
    "## Filtering: NEGOCIO"
   ]
  },
  {
   "cell_type": "code",
   "execution_count": 23,
   "metadata": {},
   "outputs": [
    {
     "data": {
      "text/plain": [
       "(37375, 147)"
      ]
     },
     "execution_count": 23,
     "metadata": {},
     "output_type": "execute_result"
    }
   ],
   "source": [
    "negocio_df.shape"
   ]
  },
  {
   "cell_type": "code",
   "execution_count": 24,
   "metadata": {},
   "outputs": [
    {
     "data": {
      "text/plain": [
       "(22965, 147)"
      ]
     },
     "execution_count": 24,
     "metadata": {},
     "output_type": "execute_result"
    }
   ],
   "source": [
    "negocio_df = (\n",
    "    negocio_df\n",
    "    .query('CLIENTE.isin(@valid_cliente_ids)')\n",
    ")\n",
    "negocio_df.shape"
   ]
  },
  {
   "cell_type": "markdown",
   "metadata": {},
   "source": [
    "## Composing: CLIENTES\n",
    "\n",
    "CLIENTES dataset is proposed to be composed from information related to clients from all provided datasets: CARTERA, COLOCACION, CONTACTO and NEGOCIO; thus, replacing CONTACTO and NEGOCIO."
   ]
  },
  {
   "cell_type": "markdown",
   "metadata": {},
   "source": [
    "Merging COLOCACION:"
   ]
  },
  {
   "cell_type": "code",
   "execution_count": 25,
   "metadata": {},
   "outputs": [
    {
     "data": {
      "text/html": [
       "<div>\n",
       "<style scoped>\n",
       "    .dataframe tbody tr th:only-of-type {\n",
       "        vertical-align: middle;\n",
       "    }\n",
       "\n",
       "    .dataframe tbody tr th {\n",
       "        vertical-align: top;\n",
       "    }\n",
       "\n",
       "    .dataframe thead th {\n",
       "        text-align: right;\n",
       "    }\n",
       "</style>\n",
       "<table border=\"1\" class=\"dataframe\">\n",
       "  <thead>\n",
       "    <tr style=\"text-align: right;\">\n",
       "      <th></th>\n",
       "      <th>CLIENTE</th>\n",
       "      <th>EDAD</th>\n",
       "      <th>ESTADO_CIVIL</th>\n",
       "      <th>ESTRATO</th>\n",
       "      <th>FECHA_NACIMIENTO</th>\n",
       "      <th>GENERO</th>\n",
       "      <th>NIVEL_ESTUDIOS</th>\n",
       "      <th>PROFESION</th>\n",
       "      <th>TIPO_UBICACION</th>\n",
       "      <th>TIPO_VIVIENDA</th>\n",
       "    </tr>\n",
       "  </thead>\n",
       "  <tbody>\n",
       "    <tr>\n",
       "      <th>0</th>\n",
       "      <td>FA1</td>\n",
       "      <td>67</td>\n",
       "      <td>Casado</td>\n",
       "      <td>1.0</td>\n",
       "      <td>1955-03-30</td>\n",
       "      <td>Masculino</td>\n",
       "      <td>Primaria</td>\n",
       "      <td>DESCONOCIDA</td>\n",
       "      <td>RURAL</td>\n",
       "      <td>PROPIA</td>\n",
       "    </tr>\n",
       "    <tr>\n",
       "      <th>1</th>\n",
       "      <td>FA10</td>\n",
       "      <td>56</td>\n",
       "      <td>Casado</td>\n",
       "      <td>1.0</td>\n",
       "      <td>1966-06-11</td>\n",
       "      <td>Masculino</td>\n",
       "      <td>Primaria</td>\n",
       "      <td>DESCONOCIDA</td>\n",
       "      <td>RURAL</td>\n",
       "      <td>PROPIA</td>\n",
       "    </tr>\n",
       "    <tr>\n",
       "      <th>2</th>\n",
       "      <td>FA100</td>\n",
       "      <td>30</td>\n",
       "      <td>Soltero</td>\n",
       "      <td>1.0</td>\n",
       "      <td>1991-11-11</td>\n",
       "      <td>Masculino</td>\n",
       "      <td>Secundaria</td>\n",
       "      <td>AGRICULTURA</td>\n",
       "      <td>RURAL</td>\n",
       "      <td>FAMILIAR</td>\n",
       "    </tr>\n",
       "    <tr>\n",
       "      <th>3</th>\n",
       "      <td>FA1000</td>\n",
       "      <td>40</td>\n",
       "      <td>Union libre</td>\n",
       "      <td>2.0</td>\n",
       "      <td>1981-10-21</td>\n",
       "      <td>Femenino</td>\n",
       "      <td>Secundaria</td>\n",
       "      <td>SIN PROFESION</td>\n",
       "      <td>URBANA</td>\n",
       "      <td>ARRIENDO</td>\n",
       "    </tr>\n",
       "    <tr>\n",
       "      <th>4</th>\n",
       "      <td>FA1000</td>\n",
       "      <td>40</td>\n",
       "      <td>Union libre</td>\n",
       "      <td>2.0</td>\n",
       "      <td>1981-10-21</td>\n",
       "      <td>Femenino</td>\n",
       "      <td>Secundaria</td>\n",
       "      <td>SIN PROFESION</td>\n",
       "      <td>URBANA</td>\n",
       "      <td>ARRIENDO</td>\n",
       "    </tr>\n",
       "    <tr>\n",
       "      <th>...</th>\n",
       "      <td>...</td>\n",
       "      <td>...</td>\n",
       "      <td>...</td>\n",
       "      <td>...</td>\n",
       "      <td>...</td>\n",
       "      <td>...</td>\n",
       "      <td>...</td>\n",
       "      <td>...</td>\n",
       "      <td>...</td>\n",
       "      <td>...</td>\n",
       "    </tr>\n",
       "    <tr>\n",
       "      <th>38636</th>\n",
       "      <td>FA9997</td>\n",
       "      <td>62</td>\n",
       "      <td>Casado</td>\n",
       "      <td>2.0</td>\n",
       "      <td>1960-01-13</td>\n",
       "      <td>Masculino</td>\n",
       "      <td>Secundaria</td>\n",
       "      <td>DESCONOCIDA</td>\n",
       "      <td>URBANA</td>\n",
       "      <td>PROPIA</td>\n",
       "    </tr>\n",
       "    <tr>\n",
       "      <th>38637</th>\n",
       "      <td>FA9998</td>\n",
       "      <td>63</td>\n",
       "      <td>Casado</td>\n",
       "      <td>3.0</td>\n",
       "      <td>1958-10-24</td>\n",
       "      <td>Femenino</td>\n",
       "      <td>Secundaria</td>\n",
       "      <td>DESCONOCIDA</td>\n",
       "      <td>URBANA</td>\n",
       "      <td>PROPIA</td>\n",
       "    </tr>\n",
       "    <tr>\n",
       "      <th>38638</th>\n",
       "      <td>FA9998</td>\n",
       "      <td>63</td>\n",
       "      <td>Casado</td>\n",
       "      <td>3.0</td>\n",
       "      <td>1958-10-24</td>\n",
       "      <td>Femenino</td>\n",
       "      <td>Secundaria</td>\n",
       "      <td>DESCONOCIDA</td>\n",
       "      <td>URBANA</td>\n",
       "      <td>PROPIA</td>\n",
       "    </tr>\n",
       "    <tr>\n",
       "      <th>38639</th>\n",
       "      <td>FA9998</td>\n",
       "      <td>63</td>\n",
       "      <td>Casado</td>\n",
       "      <td>3.0</td>\n",
       "      <td>1958-10-24</td>\n",
       "      <td>Femenino</td>\n",
       "      <td>Secundaria</td>\n",
       "      <td>DESCONOCIDA</td>\n",
       "      <td>URBANA</td>\n",
       "      <td>PROPIA</td>\n",
       "    </tr>\n",
       "    <tr>\n",
       "      <th>38640</th>\n",
       "      <td>FA9999</td>\n",
       "      <td>47</td>\n",
       "      <td>Union libre</td>\n",
       "      <td>2.0</td>\n",
       "      <td>1975-03-12</td>\n",
       "      <td>Femenino</td>\n",
       "      <td>Secundaria</td>\n",
       "      <td>SIN PROFESION</td>\n",
       "      <td>URBANA</td>\n",
       "      <td>ARRIENDO</td>\n",
       "    </tr>\n",
       "  </tbody>\n",
       "</table>\n",
       "<p>38641 rows × 10 columns</p>\n",
       "</div>"
      ],
      "text/plain": [
       "      CLIENTE  EDAD ESTADO_CIVIL  ESTRATO FECHA_NACIMIENTO     GENERO  \\\n",
       "0         FA1    67       Casado      1.0       1955-03-30  Masculino   \n",
       "1        FA10    56       Casado      1.0       1966-06-11  Masculino   \n",
       "2       FA100    30      Soltero      1.0       1991-11-11  Masculino   \n",
       "3      FA1000    40  Union libre      2.0       1981-10-21   Femenino   \n",
       "4      FA1000    40  Union libre      2.0       1981-10-21   Femenino   \n",
       "...       ...   ...          ...      ...              ...        ...   \n",
       "38636  FA9997    62       Casado      2.0       1960-01-13  Masculino   \n",
       "38637  FA9998    63       Casado      3.0       1958-10-24   Femenino   \n",
       "38638  FA9998    63       Casado      3.0       1958-10-24   Femenino   \n",
       "38639  FA9998    63       Casado      3.0       1958-10-24   Femenino   \n",
       "38640  FA9999    47  Union libre      2.0       1975-03-12   Femenino   \n",
       "\n",
       "      NIVEL_ESTUDIOS      PROFESION TIPO_UBICACION TIPO_VIVIENDA  \n",
       "0           Primaria    DESCONOCIDA          RURAL        PROPIA  \n",
       "1           Primaria    DESCONOCIDA          RURAL        PROPIA  \n",
       "2         Secundaria    AGRICULTURA          RURAL      FAMILIAR  \n",
       "3         Secundaria  SIN PROFESION         URBANA      ARRIENDO  \n",
       "4         Secundaria  SIN PROFESION         URBANA      ARRIENDO  \n",
       "...              ...            ...            ...           ...  \n",
       "38636     Secundaria    DESCONOCIDA         URBANA        PROPIA  \n",
       "38637     Secundaria    DESCONOCIDA         URBANA        PROPIA  \n",
       "38638     Secundaria    DESCONOCIDA         URBANA        PROPIA  \n",
       "38639     Secundaria    DESCONOCIDA         URBANA        PROPIA  \n",
       "38640     Secundaria  SIN PROFESION         URBANA      ARRIENDO  \n",
       "\n",
       "[38641 rows x 10 columns]"
      ]
     },
     "execution_count": 25,
     "metadata": {},
     "output_type": "execute_result"
    }
   ],
   "source": [
    "df = (\n",
    "    cliente_obligacion_df\n",
    "    .merge(colocacion_df[['OBLIGACION', *project_columns.COLOCACION_CLIENT_COLUMNS]], on='OBLIGACION')\n",
    "    .drop(columns='OBLIGACION')\n",
    "    .sort_values(by='CLIENTE')\n",
    "    .reset_index(drop=True)\n",
    ")\n",
    "\n",
    "df"
   ]
  },
  {
   "cell_type": "markdown",
   "metadata": {},
   "source": [
    "As one client may have multiple credits (i.e. one CLIENTE with multiple OBLIGACION), there is duplicated information in COLOCACION that should be dropped:"
   ]
  },
  {
   "cell_type": "code",
   "execution_count": 26,
   "metadata": {},
   "outputs": [
    {
     "data": {
      "text/plain": [
       "(38641, True)"
      ]
     },
     "execution_count": 26,
     "metadata": {},
     "output_type": "execute_result"
    }
   ],
   "source": [
    "any_duplicate = df['CLIENTE'].duplicated().any()\n",
    "\n",
    "df['CLIENTE'].shape[0], any_duplicate"
   ]
  },
  {
   "cell_type": "code",
   "execution_count": 27,
   "metadata": {},
   "outputs": [
    {
     "data": {
      "text/plain": [
       "((22965,), False)"
      ]
     },
     "execution_count": 27,
     "metadata": {},
     "output_type": "execute_result"
    }
   ],
   "source": [
    "df = df.drop_duplicates()\n",
    "any_duplicate = df['CLIENTE'].duplicated().any()\n",
    "\n",
    "assert any_duplicate == False, 'There are multiple rows for CLIENTE'\n",
    "\n",
    "df['CLIENTE'].shape, any_duplicate"
   ]
  },
  {
   "cell_type": "markdown",
   "metadata": {},
   "source": [
    "Merging CONTACTO:"
   ]
  },
  {
   "cell_type": "code",
   "execution_count": 28,
   "metadata": {},
   "outputs": [
    {
     "data": {
      "text/plain": [
       "((22965, 33),\n",
       " Index(['ACTIVIDAD_CIIU_PRIMARIA', 'ACTIVIDAD_ECONOMICA', 'CLIENTE', 'EDAD',\n",
       "        'ESTADO_CIVIL_COD', 'ESTADO_CIVIL_COLOCACION', 'ESTADO_CIVIL_CONTACTO',\n",
       "        'ESTRATO', 'FECHA_NACIMIENTO_COLOCACION', 'FECHA_NACIMIENTO_CONTACTO',\n",
       "        'GENERO_COD', 'GENERO_COLOCACION', 'GENERO_CONTACTO', 'MUJER_CABEZA',\n",
       "        'NIVEL_ESTUDIOS_COD', 'NIVEL_ESTUDIOS_COLOCACION',\n",
       "        'NIVEL_ESTUDIOS_CONTACTO', 'OCUPACION', 'OFICIO', 'PROFESION_COD',\n",
       "        'PROFESION_COLOCACION', 'PROFESION_CONTACTO', 'RESPONSABLE_DE_HOGAR',\n",
       "        'SUCURSAL', 'SUELDO_BASICO', 'TIPO_DE_CLIENTE',\n",
       "        'TIPO_DE_IDENTIFICACION', 'TIPO_UBICACION_COD',\n",
       "        'TIPO_UBICACION_COLOCACION', 'TIPO_UBICACION_CONTACTO',\n",
       "        'TIPO_VIVIENDA_COD', 'TIPO_VIVIENDA_COLOCACION',\n",
       "        'TIPO_VIVIENDA_CONTACTO'],\n",
       "       dtype='object'))"
      ]
     },
     "execution_count": 28,
     "metadata": {},
     "output_type": "execute_result"
    }
   ],
   "source": [
    "df = (\n",
    "    df\n",
    "    .merge(contacto_df, how='left', on='CLIENTE', suffixes=('_COLOCACION', '_CONTACTO'))\n",
    "    # .set_index('CLIENTE')\n",
    ")\n",
    "\n",
    "df.shape, df.columns.sort_values()"
   ]
  },
  {
   "cell_type": "markdown",
   "metadata": {},
   "source": [
    "Merging NEGOCIO:"
   ]
  },
  {
   "cell_type": "code",
   "execution_count": 29,
   "metadata": {},
   "outputs": [
    {
     "data": {
      "text/plain": [
       "((22965, 34),\n",
       " Index(['ACTIVIDAD', 'ACTIVIDAD_CIIU_PRIMARIA', 'ACTIVIDAD_ECONOMICA',\n",
       "        'CLIENTE', 'EDAD', 'ESTADO_CIVIL_COD', 'ESTADO_CIVIL_COLOCACION',\n",
       "        'ESTADO_CIVIL_CONTACTO', 'ESTRATO', 'FECHA_NACIMIENTO_COLOCACION',\n",
       "        'FECHA_NACIMIENTO_CONTACTO', 'GENERO_COD', 'GENERO_COLOCACION',\n",
       "        'GENERO_CONTACTO', 'MUJER_CABEZA', 'NIVEL_ESTUDIOS_COD',\n",
       "        'NIVEL_ESTUDIOS_COLOCACION', 'NIVEL_ESTUDIOS_CONTACTO', 'OCUPACION',\n",
       "        'OFICIO', 'PROFESION_COD', 'PROFESION_COLOCACION', 'PROFESION_CONTACTO',\n",
       "        'RESPONSABLE_DE_HOGAR', 'SUCURSAL', 'SUELDO_BASICO', 'TIPO_DE_CLIENTE',\n",
       "        'TIPO_DE_IDENTIFICACION', 'TIPO_UBICACION_COD',\n",
       "        'TIPO_UBICACION_COLOCACION', 'TIPO_UBICACION_CONTACTO',\n",
       "        'TIPO_VIVIENDA_COD', 'TIPO_VIVIENDA_COLOCACION',\n",
       "        'TIPO_VIVIENDA_CONTACTO'],\n",
       "       dtype='object'))"
      ]
     },
     "execution_count": 29,
     "metadata": {},
     "output_type": "execute_result"
    }
   ],
   "source": [
    "cols = project_columns.NEGOCIO_CLIENT_COLUMNS\n",
    "\n",
    "assert df.columns.isin(cols).any() == False, \"There are duplicated columns\"\n",
    "\n",
    "df = (\n",
    "    df\n",
    "    .merge(negocio_df[['CLIENTE', *cols]], how='left', on='CLIENTE')\n",
    ")\n",
    "\n",
    "df.shape, df.columns.sort_values()"
   ]
  },
  {
   "cell_type": "markdown",
   "metadata": {},
   "source": [
    "### Comparing COLOCATION + CONTACTO"
   ]
  },
  {
   "cell_type": "markdown",
   "metadata": {},
   "source": [
    "The bulk of records for each common variable are equal between both COLOCACION and CONTACTO, except for PROFESION variable:"
   ]
  },
  {
   "cell_type": "code",
   "execution_count": 30,
   "metadata": {},
   "outputs": [
    {
     "name": "stdout",
     "output_type": "stream",
     "text": [
      "\n",
      "TIPO_UBICACION\n",
      "{'total_rows': 22965, 'count_eq': 22876, 'count_diff': 89, 'count_na_any': 0, 'count_na_single': 0, 'count_na_both': 0}\n",
      "\n",
      "FECHA_NACIMIENTO\n",
      "{'total_rows': 22965, 'count_eq': 22946, 'count_diff': 19, 'count_na_any': 0, 'count_na_single': 0, 'count_na_both': 0}\n",
      "\n",
      "PROFESION\n",
      "{'total_rows': 22965, 'count_eq': 14766, 'count_diff': 158, 'count_na_any': 8041, 'count_na_single': 8041, 'count_na_both': 0}\n",
      "\n",
      "GENERO\n",
      "{'total_rows': 22965, 'count_eq': 22946, 'count_diff': 19, 'count_na_any': 0, 'count_na_single': 0, 'count_na_both': 0}\n",
      "\n",
      "NIVEL_ESTUDIOS\n",
      "{'total_rows': 22965, 'count_eq': 22703, 'count_diff': 251, 'count_na_any': 11, 'count_na_single': 5, 'count_na_both': 6}\n",
      "\n",
      "ESTADO_CIVIL\n",
      "{'total_rows': 22965, 'count_eq': 22505, 'count_diff': 377, 'count_na_any': 83, 'count_na_single': 38, 'count_na_both': 45}\n",
      "\n",
      "TIPO_VIVIENDA\n",
      "{'total_rows': 22965, 'count_eq': 22183, 'count_diff': 673, 'count_na_any': 109, 'count_na_single': 109, 'count_na_both': 0}\n"
     ]
    }
   ],
   "source": [
    "indices_dict = {}\n",
    "\n",
    "common_cols = colocacion_df.columns[colocacion_df.columns.isin(contacto_df.columns)]\n",
    "common_cols.sort_values()\n",
    "\n",
    "for col in common_cols:\n",
    "    indices_dict[col] = cleaning.compare_series(df, f'{col}_COLOCACION',  f'{col}_CONTACTO')\n",
    "    print(f'\\n{col}')\n",
    "    print(count_indices(**indices_dict[col]))"
   ]
  },
  {
   "cell_type": "markdown",
   "metadata": {},
   "source": [
    "#### PROFESION"
   ]
  },
  {
   "cell_type": "markdown",
   "metadata": {},
   "source": [
    "PROFESION column is present in both COLOCACION and CONTACTO datasets having three different types of value to identify missing values:\n",
    "- NA value in CONTACTO dataset only.\n",
    "- Category \"DESCONOCIDA\" in both COLOCACION and CONTACTO datasets.\n",
    "- Category \"SIN PROFESION\" in COLOCACION dataset only. All \"SIN PROFESION\" values correspond to NA values in PROFESION_CONTACTO."
   ]
  },
  {
   "cell_type": "code",
   "execution_count": 31,
   "metadata": {},
   "outputs": [
    {
     "data": {
      "text/plain": [
       "{'count_colocacion_na': 0,\n",
       " 'count_contacto_na': 8041,\n",
       " 'count_colocacion_sin_profesion': 7830,\n",
       " 'count_contacto_sin_profesion': 0,\n",
       " 'all_colocacion_sin_profesion_equal_contacto_na': True}"
      ]
     },
     "metadata": {},
     "output_type": "display_data"
    },
    {
     "data": {
      "text/html": [
       "<div>\n",
       "<style scoped>\n",
       "    .dataframe tbody tr th:only-of-type {\n",
       "        vertical-align: middle;\n",
       "    }\n",
       "\n",
       "    .dataframe tbody tr th {\n",
       "        vertical-align: top;\n",
       "    }\n",
       "\n",
       "    .dataframe thead th {\n",
       "        text-align: right;\n",
       "    }\n",
       "</style>\n",
       "<table border=\"1\" class=\"dataframe\">\n",
       "  <thead>\n",
       "    <tr style=\"text-align: right;\">\n",
       "      <th></th>\n",
       "      <th>PROFESION_COLOCACION</th>\n",
       "      <th>PROFESION_CONTACTO</th>\n",
       "    </tr>\n",
       "  </thead>\n",
       "  <tbody>\n",
       "    <tr>\n",
       "      <th>0</th>\n",
       "      <td>DESCONOCIDA</td>\n",
       "      <td>DESCONOCIDA</td>\n",
       "    </tr>\n",
       "    <tr>\n",
       "      <th>1</th>\n",
       "      <td>DESCONOCIDA</td>\n",
       "      <td>DESCONOCIDA</td>\n",
       "    </tr>\n",
       "    <tr>\n",
       "      <th>2</th>\n",
       "      <td>AGRICULTURA</td>\n",
       "      <td>AGRICULTURA</td>\n",
       "    </tr>\n",
       "    <tr>\n",
       "      <th>3</th>\n",
       "      <td>SIN PROFESION</td>\n",
       "      <td>NaN</td>\n",
       "    </tr>\n",
       "    <tr>\n",
       "      <th>4</th>\n",
       "      <td>DESCONOCIDA</td>\n",
       "      <td>DESCONOCIDA</td>\n",
       "    </tr>\n",
       "    <tr>\n",
       "      <th>...</th>\n",
       "      <td>...</td>\n",
       "      <td>...</td>\n",
       "    </tr>\n",
       "    <tr>\n",
       "      <th>22960</th>\n",
       "      <td>DESCONOCIDA</td>\n",
       "      <td>DESCONOCIDA</td>\n",
       "    </tr>\n",
       "    <tr>\n",
       "      <th>22961</th>\n",
       "      <td>SIN PROFESION</td>\n",
       "      <td>NaN</td>\n",
       "    </tr>\n",
       "    <tr>\n",
       "      <th>22962</th>\n",
       "      <td>DESCONOCIDA</td>\n",
       "      <td>DESCONOCIDA</td>\n",
       "    </tr>\n",
       "    <tr>\n",
       "      <th>22963</th>\n",
       "      <td>DESCONOCIDA</td>\n",
       "      <td>DESCONOCIDA</td>\n",
       "    </tr>\n",
       "    <tr>\n",
       "      <th>22964</th>\n",
       "      <td>SIN PROFESION</td>\n",
       "      <td>NaN</td>\n",
       "    </tr>\n",
       "  </tbody>\n",
       "</table>\n",
       "<p>22965 rows × 2 columns</p>\n",
       "</div>"
      ],
      "text/plain": [
       "      PROFESION_COLOCACION PROFESION_CONTACTO\n",
       "0              DESCONOCIDA        DESCONOCIDA\n",
       "1              DESCONOCIDA        DESCONOCIDA\n",
       "2              AGRICULTURA        AGRICULTURA\n",
       "3            SIN PROFESION                NaN\n",
       "4              DESCONOCIDA        DESCONOCIDA\n",
       "...                    ...                ...\n",
       "22960          DESCONOCIDA        DESCONOCIDA\n",
       "22961        SIN PROFESION                NaN\n",
       "22962          DESCONOCIDA        DESCONOCIDA\n",
       "22963          DESCONOCIDA        DESCONOCIDA\n",
       "22964        SIN PROFESION                NaN\n",
       "\n",
       "[22965 rows x 2 columns]"
      ]
     },
     "execution_count": 31,
     "metadata": {},
     "output_type": "execute_result"
    }
   ],
   "source": [
    "profesion_df = df[['PROFESION_COLOCACION', 'PROFESION_CONTACTO']]\n",
    "\n",
    "index_na = profesion_df.isna()\n",
    "index_sin_profesion = profesion_df == 'SIN PROFESION'\n",
    "\n",
    "count_na = index_na.sum()\n",
    "count_sin_profesion = index_sin_profesion.sum()\n",
    "\n",
    "display({\n",
    "    \"count_colocacion_na\": count_na['PROFESION_COLOCACION'],\n",
    "    \"count_contacto_na\": count_na['PROFESION_CONTACTO'],\n",
    "    \"count_colocacion_sin_profesion\": count_sin_profesion['PROFESION_COLOCACION'],\n",
    "    \"count_contacto_sin_profesion\": count_sin_profesion['PROFESION_CONTACTO'],\n",
    "    \"all_colocacion_sin_profesion_equal_contacto_na\": (\n",
    "        profesion_df\n",
    "        .loc[index_sin_profesion['PROFESION_COLOCACION'], 'PROFESION_CONTACTO']\n",
    "        .isna()\n",
    "        .all()\n",
    "    ),\n",
    "})\n",
    "\n",
    "profesion_df\n"
   ]
  },
  {
   "cell_type": "markdown",
   "metadata": {},
   "source": [
    "PROFESION values equal to \"DESCONOCIDA\" have following considerations:\n",
    "- There are 49 records in COLOCACION with actual values that were exported as \"DESCONOCIDA\" in CONTACTO.\n",
    "- There are 58 records exported as \"DESCONOCIDA\" in COLOCACION that have actual values in CONTACTO.\n",
    "- There are 103 records exported as \"DESCONOCIDA\" in COLOCACION that are NA values in CONTACTO."
   ]
  },
  {
   "cell_type": "code",
   "execution_count": 32,
   "metadata": {},
   "outputs": [
    {
     "data": {
      "text/plain": [
       "{'count_COLOCACION_value_CONTACTO_eq_DESCONOCIDA': 45,\n",
       " 'count_COLOCACION_eq_DESCONOCIDA_CONTACTO_value': 51,\n",
       " 'count_COLOCACION_eq_DESCONOCIDA_CONTACTO_na': 98}"
      ]
     },
     "metadata": {},
     "output_type": "display_data"
    },
    {
     "data": {
      "text/html": [
       "<div>\n",
       "<style scoped>\n",
       "    .dataframe tbody tr th:only-of-type {\n",
       "        vertical-align: middle;\n",
       "    }\n",
       "\n",
       "    .dataframe tbody tr th {\n",
       "        vertical-align: top;\n",
       "    }\n",
       "\n",
       "    .dataframe thead th {\n",
       "        text-align: right;\n",
       "    }\n",
       "</style>\n",
       "<table border=\"1\" class=\"dataframe\">\n",
       "  <thead>\n",
       "    <tr style=\"text-align: right;\">\n",
       "      <th></th>\n",
       "      <th>PROFESION_COLOCACION</th>\n",
       "      <th>PROFESION_CONTACTO</th>\n",
       "    </tr>\n",
       "  </thead>\n",
       "  <tbody>\n",
       "    <tr>\n",
       "      <th>491</th>\n",
       "      <td>DESCONOCIDA</td>\n",
       "      <td>ADMON DE EMPRESAS</td>\n",
       "    </tr>\n",
       "    <tr>\n",
       "      <th>510</th>\n",
       "      <td>DESCONOCIDA</td>\n",
       "      <td>INGENIERIA INDUSTRIAL</td>\n",
       "    </tr>\n",
       "    <tr>\n",
       "      <th>525</th>\n",
       "      <td>DESCONOCIDA</td>\n",
       "      <td>ADMON AGROPECUARIA</td>\n",
       "    </tr>\n",
       "    <tr>\n",
       "      <th>597</th>\n",
       "      <td>DESCONOCIDA</td>\n",
       "      <td>AGRICULTURA</td>\n",
       "    </tr>\n",
       "    <tr>\n",
       "      <th>611</th>\n",
       "      <td>ECONOMIA</td>\n",
       "      <td>DESCONOCIDA</td>\n",
       "    </tr>\n",
       "    <tr>\n",
       "      <th>...</th>\n",
       "      <td>...</td>\n",
       "      <td>...</td>\n",
       "    </tr>\n",
       "    <tr>\n",
       "      <th>20211</th>\n",
       "      <td>ADMON DE EMPRESAS</td>\n",
       "      <td>DESCONOCIDA</td>\n",
       "    </tr>\n",
       "    <tr>\n",
       "      <th>20219</th>\n",
       "      <td>AGRICULTURA</td>\n",
       "      <td>DESCONOCIDA</td>\n",
       "    </tr>\n",
       "    <tr>\n",
       "      <th>20299</th>\n",
       "      <td>AGRICULTURA</td>\n",
       "      <td>DESCONOCIDA</td>\n",
       "    </tr>\n",
       "    <tr>\n",
       "      <th>20366</th>\n",
       "      <td>AGRICULTURA</td>\n",
       "      <td>DESCONOCIDA</td>\n",
       "    </tr>\n",
       "    <tr>\n",
       "      <th>22114</th>\n",
       "      <td>DESCONOCIDA</td>\n",
       "      <td>ADMON DE NEGOCIOS</td>\n",
       "    </tr>\n",
       "  </tbody>\n",
       "</table>\n",
       "<p>96 rows × 2 columns</p>\n",
       "</div>"
      ],
      "text/plain": [
       "      PROFESION_COLOCACION     PROFESION_CONTACTO\n",
       "491            DESCONOCIDA      ADMON DE EMPRESAS\n",
       "510            DESCONOCIDA  INGENIERIA INDUSTRIAL\n",
       "525            DESCONOCIDA     ADMON AGROPECUARIA\n",
       "597            DESCONOCIDA            AGRICULTURA\n",
       "611               ECONOMIA            DESCONOCIDA\n",
       "...                    ...                    ...\n",
       "20211    ADMON DE EMPRESAS            DESCONOCIDA\n",
       "20219          AGRICULTURA            DESCONOCIDA\n",
       "20299          AGRICULTURA            DESCONOCIDA\n",
       "20366          AGRICULTURA            DESCONOCIDA\n",
       "22114          DESCONOCIDA      ADMON DE NEGOCIOS\n",
       "\n",
       "[96 rows x 2 columns]"
      ]
     },
     "execution_count": 32,
     "metadata": {},
     "output_type": "execute_result"
    }
   ],
   "source": [
    "index_desconocida = profesion_df[['PROFESION_COLOCACION', 'PROFESION_CONTACTO']] == 'DESCONOCIDA'\n",
    "index_1 = (\n",
    "    ~index_desconocida['PROFESION_COLOCACION']\n",
    "    & index_desconocida['PROFESION_CONTACTO']\n",
    ")\n",
    "index_2 = (\n",
    "    index_desconocida['PROFESION_COLOCACION']\n",
    "    & ~index_desconocida['PROFESION_CONTACTO']\n",
    "    & ~(index_na['PROFESION_CONTACTO'])\n",
    ")\n",
    "index_3 = (\n",
    "    index_desconocida['PROFESION_COLOCACION']\n",
    "    & index_na['PROFESION_CONTACTO']\n",
    ")\n",
    "\n",
    "display({\n",
    "    'count_COLOCACION_value_CONTACTO_eq_DESCONOCIDA': index_1.sum(),\n",
    "    'count_COLOCACION_eq_DESCONOCIDA_CONTACTO_value': index_2.sum(),\n",
    "    'count_COLOCACION_eq_DESCONOCIDA_CONTACTO_na': index_3.sum(),\n",
    "})\n",
    "\n",
    "profesion_df[index_1 | index_2]"
   ]
  },
  {
   "cell_type": "markdown",
   "metadata": {},
   "source": [
    "Composing most complete PROFESION data defining NaN values as unique value for missing values:"
   ]
  },
  {
   "cell_type": "code",
   "execution_count": 33,
   "metadata": {},
   "outputs": [
    {
     "data": {
      "text/plain": [
       "0                NaN\n",
       "1                NaN\n",
       "2        AGRICULTURA\n",
       "3                NaN\n",
       "4                NaN\n",
       "            ...     \n",
       "22960            NaN\n",
       "22961            NaN\n",
       "22962            NaN\n",
       "22963            NaN\n",
       "22964            NaN\n",
       "Name: PROFESION_COLOCACION, Length: 22965, dtype: object"
      ]
     },
     "execution_count": 33,
     "metadata": {},
     "output_type": "execute_result"
    }
   ],
   "source": [
    "profesion_series = profesion_df['PROFESION_COLOCACION'].copy()\n",
    "profesion_series[index_2] = profesion_df.loc[index_2, 'PROFESION_CONTACTO']\n",
    "profesion_series = profesion_series.replace({'DESCONOCIDA': np.nan, 'SIN PROFESION': np.nan})\n",
    "profesion_series"
   ]
  },
  {
   "cell_type": "markdown",
   "metadata": {},
   "source": [
    "### Composing CLIENTES"
   ]
  },
  {
   "cell_type": "markdown",
   "metadata": {},
   "source": [
    "Compose demographics considering variable values that are equal in both COLOCACION and CONTACTO (i.e. the bulk of data), setting different values as NaN to discard inconsistencies, except for PROFESION which is explicitly set using composed PROFESION series:"
   ]
  },
  {
   "cell_type": "code",
   "execution_count": 34,
   "metadata": {},
   "outputs": [],
   "source": [
    "for col in common_cols[common_cols != 'PROFESION']:\n",
    "    df[col] = df[f'{col}_COLOCACION']\n",
    "\n",
    "    ind_eq = indices_dict[col]['eq']\n",
    "    df.loc[~ind_eq, col] = np.nan\n",
    "\n",
    "df['PROFESION'] = profesion_series"
   ]
  },
  {
   "cell_type": "markdown",
   "metadata": {},
   "source": [
    "Dropping comparison columns:"
   ]
  },
  {
   "cell_type": "code",
   "execution_count": 35,
   "metadata": {},
   "outputs": [
    {
     "data": {
      "text/plain": [
       "'(TIPO_UBICACION|FECHA_NACIMIENTO|PROFESION|GENERO|NIVEL_ESTUDIOS|ESTADO_CIVIL|TIPO_VIVIENDA)_(COLOCACION|CONTACTO)'"
      ]
     },
     "execution_count": 35,
     "metadata": {},
     "output_type": "execute_result"
    }
   ],
   "source": [
    "re_columns_pattern = fr\"({'|'.join(common_cols)})_(COLOCACION|CONTACTO)\"\n",
    "re_columns_pattern"
   ]
  },
  {
   "cell_type": "code",
   "execution_count": 36,
   "metadata": {},
   "outputs": [
    {
     "data": {
      "text/plain": [
       "Index(['ESTADO_CIVIL_COLOCACION', 'ESTADO_CIVIL_CONTACTO',\n",
       "       'FECHA_NACIMIENTO_COLOCACION', 'FECHA_NACIMIENTO_CONTACTO',\n",
       "       'GENERO_COLOCACION', 'GENERO_CONTACTO', 'NIVEL_ESTUDIOS_COLOCACION',\n",
       "       'NIVEL_ESTUDIOS_CONTACTO', 'PROFESION_COLOCACION', 'PROFESION_CONTACTO',\n",
       "       'TIPO_UBICACION_COLOCACION', 'TIPO_UBICACION_CONTACTO',\n",
       "       'TIPO_VIVIENDA_COLOCACION', 'TIPO_VIVIENDA_CONTACTO'],\n",
       "      dtype='object')"
      ]
     },
     "execution_count": 36,
     "metadata": {},
     "output_type": "execute_result"
    }
   ],
   "source": [
    "ind = df.columns.str.match(re_columns_pattern)\n",
    "dropping_cols = df.columns[ind]\n",
    "dropping_cols.sort_values()"
   ]
  },
  {
   "cell_type": "code",
   "execution_count": 37,
   "metadata": {},
   "outputs": [
    {
     "data": {
      "text/plain": [
       "Index(['ACTIVIDAD', 'ACTIVIDAD_CIIU_PRIMARIA', 'ACTIVIDAD_ECONOMICA',\n",
       "       'CLIENTE', 'EDAD', 'ESTADO_CIVIL', 'ESTADO_CIVIL_COD', 'ESTRATO',\n",
       "       'FECHA_NACIMIENTO', 'GENERO', 'GENERO_COD', 'MUJER_CABEZA',\n",
       "       'NIVEL_ESTUDIOS', 'NIVEL_ESTUDIOS_COD', 'OCUPACION', 'OFICIO',\n",
       "       'PROFESION', 'PROFESION_COD', 'RESPONSABLE_DE_HOGAR', 'SUCURSAL',\n",
       "       'SUELDO_BASICO', 'TIPO_DE_CLIENTE', 'TIPO_DE_IDENTIFICACION',\n",
       "       'TIPO_UBICACION', 'TIPO_UBICACION_COD', 'TIPO_VIVIENDA',\n",
       "       'TIPO_VIVIENDA_COD'],\n",
       "      dtype='object')"
      ]
     },
     "execution_count": 37,
     "metadata": {},
     "output_type": "execute_result"
    }
   ],
   "source": [
    "clientes_df = df.drop(columns=dropping_cols)\n",
    "\n",
    "clientes_df.columns.sort_values()"
   ]
  },
  {
   "cell_type": "markdown",
   "metadata": {},
   "source": [
    "Validating that values for EDAD are based on FECHA_NACIMIENTO when exporting data on 2022-03:"
   ]
  },
  {
   "cell_type": "code",
   "execution_count": 38,
   "metadata": {},
   "outputs": [
    {
     "data": {
      "text/plain": [
       "EDAD                 0\n",
       "FECHA_NACIMIENTO    19\n",
       "dtype: int64"
      ]
     },
     "execution_count": 38,
     "metadata": {},
     "output_type": "execute_result"
    }
   ],
   "source": [
    "clientes_df[['EDAD', 'FECHA_NACIMIENTO']].isna().sum()"
   ]
  },
  {
   "cell_type": "code",
   "execution_count": 39,
   "metadata": {},
   "outputs": [
    {
     "data": {
      "text/plain": [
       "2021.0    12770\n",
       "2022.0    10176\n",
       "NaN          19\n",
       "dtype: int64"
      ]
     },
     "execution_count": 39,
     "metadata": {},
     "output_type": "execute_result"
    }
   ],
   "source": [
    "(clientes_df['EDAD']  + clientes_df['FECHA_NACIMIENTO'].dt.year).value_counts(dropna=False)"
   ]
  },
  {
   "cell_type": "markdown",
   "metadata": {},
   "source": [
    "## Updating CARTERA + COLOCACION"
   ]
  },
  {
   "cell_type": "markdown",
   "metadata": {},
   "source": [
    "Updating CARTERA by dropping columns that were assigned to CLIENTES:"
   ]
  },
  {
   "cell_type": "code",
   "execution_count": 40,
   "metadata": {},
   "outputs": [
    {
     "data": {
      "text/plain": [
       "Index(['TIPO_UBICACION'], dtype='object')"
      ]
     },
     "execution_count": 40,
     "metadata": {},
     "output_type": "execute_result"
    }
   ],
   "source": [
    "dropping_cols = cartera_df.columns[cartera_df.columns.isin(clientes_df.columns)]\n",
    "dropping_cols = dropping_cols[dropping_cols != 'CLIENTE']\n",
    "\n",
    "dropping_cols.sort_values()"
   ]
  },
  {
   "cell_type": "code",
   "execution_count": 41,
   "metadata": {},
   "outputs": [
    {
     "data": {
      "text/plain": [
       "Index(['CALIFICACION_CIERRE', 'CAPITAL_VEN', 'CLIENTE', 'COD_LINEA',\n",
       "       'COD_MODALIDAD', 'COMISION', 'CUOTAS_PACTADAS', 'CUOTAS_PENDIENTES',\n",
       "       'DIAS_VENCIDO', 'FECHA_APROBA', 'FECHA_CIERRE', 'FECHA_DESEMBOLSO',\n",
       "       'FECHA_PROXIMO_PAGO', 'FECHA_SOLICITUD', 'FECHA_ULT_PAGO',\n",
       "       'FECHA_VENCIMIENTO_FINAL', 'INTERES_VEN', 'LINEA', 'MODALIDAD', 'MONTO',\n",
       "       'MORA', 'MUNICIPIO_CLIENTE', 'MUNICIPIO_LAT', 'MUNICIPIO_LON',\n",
       "       'OBLIGACION', 'OTROS', 'PERIODICIDAD_PAGO', 'PORCENTAJE_PAGO', 'REGION',\n",
       "       'SALDO', 'SEGURO_VIDA', 'SUCURSAL_COD', 'SUCURSAL_REAL', 'TASA_ANUAL',\n",
       "       'TASA_PERIODICA', 'TIPO_CLIENTE', 'TIPO_CLIENTE_COD', 'TIPO_CREDITO',\n",
       "       'VALOR_CUOTA', 'VENCIDA'],\n",
       "      dtype='object')"
      ]
     },
     "execution_count": 41,
     "metadata": {},
     "output_type": "execute_result"
    }
   ],
   "source": [
    "cartera_df = cartera_df.drop(columns=dropping_cols)\n",
    "\n",
    "cartera_df.columns.sort_values()"
   ]
  },
  {
   "cell_type": "markdown",
   "metadata": {},
   "source": [
    "Updating COLOCACION dataset by dropping columns that were assigned to CLIENTES dataset, adding CLIENTE column, and adding DEFAULT column:"
   ]
  },
  {
   "cell_type": "code",
   "execution_count": 42,
   "metadata": {},
   "outputs": [
    {
     "data": {
      "text/plain": [
       "Index(['EDAD', 'ESTADO_CIVIL', 'ESTRATO', 'FECHA_NACIMIENTO', 'GENERO',\n",
       "       'NIVEL_ESTUDIOS', 'PROFESION', 'TIPO_UBICACION', 'TIPO_VIVIENDA'],\n",
       "      dtype='object')"
      ]
     },
     "execution_count": 42,
     "metadata": {},
     "output_type": "execute_result"
    }
   ],
   "source": [
    "dropping_cols = colocacion_df.columns[colocacion_df.columns.isin(clientes_df.columns)]\n",
    "\n",
    "dropping_cols.sort_values()"
   ]
  },
  {
   "cell_type": "code",
   "execution_count": 43,
   "metadata": {},
   "outputs": [
    {
     "data": {
      "text/plain": [
       "((38641, 26),\n",
       " Index(['ANO_CONTABILIZA', 'CLIENTE', 'CODEUDOR', 'COD_DESTINACION',\n",
       "        'COD_LINEA', 'COD_MODALIDAD', 'CREDITOS_VIGENTES', 'DEFAULT',\n",
       "        'DESTINACION', 'DIAS_CICLO_CREDITO', 'FECHA_APROBA', 'FECHA_DESEMBOLSO',\n",
       "        'FECHA_PAGO', 'FECHA_SOLICITUD', 'LINEA', 'MODALIDAD', 'MONTO',\n",
       "        'NRO_CUOTAS', 'OBLIGACION', 'OBSERVACIONES', 'PERIODICIDAD_PAGO',\n",
       "        'TASA_ANUAL', 'TIPO_CREDITO', 'VALOR_CUOTA', 'VALOR_DESEMBOLSADO',\n",
       "        'VALOR_REFINANCIADO'],\n",
       "       dtype='object'))"
      ]
     },
     "execution_count": 43,
     "metadata": {},
     "output_type": "execute_result"
    }
   ],
   "source": [
    "castigo_df = (\n",
    "    castigo_df[['OBLIGACION']]\n",
    "    .assign(DEFAULT=True)\n",
    ")\n",
    "\n",
    "colocacion_df = (\n",
    "    colocacion_df\n",
    "    .drop(columns=dropping_cols)\n",
    "    .merge(cliente_obligacion_df, on='OBLIGACION')\n",
    "    .merge(castigo_df, on='OBLIGACION', how='left')\n",
    ")\n",
    "\n",
    "\n",
    "colocacion_df.shape, colocacion_df.columns.sort_values()"
   ]
  },
  {
   "cell_type": "code",
   "execution_count": 44,
   "metadata": {},
   "outputs": [
    {
     "data": {
      "text/plain": [
       "NaN     37678\n",
       "True      963\n",
       "Name: DEFAULT, dtype: int64"
      ]
     },
     "execution_count": 44,
     "metadata": {},
     "output_type": "execute_result"
    }
   ],
   "source": [
    "colocacion_df['DEFAULT'].value_counts(dropna=False)"
   ]
  },
  {
   "cell_type": "markdown",
   "metadata": {},
   "source": [
    "## Comparing CARTERA + COLOCACION"
   ]
  },
  {
   "cell_type": "markdown",
   "id": "5d0d8edc",
   "metadata": {},
   "source": [
    "Common columns between CARTERA and COLOCACION:"
   ]
  },
  {
   "cell_type": "code",
   "execution_count": 45,
   "metadata": {},
   "outputs": [
    {
     "data": {
      "text/plain": [
       "0           COD_LINEA\n",
       "1       COD_MODALIDAD\n",
       "2        FECHA_APROBA\n",
       "3    FECHA_DESEMBOLSO\n",
       "4     FECHA_SOLICITUD\n",
       "5               LINEA\n",
       "6               MONTO\n",
       "7          TASA_ANUAL\n",
       "dtype: object"
      ]
     },
     "execution_count": 45,
     "metadata": {},
     "output_type": "execute_result"
    }
   ],
   "source": [
    "common_cols = pd.Series(project_columns.CARTERA_COLOCACION_COLUMNS)\n",
    "\n",
    "common_cols"
   ]
  },
  {
   "cell_type": "markdown",
   "metadata": {},
   "source": [
    "Filtering CARTERA:"
   ]
  },
  {
   "cell_type": "code",
   "execution_count": 46,
   "metadata": {},
   "outputs": [
    {
     "data": {
      "text/plain": [
       "Index(['CLIENTE', 'COD_LINEA', 'COD_MODALIDAD', 'FECHA_APROBA', 'FECHA_CIERRE',\n",
       "       'FECHA_DESEMBOLSO', 'FECHA_SOLICITUD', 'LINEA', 'MONTO', 'OBLIGACION',\n",
       "       'TASA_ANUAL'],\n",
       "      dtype='object')"
      ]
     },
     "execution_count": 46,
     "metadata": {},
     "output_type": "execute_result"
    }
   ],
   "source": [
    "columns = ['CLIENTE', 'OBLIGACION', *common_cols]\n",
    "df = (\n",
    "    cartera_df\n",
    "    [['FECHA_CIERRE', *columns]]\n",
    "    .drop_duplicates(subset=columns)\n",
    "    .sort_values(by='OBLIGACION')\n",
    "    .reset_index(drop=True)\n",
    ")\n",
    "\n",
    "df.columns.sort_values()"
   ]
  },
  {
   "cell_type": "markdown",
   "metadata": {},
   "source": [
    "Validating there are no duplicated information within CARTERA for each OBLIGACION redarding common columns:"
   ]
  },
  {
   "cell_type": "code",
   "execution_count": 47,
   "metadata": {},
   "outputs": [],
   "source": [
    "any_duplicated = df['OBLIGACION'].duplicated().any()\n",
    "\n",
    "assert any_duplicate == False, 'There are multiple data for CLIENTE'"
   ]
  },
  {
   "cell_type": "markdown",
   "metadata": {},
   "source": [
    "Merging COLOCACION:"
   ]
  },
  {
   "cell_type": "code",
   "execution_count": 48,
   "metadata": {},
   "outputs": [
    {
     "data": {
      "text/plain": [
       "Index(['CLIENTE', 'COD_LINEA_CARTERA', 'COD_LINEA_COLOCACION',\n",
       "       'COD_MODALIDAD_CARTERA', 'COD_MODALIDAD_COLOCACION',\n",
       "       'FECHA_APROBA_CARTERA', 'FECHA_APROBA_COLOCACION', 'FECHA_CIERRE',\n",
       "       'FECHA_DESEMBOLSO_CARTERA', 'FECHA_DESEMBOLSO_COLOCACION',\n",
       "       'FECHA_SOLICITUD_CARTERA', 'FECHA_SOLICITUD_COLOCACION',\n",
       "       'LINEA_CARTERA', 'LINEA_COLOCACION', 'MONTO_CARTERA',\n",
       "       'MONTO_COLOCACION', 'TASA_ANUAL_CARTERA', 'TASA_ANUAL_COLOCACION'],\n",
       "      dtype='object')"
      ]
     },
     "execution_count": 48,
     "metadata": {},
     "output_type": "execute_result"
    }
   ],
   "source": [
    "df = (\n",
    "    df\n",
    "    .merge(colocacion_df[['OBLIGACION', *common_cols]], on='OBLIGACION', suffixes=('_CARTERA', '_COLOCACION'))\n",
    "    .set_index('OBLIGACION')\n",
    ")\n",
    "\n",
    "df.columns.sort_values()"
   ]
  },
  {
   "cell_type": "markdown",
   "metadata": {},
   "source": [
    "Most values from common columns between CARTERA and COLOCACION are consistently equal but except for FECHA_DESEMBOLSO:"
   ]
  },
  {
   "cell_type": "code",
   "execution_count": 49,
   "metadata": {},
   "outputs": [
    {
     "name": "stdout",
     "output_type": "stream",
     "text": [
      "\n",
      "COD_LINEA\n",
      "{'total_rows': 38641, 'count_eq': 38641, 'count_diff': 0, 'count_na_any': 0, 'count_na_single': 0, 'count_na_both': 0}\n",
      "\n",
      "COD_MODALIDAD\n",
      "{'total_rows': 38641, 'count_eq': 38641, 'count_diff': 0, 'count_na_any': 0, 'count_na_single': 0, 'count_na_both': 0}\n",
      "\n",
      "FECHA_APROBA\n",
      "{'total_rows': 38641, 'count_eq': 38641, 'count_diff': 0, 'count_na_any': 0, 'count_na_single': 0, 'count_na_both': 0}\n",
      "\n",
      "FECHA_DESEMBOLSO\n",
      "{'total_rows': 38641, 'count_eq': 38484, 'count_diff': 157, 'count_na_any': 0, 'count_na_single': 0, 'count_na_both': 0}\n",
      "\n",
      "FECHA_SOLICITUD\n",
      "{'total_rows': 38641, 'count_eq': 38641, 'count_diff': 0, 'count_na_any': 0, 'count_na_single': 0, 'count_na_both': 0}\n",
      "\n",
      "LINEA\n",
      "{'total_rows': 38641, 'count_eq': 38641, 'count_diff': 0, 'count_na_any': 0, 'count_na_single': 0, 'count_na_both': 0}\n",
      "\n",
      "MONTO\n",
      "{'total_rows': 38641, 'count_eq': 38641, 'count_diff': 0, 'count_na_any': 0, 'count_na_single': 0, 'count_na_both': 0}\n",
      "\n",
      "TASA_ANUAL\n",
      "{'total_rows': 38641, 'count_eq': 38641, 'count_diff': 0, 'count_na_any': 0, 'count_na_single': 0, 'count_na_both': 0}\n"
     ]
    }
   ],
   "source": [
    "indices_dict = {}\n",
    "\n",
    "for col in common_cols:\n",
    "    indices_dict[col] = cleaning.compare_series(df, f'{col}_CARTERA',  f'{col}_COLOCACION')\n",
    "    print(f'\\n{col}')\n",
    "    print(count_indices(**indices_dict[col]))"
   ]
  },
  {
   "cell_type": "markdown",
   "metadata": {},
   "source": [
    "### FECHA_DESEMBOLSO"
   ]
  },
  {
   "cell_type": "code",
   "execution_count": 50,
   "metadata": {},
   "outputs": [],
   "source": [
    "ind = indices_dict['FECHA_DESEMBOLSO']['diff']\n",
    "d = df.loc[ind, ['CLIENTE', 'FECHA_DESEMBOLSO_CARTERA', 'FECHA_DESEMBOLSO_COLOCACION', 'FECHA_CIERRE']]"
   ]
  },
  {
   "cell_type": "markdown",
   "metadata": {},
   "source": [
    "Besides the differences of FECHA_DESEMBOLSO between CARTERA and COLOCACION, all values are consistently part of month corresponding to FECHA_CIERRE:"
   ]
  },
  {
   "cell_type": "code",
   "execution_count": 51,
   "metadata": {},
   "outputs": [
    {
     "data": {
      "text/plain": [
       "{'count_desembolso_diff': 157,\n",
       " 'count_cartera_greater_colocacion': 114,\n",
       " 'count_cartera_lower_colocacion': 43,\n",
       " 'consistent_desembolso_cartera': True,\n",
       " 'consistent_desembolso_colocacion': True}"
      ]
     },
     "execution_count": 51,
     "metadata": {},
     "output_type": "execute_result"
    }
   ],
   "source": [
    "{\n",
    "    \"count_desembolso_diff\": d.shape[0],\n",
    "    \"count_cartera_greater_colocacion\": (d['FECHA_DESEMBOLSO_COLOCACION'] > d['FECHA_DESEMBOLSO_CARTERA']).sum(),\n",
    "    \"count_cartera_lower_colocacion\": (d['FECHA_DESEMBOLSO_COLOCACION'] < d['FECHA_DESEMBOLSO_CARTERA']).sum(),\n",
    "    \"consistent_desembolso_cartera\": (d['FECHA_DESEMBOLSO_CARTERA'] <= d['FECHA_CIERRE']).all(),\n",
    "    \"consistent_desembolso_colocacion\": (d['FECHA_DESEMBOLSO_COLOCACION'] <= d['FECHA_CIERRE']).all()\n",
    "}"
   ]
  },
  {
   "cell_type": "markdown",
   "metadata": {},
   "source": [
    "Differences range from 1 day up until 11 days:"
   ]
  },
  {
   "cell_type": "code",
   "execution_count": 52,
   "metadata": {},
   "outputs": [
    {
     "data": {
      "text/plain": [
       "count                          157\n",
       "mean     1 days 16:30:34.394904458\n",
       "std      1 days 09:15:56.719587379\n",
       "min                1 days 00:00:00\n",
       "25%                1 days 00:00:00\n",
       "50%                1 days 00:00:00\n",
       "75%                2 days 00:00:00\n",
       "max               11 days 00:00:00\n",
       "dtype: object"
      ]
     },
     "execution_count": 52,
     "metadata": {},
     "output_type": "execute_result"
    }
   ],
   "source": [
    "abs_dif = (d['FECHA_DESEMBOLSO_COLOCACION'] - d['FECHA_DESEMBOLSO_CARTERA']).abs()\n",
    "abs_dif.describe()"
   ]
  },
  {
   "cell_type": "code",
   "execution_count": 53,
   "metadata": {},
   "outputs": [
    {
     "data": {
      "text/html": [
       "<div>\n",
       "<style scoped>\n",
       "    .dataframe tbody tr th:only-of-type {\n",
       "        vertical-align: middle;\n",
       "    }\n",
       "\n",
       "    .dataframe tbody tr th {\n",
       "        vertical-align: top;\n",
       "    }\n",
       "\n",
       "    .dataframe thead th {\n",
       "        text-align: right;\n",
       "    }\n",
       "</style>\n",
       "<table border=\"1\" class=\"dataframe\">\n",
       "  <thead>\n",
       "    <tr style=\"text-align: right;\">\n",
       "      <th></th>\n",
       "      <th>CLIENTE</th>\n",
       "      <th>FECHA_DESEMBOLSO_CARTERA</th>\n",
       "      <th>FECHA_DESEMBOLSO_COLOCACION</th>\n",
       "      <th>FECHA_CIERRE</th>\n",
       "      <th>ABS_DIFF</th>\n",
       "    </tr>\n",
       "    <tr>\n",
       "      <th>OBLIGACION</th>\n",
       "      <th></th>\n",
       "      <th></th>\n",
       "      <th></th>\n",
       "      <th></th>\n",
       "      <th></th>\n",
       "    </tr>\n",
       "  </thead>\n",
       "  <tbody>\n",
       "    <tr>\n",
       "      <th>191004186</th>\n",
       "      <td>FA23262</td>\n",
       "      <td>2020-03-02</td>\n",
       "      <td>2020-03-03</td>\n",
       "      <td>2020-03-31</td>\n",
       "      <td>1 days</td>\n",
       "    </tr>\n",
       "    <tr>\n",
       "      <th>193002462</th>\n",
       "      <td>FA8075</td>\n",
       "      <td>2020-02-12</td>\n",
       "      <td>2020-02-13</td>\n",
       "      <td>2020-02-29</td>\n",
       "      <td>1 days</td>\n",
       "    </tr>\n",
       "    <tr>\n",
       "      <th>193002005</th>\n",
       "      <td>FA18736</td>\n",
       "      <td>2019-08-02</td>\n",
       "      <td>2019-08-01</td>\n",
       "      <td>2019-08-31</td>\n",
       "      <td>1 days</td>\n",
       "    </tr>\n",
       "    <tr>\n",
       "      <th>192003765</th>\n",
       "      <td>FA4705</td>\n",
       "      <td>2020-10-08</td>\n",
       "      <td>2020-10-09</td>\n",
       "      <td>2020-10-31</td>\n",
       "      <td>1 days</td>\n",
       "    </tr>\n",
       "    <tr>\n",
       "      <th>192003587</th>\n",
       "      <td>FA10579</td>\n",
       "      <td>2020-07-31</td>\n",
       "      <td>2020-07-30</td>\n",
       "      <td>2020-07-31</td>\n",
       "      <td>1 days</td>\n",
       "    </tr>\n",
       "    <tr>\n",
       "      <th>...</th>\n",
       "      <td>...</td>\n",
       "      <td>...</td>\n",
       "      <td>...</td>\n",
       "      <td>...</td>\n",
       "      <td>...</td>\n",
       "    </tr>\n",
       "    <tr>\n",
       "      <th>179000106</th>\n",
       "      <td>FA6036</td>\n",
       "      <td>2017-04-07</td>\n",
       "      <td>2017-04-12</td>\n",
       "      <td>2017-04-30</td>\n",
       "      <td>5 days</td>\n",
       "    </tr>\n",
       "    <tr>\n",
       "      <th>175000095</th>\n",
       "      <td>FA5799</td>\n",
       "      <td>2017-05-03</td>\n",
       "      <td>2017-05-08</td>\n",
       "      <td>2017-05-31</td>\n",
       "      <td>5 days</td>\n",
       "    </tr>\n",
       "    <tr>\n",
       "      <th>1913000361</th>\n",
       "      <td>FA7541</td>\n",
       "      <td>2020-02-11</td>\n",
       "      <td>2020-02-17</td>\n",
       "      <td>2020-02-29</td>\n",
       "      <td>6 days</td>\n",
       "    </tr>\n",
       "    <tr>\n",
       "      <th>188002135</th>\n",
       "      <td>FA1339</td>\n",
       "      <td>2018-05-24</td>\n",
       "      <td>2018-05-30</td>\n",
       "      <td>2018-05-31</td>\n",
       "      <td>6 days</td>\n",
       "    </tr>\n",
       "    <tr>\n",
       "      <th>173000611</th>\n",
       "      <td>FA16451</td>\n",
       "      <td>2017-10-19</td>\n",
       "      <td>2017-10-30</td>\n",
       "      <td>2017-10-31</td>\n",
       "      <td>11 days</td>\n",
       "    </tr>\n",
       "  </tbody>\n",
       "</table>\n",
       "<p>157 rows × 5 columns</p>\n",
       "</div>"
      ],
      "text/plain": [
       "            CLIENTE FECHA_DESEMBOLSO_CARTERA FECHA_DESEMBOLSO_COLOCACION  \\\n",
       "OBLIGACION                                                                 \n",
       "191004186   FA23262               2020-03-02                  2020-03-03   \n",
       "193002462    FA8075               2020-02-12                  2020-02-13   \n",
       "193002005   FA18736               2019-08-02                  2019-08-01   \n",
       "192003765    FA4705               2020-10-08                  2020-10-09   \n",
       "192003587   FA10579               2020-07-31                  2020-07-30   \n",
       "...             ...                      ...                         ...   \n",
       "179000106    FA6036               2017-04-07                  2017-04-12   \n",
       "175000095    FA5799               2017-05-03                  2017-05-08   \n",
       "1913000361   FA7541               2020-02-11                  2020-02-17   \n",
       "188002135    FA1339               2018-05-24                  2018-05-30   \n",
       "173000611   FA16451               2017-10-19                  2017-10-30   \n",
       "\n",
       "           FECHA_CIERRE ABS_DIFF  \n",
       "OBLIGACION                        \n",
       "191004186    2020-03-31   1 days  \n",
       "193002462    2020-02-29   1 days  \n",
       "193002005    2019-08-31   1 days  \n",
       "192003765    2020-10-31   1 days  \n",
       "192003587    2020-07-31   1 days  \n",
       "...                 ...      ...  \n",
       "179000106    2017-04-30   5 days  \n",
       "175000095    2017-05-31   5 days  \n",
       "1913000361   2020-02-29   6 days  \n",
       "188002135    2018-05-31   6 days  \n",
       "173000611    2017-10-31  11 days  \n",
       "\n",
       "[157 rows x 5 columns]"
      ]
     },
     "execution_count": 53,
     "metadata": {},
     "output_type": "execute_result"
    }
   ],
   "source": [
    "pd.concat([d, abs_dif.rename('ABS_DIFF')], axis=1).sort_values(by='ABS_DIFF')"
   ]
  },
  {
   "cell_type": "markdown",
   "metadata": {},
   "source": [
    "As CARTERA is the dataset with most errors, FECHA_DESEMBOLSO values from COLOCACION dataset are considered as true values."
   ]
  },
  {
   "cell_type": "markdown",
   "metadata": {},
   "source": [
    "### Updating CARTERA"
   ]
  },
  {
   "cell_type": "code",
   "execution_count": 54,
   "metadata": {},
   "outputs": [
    {
     "data": {
      "text/plain": [
       "Index(['CALIFICACION_CIERRE', 'CAPITAL_VEN', 'CLIENTE', 'COMISION',\n",
       "       'CUOTAS_PACTADAS', 'CUOTAS_PENDIENTES', 'DIAS_VENCIDO', 'FECHA_CIERRE',\n",
       "       'FECHA_PROXIMO_PAGO', 'FECHA_ULT_PAGO', 'FECHA_VENCIMIENTO_FINAL',\n",
       "       'INTERES_VEN', 'MODALIDAD', 'MORA', 'MUNICIPIO_CLIENTE',\n",
       "       'MUNICIPIO_LAT', 'MUNICIPIO_LON', 'OBLIGACION', 'OTROS',\n",
       "       'PERIODICIDAD_PAGO', 'PORCENTAJE_PAGO', 'REGION', 'SALDO',\n",
       "       'SEGURO_VIDA', 'SUCURSAL_COD', 'SUCURSAL_REAL', 'TASA_PERIODICA',\n",
       "       'TIPO_CLIENTE', 'TIPO_CLIENTE_COD', 'TIPO_CREDITO', 'VALOR_CUOTA',\n",
       "       'VENCIDA'],\n",
       "      dtype='object')"
      ]
     },
     "execution_count": 54,
     "metadata": {},
     "output_type": "execute_result"
    }
   ],
   "source": [
    "cartera_df = cartera_df.drop(columns=common_cols)\n",
    "\n",
    "cartera_df.columns.sort_values()"
   ]
  },
  {
   "cell_type": "markdown",
   "metadata": {},
   "source": [
    "## Validating joining function"
   ]
  },
  {
   "cell_type": "code",
   "execution_count": 55,
   "metadata": {},
   "outputs": [],
   "source": [
    "(car, cli, col) = datasets.read_joining_datasets(dir_path=RAW_DATA_PATH)"
   ]
  },
  {
   "cell_type": "code",
   "execution_count": 56,
   "metadata": {},
   "outputs": [],
   "source": [
    "comparison = (   \n",
    "    cleaning.compare_dataframes(cartera_df, car, sort_by=['CLIENTE', 'OBLIGACION', 'FECHA_CIERRE']),\n",
    "    cleaning.compare_dataframes(clientes_df, cli, sort_by=['CLIENTE']),\n",
    "    cleaning.compare_dataframes(colocacion_df, col, sort_by=['CLIENTE', 'OBLIGACION']),\n",
    ")\n",
    "\n",
    "assert comparison == (True, True, True), \"Dataframes are different\""
   ]
  }
 ],
 "metadata": {
  "interpreter": {
   "hash": "e62fc67dd637b4c7ff00db15fa2b1157ee656ecdddc53845561c284caf069ea7"
  },
  "kernelspec": {
   "display_name": "Python 3.8.13 ('ds4a')",
   "language": "python",
   "name": "python3"
  },
  "language_info": {
   "codemirror_mode": {
    "name": "ipython",
    "version": 3
   },
   "file_extension": ".py",
   "mimetype": "text/x-python",
   "name": "python",
   "nbconvert_exporter": "python",
   "pygments_lexer": "ipython3",
   "version": "3.8.13"
  }
 },
 "nbformat": 4,
 "nbformat_minor": 4
}
