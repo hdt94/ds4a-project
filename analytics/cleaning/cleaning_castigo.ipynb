{
 "cells": [
  {
   "cell_type": "code",
   "execution_count": 1,
   "metadata": {},
   "outputs": [],
   "source": [
    "import json\n",
    "import os\n",
    "\n",
    "import pandas as pd\n",
    "import numpy as np\n",
    "\n",
    "from dotenv import load_dotenv\n",
    "\n",
    "from core_ds4a_project import cleaning, columns as project_columns, datasets\n",
    "\n",
    "%load_ext autoreload\n",
    "%autoreload 1\n",
    "%aimport core_ds4a_project, core_ds4a_project.cleaning, core_ds4a_project.columns, core_ds4a_project.datasets\n",
    "\n",
    "pd.set_option(\"display.max_columns\", None)"
   ]
  },
  {
   "cell_type": "markdown",
   "metadata": {},
   "source": [
    "Environment variables:"
   ]
  },
  {
   "cell_type": "code",
   "execution_count": 2,
   "metadata": {},
   "outputs": [],
   "source": [
    "load_dotenv('envvars')\n",
    "\n",
    "ROOT_DATA_PATH = os.environ.get('ROOT_DATA_PATH')\n",
    "RAW_DATA_PATH = os.environ.get('RAW_DATA_PATH') or f'{ROOT_DATA_PATH}/raw'"
   ]
  },
  {
   "cell_type": "markdown",
   "metadata": {},
   "source": [
    "Reading data:"
   ]
  },
  {
   "cell_type": "code",
   "execution_count": 3,
   "id": "a043bfbc",
   "metadata": {},
   "outputs": [
    {
     "data": {
      "text/plain": [
       "((10416, 15),\n",
       " Index(['CLASE', 'DEUDOR', 'FECHA_CASTIGO', 'INT_RECUPERADOS', 'K_NO_MIGRADO',\n",
       "        'LLAVE_LINIX', 'NIT', 'NO_MIGRADOS_A_LINIX', 'OBLIGACION',\n",
       "        'OPCION_LLAVE_LINIX', 'PAGARE', 'RECUPERACION_K', 'SALDO_POR_RECUPERAR',\n",
       "        'SIF', 'VR_CASTIGO'],\n",
       "       dtype='object'))"
      ]
     },
     "execution_count": 3,
     "metadata": {},
     "output_type": "execute_result"
    }
   ],
   "source": [
    "df = datasets.read_castigada_xlsx(RAW_DATA_PATH, clean=False)\n",
    "\n",
    "df.shape, df.columns.sort_values()"
   ]
  },
  {
   "cell_type": "markdown",
   "id": "b691314a",
   "metadata": {},
   "source": [
    "Renaming columns:"
   ]
  },
  {
   "cell_type": "code",
   "execution_count": 4,
   "id": "a9cc3b4d",
   "metadata": {},
   "outputs": [
    {
     "data": {
      "text/plain": [
       "Index(['CLASE', 'DEUDOR', 'FECHA_CASTIGO', 'INT_RECUPERADOS', 'K_NO_MIGRADO',\n",
       "       'LLAVE_LINIX', 'NIT', 'NO_MIGRADOS_A_LINIX', 'OBLIGACION',\n",
       "       'OPCION_LLAVE_LINIX', 'PAGARE', 'RECUPERACION_K', 'SALDO_POR_RECUPERAR',\n",
       "       'SIF', 'VR_CASTIGO'],\n",
       "      dtype='object')"
      ]
     },
     "execution_count": 4,
     "metadata": {},
     "output_type": "execute_result"
    }
   ],
   "source": [
    "df.columns = cleaning.normalize_columns_name(df.columns)\n",
    "\n",
    "df.columns.sort_values()  # sorting for presentational purposes only"
   ]
  },
  {
   "cell_type": "markdown",
   "metadata": {},
   "source": [
    "Filtering CASTIGO records containing known OBLIGACION (1170 out of 10416):"
   ]
  },
  {
   "cell_type": "code",
   "execution_count": 5,
   "metadata": {},
   "outputs": [
    {
     "data": {
      "text/plain": [
       "{'count_castigo_all': 10416, 'count_castigo_known_obligacion': 1170}"
      ]
     },
     "execution_count": 5,
     "metadata": {},
     "output_type": "execute_result"
    }
   ],
   "source": [
    "count_castigo_all = df.shape[0]\n",
    "df = df.dropna(subset='OBLIGACION')\n",
    "\n",
    "{\n",
    "    \"count_castigo_all\": count_castigo_all,\n",
    "    \"count_castigo_known_obligacion\": df.shape[0],\n",
    "}"
   ]
  },
  {
   "cell_type": "markdown",
   "metadata": {},
   "source": [
    "CASTIGO records with known OBLIGACION are dated since 2020-04 only:"
   ]
  },
  {
   "cell_type": "code",
   "execution_count": 6,
   "metadata": {},
   "outputs": [
    {
     "data": {
      "text/plain": [
       "Timestamp('2020-04-01 00:00:00')"
      ]
     },
     "execution_count": 6,
     "metadata": {},
     "output_type": "execute_result"
    }
   ],
   "source": [
    "df['FECHA_CASTIGO'].min()"
   ]
  }
 ],
 "metadata": {
  "interpreter": {
   "hash": "e62fc67dd637b4c7ff00db15fa2b1157ee656ecdddc53845561c284caf069ea7"
  },
  "kernelspec": {
   "display_name": "Python 3.8.13 ('ds4a')",
   "language": "python",
   "name": "python3"
  },
  "language_info": {
   "codemirror_mode": {
    "name": "ipython",
    "version": 3
   },
   "file_extension": ".py",
   "mimetype": "text/x-python",
   "name": "python",
   "nbconvert_exporter": "python",
   "pygments_lexer": "ipython3",
   "version": "3.8.13"
  }
 },
 "nbformat": 4,
 "nbformat_minor": 4
}
